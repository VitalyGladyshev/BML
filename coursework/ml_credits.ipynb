{
 "cells": [
  {
   "cell_type": "markdown",
   "metadata": {},
   "source": [
    "# Курсовой проект Гладышева В.В.\n",
    "\n",
    "## ML задача - определение дефолтов по кредитам"
   ]
  },
  {
   "cell_type": "code",
   "execution_count": 1,
   "metadata": {},
   "outputs": [],
   "source": [
    "# pip install xgboost"
   ]
  },
  {
   "cell_type": "code",
   "execution_count": 2,
   "metadata": {},
   "outputs": [],
   "source": [
    "# pip install dill"
   ]
  },
  {
   "cell_type": "code",
   "execution_count": 3,
   "metadata": {},
   "outputs": [],
   "source": [
    "import numpy as np\n",
    "import pandas as pd\n",
    "import matplotlib.pyplot as plt\n",
    "import seaborn as sns\n",
    "from sklearn.model_selection import train_test_split\n",
    "from sklearn.pipeline import Pipeline\n",
    "from sklearn.base import BaseEstimator, TransformerMixin\n",
    "from sklearn.pipeline import FeatureUnion\n",
    "from xgboost import XGBClassifier\n",
    "\n",
    "from sklearn.metrics import accuracy_score\n",
    "from sklearn.metrics import confusion_matrix\n",
    "from sklearn.metrics import precision_score\n",
    "from sklearn.metrics import recall_score\n",
    "from sklearn.metrics import roc_auc_score\n",
    "from sklearn.metrics import f1_score\n",
    "from sklearn.metrics import mean_absolute_error\n",
    "from sklearn.metrics import mean_squared_error\n",
    "from sklearn.metrics import r2_score\n",
    "from sklearn.metrics import roc_curve\n",
    "from sklearn.metrics import classification_report\n",
    "from sklearn.metrics import precision_recall_curve\n",
    "from sklearn.metrics import log_loss\n",
    "\n",
    "from typing import List\n",
    "\n",
    "import dill\n",
    "\n",
    "# from scipy.stats import shapiro\n",
    "# from scipy.stats import probplot\n",
    "# from scipy.stats import ttest_ind, mannwhitneyu\n",
    "# from scipy.stats import chi2_contingency\n",
    "# from statsmodels.stats.weightstats import zconfint\n",
    "\n",
    "# import xgboost as xgb\n",
    "\n",
    "# from sklearn.model_selection import GridSearchCV"
   ]
  },
  {
   "cell_type": "markdown",
   "metadata": {},
   "source": [
    "## Загрузка и подготовка данных"
   ]
  },
  {
   "cell_type": "code",
   "execution_count": 4,
   "metadata": {},
   "outputs": [
    {
     "data": {
      "text/html": [
       "<div>\n",
       "<style scoped>\n",
       "    .dataframe tbody tr th:only-of-type {\n",
       "        vertical-align: middle;\n",
       "    }\n",
       "\n",
       "    .dataframe tbody tr th {\n",
       "        vertical-align: top;\n",
       "    }\n",
       "\n",
       "    .dataframe thead th {\n",
       "        text-align: right;\n",
       "    }\n",
       "</style>\n",
       "<table border=\"1\" class=\"dataframe\">\n",
       "  <thead>\n",
       "    <tr style=\"text-align: right;\">\n",
       "      <th></th>\n",
       "      <th>Home Ownership</th>\n",
       "      <th>Annual Income</th>\n",
       "      <th>Years in current job</th>\n",
       "      <th>Tax Liens</th>\n",
       "      <th>Number of Open Accounts</th>\n",
       "      <th>Years of Credit History</th>\n",
       "      <th>Maximum Open Credit</th>\n",
       "      <th>Number of Credit Problems</th>\n",
       "      <th>Months since last delinquent</th>\n",
       "      <th>Bankruptcies</th>\n",
       "      <th>Purpose</th>\n",
       "      <th>Term</th>\n",
       "      <th>Current Loan Amount</th>\n",
       "      <th>Current Credit Balance</th>\n",
       "      <th>Monthly Debt</th>\n",
       "      <th>Credit Score</th>\n",
       "      <th>Credit Default</th>\n",
       "    </tr>\n",
       "  </thead>\n",
       "  <tbody>\n",
       "    <tr>\n",
       "      <th>0</th>\n",
       "      <td>Own Home</td>\n",
       "      <td>482087.0</td>\n",
       "      <td>NaN</td>\n",
       "      <td>0.0</td>\n",
       "      <td>11.0</td>\n",
       "      <td>26.3</td>\n",
       "      <td>685960.0</td>\n",
       "      <td>1.0</td>\n",
       "      <td>NaN</td>\n",
       "      <td>1.0</td>\n",
       "      <td>debt consolidation</td>\n",
       "      <td>Short Term</td>\n",
       "      <td>99999999.0</td>\n",
       "      <td>47386.0</td>\n",
       "      <td>7914.0</td>\n",
       "      <td>749.0</td>\n",
       "      <td>0</td>\n",
       "    </tr>\n",
       "    <tr>\n",
       "      <th>1</th>\n",
       "      <td>Own Home</td>\n",
       "      <td>1025487.0</td>\n",
       "      <td>10+ years</td>\n",
       "      <td>0.0</td>\n",
       "      <td>15.0</td>\n",
       "      <td>15.3</td>\n",
       "      <td>1181730.0</td>\n",
       "      <td>0.0</td>\n",
       "      <td>NaN</td>\n",
       "      <td>0.0</td>\n",
       "      <td>debt consolidation</td>\n",
       "      <td>Long Term</td>\n",
       "      <td>264968.0</td>\n",
       "      <td>394972.0</td>\n",
       "      <td>18373.0</td>\n",
       "      <td>737.0</td>\n",
       "      <td>1</td>\n",
       "    </tr>\n",
       "    <tr>\n",
       "      <th>2</th>\n",
       "      <td>Home Mortgage</td>\n",
       "      <td>751412.0</td>\n",
       "      <td>8 years</td>\n",
       "      <td>0.0</td>\n",
       "      <td>11.0</td>\n",
       "      <td>35.0</td>\n",
       "      <td>1182434.0</td>\n",
       "      <td>0.0</td>\n",
       "      <td>NaN</td>\n",
       "      <td>0.0</td>\n",
       "      <td>debt consolidation</td>\n",
       "      <td>Short Term</td>\n",
       "      <td>99999999.0</td>\n",
       "      <td>308389.0</td>\n",
       "      <td>13651.0</td>\n",
       "      <td>742.0</td>\n",
       "      <td>0</td>\n",
       "    </tr>\n",
       "    <tr>\n",
       "      <th>3</th>\n",
       "      <td>Own Home</td>\n",
       "      <td>805068.0</td>\n",
       "      <td>6 years</td>\n",
       "      <td>0.0</td>\n",
       "      <td>8.0</td>\n",
       "      <td>22.5</td>\n",
       "      <td>147400.0</td>\n",
       "      <td>1.0</td>\n",
       "      <td>NaN</td>\n",
       "      <td>1.0</td>\n",
       "      <td>debt consolidation</td>\n",
       "      <td>Short Term</td>\n",
       "      <td>121396.0</td>\n",
       "      <td>95855.0</td>\n",
       "      <td>11338.0</td>\n",
       "      <td>694.0</td>\n",
       "      <td>0</td>\n",
       "    </tr>\n",
       "    <tr>\n",
       "      <th>4</th>\n",
       "      <td>Rent</td>\n",
       "      <td>776264.0</td>\n",
       "      <td>8 years</td>\n",
       "      <td>0.0</td>\n",
       "      <td>13.0</td>\n",
       "      <td>13.6</td>\n",
       "      <td>385836.0</td>\n",
       "      <td>1.0</td>\n",
       "      <td>NaN</td>\n",
       "      <td>0.0</td>\n",
       "      <td>debt consolidation</td>\n",
       "      <td>Short Term</td>\n",
       "      <td>125840.0</td>\n",
       "      <td>93309.0</td>\n",
       "      <td>7180.0</td>\n",
       "      <td>719.0</td>\n",
       "      <td>0</td>\n",
       "    </tr>\n",
       "  </tbody>\n",
       "</table>\n",
       "</div>"
      ],
      "text/plain": [
       "  Home Ownership  Annual Income Years in current job  Tax Liens  \\\n",
       "0       Own Home       482087.0                  NaN        0.0   \n",
       "1       Own Home      1025487.0            10+ years        0.0   \n",
       "2  Home Mortgage       751412.0              8 years        0.0   \n",
       "3       Own Home       805068.0              6 years        0.0   \n",
       "4           Rent       776264.0              8 years        0.0   \n",
       "\n",
       "   Number of Open Accounts  Years of Credit History  Maximum Open Credit  \\\n",
       "0                     11.0                     26.3             685960.0   \n",
       "1                     15.0                     15.3            1181730.0   \n",
       "2                     11.0                     35.0            1182434.0   \n",
       "3                      8.0                     22.5             147400.0   \n",
       "4                     13.0                     13.6             385836.0   \n",
       "\n",
       "   Number of Credit Problems  Months since last delinquent  Bankruptcies  \\\n",
       "0                        1.0                           NaN           1.0   \n",
       "1                        0.0                           NaN           0.0   \n",
       "2                        0.0                           NaN           0.0   \n",
       "3                        1.0                           NaN           1.0   \n",
       "4                        1.0                           NaN           0.0   \n",
       "\n",
       "              Purpose        Term  Current Loan Amount  \\\n",
       "0  debt consolidation  Short Term           99999999.0   \n",
       "1  debt consolidation   Long Term             264968.0   \n",
       "2  debt consolidation  Short Term           99999999.0   \n",
       "3  debt consolidation  Short Term             121396.0   \n",
       "4  debt consolidation  Short Term             125840.0   \n",
       "\n",
       "   Current Credit Balance  Monthly Debt  Credit Score  Credit Default  \n",
       "0                 47386.0        7914.0         749.0               0  \n",
       "1                394972.0       18373.0         737.0               1  \n",
       "2                308389.0       13651.0         742.0               0  \n",
       "3                 95855.0       11338.0         694.0               0  \n",
       "4                 93309.0        7180.0         719.0               0  "
      ]
     },
     "execution_count": 4,
     "metadata": {},
     "output_type": "execute_result"
    }
   ],
   "source": [
    "data = pd.read_csv(\"./data/pds_project_train.csv\")\n",
    "data.head()"
   ]
  },
  {
   "cell_type": "code",
   "execution_count": 5,
   "metadata": {},
   "outputs": [
    {
     "name": "stdout",
     "output_type": "stream",
     "text": [
      "<class 'pandas.core.frame.DataFrame'>\n",
      "RangeIndex: 7500 entries, 0 to 7499\n",
      "Data columns (total 17 columns):\n",
      " #   Column                        Non-Null Count  Dtype  \n",
      "---  ------                        --------------  -----  \n",
      " 0   Home Ownership                7500 non-null   object \n",
      " 1   Annual Income                 5943 non-null   float64\n",
      " 2   Years in current job          7129 non-null   object \n",
      " 3   Tax Liens                     7500 non-null   float64\n",
      " 4   Number of Open Accounts       7500 non-null   float64\n",
      " 5   Years of Credit History       7500 non-null   float64\n",
      " 6   Maximum Open Credit           7500 non-null   float64\n",
      " 7   Number of Credit Problems     7500 non-null   float64\n",
      " 8   Months since last delinquent  3419 non-null   float64\n",
      " 9   Bankruptcies                  7486 non-null   float64\n",
      " 10  Purpose                       7500 non-null   object \n",
      " 11  Term                          7500 non-null   object \n",
      " 12  Current Loan Amount           7500 non-null   float64\n",
      " 13  Current Credit Balance        7500 non-null   float64\n",
      " 14  Monthly Debt                  7500 non-null   float64\n",
      " 15  Credit Score                  5943 non-null   float64\n",
      " 16  Credit Default                7500 non-null   int64  \n",
      "dtypes: float64(12), int64(1), object(4)\n",
      "memory usage: 996.2+ KB\n"
     ]
    }
   ],
   "source": [
    "data.info()"
   ]
  },
  {
   "cell_type": "code",
   "execution_count": 6,
   "metadata": {},
   "outputs": [],
   "source": [
    "data['Id'] = np.arange(0, len(data))"
   ]
  },
  {
   "cell_type": "code",
   "execution_count": 7,
   "metadata": {},
   "outputs": [],
   "source": [
    "def print_categorical(data) -> List:\n",
    "    for cat_colname in data.columns:\n",
    "        if len(data[cat_colname].unique()) < 20:\n",
    "            print(str(cat_colname) + '\\n\\n' + str(data[cat_colname].unique()) + '\\n\\n')\n",
    "            print(data.groupby(cat_colname)[cat_colname].count())\n",
    "            print('*' * 100 + '\\n')"
   ]
  },
  {
   "cell_type": "code",
   "execution_count": 8,
   "metadata": {},
   "outputs": [
    {
     "name": "stdout",
     "output_type": "stream",
     "text": [
      "Home Ownership\n",
      "\n",
      "['Own Home' 'Home Mortgage' 'Rent' 'Have Mortgage']\n",
      "\n",
      "\n",
      "Home Ownership\n",
      "Have Mortgage      12\n",
      "Home Mortgage    3637\n",
      "Own Home          647\n",
      "Rent             3204\n",
      "Name: Home Ownership, dtype: int64\n",
      "****************************************************************************************************\n",
      "\n",
      "Years in current job\n",
      "\n",
      "[nan '10+ years' '8 years' '6 years' '7 years' '5 years' '1 year'\n",
      " '< 1 year' '4 years' '3 years' '2 years' '9 years']\n",
      "\n",
      "\n",
      "Years in current job\n",
      "1 year        504\n",
      "10+ years    2332\n",
      "2 years       705\n",
      "3 years       620\n",
      "4 years       469\n",
      "5 years       516\n",
      "6 years       426\n",
      "7 years       396\n",
      "8 years       339\n",
      "9 years       259\n",
      "< 1 year      563\n",
      "Name: Years in current job, dtype: int64\n",
      "****************************************************************************************************\n",
      "\n",
      "Tax Liens\n",
      "\n",
      "[0. 3. 1. 2. 4. 6. 5. 7.]\n",
      "\n",
      "\n",
      "Tax Liens\n",
      "0.0    7366\n",
      "1.0      83\n",
      "2.0      30\n",
      "3.0      10\n",
      "4.0       6\n",
      "5.0       2\n",
      "6.0       2\n",
      "7.0       1\n",
      "Name: Tax Liens, dtype: int64\n",
      "****************************************************************************************************\n",
      "\n",
      "Number of Credit Problems\n",
      "\n",
      "[1. 0. 3. 2. 6. 4. 5. 7.]\n",
      "\n",
      "\n",
      "Number of Credit Problems\n",
      "0.0    6469\n",
      "1.0     882\n",
      "2.0      93\n",
      "3.0      35\n",
      "4.0       9\n",
      "5.0       7\n",
      "6.0       4\n",
      "7.0       1\n",
      "Name: Number of Credit Problems, dtype: int64\n",
      "****************************************************************************************************\n",
      "\n",
      "Bankruptcies\n",
      "\n",
      "[ 1.  0.  3. nan  2.  4.]\n",
      "\n",
      "\n",
      "Bankruptcies\n",
      "0.0    6660\n",
      "1.0     786\n",
      "2.0      31\n",
      "3.0       7\n",
      "4.0       2\n",
      "Name: Bankruptcies, dtype: int64\n",
      "****************************************************************************************************\n",
      "\n",
      "Purpose\n",
      "\n",
      "['debt consolidation' 'other' 'home improvements' 'take a trip'\n",
      " 'buy a car' 'small business' 'business loan' 'wedding'\n",
      " 'educational expenses' 'buy house' 'medical bills' 'moving'\n",
      " 'major purchase' 'vacation' 'renewable energy']\n",
      "\n",
      "\n",
      "Purpose\n",
      "business loan            129\n",
      "buy a car                 96\n",
      "buy house                 34\n",
      "debt consolidation      5944\n",
      "educational expenses      10\n",
      "home improvements        412\n",
      "major purchase            40\n",
      "medical bills             71\n",
      "moving                    11\n",
      "other                    665\n",
      "renewable energy           2\n",
      "small business            26\n",
      "take a trip               37\n",
      "vacation                   8\n",
      "wedding                   15\n",
      "Name: Purpose, dtype: int64\n",
      "****************************************************************************************************\n",
      "\n",
      "Term\n",
      "\n",
      "['Short Term' 'Long Term']\n",
      "\n",
      "\n",
      "Term\n",
      "Long Term     1944\n",
      "Short Term    5556\n",
      "Name: Term, dtype: int64\n",
      "****************************************************************************************************\n",
      "\n",
      "Credit Default\n",
      "\n",
      "[0 1]\n",
      "\n",
      "\n",
      "Credit Default\n",
      "0    5387\n",
      "1    2113\n",
      "Name: Credit Default, dtype: int64\n",
      "****************************************************************************************************\n",
      "\n"
     ]
    }
   ],
   "source": [
    "print_categorical(data)"
   ]
  },
  {
   "cell_type": "code",
   "execution_count": 9,
   "metadata": {},
   "outputs": [
    {
     "data": {
      "text/plain": [
       "Index(['Home Ownership', 'Years in current job', 'Purpose', 'Term'], dtype='object')"
      ]
     },
     "execution_count": 9,
     "metadata": {},
     "output_type": "execute_result"
    }
   ],
   "source": [
    "cat_list = data.select_dtypes(include='object').columns\n",
    "cat_list"
   ]
  },
  {
   "cell_type": "code",
   "execution_count": 10,
   "metadata": {},
   "outputs": [],
   "source": [
    "# map_Jb = {\n",
    "#     '< 1 year': 0.5,\n",
    "#     '1 year': 1,\n",
    "#     '2 years': 2,\n",
    "#     '3 years': 3,\n",
    "#     '4 years': 4,\n",
    "#     '5 years': 5,\n",
    "#     '6 years': 6,\n",
    "#     '7 years': 7,\n",
    "#     '8 years': 8,\n",
    "#     '9 years': 9,\n",
    "#     '10+ years': 10\n",
    "# }\n",
    "# data[\"Years in current job\"] = data[\"Years in current job\"].map(map_Jb)\n",
    "\n",
    "# map_HO = {\n",
    "#     'Have Mortgage': 2,\n",
    "#     'Home Mortgage': 2,\n",
    "#     'Own Home': 3,\n",
    "#     'Rent': 1\n",
    "# }\n",
    "# data[\"Home Ownership\"] = data[\"Home Ownership\"].map(map_HO)\n",
    "\n",
    "# data[\"Years in current job\"] = data[\"Years in current job\"].fillna(0)\n",
    "\n",
    "# data.loc[data[\"Term\"] == \"Long Term\", \"Term\"] = 1\n",
    "# data.loc[data[\"Term\"] == \"Short Term\", \"Term\"] = 0\n",
    "\n",
    "# data[\"Term\"] = data[\"Term\"].astype(np.int64)\n",
    "\n",
    "data.loc[(data['Bankruptcies'].isnull() & data['Months since last delinquent']), 'Bankruptcies'] = 1\n",
    "data.loc[(data['Bankruptcies'].isnull() & (data['Months since last delinquent'] == 0)), 'Bankruptcies'] = 0\n",
    "\n",
    "# map_P = {\n",
    "#     'business loan': 1,\n",
    "#     'buy a car': 2,\n",
    "#     'buy house': 3,\n",
    "#     'debt consolidation': 4,\n",
    "#     'educational expenses': 5,\n",
    "#     'home improvements': 6,\n",
    "#     'major purchase': 7,\n",
    "#     'medical bills': 8,\n",
    "#     'moving': 9,\n",
    "#     'other': 10,\n",
    "#     'renewable energy': 11,\n",
    "#     'small business': 12,\n",
    "#     'take a trip': 13,\n",
    "#     'vacation': 14,\n",
    "#     'wedding': 15\n",
    "# }\n",
    "# data[\"Purpose\"] = data[\"Purpose\"].map(map_P)"
   ]
  },
  {
   "cell_type": "code",
   "execution_count": 11,
   "metadata": {},
   "outputs": [],
   "source": [
    "tmp = data.loc[data['Months since last delinquent'] > 0].copy()\n",
    "\n",
    "tmp_lst = tmp.groupby(['Number of Credit Problems'],as_index=False) \\\n",
    "            .agg({'Months since last delinquent':'mean'})['Months since last delinquent'].tolist()\n",
    "\n",
    "for i in range(0, 8):\n",
    "    data.loc[(((data['Months since last delinquent'].isnull()) | \n",
    "                (data['Months since last delinquent'] == 0)) & \n",
    "               (data['Number of Credit Problems'] == i)), ['Months since last delinquent']] = tmp_lst[i]"
   ]
  },
  {
   "cell_type": "code",
   "execution_count": 12,
   "metadata": {},
   "outputs": [
    {
     "data": {
      "text/plain": [
       "2617    2651287.0\n",
       "Name: Maximum Open Credit, dtype: float64"
      ]
     },
     "execution_count": 12,
     "metadata": {},
     "output_type": "execute_result"
    }
   ],
   "source": [
    "data.loc[data['Id'] == 6472, 'Annual Income'] = 1014934\n",
    "data.loc[data['Id'] == 6472, 'Annual Income']\n",
    "\n",
    "data.loc[data['Id'] == 44, 'Maximum Open Credit'] = 3800528\n",
    "data.loc[data['Id'] == 44, 'Maximum Open Credit']\n",
    "\n",
    "data.loc[data['Id'] == 617, 'Maximum Open Credit'] = 1304726\n",
    "data.loc[data['Id'] == 617, 'Maximum Open Credit']\n",
    "\n",
    "data.loc[data['Id'] == 2617, 'Maximum Open Credit'] = 2651287\n",
    "data.loc[data['Id'] == 2617, 'Maximum Open Credit']"
   ]
  },
  {
   "cell_type": "markdown",
   "metadata": {},
   "source": [
    "### Выделение фрагментов с однозначным соответствием классу"
   ]
  },
  {
   "cell_type": "code",
   "execution_count": 13,
   "metadata": {},
   "outputs": [
    {
     "name": "stdout",
     "output_type": "stream",
     "text": [
      "<class 'pandas.core.frame.DataFrame'>\n",
      "Int64Index: 400 entries, 69 to 7496\n",
      "Data columns (total 18 columns):\n",
      " #   Column                        Non-Null Count  Dtype  \n",
      "---  ------                        --------------  -----  \n",
      " 0   Home Ownership                400 non-null    object \n",
      " 1   Annual Income                 400 non-null    float64\n",
      " 2   Years in current job          382 non-null    object \n",
      " 3   Tax Liens                     400 non-null    float64\n",
      " 4   Number of Open Accounts       400 non-null    float64\n",
      " 5   Years of Credit History       400 non-null    float64\n",
      " 6   Maximum Open Credit           400 non-null    float64\n",
      " 7   Number of Credit Problems     400 non-null    float64\n",
      " 8   Months since last delinquent  400 non-null    float64\n",
      " 9   Bankruptcies                  400 non-null    float64\n",
      " 10  Purpose                       400 non-null    object \n",
      " 11  Term                          400 non-null    object \n",
      " 12  Current Loan Amount           400 non-null    float64\n",
      " 13  Current Credit Balance        400 non-null    float64\n",
      " 14  Monthly Debt                  400 non-null    float64\n",
      " 15  Credit Score                  400 non-null    float64\n",
      " 16  Credit Default                400 non-null    int64  \n",
      " 17  Id                            400 non-null    int32  \n",
      "dtypes: float64(12), int32(1), int64(1), object(4)\n",
      "memory usage: 57.8+ KB\n"
     ]
    }
   ],
   "source": [
    "data.loc[data['Credit Score'] > 850].info()"
   ]
  },
  {
   "cell_type": "code",
   "execution_count": 14,
   "metadata": {},
   "outputs": [
    {
     "data": {
      "image/png": "[encoded data removed]",
      "text/plain": [
       "<Figure size 249.375x180 with 2 Axes>"
      ]
     },
     "metadata": {},
     "output_type": "display_data"
    }
   ],
   "source": [
    "sns.set_style(\"ticks\")\n",
    "sns.pairplot(data.loc[data['Credit Score'] > 850, ['Credit Score', 'Credit Default']],\n",
    "             hue = \"Credit Default\",\n",
    "             diag_kind = \"kde\",\n",
    "             kind = \"scatter\",\n",
    "             palette = \"husl\")\n",
    "plt.show()"
   ]
  },
  {
   "cell_type": "code",
   "execution_count": 15,
   "metadata": {},
   "outputs": [
    {
     "name": "stdout",
     "output_type": "stream",
     "text": [
      "<class 'pandas.core.frame.DataFrame'>\n",
      "Int64Index: 870 entries, 0 to 7497\n",
      "Data columns (total 18 columns):\n",
      " #   Column                        Non-Null Count  Dtype  \n",
      "---  ------                        --------------  -----  \n",
      " 0   Home Ownership                870 non-null    object \n",
      " 1   Annual Income                 870 non-null    float64\n",
      " 2   Years in current job          829 non-null    object \n",
      " 3   Tax Liens                     870 non-null    float64\n",
      " 4   Number of Open Accounts       870 non-null    float64\n",
      " 5   Years of Credit History       870 non-null    float64\n",
      " 6   Maximum Open Credit           870 non-null    float64\n",
      " 7   Number of Credit Problems     870 non-null    float64\n",
      " 8   Months since last delinquent  870 non-null    float64\n",
      " 9   Bankruptcies                  870 non-null    float64\n",
      " 10  Purpose                       870 non-null    object \n",
      " 11  Term                          870 non-null    object \n",
      " 12  Current Loan Amount           870 non-null    float64\n",
      " 13  Current Credit Balance        870 non-null    float64\n",
      " 14  Monthly Debt                  870 non-null    float64\n",
      " 15  Credit Score                  870 non-null    float64\n",
      " 16  Credit Default                870 non-null    int64  \n",
      " 17  Id                            870 non-null    int32  \n",
      "dtypes: float64(12), int32(1), int64(1), object(4)\n",
      "memory usage: 125.7+ KB\n"
     ]
    }
   ],
   "source": [
    "data.loc[data['Current Loan Amount'] == 99999999].info()"
   ]
  },
  {
   "cell_type": "code",
   "execution_count": 16,
   "metadata": {},
   "outputs": [
    {
     "data": {
      "image/png": "[encoded data removed]",
      "text/plain": [
       "<Figure size 249.375x180 with 2 Axes>"
      ]
     },
     "metadata": {},
     "output_type": "display_data"
    }
   ],
   "source": [
    "sns.set_style(\"ticks\")\n",
    "sns.pairplot(data.loc[data['Current Loan Amount'] == 99999999, ['Credit Score', 'Credit Default']],\n",
    "             hue = \"Credit Default\",\n",
    "             diag_kind = \"kde\",\n",
    "             kind = \"scatter\",\n",
    "             palette = \"husl\")\n",
    "plt.show()"
   ]
  },
  {
   "cell_type": "code",
   "execution_count": 17,
   "metadata": {},
   "outputs": [
    {
     "data": {
      "text/plain": [
       "1151.0874978966851"
      ]
     },
     "execution_count": 17,
     "metadata": {},
     "output_type": "execute_result"
    }
   ],
   "source": [
    "data['Credit Score'].mean()"
   ]
  },
  {
   "cell_type": "code",
   "execution_count": 18,
   "metadata": {},
   "outputs": [],
   "source": [
    "data.loc[data['Credit Score'].isnull(), 'Credit Score'] = 850"
   ]
  },
  {
   "cell_type": "code",
   "execution_count": 19,
   "metadata": {},
   "outputs": [],
   "source": [
    "data.loc[data['Annual Income'].isnull(), 'Annual Income'] = data['Annual Income'].mean()"
   ]
  },
  {
   "cell_type": "code",
   "execution_count": 20,
   "metadata": {},
   "outputs": [
    {
     "name": "stdout",
     "output_type": "stream",
     "text": [
      "<class 'pandas.core.frame.DataFrame'>\n",
      "RangeIndex: 7500 entries, 0 to 7499\n",
      "Data columns (total 18 columns):\n",
      " #   Column                        Non-Null Count  Dtype  \n",
      "---  ------                        --------------  -----  \n",
      " 0   Home Ownership                7500 non-null   object \n",
      " 1   Annual Income                 7500 non-null   float64\n",
      " 2   Years in current job          7129 non-null   object \n",
      " 3   Tax Liens                     7500 non-null   float64\n",
      " 4   Number of Open Accounts       7500 non-null   float64\n",
      " 5   Years of Credit History       7500 non-null   float64\n",
      " 6   Maximum Open Credit           7500 non-null   float64\n",
      " 7   Number of Credit Problems     7500 non-null   float64\n",
      " 8   Months since last delinquent  7500 non-null   float64\n",
      " 9   Bankruptcies                  7500 non-null   float64\n",
      " 10  Purpose                       7500 non-null   object \n",
      " 11  Term                          7500 non-null   object \n",
      " 12  Current Loan Amount           7500 non-null   float64\n",
      " 13  Current Credit Balance        7500 non-null   float64\n",
      " 14  Monthly Debt                  7500 non-null   float64\n",
      " 15  Credit Score                  7500 non-null   float64\n",
      " 16  Credit Default                7500 non-null   int64  \n",
      " 17  Id                            7500 non-null   int32  \n",
      "dtypes: float64(12), int32(1), int64(1), object(4)\n",
      "memory usage: 1.0+ MB\n"
     ]
    }
   ],
   "source": [
    "data.info()"
   ]
  },
  {
   "cell_type": "code",
   "execution_count": 21,
   "metadata": {},
   "outputs": [],
   "source": [
    "data.to_csv(\"./data/\" + \"pds_project_cor.csv\", sep=\";\", index=False)"
   ]
  },
  {
   "cell_type": "markdown",
   "metadata": {},
   "source": [
    "## Реализуем Pipeline"
   ]
  },
  {
   "cell_type": "markdown",
   "metadata": {},
   "source": [
    "### Сочетания характеристик и математические преобразования"
   ]
  },
  {
   "cell_type": "code",
   "execution_count": 22,
   "metadata": {},
   "outputs": [],
   "source": [
    "X_train, X_valid, y_train, y_valid = train_test_split(data.drop([\"Credit Default\", \"Id\"], axis=1), \n",
    "                                                      data[\"Credit Default\"], \n",
    "                                                      test_size=0.2, random_state=42)\n",
    "\n",
    "#save train\n",
    "X_train.to_csv(\"X_train.csv\", index=None)\n",
    "y_train.to_csv(\"y_train.csv\", index=None)\n",
    "\n",
    "#save valid\n",
    "X_valid.to_csv(\"X_valid.csv\", index=None)\n",
    "y_valid.to_csv(\"y_valid.csv\", index=None)"
   ]
  },
  {
   "cell_type": "code",
   "execution_count": 23,
   "metadata": {},
   "outputs": [
    {
     "data": {
      "text/plain": [
       "Index(['Home Ownership', 'Years in current job', 'Purpose', 'Term'], dtype='object')"
      ]
     },
     "execution_count": 23,
     "metadata": {},
     "output_type": "execute_result"
    }
   ],
   "source": [
    "cat_list"
   ]
  },
  {
   "cell_type": "code",
   "execution_count": 24,
   "metadata": {},
   "outputs": [],
   "source": [
    "feat_eng_columns = [\"Maximum Open Credit\", \"Annual Income\", \"Current Loan Amount\", \n",
    "                    \"Current Credit Balance\", \"Monthly Debt\", \"Credit Score\"]"
   ]
  },
  {
   "cell_type": "code",
   "execution_count": 25,
   "metadata": {},
   "outputs": [
    {
     "data": {
      "text/plain": [
       "['Years of Credit History',\n",
       " 'Tax Liens',\n",
       " 'Bankruptcies',\n",
       " 'Number of Open Accounts',\n",
       " 'Months since last delinquent',\n",
       " 'Number of Credit Problems']"
      ]
     },
     "execution_count": 25,
     "metadata": {},
     "output_type": "execute_result"
    }
   ],
   "source": [
    "other_columns = list(set(data.columns) - set(cat_list) - set(feat_eng_columns) - set(['Id', 'Credit Default']))\n",
    "other_columns"
   ]
  },
  {
   "cell_type": "code",
   "execution_count": 26,
   "metadata": {},
   "outputs": [],
   "source": [
    "class ColumnSelector(BaseEstimator, TransformerMixin):\n",
    "    \"\"\"\n",
    "    Transformer to select a single column from the data frame to perform additional transformations on\n",
    "    \"\"\"\n",
    "    def __init__(self, key):\n",
    "        self.key = key\n",
    "\n",
    "    def fit(self, X, y=None):\n",
    "        return self\n",
    "\n",
    "    def transform(self, X):\n",
    "        X[self.key] = X[self.key].fillna(0)\n",
    "        return X[self.key]\n",
    "\n",
    "\n",
    "class NumberSelector(BaseEstimator, TransformerMixin):\n",
    "    \"\"\"\n",
    "    Transformer to select a single column from the data frame to perform additional transformations on\n",
    "    Use on numeric columns in the data\n",
    "    \"\"\"\n",
    "    def __init__(self, key):\n",
    "        self.key = key\n",
    "\n",
    "    def fit(self, X, y=None):\n",
    "        return self\n",
    "\n",
    "    def transform(self, X):\n",
    "        X[self.key] = X[self.key].fillna(0)\n",
    "        return X[[self.key]]\n",
    "    \n",
    "class OHEEncoder(BaseEstimator, TransformerMixin):\n",
    "    def __init__(self, key):\n",
    "        self.key = key\n",
    "        self.columns = []\n",
    "\n",
    "    def fit(self, X, y=None):\n",
    "        data = X.copy()\n",
    "        self.columns = [col for col in pd.get_dummies(data, prefix=self.key).columns]\n",
    "        return self\n",
    "\n",
    "    def transform(self, X):\n",
    "        data = X.copy()\n",
    "        data = pd.get_dummies(data, prefix=self.key)\n",
    "        test_columns = [col for col in data.columns]\n",
    "        for col_ in test_columns:\n",
    "            if col_ not in self.columns:\n",
    "                data[col_] = 0\n",
    "        return data[self.columns]\n",
    "    \n",
    "class FeatureCreator(BaseEstimator, TransformerMixin):\n",
    "    def __init__(self, key):\n",
    "        self.key = key\n",
    "        self.columns = []\n",
    "    \n",
    "    def fit(self, X, y=None):\n",
    "#         print(f\"fit: key: {self.key} columns: {X.columns}\")\n",
    "        self.columns.clear()\n",
    "        return self\n",
    "    \n",
    "    def transform(self, X):\n",
    "#         print(f\"transform: key: {self.key} columns: {X.columns}\")\n",
    "        self.columns.clear()\n",
    "        data = X.copy()\n",
    "        data[self.key] = data[self.key].fillna(0)\n",
    "        data[self.key + '_log'] = np.log(data[self.key] + 1.1)\n",
    "        self.columns.append(self.key + '_log')\n",
    "\n",
    "        for i2, col2 in enumerate(feat_eng_columns):\n",
    "#             print(col2)\n",
    "            data[col2] = data[col2].fillna(0)\n",
    "#             X['%s_%s_1' % (self.key, col2)] = X[self.key] - X[col2]\n",
    "#             X['%s_%s_2' % (self.key, col2)] = X[self.key] + X[col2]\n",
    "#             X['%s_%s_3' % (self.key, col2)] = X[self.key] / (X[col2] + 0.1)\n",
    "            data['%s_%s_4' % (self.key, col2)] = data[self.key] * data[col2]\n",
    "            self.columns.append('%s_%s_4' % (self.key, col2))\n",
    "\n",
    "#             X['%s_%s_11' % (self.key, col2)] = X[self.key] - np.log(X[col2] + 1)\n",
    "#             X['%s_%s_22' % (self.key, col2)] = X[self.key] + np.log(X[col2] + 1)\n",
    "#             X['%s_%s_33' % (self.key, col2)] = X[self.key] / (np.log(X[col2] + 1) + 0.1)\n",
    "            data['%s_%s_44' % (self.key, col2)] = data[self.key] * np.log(data[col2] + 1)\n",
    "            self.columns.append('%s_%s_44' % (self.key, col2))\n",
    "            \n",
    "        data.replace([np.inf, -np.inf], np.nan, inplace=True)\n",
    "        for col in data.columns.to_list():\n",
    "            data.loc[data[col].isnull(), col] = 0\n",
    "        \n",
    "        return data[self.columns]"
   ]
  },
  {
   "cell_type": "code",
   "execution_count": 27,
   "metadata": {},
   "outputs": [],
   "source": [
    "final_transformers = list()\n",
    "\n",
    "for feat_eng_col in feat_eng_columns:\n",
    "    feat_eng_transformer = Pipeline([('feat_eng', FeatureCreator(key=feat_eng_col))])\n",
    "    final_transformers.append((feat_eng_col, feat_eng_transformer))\n",
    "\n",
    "for cat_col in cat_list:\n",
    "    cat_transformer = Pipeline([('selector', ColumnSelector(key=cat_col)),\n",
    "                                ('ohe', OHEEncoder(key=cat_col))\n",
    "                               ])\n",
    "    final_transformers.append((cat_col, cat_transformer))\n",
    "    \n",
    "for other_col in other_columns:\n",
    "    other_transformer = Pipeline([\n",
    "                ('selector', NumberSelector(key=other_col))\n",
    "            ])\n",
    "    final_transformers.append((other_col, other_transformer))"
   ]
  },
  {
   "cell_type": "code",
   "execution_count": 28,
   "metadata": {},
   "outputs": [],
   "source": [
    "feats = FeatureUnion(final_transformers)\n",
    "\n",
    "feature_processing = Pipeline([('feats', feats)])"
   ]
  },
  {
   "cell_type": "code",
   "execution_count": 29,
   "metadata": {},
   "outputs": [
    {
     "data": {
      "text/plain": [
       "[('feats',\n",
       "  FeatureUnion(transformer_list=[('Maximum Open Credit',\n",
       "                                  Pipeline(steps=[('feat_eng',\n",
       "                                                   FeatureCreator(key='Maximum '\n",
       "                                                                      'Open '\n",
       "                                                                      'Credit'))])),\n",
       "                                 ('Annual Income',\n",
       "                                  Pipeline(steps=[('feat_eng',\n",
       "                                                   FeatureCreator(key='Annual '\n",
       "                                                                      'Income'))])),\n",
       "                                 ('Current Loan Amount',\n",
       "                                  Pipeline(steps=[('feat_eng',\n",
       "                                                   FeatureCreator(key='Current '\n",
       "                                                                      'Loan '\n",
       "                                                                      'Amount'))])),\n",
       "                                 ('Current Credit Balance',\n",
       "                                  Pipeline(steps=[...\n",
       "                                                   NumberSelector(key='Bankruptcies'))])),\n",
       "                                 ('Number of Open Accounts',\n",
       "                                  Pipeline(steps=[('selector',\n",
       "                                                   NumberSelector(key='Number of '\n",
       "                                                                      'Open '\n",
       "                                                                      'Accounts'))])),\n",
       "                                 ('Months since last delinquent',\n",
       "                                  Pipeline(steps=[('selector',\n",
       "                                                   NumberSelector(key='Months '\n",
       "                                                                      'since '\n",
       "                                                                      'last '\n",
       "                                                                      'delinquent'))])),\n",
       "                                 ('Number of Credit Problems',\n",
       "                                  Pipeline(steps=[('selector',\n",
       "                                                   NumberSelector(key='Number of '\n",
       "                                                                      'Credit '\n",
       "                                                                      'Problems'))]))]))]"
      ]
     },
     "execution_count": 29,
     "metadata": {},
     "output_type": "execute_result"
    }
   ],
   "source": [
    "feature_processing.steps"
   ]
  },
  {
   "cell_type": "code",
   "execution_count": 30,
   "metadata": {},
   "outputs": [],
   "source": [
    "# data_pr = feature_processing.fit_transform(data.drop([\"Credit Default\", \"Id\"], axis=1))\n",
    "# np.shape(data_pr)"
   ]
  },
  {
   "cell_type": "code",
   "execution_count": 31,
   "metadata": {},
   "outputs": [
    {
     "data": {
      "text/plain": [
       "Pipeline(steps=[('features',\n",
       "                 FeatureUnion(transformer_list=[('Maximum Open Credit',\n",
       "                                                 Pipeline(steps=[('feat_eng',\n",
       "                                                                  FeatureCreator(key='Maximum '\n",
       "                                                                                     'Open '\n",
       "                                                                                     'Credit'))])),\n",
       "                                                ('Annual Income',\n",
       "                                                 Pipeline(steps=[('feat_eng',\n",
       "                                                                  FeatureCreator(key='Annual '\n",
       "                                                                                     'Income'))])),\n",
       "                                                ('Current Loan Amount',\n",
       "                                                 Pipeline(steps=[('feat_eng',\n",
       "                                                                  FeatureCreator(key='Current '\n",
       "                                                                                     'Loan '\n",
       "                                                                                     'Amount'))])),\n",
       "                                                ('Current Cre...\n",
       "                                                 Pipeline(steps=[('selector',\n",
       "                                                                  NumberSelector(key='Number '\n",
       "                                                                                     'of '\n",
       "                                                                                     'Open '\n",
       "                                                                                     'Accounts'))])),\n",
       "                                                ('Months since last delinquent',\n",
       "                                                 Pipeline(steps=[('selector',\n",
       "                                                                  NumberSelector(key='Months '\n",
       "                                                                                     'since '\n",
       "                                                                                     'last '\n",
       "                                                                                     'delinquent'))])),\n",
       "                                                ('Number of Credit Problems',\n",
       "                                                 Pipeline(steps=[('selector',\n",
       "                                                                  NumberSelector(key='Number '\n",
       "                                                                                     'of '\n",
       "                                                                                     'Credit '\n",
       "                                                                                     'Problems'))]))])),\n",
       "                ('gbc', GradientBoostingClassifier(random_state=42))])"
      ]
     },
     "execution_count": 31,
     "metadata": {},
     "output_type": "execute_result"
    }
   ],
   "source": [
    "from sklearn.ensemble import GradientBoostingClassifier\n",
    "\n",
    "pipeline = Pipeline([('features',feats),\n",
    "                     ('gbc', GradientBoostingClassifier(random_state=42))\n",
    "                    ])\n",
    "\n",
    "pipeline.fit(X_train, y_train)"
   ]
  },
  {
   "cell_type": "code",
   "execution_count": 32,
   "metadata": {},
   "outputs": [
    {
     "name": "stderr",
     "output_type": "stream",
     "text": [
      "C:\\ProgramData\\Anaconda3\\lib\\site-packages\\xgboost\\sklearn.py:1146: UserWarning: The use of label encoder in XGBClassifier is deprecated and will be removed in a future release. To remove this warning, do the following: 1) Pass option use_label_encoder=False when constructing XGBClassifier object; and 2) Encode your labels (y) as integers starting with 0, i.e. 0, 1, 2, ..., [num_class - 1].\n",
      "  warnings.warn(label_encoder_deprecation_msg, UserWarning)\n"
     ]
    },
    {
     "data": {
      "text/plain": [
       "Pipeline(steps=[('features',\n",
       "                 FeatureUnion(transformer_list=[('Maximum Open Credit',\n",
       "                                                 Pipeline(steps=[('feat_eng',\n",
       "                                                                  FeatureCreator(key='Maximum '\n",
       "                                                                                     'Open '\n",
       "                                                                                     'Credit'))])),\n",
       "                                                ('Annual Income',\n",
       "                                                 Pipeline(steps=[('feat_eng',\n",
       "                                                                  FeatureCreator(key='Annual '\n",
       "                                                                                     'Income'))])),\n",
       "                                                ('Current Loan Amount',\n",
       "                                                 Pipeline(steps=[('feat_eng',\n",
       "                                                                  FeatureCreator(key='Current '\n",
       "                                                                                     'Loan '\n",
       "                                                                                     'Amount'))])),\n",
       "                                                ('Current Cre...\n",
       "                               gpu_id=-1, importance_type='gain',\n",
       "                               interaction_constraints='', learning_rate=0.3,\n",
       "                               max_delta_step=0, max_depth=9,\n",
       "                               min_child_weight=1, missing=nan,\n",
       "                               monotone_constraints='()', n_estimators=600,\n",
       "                               n_jobs=2, nthread=2, num_parallel_tree=1,\n",
       "                               random_state=42, reg_alpha=0, reg_lambda=1,\n",
       "                               scale_pos_weight=1, seed=1000, subsample=0.5,\n",
       "                               tree_method='exact', validate_parameters=1,\n",
       "                               verbosity=None))])"
      ]
     },
     "execution_count": 32,
     "metadata": {},
     "output_type": "execute_result"
    }
   ],
   "source": [
    "pipeline_xgbc = Pipeline([\n",
    "    ('features',feats),\n",
    "    ('xgbc', XGBClassifier(objective=\"binary:logistic\",\n",
    "                           nthread=2, \n",
    "                           max_depth=9, # 5\n",
    "                           n_estimators=600, # 100\n",
    "                           subsample=0.5, \n",
    "                           learning_rate=0.3, \n",
    "                           seed=1000, \n",
    "                           random_state=42,\n",
    "                           eval_metric='auc'))\n",
    "])\n",
    "\n",
    "pipeline_xgbc.fit(X_train, y_train)"
   ]
  },
  {
   "cell_type": "code",
   "execution_count": 33,
   "metadata": {},
   "outputs": [],
   "source": [
    "with open(\"model_cr_gbc.dill\", \"wb\") as f:\n",
    "    dill.dump(pipeline, f)"
   ]
  },
  {
   "cell_type": "code",
   "execution_count": 34,
   "metadata": {},
   "outputs": [],
   "source": [
    "with open(\"model_cr_xgbc.dill\", \"wb\") as f:\n",
    "    dill.dump(pipeline_xgbc, f)"
   ]
  },
  {
   "cell_type": "code",
   "execution_count": 35,
   "metadata": {},
   "outputs": [],
   "source": [
    "cl_met = ['Best Threshold', 'F-Score', 'Precision', \n",
    "          'Recall', 'roc_auc_s', 'log_loss_s', 'TPR', 'FPR', 'TNR', \"TN\", \"FN\", \"TP\", \"FP\"]\n",
    "\n",
    "res_tab = pd.DataFrame(columns=cl_met)"
   ]
  },
  {
   "cell_type": "code",
   "execution_count": 36,
   "metadata": {},
   "outputs": [
    {
     "name": "stdout",
     "output_type": "stream",
     "text": [
      "Best Threshold=0.243829, F-Score=0.570, Precision=0.454, Recall=0.764\n",
      "roc auc score: 0.7652964868667014\n",
      "log loss score: 0.4753479921193939\n"
     ]
    }
   ],
   "source": [
    "preds = pipeline.predict_proba(X_valid)[:, 1]\n",
    "\n",
    "precision, recall, thresholds = precision_recall_curve(y_valid, preds)\n",
    "fscore = (2 * precision * recall) / (precision + recall)\n",
    "# locate the index of the largest f score\n",
    "ix = np.argmax(fscore)\n",
    "print('Best Threshold=%f, F-Score=%.3f, Precision=%.3f, Recall=%.3f' % (thresholds[ix], \n",
    "                                                                        fscore[ix],\n",
    "                                                                        precision[ix],\n",
    "                                                                        recall[ix]))\n",
    "r_auc = roc_auc_score(y_true=y_valid, y_score=preds)\n",
    "l_los = log_loss(y_true=y_valid, y_pred=preds)\n",
    "\n",
    "print(\"roc auc score: {}\".format(r_auc))\n",
    "print(\"log loss score: {}\".format(l_los))\n",
    "\n",
    "cnf_matrix = confusion_matrix(y_valid, preds>thresholds[ix])\n",
    "\n",
    "TN = cnf_matrix[0][0]\n",
    "FN = cnf_matrix[1][0]\n",
    "TP = cnf_matrix[1][1]\n",
    "FP = cnf_matrix[0][1]\n",
    "\n",
    "TPR = TP/(TP+FN)\n",
    "FPR = FP/(FP+TN)\n",
    "TNR = TN/(FP+TN)\n",
    "\n",
    "res_tab.loc['GradientBoostingClassifier', :] = [thresholds[ix], \n",
    "                                                fscore[ix], \n",
    "                                                precision[ix], \n",
    "                                                recall[ix], \n",
    "                                                r_auc, l_los, \n",
    "                                                TPR, FPR, TNR,\n",
    "                                                TN, FN, TP, FP]"
   ]
  },
  {
   "cell_type": "code",
   "execution_count": 37,
   "metadata": {},
   "outputs": [
    {
     "name": "stdout",
     "output_type": "stream",
     "text": [
      "Best Threshold=0.032725, F-Score=0.561, Precision=0.450, Recall=0.744\n",
      "roc auc score: 0.7456077804115036\n",
      "log loss score: 0.8672419955095687\n"
     ]
    }
   ],
   "source": [
    "preds = pipeline_xgbc.predict_proba(X_valid)[:, 1]\n",
    "\n",
    "precision, recall, thresholds = precision_recall_curve(y_valid, preds)\n",
    "fscore = (2 * precision * recall) / (precision + recall)\n",
    "# locate the index of the largest f score\n",
    "ix = np.argmax(fscore)\n",
    "print('Best Threshold=%f, F-Score=%.3f, Precision=%.3f, Recall=%.3f' % (thresholds[ix], \n",
    "                                                                        fscore[ix],\n",
    "                                                                        precision[ix],\n",
    "                                                                        recall[ix]))\n",
    "r_auc = roc_auc_score(y_true=y_valid, y_score=preds)\n",
    "l_los = log_loss(y_true=y_valid, y_pred=preds)\n",
    "\n",
    "print(\"roc auc score: {}\".format(r_auc))\n",
    "print(\"log loss score: {}\".format(l_los))\n",
    "\n",
    "cnf_matrix = confusion_matrix(y_valid, preds>thresholds[ix])\n",
    "\n",
    "TN = cnf_matrix[0][0]\n",
    "FN = cnf_matrix[1][0]\n",
    "TP = cnf_matrix[1][1]\n",
    "FP = cnf_matrix[0][1]\n",
    "\n",
    "TPR = TP/(TP+FN)\n",
    "FPR = FP/(FP+TN)\n",
    "TNR = TN/(FP+TN)\n",
    "\n",
    "res_tab.loc['XGBClassifier', :] = [thresholds[ix], \n",
    "                                   fscore[ix], \n",
    "                                   precision[ix], \n",
    "                                   recall[ix], \n",
    "                                   r_auc, l_los, \n",
    "                                   TPR, FPR, TNR,\n",
    "                                   TN, FN, TP, FP]"
   ]
  },
  {
   "cell_type": "code",
   "execution_count": 38,
   "metadata": {},
   "outputs": [
    {
     "data": {
      "text/html": [
       "<div>\n",
       "<style scoped>\n",
       "    .dataframe tbody tr th:only-of-type {\n",
       "        vertical-align: middle;\n",
       "    }\n",
       "\n",
       "    .dataframe tbody tr th {\n",
       "        vertical-align: top;\n",
       "    }\n",
       "\n",
       "    .dataframe thead th {\n",
       "        text-align: right;\n",
       "    }\n",
       "</style>\n",
       "<table border=\"1\" class=\"dataframe\">\n",
       "  <thead>\n",
       "    <tr style=\"text-align: right;\">\n",
       "      <th></th>\n",
       "      <th>Best Threshold</th>\n",
       "      <th>F-Score</th>\n",
       "      <th>Precision</th>\n",
       "      <th>Recall</th>\n",
       "      <th>roc_auc_s</th>\n",
       "      <th>log_loss_s</th>\n",
       "      <th>TPR</th>\n",
       "      <th>FPR</th>\n",
       "      <th>TNR</th>\n",
       "      <th>TN</th>\n",
       "      <th>FN</th>\n",
       "      <th>TP</th>\n",
       "      <th>FP</th>\n",
       "    </tr>\n",
       "  </thead>\n",
       "  <tbody>\n",
       "    <tr>\n",
       "      <th>GradientBoostingClassifier</th>\n",
       "      <td>0.243829</td>\n",
       "      <td>0.569738</td>\n",
       "      <td>0.454178</td>\n",
       "      <td>0.764172</td>\n",
       "      <td>0.765296</td>\n",
       "      <td>0.475348</td>\n",
       "      <td>0.761905</td>\n",
       "      <td>0.382436</td>\n",
       "      <td>0.617564</td>\n",
       "      <td>654</td>\n",
       "      <td>105</td>\n",
       "      <td>336</td>\n",
       "      <td>405</td>\n",
       "    </tr>\n",
       "    <tr>\n",
       "      <th>XGBClassifier</th>\n",
       "      <td>0.032725</td>\n",
       "      <td>0.560684</td>\n",
       "      <td>0.449931</td>\n",
       "      <td>0.743764</td>\n",
       "      <td>0.745608</td>\n",
       "      <td>0.867242</td>\n",
       "      <td>0.741497</td>\n",
       "      <td>0.378659</td>\n",
       "      <td>0.621341</td>\n",
       "      <td>658</td>\n",
       "      <td>114</td>\n",
       "      <td>327</td>\n",
       "      <td>401</td>\n",
       "    </tr>\n",
       "  </tbody>\n",
       "</table>\n",
       "</div>"
      ],
      "text/plain": [
       "                           Best Threshold   F-Score Precision    Recall  \\\n",
       "GradientBoostingClassifier       0.243829  0.569738  0.454178  0.764172   \n",
       "XGBClassifier                    0.032725  0.560684  0.449931  0.743764   \n",
       "\n",
       "                           roc_auc_s log_loss_s       TPR       FPR       TNR  \\\n",
       "GradientBoostingClassifier  0.765296   0.475348  0.761905  0.382436  0.617564   \n",
       "XGBClassifier               0.745608   0.867242  0.741497  0.378659  0.621341   \n",
       "\n",
       "                             TN   FN   TP   FP  \n",
       "GradientBoostingClassifier  654  105  336  405  \n",
       "XGBClassifier               658  114  327  401  "
      ]
     },
     "execution_count": 38,
     "metadata": {},
     "output_type": "execute_result"
    }
   ],
   "source": [
    "res_tab.sort_values('roc_auc_s', ascending=False)"
   ]
  },
  {
   "cell_type": "code",
   "execution_count": null,
   "metadata": {},
   "outputs": [],
   "source": []
  }
 ],
 "metadata": {
  "kernelspec": {
   "display_name": "Python 3",
   "language": "python",
   "name": "python3"
  },
  "language_info": {
   "codemirror_mode": {
    "name": "ipython",
    "version": 3
   },
   "file_extension": ".py",
   "mimetype": "text/x-python",
   "name": "python",
   "nbconvert_exporter": "python",
   "pygments_lexer": "ipython3",
   "version": "3.8.8"
  }
 },
 "nbformat": 4,
 "nbformat_minor": 4
}
