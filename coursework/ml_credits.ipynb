{
 "cells": [
  {
   "cell_type": "markdown",
   "metadata": {},
   "source": [
    "# Курсовой проект Гладышева В.В.\n",
    "\n",
    "## ML задача - определение дефолтов по кредитам"
   ]
  },
  {
   "cell_type": "code",
   "execution_count": 1,
   "metadata": {},
   "outputs": [],
   "source": [
    "# pip install xgboost"
   ]
  },
  {
   "cell_type": "code",
   "execution_count": 2,
   "metadata": {},
   "outputs": [],
   "source": [
    "# pip install dill"
   ]
  },
  {
   "cell_type": "code",
   "execution_count": 3,
   "metadata": {},
   "outputs": [],
   "source": [
    "import numpy as np\n",
    "import pandas as pd\n",
    "import matplotlib.pyplot as plt\n",
    "import seaborn as sns\n",
    "from sklearn.model_selection import train_test_split\n",
    "from sklearn.pipeline import Pipeline\n",
    "from sklearn.base import BaseEstimator, TransformerMixin\n",
    "from sklearn.pipeline import FeatureUnion\n",
    "from xgboost import XGBClassifier\n",
    "\n",
    "from sklearn.metrics import accuracy_score\n",
    "from sklearn.metrics import confusion_matrix\n",
    "from sklearn.metrics import precision_score\n",
    "from sklearn.metrics import recall_score\n",
    "from sklearn.metrics import roc_auc_score\n",
    "from sklearn.metrics import f1_score\n",
    "from sklearn.metrics import mean_absolute_error\n",
    "from sklearn.metrics import mean_squared_error\n",
    "from sklearn.metrics import r2_score\n",
    "from sklearn.metrics import roc_curve\n",
    "from sklearn.metrics import classification_report\n",
    "from sklearn.metrics import precision_recall_curve\n",
    "from sklearn.metrics import log_loss\n",
    "\n",
    "from typing import List\n",
    "\n",
    "import dill\n",
    "\n",
    "# from scipy.stats import shapiro\n",
    "# from scipy.stats import probplot\n",
    "# from scipy.stats import ttest_ind, mannwhitneyu\n",
    "# from scipy.stats import chi2_contingency\n",
    "# from statsmodels.stats.weightstats import zconfint\n",
    "\n",
    "# import xgboost as xgb\n",
    "\n",
    "# from sklearn.model_selection import GridSearchCV"
   ]
  },
  {
   "cell_type": "markdown",
   "metadata": {},
   "source": [
    "## Загрузка и подготовка данных"
   ]
  },
  {
   "cell_type": "code",
   "execution_count": 4,
   "metadata": {},
   "outputs": [
    {
     "data": {
      "text/html": [
       "<div>\n",
       "<style scoped>\n",
       "    .dataframe tbody tr th:only-of-type {\n",
       "        vertical-align: middle;\n",
       "    }\n",
       "\n",
       "    .dataframe tbody tr th {\n",
       "        vertical-align: top;\n",
       "    }\n",
       "\n",
       "    .dataframe thead th {\n",
       "        text-align: right;\n",
       "    }\n",
       "</style>\n",
       "<table border=\"1\" class=\"dataframe\">\n",
       "  <thead>\n",
       "    <tr style=\"text-align: right;\">\n",
       "      <th></th>\n",
       "      <th>Home Ownership</th>\n",
       "      <th>Annual Income</th>\n",
       "      <th>Years in current job</th>\n",
       "      <th>Tax Liens</th>\n",
       "      <th>Number of Open Accounts</th>\n",
       "      <th>Years of Credit History</th>\n",
       "      <th>Maximum Open Credit</th>\n",
       "      <th>Number of Credit Problems</th>\n",
       "      <th>Months since last delinquent</th>\n",
       "      <th>Bankruptcies</th>\n",
       "      <th>Purpose</th>\n",
       "      <th>Term</th>\n",
       "      <th>Current Loan Amount</th>\n",
       "      <th>Current Credit Balance</th>\n",
       "      <th>Monthly Debt</th>\n",
       "      <th>Credit Score</th>\n",
       "      <th>Credit Default</th>\n",
       "    </tr>\n",
       "  </thead>\n",
       "  <tbody>\n",
       "    <tr>\n",
       "      <th>0</th>\n",
       "      <td>Own Home</td>\n",
       "      <td>482087.0</td>\n",
       "      <td>NaN</td>\n",
       "      <td>0.0</td>\n",
       "      <td>11.0</td>\n",
       "      <td>26.3</td>\n",
       "      <td>685960.0</td>\n",
       "      <td>1.0</td>\n",
       "      <td>NaN</td>\n",
       "      <td>1.0</td>\n",
       "      <td>debt consolidation</td>\n",
       "      <td>Short Term</td>\n",
       "      <td>99999999.0</td>\n",
       "      <td>47386.0</td>\n",
       "      <td>7914.0</td>\n",
       "      <td>749.0</td>\n",
       "      <td>0</td>\n",
       "    </tr>\n",
       "    <tr>\n",
       "      <th>1</th>\n",
       "      <td>Own Home</td>\n",
       "      <td>1025487.0</td>\n",
       "      <td>10+ years</td>\n",
       "      <td>0.0</td>\n",
       "      <td>15.0</td>\n",
       "      <td>15.3</td>\n",
       "      <td>1181730.0</td>\n",
       "      <td>0.0</td>\n",
       "      <td>NaN</td>\n",
       "      <td>0.0</td>\n",
       "      <td>debt consolidation</td>\n",
       "      <td>Long Term</td>\n",
       "      <td>264968.0</td>\n",
       "      <td>394972.0</td>\n",
       "      <td>18373.0</td>\n",
       "      <td>737.0</td>\n",
       "      <td>1</td>\n",
       "    </tr>\n",
       "    <tr>\n",
       "      <th>2</th>\n",
       "      <td>Home Mortgage</td>\n",
       "      <td>751412.0</td>\n",
       "      <td>8 years</td>\n",
       "      <td>0.0</td>\n",
       "      <td>11.0</td>\n",
       "      <td>35.0</td>\n",
       "      <td>1182434.0</td>\n",
       "      <td>0.0</td>\n",
       "      <td>NaN</td>\n",
       "      <td>0.0</td>\n",
       "      <td>debt consolidation</td>\n",
       "      <td>Short Term</td>\n",
       "      <td>99999999.0</td>\n",
       "      <td>308389.0</td>\n",
       "      <td>13651.0</td>\n",
       "      <td>742.0</td>\n",
       "      <td>0</td>\n",
       "    </tr>\n",
       "    <tr>\n",
       "      <th>3</th>\n",
       "      <td>Own Home</td>\n",
       "      <td>805068.0</td>\n",
       "      <td>6 years</td>\n",
       "      <td>0.0</td>\n",
       "      <td>8.0</td>\n",
       "      <td>22.5</td>\n",
       "      <td>147400.0</td>\n",
       "      <td>1.0</td>\n",
       "      <td>NaN</td>\n",
       "      <td>1.0</td>\n",
       "      <td>debt consolidation</td>\n",
       "      <td>Short Term</td>\n",
       "      <td>121396.0</td>\n",
       "      <td>95855.0</td>\n",
       "      <td>11338.0</td>\n",
       "      <td>694.0</td>\n",
       "      <td>0</td>\n",
       "    </tr>\n",
       "    <tr>\n",
       "      <th>4</th>\n",
       "      <td>Rent</td>\n",
       "      <td>776264.0</td>\n",
       "      <td>8 years</td>\n",
       "      <td>0.0</td>\n",
       "      <td>13.0</td>\n",
       "      <td>13.6</td>\n",
       "      <td>385836.0</td>\n",
       "      <td>1.0</td>\n",
       "      <td>NaN</td>\n",
       "      <td>0.0</td>\n",
       "      <td>debt consolidation</td>\n",
       "      <td>Short Term</td>\n",
       "      <td>125840.0</td>\n",
       "      <td>93309.0</td>\n",
       "      <td>7180.0</td>\n",
       "      <td>719.0</td>\n",
       "      <td>0</td>\n",
       "    </tr>\n",
       "  </tbody>\n",
       "</table>\n",
       "</div>"
      ],
      "text/plain": [
       "  Home Ownership  Annual Income Years in current job  Tax Liens  \\\n",
       "0       Own Home       482087.0                  NaN        0.0   \n",
       "1       Own Home      1025487.0            10+ years        0.0   \n",
       "2  Home Mortgage       751412.0              8 years        0.0   \n",
       "3       Own Home       805068.0              6 years        0.0   \n",
       "4           Rent       776264.0              8 years        0.0   \n",
       "\n",
       "   Number of Open Accounts  Years of Credit History  Maximum Open Credit  \\\n",
       "0                     11.0                     26.3             685960.0   \n",
       "1                     15.0                     15.3            1181730.0   \n",
       "2                     11.0                     35.0            1182434.0   \n",
       "3                      8.0                     22.5             147400.0   \n",
       "4                     13.0                     13.6             385836.0   \n",
       "\n",
       "   Number of Credit Problems  Months since last delinquent  Bankruptcies  \\\n",
       "0                        1.0                           NaN           1.0   \n",
       "1                        0.0                           NaN           0.0   \n",
       "2                        0.0                           NaN           0.0   \n",
       "3                        1.0                           NaN           1.0   \n",
       "4                        1.0                           NaN           0.0   \n",
       "\n",
       "              Purpose        Term  Current Loan Amount  \\\n",
       "0  debt consolidation  Short Term           99999999.0   \n",
       "1  debt consolidation   Long Term             264968.0   \n",
       "2  debt consolidation  Short Term           99999999.0   \n",
       "3  debt consolidation  Short Term             121396.0   \n",
       "4  debt consolidation  Short Term             125840.0   \n",
       "\n",
       "   Current Credit Balance  Monthly Debt  Credit Score  Credit Default  \n",
       "0                 47386.0        7914.0         749.0               0  \n",
       "1                394972.0       18373.0         737.0               1  \n",
       "2                308389.0       13651.0         742.0               0  \n",
       "3                 95855.0       11338.0         694.0               0  \n",
       "4                 93309.0        7180.0         719.0               0  "
      ]
     },
     "execution_count": 4,
     "metadata": {},
     "output_type": "execute_result"
    }
   ],
   "source": [
    "datadir = \"./data/\"\n",
    "modelsdir = \"./models/\"\n",
    "data = pd.read_csv(datadir + \"pds_project_train.csv\")\n",
    "data.head()"
   ]
  },
  {
   "cell_type": "code",
   "execution_count": 5,
   "metadata": {},
   "outputs": [
    {
     "name": "stdout",
     "output_type": "stream",
     "text": [
      "<class 'pandas.core.frame.DataFrame'>\n",
      "RangeIndex: 7500 entries, 0 to 7499\n",
      "Data columns (total 17 columns):\n",
      " #   Column                        Non-Null Count  Dtype  \n",
      "---  ------                        --------------  -----  \n",
      " 0   Home Ownership                7500 non-null   object \n",
      " 1   Annual Income                 5943 non-null   float64\n",
      " 2   Years in current job          7129 non-null   object \n",
      " 3   Tax Liens                     7500 non-null   float64\n",
      " 4   Number of Open Accounts       7500 non-null   float64\n",
      " 5   Years of Credit History       7500 non-null   float64\n",
      " 6   Maximum Open Credit           7500 non-null   float64\n",
      " 7   Number of Credit Problems     7500 non-null   float64\n",
      " 8   Months since last delinquent  3419 non-null   float64\n",
      " 9   Bankruptcies                  7486 non-null   float64\n",
      " 10  Purpose                       7500 non-null   object \n",
      " 11  Term                          7500 non-null   object \n",
      " 12  Current Loan Amount           7500 non-null   float64\n",
      " 13  Current Credit Balance        7500 non-null   float64\n",
      " 14  Monthly Debt                  7500 non-null   float64\n",
      " 15  Credit Score                  5943 non-null   float64\n",
      " 16  Credit Default                7500 non-null   int64  \n",
      "dtypes: float64(12), int64(1), object(4)\n",
      "memory usage: 996.2+ KB\n"
     ]
    }
   ],
   "source": [
    "data.info()"
   ]
  },
  {
   "cell_type": "code",
   "execution_count": 6,
   "metadata": {},
   "outputs": [],
   "source": [
    "data['Id'] = np.arange(0, len(data))"
   ]
  },
  {
   "cell_type": "code",
   "execution_count": 7,
   "metadata": {},
   "outputs": [],
   "source": [
    "def print_categorical(data) -> List:\n",
    "    for cat_colname in data.columns:\n",
    "        if len(data[cat_colname].unique()) < 20:\n",
    "            print(str(cat_colname) + '\\n\\n' + str(data[cat_colname].unique()) + '\\n\\n')\n",
    "            print(data.groupby(cat_colname)[cat_colname].count())\n",
    "            print('*' * 100 + '\\n')"
   ]
  },
  {
   "cell_type": "code",
   "execution_count": 8,
   "metadata": {},
   "outputs": [
    {
     "name": "stdout",
     "output_type": "stream",
     "text": [
      "Home Ownership\n",
      "\n",
      "['Own Home' 'Home Mortgage' 'Rent' 'Have Mortgage']\n",
      "\n",
      "\n",
      "Home Ownership\n",
      "Have Mortgage      12\n",
      "Home Mortgage    3637\n",
      "Own Home          647\n",
      "Rent             3204\n",
      "Name: Home Ownership, dtype: int64\n",
      "****************************************************************************************************\n",
      "\n",
      "Years in current job\n",
      "\n",
      "[nan '10+ years' '8 years' '6 years' '7 years' '5 years' '1 year'\n",
      " '< 1 year' '4 years' '3 years' '2 years' '9 years']\n",
      "\n",
      "\n",
      "Years in current job\n",
      "1 year        504\n",
      "10+ years    2332\n",
      "2 years       705\n",
      "3 years       620\n",
      "4 years       469\n",
      "5 years       516\n",
      "6 years       426\n",
      "7 years       396\n",
      "8 years       339\n",
      "9 years       259\n",
      "< 1 year      563\n",
      "Name: Years in current job, dtype: int64\n",
      "****************************************************************************************************\n",
      "\n",
      "Tax Liens\n",
      "\n",
      "[0. 3. 1. 2. 4. 6. 5. 7.]\n",
      "\n",
      "\n",
      "Tax Liens\n",
      "0.0    7366\n",
      "1.0      83\n",
      "2.0      30\n",
      "3.0      10\n",
      "4.0       6\n",
      "5.0       2\n",
      "6.0       2\n",
      "7.0       1\n",
      "Name: Tax Liens, dtype: int64\n",
      "****************************************************************************************************\n",
      "\n",
      "Number of Credit Problems\n",
      "\n",
      "[1. 0. 3. 2. 6. 4. 5. 7.]\n",
      "\n",
      "\n",
      "Number of Credit Problems\n",
      "0.0    6469\n",
      "1.0     882\n",
      "2.0      93\n",
      "3.0      35\n",
      "4.0       9\n",
      "5.0       7\n",
      "6.0       4\n",
      "7.0       1\n",
      "Name: Number of Credit Problems, dtype: int64\n",
      "****************************************************************************************************\n",
      "\n",
      "Bankruptcies\n",
      "\n",
      "[ 1.  0.  3. nan  2.  4.]\n",
      "\n",
      "\n",
      "Bankruptcies\n",
      "0.0    6660\n",
      "1.0     786\n",
      "2.0      31\n",
      "3.0       7\n",
      "4.0       2\n",
      "Name: Bankruptcies, dtype: int64\n",
      "****************************************************************************************************\n",
      "\n",
      "Purpose\n",
      "\n",
      "['debt consolidation' 'other' 'home improvements' 'take a trip'\n",
      " 'buy a car' 'small business' 'business loan' 'wedding'\n",
      " 'educational expenses' 'buy house' 'medical bills' 'moving'\n",
      " 'major purchase' 'vacation' 'renewable energy']\n",
      "\n",
      "\n",
      "Purpose\n",
      "business loan            129\n",
      "buy a car                 96\n",
      "buy house                 34\n",
      "debt consolidation      5944\n",
      "educational expenses      10\n",
      "home improvements        412\n",
      "major purchase            40\n",
      "medical bills             71\n",
      "moving                    11\n",
      "other                    665\n",
      "renewable energy           2\n",
      "small business            26\n",
      "take a trip               37\n",
      "vacation                   8\n",
      "wedding                   15\n",
      "Name: Purpose, dtype: int64\n",
      "****************************************************************************************************\n",
      "\n",
      "Term\n",
      "\n",
      "['Short Term' 'Long Term']\n",
      "\n",
      "\n",
      "Term\n",
      "Long Term     1944\n",
      "Short Term    5556\n",
      "Name: Term, dtype: int64\n",
      "****************************************************************************************************\n",
      "\n",
      "Credit Default\n",
      "\n",
      "[0 1]\n",
      "\n",
      "\n",
      "Credit Default\n",
      "0    5387\n",
      "1    2113\n",
      "Name: Credit Default, dtype: int64\n",
      "****************************************************************************************************\n",
      "\n"
     ]
    }
   ],
   "source": [
    "print_categorical(data)"
   ]
  },
  {
   "cell_type": "code",
   "execution_count": 9,
   "metadata": {},
   "outputs": [
    {
     "data": {
      "text/plain": [
       "Index(['Home Ownership', 'Years in current job', 'Purpose', 'Term'], dtype='object')"
      ]
     },
     "execution_count": 9,
     "metadata": {},
     "output_type": "execute_result"
    }
   ],
   "source": [
    "cat_list = data.select_dtypes(include='object').columns\n",
    "cat_list"
   ]
  },
  {
   "cell_type": "code",
   "execution_count": 10,
   "metadata": {},
   "outputs": [],
   "source": [
    "# map_Jb = {\n",
    "#     '< 1 year': 0.5,\n",
    "#     '1 year': 1,\n",
    "#     '2 years': 2,\n",
    "#     '3 years': 3,\n",
    "#     '4 years': 4,\n",
    "#     '5 years': 5,\n",
    "#     '6 years': 6,\n",
    "#     '7 years': 7,\n",
    "#     '8 years': 8,\n",
    "#     '9 years': 9,\n",
    "#     '10+ years': 10\n",
    "# }\n",
    "# data[\"Years in current job\"] = data[\"Years in current job\"].map(map_Jb)\n",
    "\n",
    "# map_HO = {\n",
    "#     'Have Mortgage': 2,\n",
    "#     'Home Mortgage': 2,\n",
    "#     'Own Home': 3,\n",
    "#     'Rent': 1\n",
    "# }\n",
    "# data[\"Home Ownership\"] = data[\"Home Ownership\"].map(map_HO)\n",
    "\n",
    "# data[\"Years in current job\"] = data[\"Years in current job\"].fillna(0)\n",
    "\n",
    "# data.loc[data[\"Term\"] == \"Long Term\", \"Term\"] = 1\n",
    "# data.loc[data[\"Term\"] == \"Short Term\", \"Term\"] = 0\n",
    "\n",
    "# data[\"Term\"] = data[\"Term\"].astype(np.int64)\n",
    "\n",
    "data.loc[(data['Bankruptcies'].isnull() & data['Months since last delinquent']), 'Bankruptcies'] = 1\n",
    "data.loc[(data['Bankruptcies'].isnull() & (data['Months since last delinquent'] == 0)), 'Bankruptcies'] = 0\n",
    "\n",
    "# map_P = {\n",
    "#     'business loan': 1,\n",
    "#     'buy a car': 2,\n",
    "#     'buy house': 3,\n",
    "#     'debt consolidation': 4,\n",
    "#     'educational expenses': 5,\n",
    "#     'home improvements': 6,\n",
    "#     'major purchase': 7,\n",
    "#     'medical bills': 8,\n",
    "#     'moving': 9,\n",
    "#     'other': 10,\n",
    "#     'renewable energy': 11,\n",
    "#     'small business': 12,\n",
    "#     'take a trip': 13,\n",
    "#     'vacation': 14,\n",
    "#     'wedding': 15\n",
    "# }\n",
    "# data[\"Purpose\"] = data[\"Purpose\"].map(map_P)"
   ]
  },
  {
   "cell_type": "code",
   "execution_count": 11,
   "metadata": {},
   "outputs": [],
   "source": [
    "tmp = data.loc[data['Months since last delinquent'] > 0].copy()\n",
    "\n",
    "tmp_lst = tmp.groupby(['Number of Credit Problems'],as_index=False) \\\n",
    "            .agg({'Months since last delinquent':'mean'})['Months since last delinquent'].tolist()\n",
    "\n",
    "for i in range(0, 8):\n",
    "    data.loc[(((data['Months since last delinquent'].isnull()) | \n",
    "                (data['Months since last delinquent'] == 0)) & \n",
    "               (data['Number of Credit Problems'] == i)), ['Months since last delinquent']] = tmp_lst[i]"
   ]
  },
  {
   "cell_type": "code",
   "execution_count": 12,
   "metadata": {},
   "outputs": [
    {
     "data": {
      "text/plain": [
       "2617    2651287.0\n",
       "Name: Maximum Open Credit, dtype: float64"
      ]
     },
     "execution_count": 12,
     "metadata": {},
     "output_type": "execute_result"
    }
   ],
   "source": [
    "data.loc[data['Id'] == 6472, 'Annual Income'] = 1014934\n",
    "data.loc[data['Id'] == 6472, 'Annual Income']\n",
    "\n",
    "data.loc[data['Id'] == 44, 'Maximum Open Credit'] = 3800528\n",
    "data.loc[data['Id'] == 44, 'Maximum Open Credit']\n",
    "\n",
    "data.loc[data['Id'] == 617, 'Maximum Open Credit'] = 1304726\n",
    "data.loc[data['Id'] == 617, 'Maximum Open Credit']\n",
    "\n",
    "data.loc[data['Id'] == 2617, 'Maximum Open Credit'] = 2651287\n",
    "data.loc[data['Id'] == 2617, 'Maximum Open Credit']"
   ]
  },
  {
   "cell_type": "markdown",
   "metadata": {},
   "source": [
    "### Выделение фрагментов с однозначным соответствием классу"
   ]
  },
  {
   "cell_type": "code",
   "execution_count": 13,
   "metadata": {},
   "outputs": [
    {
     "name": "stdout",
     "output_type": "stream",
     "text": [
      "<class 'pandas.core.frame.DataFrame'>\n",
      "Int64Index: 400 entries, 69 to 7496\n",
      "Data columns (total 18 columns):\n",
      " #   Column                        Non-Null Count  Dtype  \n",
      "---  ------                        --------------  -----  \n",
      " 0   Home Ownership                400 non-null    object \n",
      " 1   Annual Income                 400 non-null    float64\n",
      " 2   Years in current job          382 non-null    object \n",
      " 3   Tax Liens                     400 non-null    float64\n",
      " 4   Number of Open Accounts       400 non-null    float64\n",
      " 5   Years of Credit History       400 non-null    float64\n",
      " 6   Maximum Open Credit           400 non-null    float64\n",
      " 7   Number of Credit Problems     400 non-null    float64\n",
      " 8   Months since last delinquent  400 non-null    float64\n",
      " 9   Bankruptcies                  400 non-null    float64\n",
      " 10  Purpose                       400 non-null    object \n",
      " 11  Term                          400 non-null    object \n",
      " 12  Current Loan Amount           400 non-null    float64\n",
      " 13  Current Credit Balance        400 non-null    float64\n",
      " 14  Monthly Debt                  400 non-null    float64\n",
      " 15  Credit Score                  400 non-null    float64\n",
      " 16  Credit Default                400 non-null    int64  \n",
      " 17  Id                            400 non-null    int64  \n",
      "dtypes: float64(12), int64(2), object(4)\n",
      "memory usage: 59.4+ KB\n"
     ]
    }
   ],
   "source": [
    "data.loc[data['Credit Score'] > 850].info()"
   ]
  },
  {
   "cell_type": "code",
   "execution_count": 14,
   "metadata": {},
   "outputs": [
    {
     "data": {
      "image/png": "[encoded data removed]",
      "text/plain": [
       "<Figure size 257.875x180 with 2 Axes>"
      ]
     },
     "metadata": {},
     "output_type": "display_data"
    }
   ],
   "source": [
    "sns.set_style(\"ticks\")\n",
    "sns.pairplot(data.loc[data['Credit Score'] > 850, ['Credit Score', 'Credit Default']],\n",
    "             hue = \"Credit Default\",\n",
    "             diag_kind = \"kde\",\n",
    "             kind = \"scatter\",\n",
    "             palette = \"husl\")\n",
    "plt.show()"
   ]
  },
  {
   "cell_type": "code",
   "execution_count": 15,
   "metadata": {},
   "outputs": [
    {
     "name": "stdout",
     "output_type": "stream",
     "text": [
      "<class 'pandas.core.frame.DataFrame'>\n",
      "Int64Index: 870 entries, 0 to 7497\n",
      "Data columns (total 18 columns):\n",
      " #   Column                        Non-Null Count  Dtype  \n",
      "---  ------                        --------------  -----  \n",
      " 0   Home Ownership                870 non-null    object \n",
      " 1   Annual Income                 870 non-null    float64\n",
      " 2   Years in current job          829 non-null    object \n",
      " 3   Tax Liens                     870 non-null    float64\n",
      " 4   Number of Open Accounts       870 non-null    float64\n",
      " 5   Years of Credit History       870 non-null    float64\n",
      " 6   Maximum Open Credit           870 non-null    float64\n",
      " 7   Number of Credit Problems     870 non-null    float64\n",
      " 8   Months since last delinquent  870 non-null    float64\n",
      " 9   Bankruptcies                  870 non-null    float64\n",
      " 10  Purpose                       870 non-null    object \n",
      " 11  Term                          870 non-null    object \n",
      " 12  Current Loan Amount           870 non-null    float64\n",
      " 13  Current Credit Balance        870 non-null    float64\n",
      " 14  Monthly Debt                  870 non-null    float64\n",
      " 15  Credit Score                  870 non-null    float64\n",
      " 16  Credit Default                870 non-null    int64  \n",
      " 17  Id                            870 non-null    int64  \n",
      "dtypes: float64(12), int64(2), object(4)\n",
      "memory usage: 129.1+ KB\n"
     ]
    }
   ],
   "source": [
    "data.loc[data['Current Loan Amount'] == 99999999].info()"
   ]
  },
  {
   "cell_type": "code",
   "execution_count": 16,
   "metadata": {},
   "outputs": [
    {
     "data": {
      "image/png": "[encoded data removed]",
      "text/plain": [
       "<Figure size 257.875x180 with 2 Axes>"
      ]
     },
     "metadata": {},
     "output_type": "display_data"
    }
   ],
   "source": [
    "sns.set_style(\"ticks\")\n",
    "sns.pairplot(data.loc[data['Current Loan Amount'] == 99999999, ['Credit Score', 'Credit Default']],\n",
    "             hue = \"Credit Default\",\n",
    "             diag_kind = \"kde\",\n",
    "             kind = \"scatter\",\n",
    "             palette = \"husl\")\n",
    "plt.show()"
   ]
  },
  {
   "cell_type": "code",
   "execution_count": 17,
   "metadata": {},
   "outputs": [
    {
     "data": {
      "text/plain": [
       "1151.0874978966851"
      ]
     },
     "execution_count": 17,
     "metadata": {},
     "output_type": "execute_result"
    }
   ],
   "source": [
    "data['Credit Score'].mean()"
   ]
  },
  {
   "cell_type": "code",
   "execution_count": 18,
   "metadata": {},
   "outputs": [],
   "source": [
    "data.loc[data['Credit Score'].isnull(), 'Credit Score'] = 850"
   ]
  },
  {
   "cell_type": "code",
   "execution_count": 19,
   "metadata": {},
   "outputs": [],
   "source": [
    "data.loc[data['Annual Income'].isnull(), 'Annual Income'] = data['Annual Income'].mean()"
   ]
  },
  {
   "cell_type": "code",
   "execution_count": 20,
   "metadata": {},
   "outputs": [
    {
     "name": "stdout",
     "output_type": "stream",
     "text": [
      "<class 'pandas.core.frame.DataFrame'>\n",
      "RangeIndex: 7500 entries, 0 to 7499\n",
      "Data columns (total 18 columns):\n",
      " #   Column                        Non-Null Count  Dtype  \n",
      "---  ------                        --------------  -----  \n",
      " 0   Home Ownership                7500 non-null   object \n",
      " 1   Annual Income                 7500 non-null   float64\n",
      " 2   Years in current job          7129 non-null   object \n",
      " 3   Tax Liens                     7500 non-null   float64\n",
      " 4   Number of Open Accounts       7500 non-null   float64\n",
      " 5   Years of Credit History       7500 non-null   float64\n",
      " 6   Maximum Open Credit           7500 non-null   float64\n",
      " 7   Number of Credit Problems     7500 non-null   float64\n",
      " 8   Months since last delinquent  7500 non-null   float64\n",
      " 9   Bankruptcies                  7500 non-null   float64\n",
      " 10  Purpose                       7500 non-null   object \n",
      " 11  Term                          7500 non-null   object \n",
      " 12  Current Loan Amount           7500 non-null   float64\n",
      " 13  Current Credit Balance        7500 non-null   float64\n",
      " 14  Monthly Debt                  7500 non-null   float64\n",
      " 15  Credit Score                  7500 non-null   float64\n",
      " 16  Credit Default                7500 non-null   int64  \n",
      " 17  Id                            7500 non-null   int64  \n",
      "dtypes: float64(12), int64(2), object(4)\n",
      "memory usage: 1.0+ MB\n"
     ]
    }
   ],
   "source": [
    "data.info()"
   ]
  },
  {
   "cell_type": "code",
   "execution_count": 21,
   "metadata": {},
   "outputs": [],
   "source": [
    "data.to_csv(datadir + \"pds_project_cor.csv\", sep=\";\", index=False)"
   ]
  },
  {
   "cell_type": "code",
   "execution_count": 22,
   "metadata": {},
   "outputs": [
    {
     "data": {
      "text/plain": [
       "(7500, 18)"
      ]
     },
     "execution_count": 22,
     "metadata": {},
     "output_type": "execute_result"
    }
   ],
   "source": [
    "data.shape"
   ]
  },
  {
   "cell_type": "markdown",
   "metadata": {},
   "source": [
    "## Реализуем Pipeline"
   ]
  },
  {
   "cell_type": "markdown",
   "metadata": {},
   "source": [
    "### Сочетания характеристик и математические преобразования"
   ]
  },
  {
   "cell_type": "code",
   "execution_count": 23,
   "metadata": {},
   "outputs": [],
   "source": [
    "X_train, X_valid, y_train, y_valid = train_test_split(data.drop([\"Credit Default\", \"Id\"], axis=1), \n",
    "                                                      data[\"Credit Default\"], \n",
    "                                                      test_size=0.2, random_state=42)\n",
    "\n",
    "#save train\n",
    "X_train.to_csv(datadir + \"X_train.csv\", index=None)\n",
    "y_train.to_csv(datadir + \"y_train.csv\", index=None)\n",
    "\n",
    "#save valid\n",
    "X_valid.to_csv(datadir + \"X_valid.csv\", index=None)\n",
    "y_valid.to_csv(datadir + \"y_valid.csv\", index=None)"
   ]
  },
  {
   "cell_type": "code",
   "execution_count": 24,
   "metadata": {},
   "outputs": [
    {
     "data": {
      "text/plain": [
       "Index(['Home Ownership', 'Years in current job', 'Purpose', 'Term'], dtype='object')"
      ]
     },
     "execution_count": 24,
     "metadata": {},
     "output_type": "execute_result"
    }
   ],
   "source": [
    "cat_list"
   ]
  },
  {
   "cell_type": "code",
   "execution_count": 25,
   "metadata": {},
   "outputs": [],
   "source": [
    "feat_eng_columns = [\"Maximum Open Credit\", \"Annual Income\", \"Current Loan Amount\", \n",
    "                    \"Current Credit Balance\", \"Monthly Debt\", \"Credit Score\"]"
   ]
  },
  {
   "cell_type": "code",
   "execution_count": 26,
   "metadata": {},
   "outputs": [
    {
     "data": {
      "text/plain": [
       "['Months since last delinquent',\n",
       " 'Number of Open Accounts',\n",
       " 'Bankruptcies',\n",
       " 'Number of Credit Problems',\n",
       " 'Tax Liens',\n",
       " 'Years of Credit History']"
      ]
     },
     "execution_count": 26,
     "metadata": {},
     "output_type": "execute_result"
    }
   ],
   "source": [
    "other_columns = list(set(data.columns) - set(cat_list) - set(feat_eng_columns) - set(['Id', 'Credit Default']))\n",
    "other_columns"
   ]
  },
  {
   "cell_type": "code",
   "execution_count": 27,
   "metadata": {},
   "outputs": [],
   "source": [
    "class ColumnSelector(BaseEstimator, TransformerMixin):\n",
    "    \"\"\"\n",
    "    Transformer to select a single column from the data frame to perform additional transformations on\n",
    "    \"\"\"\n",
    "    def __init__(self, key):\n",
    "        self.key = key\n",
    "\n",
    "    def fit(self, X, y=None):\n",
    "        return self\n",
    "\n",
    "    def transform(self, X):\n",
    "        X[self.key] = X[self.key].fillna(0)\n",
    "        return X[self.key]\n",
    "\n",
    "\n",
    "class NumberSelector(BaseEstimator, TransformerMixin):\n",
    "    \"\"\"\n",
    "    Transformer to select a single column from the data frame to perform additional transformations on\n",
    "    Use on numeric columns in the data\n",
    "    \"\"\"\n",
    "    def __init__(self, key):\n",
    "        self.key = key\n",
    "\n",
    "    def fit(self, X, y=None):\n",
    "        return self\n",
    "\n",
    "    def transform(self, X):\n",
    "        X[self.key] = X[self.key].fillna(0)\n",
    "        return X[[self.key]]\n",
    "    \n",
    "class CatEncoder(BaseEstimator, TransformerMixin):\n",
    "    def __init__(self, key):\n",
    "        self.key = key\n",
    "\n",
    "    def fit(self, X, y=None):\n",
    "        return self\n",
    "\n",
    "    def transform(self, X):\n",
    "        data = X.copy()\n",
    "        if self.key == \"Years in current job\":        \n",
    "            map_Jb = {\n",
    "                '< 1 year': 0.5,\n",
    "                '1 year': 1,\n",
    "                '2 years': 2,\n",
    "                '3 years': 3,\n",
    "                '4 years': 4,\n",
    "                '5 years': 5,\n",
    "                '6 years': 6,\n",
    "                '7 years': 7,\n",
    "                '8 years': 8,\n",
    "                '9 years': 9,\n",
    "                '10+ years': 10\n",
    "            }\n",
    "            data = data.map(map_Jb)\n",
    "        elif self.key == \"Home Ownership\":\n",
    "            map_HO = {\n",
    "                'Have Mortgage': 2,\n",
    "                'Home Mortgage': 2,\n",
    "                'Own Home': 3,\n",
    "                'Rent': 1\n",
    "            }\n",
    "            data = data.map(map_HO)\n",
    "        elif self.key == \"Term\":\n",
    "            map_T = {\n",
    "                'Short Term': 0,\n",
    "                'Long Term': 1\n",
    "            }\n",
    "            data = data.map(map_T)\n",
    "            data = data.astype(np.int64)\n",
    "        elif self.key == \"Purpose\":\n",
    "            map_P = {\n",
    "                'business loan': 1,\n",
    "                'buy a car': 2,\n",
    "                'buy house': 3,\n",
    "                'debt consolidation': 4,\n",
    "                'educational expenses': 5,\n",
    "                'home improvements': 6,\n",
    "                'major purchase': 7,\n",
    "                'medical bills': 8,\n",
    "                'moving': 9,\n",
    "                'other': 10,\n",
    "                'renewable energy': 11,\n",
    "                'small business': 12,\n",
    "                'take a trip': 13,\n",
    "                'vacation': 14,\n",
    "                'wedding': 15\n",
    "            }\n",
    "            data = data.map(map_P)  \n",
    "        data.replace([np.inf, -np.inf], np.nan, inplace=True)\n",
    "        data[data.isnull()] = 0\n",
    "        return pd.DataFrame(data)\n",
    "    \n",
    "class FeatureCreator(BaseEstimator, TransformerMixin):\n",
    "    def __init__(self, key):\n",
    "        self.key = key\n",
    "        self.columns = []\n",
    "    \n",
    "    def fit(self, X, y=None):\n",
    "#         print(f\"fit: key: {self.key} columns: {X.columns}\")\n",
    "        self.columns.clear()\n",
    "        return self\n",
    "    \n",
    "    def transform(self, X):\n",
    "#         print(f\"transform: key: {self.key} columns: {X.columns}\")\n",
    "        self.columns.clear()\n",
    "        data = X.copy()\n",
    "        data[self.key] = data[self.key].fillna(0)\n",
    "        data[self.key + '_log'] = np.log(data[self.key] + 1.1)\n",
    "        self.columns.append(self.key + '_log')\n",
    "\n",
    "        for i2, col2 in enumerate(feat_eng_columns):\n",
    "#             print(col2)\n",
    "            data[col2] = data[col2].fillna(0)\n",
    "#             X['%s_%s_1' % (self.key, col2)] = X[self.key] - X[col2]\n",
    "#             X['%s_%s_2' % (self.key, col2)] = X[self.key] + X[col2]\n",
    "#             X['%s_%s_3' % (self.key, col2)] = X[self.key] / (X[col2] + 0.1)\n",
    "            data['%s_%s_4' % (self.key, col2)] = data[self.key] * data[col2]\n",
    "            self.columns.append('%s_%s_4' % (self.key, col2))\n",
    "\n",
    "#             X['%s_%s_11' % (self.key, col2)] = X[self.key] - np.log(X[col2] + 1)\n",
    "#             X['%s_%s_22' % (self.key, col2)] = X[self.key] + np.log(X[col2] + 1)\n",
    "#             X['%s_%s_33' % (self.key, col2)] = X[self.key] / (np.log(X[col2] + 1) + 0.1)\n",
    "            data['%s_%s_44' % (self.key, col2)] = data[self.key] * np.log(data[col2] + 1)\n",
    "            self.columns.append('%s_%s_44' % (self.key, col2))\n",
    "            \n",
    "        data.replace([np.inf, -np.inf], np.nan, inplace=True)\n",
    "        for col in data.columns.to_list():\n",
    "            data.loc[data[col].isnull(), col] = 0\n",
    "        return data[self.columns]"
   ]
  },
  {
   "cell_type": "code",
   "execution_count": 28,
   "metadata": {},
   "outputs": [
    {
     "data": {
      "text/plain": [
       "['Maximum Open Credit',\n",
       " 'Annual Income',\n",
       " 'Current Loan Amount',\n",
       " 'Current Credit Balance',\n",
       " 'Monthly Debt',\n",
       " 'Credit Score']"
      ]
     },
     "execution_count": 28,
     "metadata": {},
     "output_type": "execute_result"
    }
   ],
   "source": [
    "feat_eng_columns"
   ]
  },
  {
   "cell_type": "code",
   "execution_count": 29,
   "metadata": {},
   "outputs": [],
   "source": [
    "final_transformers = list()\n",
    "\n",
    "for feat_eng_col in feat_eng_columns:\n",
    "    feat_eng_transformer = Pipeline([('feat_eng', FeatureCreator(key=feat_eng_col))])\n",
    "    final_transformers.append((feat_eng_col, feat_eng_transformer))\n",
    "\n",
    "for cat_col in cat_list:\n",
    "    cat_transformer = Pipeline([('selector', ColumnSelector(key=cat_col)),\n",
    "                                ('cat_enc', CatEncoder(key=cat_col))\n",
    "                               ])\n",
    "    final_transformers.append((cat_col, cat_transformer))\n",
    "    \n",
    "for other_col in other_columns:\n",
    "    other_transformer = Pipeline([\n",
    "                ('selector', NumberSelector(key=other_col))\n",
    "            ])\n",
    "    final_transformers.append((other_col, other_transformer))"
   ]
  },
  {
   "cell_type": "code",
   "execution_count": 30,
   "metadata": {},
   "outputs": [
    {
     "data": {
      "text/plain": [
       "['Maximum Open Credit',\n",
       " 'Annual Income',\n",
       " 'Current Loan Amount',\n",
       " 'Current Credit Balance',\n",
       " 'Monthly Debt',\n",
       " 'Credit Score',\n",
       " 'Home Ownership',\n",
       " 'Years in current job',\n",
       " 'Purpose',\n",
       " 'Term',\n",
       " 'Months since last delinquent',\n",
       " 'Number of Open Accounts',\n",
       " 'Bankruptcies',\n",
       " 'Number of Credit Problems',\n",
       " 'Tax Liens',\n",
       " 'Years of Credit History']"
      ]
     },
     "execution_count": 30,
     "metadata": {},
     "output_type": "execute_result"
    }
   ],
   "source": [
    "total_columns_list = []\n",
    "total_columns_list.extend(feat_eng_columns)\n",
    "total_columns_list.extend(cat_list)\n",
    "total_columns_list.extend(other_columns)\n",
    "total_columns_list"
   ]
  },
  {
   "cell_type": "code",
   "execution_count": 31,
   "metadata": {},
   "outputs": [
    {
     "data": {
      "text/html": [
       "<div>\n",
       "<style scoped>\n",
       "    .dataframe tbody tr th:only-of-type {\n",
       "        vertical-align: middle;\n",
       "    }\n",
       "\n",
       "    .dataframe tbody tr th {\n",
       "        vertical-align: top;\n",
       "    }\n",
       "\n",
       "    .dataframe thead th {\n",
       "        text-align: right;\n",
       "    }\n",
       "</style>\n",
       "<table border=\"1\" class=\"dataframe\">\n",
       "  <thead>\n",
       "    <tr style=\"text-align: right;\">\n",
       "      <th></th>\n",
       "      <th>Maximum Open Credit</th>\n",
       "      <th>Annual Income</th>\n",
       "      <th>Current Loan Amount</th>\n",
       "      <th>Current Credit Balance</th>\n",
       "      <th>Monthly Debt</th>\n",
       "      <th>Credit Score</th>\n",
       "      <th>Home Ownership</th>\n",
       "      <th>Years in current job</th>\n",
       "      <th>Purpose</th>\n",
       "      <th>Term</th>\n",
       "      <th>Months since last delinquent</th>\n",
       "      <th>Number of Open Accounts</th>\n",
       "      <th>Bankruptcies</th>\n",
       "      <th>Number of Credit Problems</th>\n",
       "      <th>Tax Liens</th>\n",
       "      <th>Years of Credit History</th>\n",
       "    </tr>\n",
       "  </thead>\n",
       "  <tbody>\n",
       "    <tr>\n",
       "      <th>4664</th>\n",
       "      <td>481580.0</td>\n",
       "      <td>2820569.0</td>\n",
       "      <td>405416.0</td>\n",
       "      <td>173432.0</td>\n",
       "      <td>27030.0</td>\n",
       "      <td>749.0</td>\n",
       "      <td>Rent</td>\n",
       "      <td>&lt; 1 year</td>\n",
       "      <td>debt consolidation</td>\n",
       "      <td>Short Term</td>\n",
       "      <td>77.0</td>\n",
       "      <td>10.0</td>\n",
       "      <td>0.0</td>\n",
       "      <td>0.0</td>\n",
       "      <td>0.0</td>\n",
       "      <td>20.3</td>\n",
       "    </tr>\n",
       "    <tr>\n",
       "      <th>4411</th>\n",
       "      <td>49126.0</td>\n",
       "      <td>441769.0</td>\n",
       "      <td>99999999.0</td>\n",
       "      <td>1824.0</td>\n",
       "      <td>9535.0</td>\n",
       "      <td>733.0</td>\n",
       "      <td>Rent</td>\n",
       "      <td>&lt; 1 year</td>\n",
       "      <td>debt consolidation</td>\n",
       "      <td>Short Term</td>\n",
       "      <td>14.0</td>\n",
       "      <td>5.0</td>\n",
       "      <td>0.0</td>\n",
       "      <td>0.0</td>\n",
       "      <td>0.0</td>\n",
       "      <td>12.6</td>\n",
       "    </tr>\n",
       "  </tbody>\n",
       "</table>\n",
       "</div>"
      ],
      "text/plain": [
       "      Maximum Open Credit  Annual Income  Current Loan Amount  \\\n",
       "4664             481580.0      2820569.0             405416.0   \n",
       "4411              49126.0       441769.0           99999999.0   \n",
       "\n",
       "      Current Credit Balance  Monthly Debt  Credit Score Home Ownership  \\\n",
       "4664                173432.0       27030.0         749.0           Rent   \n",
       "4411                  1824.0        9535.0         733.0           Rent   \n",
       "\n",
       "     Years in current job             Purpose        Term  \\\n",
       "4664             < 1 year  debt consolidation  Short Term   \n",
       "4411             < 1 year  debt consolidation  Short Term   \n",
       "\n",
       "      Months since last delinquent  Number of Open Accounts  Bankruptcies  \\\n",
       "4664                          77.0                     10.0           0.0   \n",
       "4411                          14.0                      5.0           0.0   \n",
       "\n",
       "      Number of Credit Problems  Tax Liens  Years of Credit History  \n",
       "4664                        0.0        0.0                     20.3  \n",
       "4411                        0.0        0.0                     12.6  "
      ]
     },
     "execution_count": 31,
     "metadata": {},
     "output_type": "execute_result"
    }
   ],
   "source": [
    "X_train[[*total_columns_list]].head(2)"
   ]
  },
  {
   "cell_type": "code",
   "execution_count": 32,
   "metadata": {},
   "outputs": [
    {
     "data": {
      "text/plain": [
       "{'Maximum Open Credit': {4664: 481580.0, 4411: 49126.0},\n",
       " 'Annual Income': {4664: 2820569.0, 4411: 441769.0},\n",
       " 'Current Loan Amount': {4664: 405416.0, 4411: 99999999.0},\n",
       " 'Current Credit Balance': {4664: 173432.0, 4411: 1824.0},\n",
       " 'Monthly Debt': {4664: 27030.0, 4411: 9535.0},\n",
       " 'Credit Score': {4664: 749.0, 4411: 733.0},\n",
       " 'Home Ownership': {4664: 'Rent', 4411: 'Rent'},\n",
       " 'Years in current job': {4664: '< 1 year', 4411: '< 1 year'},\n",
       " 'Purpose': {4664: 'debt consolidation', 4411: 'debt consolidation'},\n",
       " 'Term': {4664: 'Short Term', 4411: 'Short Term'},\n",
       " 'Months since last delinquent': {4664: 77.0, 4411: 14.0},\n",
       " 'Number of Open Accounts': {4664: 10.0, 4411: 5.0},\n",
       " 'Bankruptcies': {4664: 0.0, 4411: 0.0},\n",
       " 'Number of Credit Problems': {4664: 0.0, 4411: 0.0},\n",
       " 'Tax Liens': {4664: 0.0, 4411: 0.0},\n",
       " 'Years of Credit History': {4664: 20.3, 4411: 12.6}}"
      ]
     },
     "execution_count": 32,
     "metadata": {},
     "output_type": "execute_result"
    }
   ],
   "source": [
    "X_train[[*total_columns_list]].head(2).to_dict('dict')"
   ]
  },
  {
   "cell_type": "code",
   "execution_count": 33,
   "metadata": {},
   "outputs": [
    {
     "data": {
      "text/plain": [
       "{'Maximum Open Credit': [481580.0, 49126.0, 562320.0],\n",
       " 'Annual Income': [2820569.0, 441769.0, 1065178.0],\n",
       " 'Current Loan Amount': [405416.0, 99999999.0, 224246.0],\n",
       " 'Current Credit Balance': [173432.0, 1824.0, 197657.0],\n",
       " 'Monthly Debt': [27030.0, 9535.0, 14557.0],\n",
       " 'Credit Score': [749.0, 733.0, 738.0],\n",
       " 'Home Ownership': ['Rent', 'Rent', 'Rent'],\n",
       " 'Years in current job': ['< 1 year', '< 1 year', '8 years'],\n",
       " 'Purpose': ['debt consolidation', 'debt consolidation', 'debt consolidation'],\n",
       " 'Term': ['Short Term', 'Short Term', 'Short Term'],\n",
       " 'Months since last delinquent': [77.0, 14.0, 41.98792270531401],\n",
       " 'Number of Open Accounts': [10.0, 5.0, 12.0],\n",
       " 'Bankruptcies': [0.0, 0.0, 1.0],\n",
       " 'Number of Credit Problems': [0.0, 0.0, 1.0],\n",
       " 'Tax Liens': [0.0, 0.0, 0.0],\n",
       " 'Years of Credit History': [20.3, 12.6, 24.4]}"
      ]
     },
     "execution_count": 33,
     "metadata": {},
     "output_type": "execute_result"
    }
   ],
   "source": [
    "dict_for_api = X_train[[*total_columns_list]].head(3).to_dict('list')\n",
    "dict_for_api"
   ]
  },
  {
   "cell_type": "code",
   "execution_count": 34,
   "metadata": {},
   "outputs": [
    {
     "name": "stdout",
     "output_type": "stream",
     "text": [
      "<class 'dict'>\n",
      "<class 'dict'>\n",
      "<class 'dict'>\n"
     ]
    }
   ],
   "source": [
    "dict_for_api = X_train[[*total_columns_list]].head(3).T.to_dict('dict').values()\n",
    "for i in dict_for_api:\n",
    "    print(type(i))"
   ]
  },
  {
   "cell_type": "code",
   "execution_count": 35,
   "metadata": {},
   "outputs": [],
   "source": [
    "feats = FeatureUnion(final_transformers)\n",
    "\n",
    "feature_processing = Pipeline([('feats', feats)])"
   ]
  },
  {
   "cell_type": "code",
   "execution_count": 36,
   "metadata": {},
   "outputs": [
    {
     "data": {
      "text/plain": [
       "[('feats',\n",
       "  FeatureUnion(transformer_list=[('Maximum Open Credit',\n",
       "                                  Pipeline(steps=[('feat_eng',\n",
       "                                                   FeatureCreator(key='Maximum '\n",
       "                                                                      'Open '\n",
       "                                                                      'Credit'))])),\n",
       "                                 ('Annual Income',\n",
       "                                  Pipeline(steps=[('feat_eng',\n",
       "                                                   FeatureCreator(key='Annual '\n",
       "                                                                      'Income'))])),\n",
       "                                 ('Current Loan Amount',\n",
       "                                  Pipeline(steps=[('feat_eng',\n",
       "                                                   FeatureCreator(key='Current '\n",
       "                                                                      'Loan '\n",
       "                                                                      'Amount'))])),\n",
       "                                 ('Current Credit Balance',\n",
       "                                  Pipeline(steps=[...\n",
       "                                  Pipeline(steps=[('selector',\n",
       "                                                   NumberSelector(key='Bankruptcies'))])),\n",
       "                                 ('Number of Credit Problems',\n",
       "                                  Pipeline(steps=[('selector',\n",
       "                                                   NumberSelector(key='Number of '\n",
       "                                                                      'Credit '\n",
       "                                                                      'Problems'))])),\n",
       "                                 ('Tax Liens',\n",
       "                                  Pipeline(steps=[('selector',\n",
       "                                                   NumberSelector(key='Tax '\n",
       "                                                                      'Liens'))])),\n",
       "                                 ('Years of Credit History',\n",
       "                                  Pipeline(steps=[('selector',\n",
       "                                                   NumberSelector(key='Years of '\n",
       "                                                                      'Credit '\n",
       "                                                                      'History'))]))]))]"
      ]
     },
     "execution_count": 36,
     "metadata": {},
     "output_type": "execute_result"
    }
   ],
   "source": [
    "feature_processing.steps"
   ]
  },
  {
   "cell_type": "code",
   "execution_count": 37,
   "metadata": {},
   "outputs": [],
   "source": [
    "# data_pr = feature_processing.fit_transform(data.drop([\"Credit Default\", \"Id\"], axis=1))\n",
    "# np.shape(data_pr)"
   ]
  },
  {
   "cell_type": "code",
   "execution_count": 38,
   "metadata": {},
   "outputs": [
    {
     "data": {
      "text/plain": [
       "Pipeline(steps=[('features',\n",
       "                 FeatureUnion(transformer_list=[('Maximum Open Credit',\n",
       "                                                 Pipeline(steps=[('feat_eng',\n",
       "                                                                  FeatureCreator(key='Maximum '\n",
       "                                                                                     'Open '\n",
       "                                                                                     'Credit'))])),\n",
       "                                                ('Annual Income',\n",
       "                                                 Pipeline(steps=[('feat_eng',\n",
       "                                                                  FeatureCreator(key='Annual '\n",
       "                                                                                     'Income'))])),\n",
       "                                                ('Current Loan Amount',\n",
       "                                                 Pipeline(steps=[('feat_eng',\n",
       "                                                                  FeatureCreator(key='Current '\n",
       "                                                                                     'Loan '\n",
       "                                                                                     'Amount'))])),\n",
       "                                                ('Current Cre...\n",
       "                                                                  NumberSelector(key='Bankruptcies'))])),\n",
       "                                                ('Number of Credit Problems',\n",
       "                                                 Pipeline(steps=[('selector',\n",
       "                                                                  NumberSelector(key='Number '\n",
       "                                                                                     'of '\n",
       "                                                                                     'Credit '\n",
       "                                                                                     'Problems'))])),\n",
       "                                                ('Tax Liens',\n",
       "                                                 Pipeline(steps=[('selector',\n",
       "                                                                  NumberSelector(key='Tax '\n",
       "                                                                                     'Liens'))])),\n",
       "                                                ('Years of Credit History',\n",
       "                                                 Pipeline(steps=[('selector',\n",
       "                                                                  NumberSelector(key='Years '\n",
       "                                                                                     'of '\n",
       "                                                                                     'Credit '\n",
       "                                                                                     'History'))]))])),\n",
       "                ('gbc', GradientBoostingClassifier(random_state=42))])"
      ]
     },
     "execution_count": 38,
     "metadata": {},
     "output_type": "execute_result"
    }
   ],
   "source": [
    "from sklearn.ensemble import GradientBoostingClassifier\n",
    "\n",
    "pipeline = Pipeline([('features',feats),\n",
    "                     ('gbc', GradientBoostingClassifier(random_state=42))\n",
    "                    ])\n",
    "\n",
    "pipeline.fit(X_train, y_train)"
   ]
  },
  {
   "cell_type": "code",
   "execution_count": 39,
   "metadata": {},
   "outputs": [
    {
     "name": "stderr",
     "output_type": "stream",
     "text": [
      "/home/vitaly/anaconda3/lib/python3.8/site-packages/xgboost/sklearn.py:1146: UserWarning: The use of label encoder in XGBClassifier is deprecated and will be removed in a future release. To remove this warning, do the following: 1) Pass option use_label_encoder=False when constructing XGBClassifier object; and 2) Encode your labels (y) as integers starting with 0, i.e. 0, 1, 2, ..., [num_class - 1].\n",
      "  warnings.warn(label_encoder_deprecation_msg, UserWarning)\n"
     ]
    },
    {
     "data": {
      "text/plain": [
       "Pipeline(steps=[('features',\n",
       "                 FeatureUnion(transformer_list=[('Maximum Open Credit',\n",
       "                                                 Pipeline(steps=[('feat_eng',\n",
       "                                                                  FeatureCreator(key='Maximum '\n",
       "                                                                                     'Open '\n",
       "                                                                                     'Credit'))])),\n",
       "                                                ('Annual Income',\n",
       "                                                 Pipeline(steps=[('feat_eng',\n",
       "                                                                  FeatureCreator(key='Annual '\n",
       "                                                                                     'Income'))])),\n",
       "                                                ('Current Loan Amount',\n",
       "                                                 Pipeline(steps=[('feat_eng',\n",
       "                                                                  FeatureCreator(key='Current '\n",
       "                                                                                     'Loan '\n",
       "                                                                                     'Amount'))])),\n",
       "                                                ('Current Cre...\n",
       "                               gpu_id=-1, importance_type='gain',\n",
       "                               interaction_constraints='', learning_rate=0.3,\n",
       "                               max_delta_step=0, max_depth=9,\n",
       "                               min_child_weight=1, missing=nan,\n",
       "                               monotone_constraints='()', n_estimators=600,\n",
       "                               n_jobs=2, nthread=2, num_parallel_tree=1,\n",
       "                               random_state=42, reg_alpha=0, reg_lambda=1,\n",
       "                               scale_pos_weight=1, seed=1000, subsample=0.5,\n",
       "                               tree_method='exact', validate_parameters=1,\n",
       "                               verbosity=None))])"
      ]
     },
     "execution_count": 39,
     "metadata": {},
     "output_type": "execute_result"
    }
   ],
   "source": [
    "pipeline_xgbc = Pipeline([\n",
    "    ('features',feats),\n",
    "    ('xgbc', XGBClassifier(objective=\"binary:logistic\",\n",
    "                           nthread=2, \n",
    "                           max_depth=9, # 5\n",
    "                           n_estimators=600, # 100\n",
    "                           subsample=0.5, \n",
    "                           learning_rate=0.3, \n",
    "                           seed=1000, \n",
    "                           random_state=42,\n",
    "                           eval_metric='auc'))\n",
    "])\n",
    "\n",
    "pipeline_xgbc.fit(X_train, y_train)"
   ]
  },
  {
   "cell_type": "code",
   "execution_count": 40,
   "metadata": {},
   "outputs": [],
   "source": [
    "cl_met = ['Best Threshold', 'F-Score', 'Precision', \n",
    "          'Recall', 'roc_auc_s', 'log_loss_s', 'TPR', 'FPR', 'TNR', \"TN\", \"FN\", \"TP\", \"FP\"]\n",
    "\n",
    "res_tab = pd.DataFrame(columns=cl_met)"
   ]
  },
  {
   "cell_type": "code",
   "execution_count": 41,
   "metadata": {},
   "outputs": [
    {
     "name": "stdout",
     "output_type": "stream",
     "text": [
      "Best Threshold=0.243405, F-Score=0.563, Precision=0.451, Recall=0.748\n",
      "roc auc score: 0.7668863579426105\n",
      "log loss score: 0.4754435136592738\n"
     ]
    }
   ],
   "source": [
    "preds = pipeline.predict_proba(X_valid)[:, 1]\n",
    "\n",
    "precision, recall, thresholds = precision_recall_curve(y_valid, preds)\n",
    "fscore = (2 * precision * recall) / (precision + recall)\n",
    "# locate the index of the largest f score\n",
    "ix = np.argmax(fscore)\n",
    "print('Best Threshold=%f, F-Score=%.3f, Precision=%.3f, Recall=%.3f' % (thresholds[ix], \n",
    "                                                                        fscore[ix],\n",
    "                                                                        precision[ix],\n",
    "                                                                        recall[ix]))\n",
    "r_auc = roc_auc_score(y_true=y_valid, y_score=preds)\n",
    "l_los = log_loss(y_true=y_valid, y_pred=preds)\n",
    "\n",
    "print(\"roc auc score: {}\".format(r_auc))\n",
    "print(\"log loss score: {}\".format(l_los))\n",
    "\n",
    "cnf_matrix = confusion_matrix(y_valid, preds>thresholds[ix])\n",
    "\n",
    "TN = cnf_matrix[0][0]\n",
    "FN = cnf_matrix[1][0]\n",
    "TP = cnf_matrix[1][1]\n",
    "FP = cnf_matrix[0][1]\n",
    "\n",
    "TPR = TP/(TP+FN)\n",
    "FPR = FP/(FP+TN)\n",
    "TNR = TN/(FP+TN)\n",
    "\n",
    "res_tab.loc['GradientBoostingClassifier', :] = [thresholds[ix], \n",
    "                                                fscore[ix], \n",
    "                                                precision[ix], \n",
    "                                                recall[ix], \n",
    "                                                r_auc, l_los, \n",
    "                                                TPR, FPR, TNR,\n",
    "                                                TN, FN, TP, FP]"
   ]
  },
  {
   "cell_type": "code",
   "execution_count": 42,
   "metadata": {},
   "outputs": [
    {
     "name": "stdout",
     "output_type": "stream",
     "text": [
      "Best Threshold=0.014353, F-Score=0.538, Precision=0.406, Recall=0.796\n",
      "roc auc score: 0.7394816913230511\n",
      "log loss score: nan\n"
     ]
    },
    {
     "name": "stderr",
     "output_type": "stream",
     "text": [
      "/home/vitaly/anaconda3/lib/python3.8/site-packages/sklearn/metrics/_classification.py:2279: RuntimeWarning: divide by zero encountered in log\n",
      "  loss = -(transformed_labels * np.log(y_pred)).sum(axis=1)\n",
      "/home/vitaly/anaconda3/lib/python3.8/site-packages/sklearn/metrics/_classification.py:2279: RuntimeWarning: invalid value encountered in multiply\n",
      "  loss = -(transformed_labels * np.log(y_pred)).sum(axis=1)\n"
     ]
    }
   ],
   "source": [
    "preds = pipeline_xgbc.predict_proba(X_valid)[:, 1]\n",
    "\n",
    "precision, recall, thresholds = precision_recall_curve(y_valid, preds)\n",
    "fscore = (2 * precision * recall) / (precision + recall)\n",
    "# locate the index of the largest f score\n",
    "ix = np.argmax(fscore)\n",
    "print('Best Threshold=%f, F-Score=%.3f, Precision=%.3f, Recall=%.3f' % (thresholds[ix], \n",
    "                                                                        fscore[ix],\n",
    "                                                                        precision[ix],\n",
    "                                                                        recall[ix]))\n",
    "r_auc = roc_auc_score(y_true=y_valid, y_score=preds)\n",
    "l_los = log_loss(y_true=y_valid, y_pred=preds)\n",
    "\n",
    "print(\"roc auc score: {}\".format(r_auc))\n",
    "print(\"log loss score: {}\".format(l_los))\n",
    "\n",
    "cnf_matrix = confusion_matrix(y_valid, preds>thresholds[ix])\n",
    "\n",
    "TN = cnf_matrix[0][0]\n",
    "FN = cnf_matrix[1][0]\n",
    "TP = cnf_matrix[1][1]\n",
    "FP = cnf_matrix[0][1]\n",
    "\n",
    "TPR = TP/(TP+FN)\n",
    "FPR = FP/(FP+TN)\n",
    "TNR = TN/(FP+TN)\n",
    "\n",
    "res_tab.loc['XGBClassifier', :] = [thresholds[ix], \n",
    "                                   fscore[ix], \n",
    "                                   precision[ix], \n",
    "                                   recall[ix], \n",
    "                                   r_auc, l_los, \n",
    "                                   TPR, FPR, TNR,\n",
    "                                   TN, FN, TP, FP]"
   ]
  },
  {
   "cell_type": "code",
   "execution_count": 43,
   "metadata": {},
   "outputs": [
    {
     "data": {
      "text/html": [
       "<div>\n",
       "<style scoped>\n",
       "    .dataframe tbody tr th:only-of-type {\n",
       "        vertical-align: middle;\n",
       "    }\n",
       "\n",
       "    .dataframe tbody tr th {\n",
       "        vertical-align: top;\n",
       "    }\n",
       "\n",
       "    .dataframe thead th {\n",
       "        text-align: right;\n",
       "    }\n",
       "</style>\n",
       "<table border=\"1\" class=\"dataframe\">\n",
       "  <thead>\n",
       "    <tr style=\"text-align: right;\">\n",
       "      <th></th>\n",
       "      <th>Best Threshold</th>\n",
       "      <th>F-Score</th>\n",
       "      <th>Precision</th>\n",
       "      <th>Recall</th>\n",
       "      <th>roc_auc_s</th>\n",
       "      <th>log_loss_s</th>\n",
       "      <th>TPR</th>\n",
       "      <th>FPR</th>\n",
       "      <th>TNR</th>\n",
       "      <th>TN</th>\n",
       "      <th>FN</th>\n",
       "      <th>TP</th>\n",
       "      <th>FP</th>\n",
       "    </tr>\n",
       "  </thead>\n",
       "  <tbody>\n",
       "    <tr>\n",
       "      <th>GradientBoostingClassifier</th>\n",
       "      <td>0.243405</td>\n",
       "      <td>0.56266</td>\n",
       "      <td>0.45082</td>\n",
       "      <td>0.748299</td>\n",
       "      <td>0.766886</td>\n",
       "      <td>0.475444</td>\n",
       "      <td>0.746032</td>\n",
       "      <td>0.379603</td>\n",
       "      <td>0.620397</td>\n",
       "      <td>657</td>\n",
       "      <td>112</td>\n",
       "      <td>329</td>\n",
       "      <td>402</td>\n",
       "    </tr>\n",
       "    <tr>\n",
       "      <th>XGBClassifier</th>\n",
       "      <td>0.014353</td>\n",
       "      <td>0.537519</td>\n",
       "      <td>0.40578</td>\n",
       "      <td>0.795918</td>\n",
       "      <td>0.739482</td>\n",
       "      <td>NaN</td>\n",
       "      <td>0.793651</td>\n",
       "      <td>0.485364</td>\n",
       "      <td>0.514636</td>\n",
       "      <td>545</td>\n",
       "      <td>91</td>\n",
       "      <td>350</td>\n",
       "      <td>514</td>\n",
       "    </tr>\n",
       "  </tbody>\n",
       "</table>\n",
       "</div>"
      ],
      "text/plain": [
       "                           Best Threshold   F-Score Precision    Recall  \\\n",
       "GradientBoostingClassifier       0.243405   0.56266   0.45082  0.748299   \n",
       "XGBClassifier                    0.014353  0.537519   0.40578  0.795918   \n",
       "\n",
       "                           roc_auc_s log_loss_s       TPR       FPR       TNR  \\\n",
       "GradientBoostingClassifier  0.766886   0.475444  0.746032  0.379603  0.620397   \n",
       "XGBClassifier               0.739482        NaN  0.793651  0.485364  0.514636   \n",
       "\n",
       "                             TN   FN   TP   FP  \n",
       "GradientBoostingClassifier  657  112  329  402  \n",
       "XGBClassifier               545   91  350  514  "
      ]
     },
     "execution_count": 43,
     "metadata": {},
     "output_type": "execute_result"
    }
   ],
   "source": [
    "res_tab.sort_values('roc_auc_s', ascending=False)"
   ]
  },
  {
   "cell_type": "code",
   "execution_count": 44,
   "metadata": {},
   "outputs": [],
   "source": [
    "with open(modelsdir + \"model_cr_gbc.dill\", \"wb\") as f:\n",
    "    dill.dump(pipeline, f)"
   ]
  },
  {
   "cell_type": "code",
   "execution_count": 45,
   "metadata": {},
   "outputs": [],
   "source": [
    "# with open(modelsdir + \"model_cr_xgbc.dill\", \"wb\") as f:\n",
    "#     dill.dump(pipeline_xgbc, f)"
   ]
  },
  {
   "cell_type": "code",
   "execution_count": 46,
   "metadata": {},
   "outputs": [
    {
     "name": "stdout",
     "output_type": "stream",
     "text": [
      "Pipeline(steps=[('features',\n",
      "                 FeatureUnion(transformer_list=[('Maximum Open Credit',\n",
      "                                                 Pipeline(steps=[('feat_eng',\n",
      "                                                                  FeatureCreator(key='Maximum '\n",
      "                                                                                     'Open '\n",
      "                                                                                     'Credit'))])),\n",
      "                                                ('Annual Income',\n",
      "                                                 Pipeline(steps=[('feat_eng',\n",
      "                                                                  FeatureCreator(key='Annual '\n",
      "                                                                                     'Income'))])),\n",
      "                                                ('Current Loan Amount',\n",
      "                                                 Pipeline(steps=[('feat_eng',\n",
      "                                                                  FeatureCreator(key='Current '\n",
      "                                                                                     'Loan '\n",
      "                                                                                     'Amount'))])),\n",
      "                                                ('Current Cre...\n",
      "                                                                  NumberSelector(key='Bankruptcies'))])),\n",
      "                                                ('Number of Credit Problems',\n",
      "                                                 Pipeline(steps=[('selector',\n",
      "                                                                  NumberSelector(key='Number '\n",
      "                                                                                     'of '\n",
      "                                                                                     'Credit '\n",
      "                                                                                     'Problems'))])),\n",
      "                                                ('Tax Liens',\n",
      "                                                 Pipeline(steps=[('selector',\n",
      "                                                                  NumberSelector(key='Tax '\n",
      "                                                                                     'Liens'))])),\n",
      "                                                ('Years of Credit History',\n",
      "                                                 Pipeline(steps=[('selector',\n",
      "                                                                  NumberSelector(key='Years '\n",
      "                                                                                     'of '\n",
      "                                                                                     'Credit '\n",
      "                                                                                     'History'))]))])),\n",
      "                ('gbc', GradientBoostingClassifier(random_state=42))])\n"
     ]
    }
   ],
   "source": [
    "with open(modelsdir + \"model_cr_gbc.dill\", 'rb') as f:\n",
    "    model_l = dill.load(f)\n",
    "print(model_l)"
   ]
  },
  {
   "cell_type": "code",
   "execution_count": 47,
   "metadata": {},
   "outputs": [
    {
     "name": "stderr",
     "output_type": "stream",
     "text": [
      "<ipython-input-27-cecc559c2a5c>:12: SettingWithCopyWarning: \n",
      "A value is trying to be set on a copy of a slice from a DataFrame.\n",
      "Try using .loc[row_indexer,col_indexer] = value instead\n",
      "\n",
      "See the caveats in the documentation: https://pandas.pydata.org/pandas-docs/stable/user_guide/indexing.html#returning-a-view-versus-a-copy\n",
      "  X[self.key] = X[self.key].fillna(0)\n",
      "<ipython-input-27-cecc559c2a5c>:28: SettingWithCopyWarning: \n",
      "A value is trying to be set on a copy of a slice from a DataFrame.\n",
      "Try using .loc[row_indexer,col_indexer] = value instead\n",
      "\n",
      "See the caveats in the documentation: https://pandas.pydata.org/pandas-docs/stable/user_guide/indexing.html#returning-a-view-versus-a-copy\n",
      "  X[self.key] = X[self.key].fillna(0)\n"
     ]
    },
    {
     "data": {
      "text/plain": [
       "array([0.95769872, 0.11293094, 0.30668614])"
      ]
     },
     "execution_count": 47,
     "metadata": {},
     "output_type": "execute_result"
    }
   ],
   "source": [
    "preds = model_l.predict_proba(X_valid[:3])[:, 1]\n",
    "preds"
   ]
  },
  {
   "cell_type": "code",
   "execution_count": null,
   "metadata": {},
   "outputs": [],
   "source": []
  }
 ],
 "metadata": {
  "kernelspec": {
   "display_name": "Python 3",
   "language": "python",
   "name": "python3"
  },
  "language_info": {
   "codemirror_mode": {
    "name": "ipython",
    "version": 3
   },
   "file_extension": ".py",
   "mimetype": "text/x-python",
   "name": "python",
   "nbconvert_exporter": "python",
   "pygments_lexer": "ipython3",
   "version": "3.8.5"
  }
 },
 "nbformat": 4,
 "nbformat_minor": 4
}