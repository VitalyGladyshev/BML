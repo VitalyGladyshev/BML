{
 "cells": [
  {
   "cell_type": "markdown",
   "metadata": {},
   "source": [
    "## Взаимодействие с моделью через API"
   ]
  },
  {
   "cell_type": "code",
   "execution_count": 29,
   "metadata": {},
   "outputs": [],
   "source": [
    "import numpy as np\n",
    "import pandas as pd\n",
    "from urllib import request # , parse\n",
    "import json\n",
    "\n",
    "from sklearn.metrics import precision_recall_curve, \\\n",
    "                            roc_auc_score, \\\n",
    "                            log_loss, \\\n",
    "                            confusion_matrix"
   ]
  },
  {
   "cell_type": "code",
   "execution_count": 17,
   "metadata": {},
   "outputs": [],
   "source": [
    "X_valid = pd.read_csv(\"./data/X_valid.csv\")\n",
    "y_valid = pd.read_csv(\"./data/y_valid.csv\")"
   ]
  },
  {
   "cell_type": "code",
   "execution_count": 18,
   "metadata": {},
   "outputs": [
    {
     "data": {
      "text/html": [
       "<div>\n",
       "<style scoped>\n",
       "    .dataframe tbody tr th:only-of-type {\n",
       "        vertical-align: middle;\n",
       "    }\n",
       "\n",
       "    .dataframe tbody tr th {\n",
       "        vertical-align: top;\n",
       "    }\n",
       "\n",
       "    .dataframe thead th {\n",
       "        text-align: right;\n",
       "    }\n",
       "</style>\n",
       "<table border=\"1\" class=\"dataframe\">\n",
       "  <thead>\n",
       "    <tr style=\"text-align: right;\">\n",
       "      <th></th>\n",
       "      <th>Home Ownership</th>\n",
       "      <th>Annual Income</th>\n",
       "      <th>Years in current job</th>\n",
       "      <th>Tax Liens</th>\n",
       "      <th>Number of Open Accounts</th>\n",
       "      <th>Years of Credit History</th>\n",
       "      <th>Maximum Open Credit</th>\n",
       "      <th>Number of Credit Problems</th>\n",
       "      <th>Months since last delinquent</th>\n",
       "      <th>Bankruptcies</th>\n",
       "      <th>Purpose</th>\n",
       "      <th>Term</th>\n",
       "      <th>Current Loan Amount</th>\n",
       "      <th>Current Credit Balance</th>\n",
       "      <th>Monthly Debt</th>\n",
       "      <th>Credit Score</th>\n",
       "    </tr>\n",
       "  </thead>\n",
       "  <tbody>\n",
       "    <tr>\n",
       "      <th>0</th>\n",
       "      <td>Home Mortgage</td>\n",
       "      <td>2396375.0</td>\n",
       "      <td>6 years</td>\n",
       "      <td>0.0</td>\n",
       "      <td>9.0</td>\n",
       "      <td>10.5</td>\n",
       "      <td>335280.0</td>\n",
       "      <td>1.0</td>\n",
       "      <td>8.0</td>\n",
       "      <td>1.0</td>\n",
       "      <td>debt consolidation</td>\n",
       "      <td>Short Term</td>\n",
       "      <td>621544.0</td>\n",
       "      <td>139859.0</td>\n",
       "      <td>33350.0</td>\n",
       "      <td>7130.0</td>\n",
       "    </tr>\n",
       "  </tbody>\n",
       "</table>\n",
       "</div>"
      ],
      "text/plain": [
       "  Home Ownership  Annual Income Years in current job  Tax Liens  \\\n",
       "0  Home Mortgage      2396375.0              6 years        0.0   \n",
       "\n",
       "   Number of Open Accounts  Years of Credit History  Maximum Open Credit  \\\n",
       "0                      9.0                     10.5             335280.0   \n",
       "\n",
       "   Number of Credit Problems  Months since last delinquent  Bankruptcies  \\\n",
       "0                        1.0                           8.0           1.0   \n",
       "\n",
       "              Purpose        Term  Current Loan Amount  \\\n",
       "0  debt consolidation  Short Term             621544.0   \n",
       "\n",
       "   Current Credit Balance  Monthly Debt  Credit Score  \n",
       "0                139859.0       33350.0        7130.0  "
      ]
     },
     "execution_count": 18,
     "metadata": {},
     "output_type": "execute_result"
    }
   ],
   "source": [
    "X_valid[:1]"
   ]
  },
  {
   "cell_type": "code",
   "execution_count": 19,
   "metadata": {},
   "outputs": [],
   "source": [
    "total_columns_list = ['Maximum Open Credit', 'Annual Income', 'Current Loan Amount', 'Current Credit Balance',\n",
    "                      'Monthly Debt', 'Credit Score', 'Home Ownership', 'Years in current job', 'Purpose', 'Term',\n",
    "                      'Tax Liens', 'Number of Open Accounts', 'Bankruptcies', 'Months since last delinquent',\n",
    "                      'Years of Credit History', 'Number of Credit Problems']"
   ]
  },
  {
   "cell_type": "code",
   "execution_count": 20,
   "metadata": {},
   "outputs": [],
   "source": [
    "def print_my(body):\n",
    "    print(body)"
   ]
  },
  {
   "cell_type": "code",
   "execution_count": 21,
   "metadata": {},
   "outputs": [
    {
     "name": "stdout",
     "output_type": "stream",
     "text": [
      "{'Home Ownership': 'Home Mortgage', 'Annual Income': 2396375.0, 'Years in current job': '6 years', 'Tax Liens': 0.0, 'Number of Open Accounts': 9.0, 'Years of Credit History': 10.5, 'Maximum Open Credit': 335280.0, 'Number of Credit Problems': 1.0, 'Months since last delinquent': 8.0, 'Bankruptcies': 1.0, 'Purpose': 'debt consolidation', 'Term': 'Short Term', 'Current Loan Amount': 621544.0, 'Current Credit Balance': 139859.0, 'Monthly Debt': 33350.0, 'Credit Score': 7130.0}\n",
      "{'Home Ownership': 'Home Mortgage', 'Annual Income': 1364854.7169779572, 'Years in current job': '5 years', 'Tax Liens': 0.0, 'Number of Open Accounts': 8.0, 'Years of Credit History': 14.0, 'Maximum Open Credit': 883014.0, 'Number of Credit Problems': 0.0, 'Months since last delinquent': 33.52142363510712, 'Bankruptcies': 0.0, 'Purpose': 'debt consolidation', 'Term': 'Short Term', 'Current Loan Amount': 157256.0, 'Current Credit Balance': 183027.0, 'Monthly Debt': 3492.0, 'Credit Score': 850.0}\n"
     ]
    },
    {
     "data": {
      "text/plain": [
       "[None, None]"
      ]
     },
     "execution_count": 21,
     "metadata": {},
     "output_type": "execute_result"
    }
   ],
   "source": [
    "# [print_my(x) for x in X_valid[total_columns_list].head(2).T.to_dict('dict').values()]\n",
    "[print_my(x) for x in X_valid.head(2).T.to_dict('dict').values()]"
   ]
  },
  {
   "cell_type": "code",
   "execution_count": 14,
   "metadata": {},
   "outputs": [],
   "source": [
    "def get_prediction_my(body):\n",
    "    myurl = \"http://0.0.0.0:8180/predict\"\n",
    "    req = request.Request(myurl)\n",
    "    req.add_header('Content-Type', 'application/json; charset=utf-8')\n",
    "    jsondata = json.dumps(body)\n",
    "    jsondataasbytes = jsondata.encode('utf-8')   # needs to be bytes\n",
    "    req.add_header('Content-Length', len(jsondataasbytes))\n",
    "#     print (jsondataasbytes)\n",
    "    response = request.urlopen(req, jsondataasbytes)\n",
    "    return json.loads(response.read())['predictions']"
   ]
  },
  {
   "cell_type": "code",
   "execution_count": 25,
   "metadata": {},
   "outputs": [
    {
     "name": "stdout",
     "output_type": "stream",
     "text": [
      "CPU times: user 144 ms, sys: 39.4 ms, total: 184 ms\n",
      "Wall time: 29.3 s\n"
     ]
    }
   ],
   "source": [
    "%%time\n",
    "\n",
    "# predictions = [get_prediction_my(x) for x in X_valid[total_columns_list].head(1).T.to_dict('dict').values()]   # .head(500)\n",
    "predictions = [get_prediction_my(x) for x in X_valid.head(100).T.to_dict('dict').values()]"
   ]
  },
  {
   "cell_type": "markdown",
   "metadata": {},
   "source": [
    "## Рассчитаем метрики"
   ]
  },
  {
   "cell_type": "code",
   "execution_count": 26,
   "metadata": {},
   "outputs": [
    {
     "data": {
      "text/plain": [
       "[0.9595445248340846,\n",
       " 0.05040759870858322,\n",
       " 0.27339089035583736,\n",
       " 0.24736002982126318,\n",
       " 0.012111689312096193,\n",
       " 0.15428072327212866,\n",
       " 0.09988118447813049,\n",
       " 0.3296996149949156,\n",
       " 0.3248313692110695,\n",
       " 0.946386121937758]"
      ]
     },
     "execution_count": 26,
     "metadata": {},
     "output_type": "execute_result"
    }
   ],
   "source": [
    "predictions[:10]"
   ]
  },
  {
   "cell_type": "code",
   "execution_count": 34,
   "metadata": {},
   "outputs": [
    {
     "name": "stdout",
     "output_type": "stream",
     "text": [
      "Best Threshold=0.299733, F-Score=0.557, Precision=0.515, Recall=0.607\n",
      "roc auc score: 0.7158\n",
      "log loss score: 0.5619\n",
      "TN: 56 FN: 12 TP: 16 FP: 16\n",
      "TPR: 0.5714 FPR: 0.2222 TNR: 0.7778\n"
     ]
    }
   ],
   "source": [
    "precision, recall, thresholds = precision_recall_curve(y_valid[:100], predictions)\n",
    "f_score = (2 * precision * recall) / (precision + recall)\n",
    "# locate the index of the largest f score\n",
    "ix = np.argmax(f_score)\n",
    "print('Best Threshold=%f, F-Score=%.3f, Precision=%.3f, Recall=%.3f' % (thresholds[ix], \n",
    "                                                                        f_score[ix],\n",
    "                                                                        precision[ix],\n",
    "                                                                        recall[ix]))\n",
    "r_auc = roc_auc_score(y_true=y_valid[:100], y_score=predictions)\n",
    "l_los = log_loss(y_true=y_valid[:100], y_pred=predictions)\n",
    "\n",
    "print(\"roc auc score: {:.4f}\".format(r_auc))\n",
    "print(\"log loss score: {:.4f}\".format(l_los))\n",
    "\n",
    "cnf_matrix = confusion_matrix(y_valid[:100], predictions>thresholds[ix])\n",
    "\n",
    "TN = cnf_matrix[0][0]\n",
    "FN = cnf_matrix[1][0]\n",
    "TP = cnf_matrix[1][1]\n",
    "FP = cnf_matrix[0][1]\n",
    "\n",
    "TPR = TP/(TP+FN)\n",
    "FPR = FP/(FP+TN)\n",
    "TNR = TN/(FP+TN)\n",
    "\n",
    "print(f\"TN: {TN} FN: {FN} TP: {TP} FP: {FP}\")\n",
    "print(f\"TPR: {TPR:.4f} FPR: {FPR:.4f} TNR: {TNR:.4f}\")"
   ]
  },
  {
   "cell_type": "code",
   "execution_count": null,
   "metadata": {},
   "outputs": [],
   "source": []
  }
 ],
 "metadata": {
  "kernelspec": {
   "display_name": "Python 3",
   "language": "python",
   "name": "python3"
  },
  "language_info": {
   "codemirror_mode": {
    "name": "ipython",
    "version": 3
   },
   "file_extension": ".py",
   "mimetype": "text/x-python",
   "name": "python",
   "nbconvert_exporter": "python",
   "pygments_lexer": "ipython3",
   "version": "3.8.5"
  }
 },
 "nbformat": 4,
 "nbformat_minor": 2
}