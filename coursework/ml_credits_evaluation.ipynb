{
 "cells": [
  {
   "cell_type": "markdown",
   "metadata": {},
   "source": [
    "## Взаимодействие с моделью через API"
   ]
  },
  {
   "cell_type": "code",
   "execution_count": 1,
   "metadata": {},
   "outputs": [],
   "source": [
    "import pandas as pd\n",
    "from sklearn.metrics import roc_auc_score,roc_curve\n",
    "from urllib import request, parse\n",
    "import json\n",
    "\n",
    "X_test_m = pd.read_csv(\"./data/X_valid.csv\")\n",
    "y_test_m = pd.read_csv(\"./data/y_valid.csv\")"
   ]
  },
  {
   "cell_type": "code",
   "execution_count": 3,
   "metadata": {},
   "outputs": [],
   "source": [
    "total_columns_list = ['Maximum Open Credit', 'Annual Income', 'Current Loan Amount', 'Current Credit Balance',\n",
    "                      'Monthly Debt', 'Credit Score', 'Home Ownership', 'Years in current job', 'Purpose', 'Term',\n",
    "                      'Tax Liens', 'Number of Open Accounts', 'Bankruptcies', 'Months since last delinquent',\n",
    "                      'Years of Credit History', 'Number of Credit Problems']"
   ]
  },
  {
   "cell_type": "code",
   "execution_count": 7,
   "metadata": {},
   "outputs": [],
   "source": [
    "def print_my(body):\n",
    "    print(body)"
   ]
  },
  {
   "cell_type": "code",
   "execution_count": 8,
   "metadata": {},
   "outputs": [
    {
     "name": "stdout",
     "output_type": "stream",
     "text": [
      "{'Maximum Open Credit': 335280.0, 'Annual Income': 2396375.0, 'Current Loan Amount': 621544.0, 'Current Credit Balance': 139859.0, 'Monthly Debt': 33350.0, 'Credit Score': 7130.0, 'Home Ownership': 'Home Mortgage', 'Years in current job': '6 years', 'Purpose': 'debt consolidation', 'Term': 'Short Term', 'Tax Liens': 0.0, 'Number of Open Accounts': 9.0, 'Bankruptcies': 1.0, 'Months since last delinquent': 8.0, 'Years of Credit History': 10.5, 'Number of Credit Problems': 1.0}\n",
      "{'Maximum Open Credit': 883014.0, 'Annual Income': 1364854.7169779572, 'Current Loan Amount': 157256.0, 'Current Credit Balance': 183027.0, 'Monthly Debt': 3492.0, 'Credit Score': 850.0, 'Home Ownership': 'Home Mortgage', 'Years in current job': '5 years', 'Purpose': 'debt consolidation', 'Term': 'Short Term', 'Tax Liens': 0.0, 'Number of Open Accounts': 8.0, 'Bankruptcies': 0.0, 'Months since last delinquent': 33.52142363510712, 'Years of Credit History': 14.0, 'Number of Credit Problems': 0.0}\n"
     ]
    },
    {
     "data": {
      "text/plain": [
       "[None, None]"
      ]
     },
     "execution_count": 8,
     "metadata": {},
     "output_type": "execute_result"
    }
   ],
   "source": [
    "[print_my(x) for x in X_test_m[[*total_columns_list]].head(2).T.to_dict('dict').values()]"
   ]
  },
  {
   "cell_type": "code",
   "execution_count": 4,
   "metadata": {},
   "outputs": [],
   "source": [
    "def get_prediction_my(body):\n",
    "    myurl = \"http://0.0.0.0:8180/predict\"\n",
    "    req = urllib.request.Request(myurl)\n",
    "    req.add_header('Content-Type', 'application/json; charset=utf-8')\n",
    "    jsondata = json.dumps(body)\n",
    "    jsondataasbytes = jsondata.encode('utf-8')   # needs to be bytes\n",
    "    req.add_header('Content-Length', len(jsondataasbytes))\n",
    "#     print (jsondataasbytes)\n",
    "    response = urllib.request.urlopen(req, jsondataasbytes)\n",
    "    return json.loads(response.read())['predictions']"
   ]
  },
  {
   "cell_type": "code",
   "execution_count": 5,
   "metadata": {},
   "outputs": [
    {
     "name": "stdout",
     "output_type": "stream",
     "text": [
      "{'Maximum Open Credit': 335280.0, 'Annual Income': 2396375.0, 'Current Loan Amount': 621544.0, 'Current Credit Balance': 139859.0, 'Monthly Debt': 33350.0, 'Credit Score': 7130.0, 'Home Ownership': 'Home Mortgage', 'Years in current job': '6 years', 'Purpose': 'debt consolidation', 'Term': 'Short Term', 'Tax Liens': 0.0, 'Number of Open Accounts': 9.0, 'Bankruptcies': 1.0, 'Months since last delinquent': 8.0, 'Years of Credit History': 10.5, 'Number of Credit Problems': 1.0}\n",
      "{'Maximum Open Credit': 883014.0, 'Annual Income': 1364854.7169779572, 'Current Loan Amount': 157256.0, 'Current Credit Balance': 183027.0, 'Monthly Debt': 3492.0, 'Credit Score': 850.0, 'Home Ownership': 'Home Mortgage', 'Years in current job': '5 years', 'Purpose': 'debt consolidation', 'Term': 'Short Term', 'Tax Liens': 0.0, 'Number of Open Accounts': 8.0, 'Bankruptcies': 0.0, 'Months since last delinquent': 33.52142363510712, 'Years of Credit History': 14.0, 'Number of Credit Problems': 0.0}\n",
      "{'Maximum Open Credit': 1022714.0, 'Annual Income': 2056351.0, 'Current Loan Amount': 601744.0, 'Current Credit Balance': 391286.0, 'Monthly Debt': 29132.0, 'Credit Score': 718.0, 'Home Ownership': 'Home Mortgage', 'Years in current job': '10+ years', 'Purpose': 'debt consolidation', 'Term': 'Long Term', 'Tax Liens': 0.0, 'Number of Open Accounts': 17.0, 'Bankruptcies': 0.0, 'Months since last delinquent': 33.52142363510712, 'Years of Credit History': 14.0, 'Number of Credit Problems': 0.0}\n",
      "CPU times: user 3.22 ms, sys: 3.92 ms, total: 7.14 ms\n",
      "Wall time: 6.5 ms\n"
     ]
    }
   ],
   "source": [
    "%%time\n",
    "\n",
    "predictions = [get_prediction_my(x) for x in X_test_m[[*total_columns_list]].head(500).T.to_dict('dict').values()]"
   ]
  },
  {
   "cell_type": "markdown",
   "metadata": {},
   "source": [
    "## Рассчитаем метрики"
   ]
  },
  {
   "cell_type": "code",
   "execution_count": 9,
   "metadata": {},
   "outputs": [
    {
     "data": {
      "text/plain": [
       "[None, None, None]"
      ]
     },
     "execution_count": 9,
     "metadata": {},
     "output_type": "execute_result"
    }
   ],
   "source": [
    "predictions[:20]"
   ]
  },
  {
   "cell_type": "code",
   "execution_count": null,
   "metadata": {},
   "outputs": [],
   "source": [
    "roc_auc_score(y_score=predictions.values, y_true=y_test.iloc[:500])"
   ]
  },
  {
   "cell_type": "code",
   "execution_count": null,
   "metadata": {},
   "outputs": [],
   "source": [
    "#X_test[['description', 'company_profile', 'benefits']].head(3)"
   ]
  },
  {
   "cell_type": "markdown",
   "metadata": {},
   "source": [
    "Давайте подумаем, где наше api может сломаться"
   ]
  },
  {
   "cell_type": "code",
   "execution_count": null,
   "metadata": {},
   "outputs": [],
   "source": [
    "get_prediction((\"\", None, None))"
   ]
  },
  {
   "cell_type": "code",
   "execution_count": null,
   "metadata": {},
   "outputs": [],
   "source": [
    "get_prediction((\"\", \"\", \"\"))"
   ]
  },
  {
   "cell_type": "code",
   "execution_count": null,
   "metadata": {},
   "outputs": [],
   "source": []
  }
 ],
 "metadata": {
  "kernelspec": {
   "display_name": "Python 3",
   "language": "python",
   "name": "python3"
  },
  "language_info": {
   "codemirror_mode": {
    "name": "ipython",
    "version": 3
   },
   "file_extension": ".py",
   "mimetype": "text/x-python",
   "name": "python",
   "nbconvert_exporter": "python",
   "pygments_lexer": "ipython3",
   "version": "3.8.5"
  }
 },
 "nbformat": 4,
 "nbformat_minor": 2
}
