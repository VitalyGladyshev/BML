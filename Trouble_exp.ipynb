{
 "cells": [
  {
   "cell_type": "markdown",
   "metadata": {},
   "source": [
    "# ДЗ №3 Гладышев В.В."
   ]
  },
  {
   "cell_type": "markdown",
   "metadata": {},
   "source": [
    "## Задание № 4"
   ]
  },
  {
   "cell_type": "markdown",
   "metadata": {},
   "source": [
    "a) Постройте ACF, PACF и модель ARIMA для BRENT (недельный ресемплинг)"
   ]
  },
  {
   "cell_type": "code",
   "execution_count": 2,
   "metadata": {},
   "outputs": [],
   "source": [
    "%matplotlib inline\n",
    "import matplotlib.pyplot as plt\n",
    "\n",
    "import numpy as np\n",
    "import pandas as pd \n",
    "import seaborn as sns"
   ]
  },
  {
   "cell_type": "code",
   "execution_count": 3,
   "metadata": {},
   "outputs": [],
   "source": [
    "#импорт модулей для формирования модели\n",
    "import statsmodels.api as sm\n",
    "from statsmodels.tsa.arima_model import ARIMA"
   ]
  },
  {
   "cell_type": "code",
   "execution_count": 4,
   "metadata": {},
   "outputs": [],
   "source": [
    "path_brent = 'my_BRENT2019.csv'\n",
    "brent_data = pd.read_csv(path_brent,sep = ',', index_col=[0], parse_dates=[0])"
   ]
  },
  {
   "cell_type": "code",
   "execution_count": 5,
   "metadata": {},
   "outputs": [
    {
     "name": "stdout",
     "output_type": "stream",
     "text": [
      "<class 'pandas.core.frame.DataFrame'>\n",
      "DatetimeIndex: 2667 entries, 2010-09-01 to 2019-09-01\n",
      "Data columns (total 11 columns):\n",
      " #   Column           Non-Null Count  Dtype  \n",
      "---  ------           --------------  -----  \n",
      " 0   Значение         2667 non-null   float64\n",
      " 1   year             2667 non-null   int64  \n",
      " 2   month            2667 non-null   int64  \n",
      " 3   dayofmonth       2667 non-null   int64  \n",
      " 4   quarter          2667 non-null   int64  \n",
      " 5   dayofyear        2667 non-null   int64  \n",
      " 6   weekofyear       2667 non-null   int64  \n",
      " 7   dayofweek        2667 non-null   int64  \n",
      " 8   is_holiday       2667 non-null   int64  \n",
      " 9   is_prev_holiday  2667 non-null   int64  \n",
      " 10  is_next_holiday  2667 non-null   int64  \n",
      "dtypes: float64(1), int64(10)\n",
      "memory usage: 250.0 KB\n"
     ]
    }
   ],
   "source": [
    "brent_data.info()"
   ]
  },
  {
   "cell_type": "code",
   "execution_count": 6,
   "metadata": {},
   "outputs": [],
   "source": [
    "brent_data_w = brent_data.resample('W').mean()"
   ]
  },
  {
   "cell_type": "code",
   "execution_count": 7,
   "metadata": {},
   "outputs": [
    {
     "name": "stdout",
     "output_type": "stream",
     "text": [
      "<class 'pandas.core.frame.DataFrame'>\n",
      "DatetimeIndex: 470 entries, 2010-09-05 to 2019-09-01\n",
      "Freq: W-SUN\n",
      "Data columns (total 11 columns):\n",
      " #   Column           Non-Null Count  Dtype  \n",
      "---  ------           --------------  -----  \n",
      " 0   Значение         469 non-null    float64\n",
      " 1   year             469 non-null    float64\n",
      " 2   month            469 non-null    float64\n",
      " 3   dayofmonth       469 non-null    float64\n",
      " 4   quarter          469 non-null    float64\n",
      " 5   dayofyear        469 non-null    float64\n",
      " 6   weekofyear       469 non-null    float64\n",
      " 7   dayofweek        469 non-null    float64\n",
      " 8   is_holiday       469 non-null    float64\n",
      " 9   is_prev_holiday  469 non-null    float64\n",
      " 10  is_next_holiday  469 non-null    float64\n",
      "dtypes: float64(11)\n",
      "memory usage: 44.1 KB\n"
     ]
    }
   ],
   "source": [
    "brent_data_w.info()"
   ]
  },
  {
   "cell_type": "code",
   "execution_count": 8,
   "metadata": {},
   "outputs": [
    {
     "data": {
      "text/html": [
       "<div>\n",
       "<style scoped>\n",
       "    .dataframe tbody tr th:only-of-type {\n",
       "        vertical-align: middle;\n",
       "    }\n",
       "\n",
       "    .dataframe tbody tr th {\n",
       "        vertical-align: top;\n",
       "    }\n",
       "\n",
       "    .dataframe thead th {\n",
       "        text-align: right;\n",
       "    }\n",
       "</style>\n",
       "<table border=\"1\" class=\"dataframe\">\n",
       "  <thead>\n",
       "    <tr style=\"text-align: right;\">\n",
       "      <th></th>\n",
       "      <th>Значение</th>\n",
       "      <th>year</th>\n",
       "      <th>month</th>\n",
       "      <th>dayofmonth</th>\n",
       "      <th>quarter</th>\n",
       "      <th>dayofyear</th>\n",
       "      <th>weekofyear</th>\n",
       "      <th>dayofweek</th>\n",
       "      <th>is_holiday</th>\n",
       "      <th>is_prev_holiday</th>\n",
       "      <th>is_next_holiday</th>\n",
       "    </tr>\n",
       "    <tr>\n",
       "      <th>Дата</th>\n",
       "      <th></th>\n",
       "      <th></th>\n",
       "      <th></th>\n",
       "      <th></th>\n",
       "      <th></th>\n",
       "      <th></th>\n",
       "      <th></th>\n",
       "      <th></th>\n",
       "      <th></th>\n",
       "      <th></th>\n",
       "      <th></th>\n",
       "    </tr>\n",
       "  </thead>\n",
       "  <tbody>\n",
       "    <tr>\n",
       "      <th>2010-09-05</th>\n",
       "      <td>76.616000</td>\n",
       "      <td>2010.0</td>\n",
       "      <td>9.000000</td>\n",
       "      <td>3.000000</td>\n",
       "      <td>3.000000</td>\n",
       "      <td>246.000000</td>\n",
       "      <td>35.0</td>\n",
       "      <td>4.000000</td>\n",
       "      <td>0.000000</td>\n",
       "      <td>0.2</td>\n",
       "      <td>0.000000</td>\n",
       "    </tr>\n",
       "    <tr>\n",
       "      <th>2010-09-12</th>\n",
       "      <td>77.673333</td>\n",
       "      <td>2010.0</td>\n",
       "      <td>9.000000</td>\n",
       "      <td>8.500000</td>\n",
       "      <td>3.000000</td>\n",
       "      <td>251.500000</td>\n",
       "      <td>36.0</td>\n",
       "      <td>2.500000</td>\n",
       "      <td>0.166667</td>\n",
       "      <td>0.0</td>\n",
       "      <td>0.166667</td>\n",
       "    </tr>\n",
       "    <tr>\n",
       "      <th>2010-09-19</th>\n",
       "      <td>78.693333</td>\n",
       "      <td>2010.0</td>\n",
       "      <td>9.000000</td>\n",
       "      <td>15.666667</td>\n",
       "      <td>3.000000</td>\n",
       "      <td>258.666667</td>\n",
       "      <td>37.0</td>\n",
       "      <td>2.666667</td>\n",
       "      <td>0.000000</td>\n",
       "      <td>0.0</td>\n",
       "      <td>0.000000</td>\n",
       "    </tr>\n",
       "    <tr>\n",
       "      <th>2010-09-26</th>\n",
       "      <td>78.518333</td>\n",
       "      <td>2010.0</td>\n",
       "      <td>9.000000</td>\n",
       "      <td>22.666667</td>\n",
       "      <td>3.000000</td>\n",
       "      <td>265.666667</td>\n",
       "      <td>38.0</td>\n",
       "      <td>2.666667</td>\n",
       "      <td>0.000000</td>\n",
       "      <td>0.0</td>\n",
       "      <td>0.000000</td>\n",
       "    </tr>\n",
       "    <tr>\n",
       "      <th>2010-10-03</th>\n",
       "      <td>81.211667</td>\n",
       "      <td>2010.0</td>\n",
       "      <td>9.333333</td>\n",
       "      <td>19.666667</td>\n",
       "      <td>3.333333</td>\n",
       "      <td>272.666667</td>\n",
       "      <td>39.0</td>\n",
       "      <td>2.666667</td>\n",
       "      <td>0.000000</td>\n",
       "      <td>0.0</td>\n",
       "      <td>0.000000</td>\n",
       "    </tr>\n",
       "  </tbody>\n",
       "</table>\n",
       "</div>"
      ],
      "text/plain": [
       "             Значение    year     month  dayofmonth   quarter   dayofyear  \\\n",
       "Дата                                                                        \n",
       "2010-09-05  76.616000  2010.0  9.000000    3.000000  3.000000  246.000000   \n",
       "2010-09-12  77.673333  2010.0  9.000000    8.500000  3.000000  251.500000   \n",
       "2010-09-19  78.693333  2010.0  9.000000   15.666667  3.000000  258.666667   \n",
       "2010-09-26  78.518333  2010.0  9.000000   22.666667  3.000000  265.666667   \n",
       "2010-10-03  81.211667  2010.0  9.333333   19.666667  3.333333  272.666667   \n",
       "\n",
       "            weekofyear  dayofweek  is_holiday  is_prev_holiday  \\\n",
       "Дата                                                             \n",
       "2010-09-05        35.0   4.000000    0.000000              0.2   \n",
       "2010-09-12        36.0   2.500000    0.166667              0.0   \n",
       "2010-09-19        37.0   2.666667    0.000000              0.0   \n",
       "2010-09-26        38.0   2.666667    0.000000              0.0   \n",
       "2010-10-03        39.0   2.666667    0.000000              0.0   \n",
       "\n",
       "            is_next_holiday  \n",
       "Дата                         \n",
       "2010-09-05         0.000000  \n",
       "2010-09-12         0.166667  \n",
       "2010-09-19         0.000000  \n",
       "2010-09-26         0.000000  \n",
       "2010-10-03         0.000000  "
      ]
     },
     "execution_count": 8,
     "metadata": {},
     "output_type": "execute_result"
    }
   ],
   "source": [
    "brent_data_w.head()"
   ]
  },
  {
   "cell_type": "code",
   "execution_count": 9,
   "metadata": {},
   "outputs": [
    {
     "data": {
      "text/html": [
       "<div>\n",
       "<style scoped>\n",
       "    .dataframe tbody tr th:only-of-type {\n",
       "        vertical-align: middle;\n",
       "    }\n",
       "\n",
       "    .dataframe tbody tr th {\n",
       "        vertical-align: top;\n",
       "    }\n",
       "\n",
       "    .dataframe thead th {\n",
       "        text-align: right;\n",
       "    }\n",
       "</style>\n",
       "<table border=\"1\" class=\"dataframe\">\n",
       "  <thead>\n",
       "    <tr style=\"text-align: right;\">\n",
       "      <th></th>\n",
       "      <th>Значение</th>\n",
       "      <th>year</th>\n",
       "      <th>month</th>\n",
       "      <th>dayofmonth</th>\n",
       "      <th>quarter</th>\n",
       "      <th>dayofyear</th>\n",
       "      <th>weekofyear</th>\n",
       "      <th>dayofweek</th>\n",
       "      <th>is_holiday</th>\n",
       "      <th>is_prev_holiday</th>\n",
       "      <th>is_next_holiday</th>\n",
       "    </tr>\n",
       "  </thead>\n",
       "  <tbody>\n",
       "    <tr>\n",
       "      <th>count</th>\n",
       "      <td>2667.000000</td>\n",
       "      <td>2667.000000</td>\n",
       "      <td>2667.00000</td>\n",
       "      <td>2667.000000</td>\n",
       "      <td>2667.000000</td>\n",
       "      <td>2667.000000</td>\n",
       "      <td>2667.000000</td>\n",
       "      <td>2667.000000</td>\n",
       "      <td>2667.000000</td>\n",
       "      <td>2667.000000</td>\n",
       "      <td>2667.000000</td>\n",
       "    </tr>\n",
       "    <tr>\n",
       "      <th>mean</th>\n",
       "      <td>81.533547</td>\n",
       "      <td>2014.661042</td>\n",
       "      <td>6.51706</td>\n",
       "      <td>15.715786</td>\n",
       "      <td>2.505062</td>\n",
       "      <td>182.901762</td>\n",
       "      <td>26.486689</td>\n",
       "      <td>2.537308</td>\n",
       "      <td>0.027747</td>\n",
       "      <td>0.026997</td>\n",
       "      <td>0.029621</td>\n",
       "    </tr>\n",
       "    <tr>\n",
       "      <th>std</th>\n",
       "      <td>26.349469</td>\n",
       "      <td>2.663525</td>\n",
       "      <td>3.43026</td>\n",
       "      <td>8.780275</td>\n",
       "      <td>1.112684</td>\n",
       "      <td>104.741067</td>\n",
       "      <td>14.935147</td>\n",
       "      <td>1.894937</td>\n",
       "      <td>0.164277</td>\n",
       "      <td>0.162104</td>\n",
       "      <td>0.169572</td>\n",
       "    </tr>\n",
       "    <tr>\n",
       "      <th>min</th>\n",
       "      <td>27.850000</td>\n",
       "      <td>2010.000000</td>\n",
       "      <td>1.00000</td>\n",
       "      <td>1.000000</td>\n",
       "      <td>1.000000</td>\n",
       "      <td>2.000000</td>\n",
       "      <td>1.000000</td>\n",
       "      <td>0.000000</td>\n",
       "      <td>0.000000</td>\n",
       "      <td>0.000000</td>\n",
       "      <td>0.000000</td>\n",
       "    </tr>\n",
       "    <tr>\n",
       "      <th>25%</th>\n",
       "      <td>56.840000</td>\n",
       "      <td>2012.000000</td>\n",
       "      <td>4.00000</td>\n",
       "      <td>8.000000</td>\n",
       "      <td>2.000000</td>\n",
       "      <td>92.000000</td>\n",
       "      <td>14.000000</td>\n",
       "      <td>1.000000</td>\n",
       "      <td>0.000000</td>\n",
       "      <td>0.000000</td>\n",
       "      <td>0.000000</td>\n",
       "    </tr>\n",
       "    <tr>\n",
       "      <th>50%</th>\n",
       "      <td>77.710000</td>\n",
       "      <td>2015.000000</td>\n",
       "      <td>7.00000</td>\n",
       "      <td>16.000000</td>\n",
       "      <td>3.000000</td>\n",
       "      <td>183.000000</td>\n",
       "      <td>27.000000</td>\n",
       "      <td>2.000000</td>\n",
       "      <td>0.000000</td>\n",
       "      <td>0.000000</td>\n",
       "      <td>0.000000</td>\n",
       "    </tr>\n",
       "    <tr>\n",
       "      <th>75%</th>\n",
       "      <td>108.190000</td>\n",
       "      <td>2017.000000</td>\n",
       "      <td>9.00000</td>\n",
       "      <td>23.000000</td>\n",
       "      <td>3.000000</td>\n",
       "      <td>273.000000</td>\n",
       "      <td>39.000000</td>\n",
       "      <td>4.000000</td>\n",
       "      <td>0.000000</td>\n",
       "      <td>0.000000</td>\n",
       "      <td>0.000000</td>\n",
       "    </tr>\n",
       "    <tr>\n",
       "      <th>max</th>\n",
       "      <td>126.900000</td>\n",
       "      <td>2019.000000</td>\n",
       "      <td>12.00000</td>\n",
       "      <td>31.000000</td>\n",
       "      <td>4.000000</td>\n",
       "      <td>366.000000</td>\n",
       "      <td>53.000000</td>\n",
       "      <td>6.000000</td>\n",
       "      <td>1.000000</td>\n",
       "      <td>1.000000</td>\n",
       "      <td>1.000000</td>\n",
       "    </tr>\n",
       "  </tbody>\n",
       "</table>\n",
       "</div>"
      ],
      "text/plain": [
       "          Значение         year       month   dayofmonth      quarter  \\\n",
       "count  2667.000000  2667.000000  2667.00000  2667.000000  2667.000000   \n",
       "mean     81.533547  2014.661042     6.51706    15.715786     2.505062   \n",
       "std      26.349469     2.663525     3.43026     8.780275     1.112684   \n",
       "min      27.850000  2010.000000     1.00000     1.000000     1.000000   \n",
       "25%      56.840000  2012.000000     4.00000     8.000000     2.000000   \n",
       "50%      77.710000  2015.000000     7.00000    16.000000     3.000000   \n",
       "75%     108.190000  2017.000000     9.00000    23.000000     3.000000   \n",
       "max     126.900000  2019.000000    12.00000    31.000000     4.000000   \n",
       "\n",
       "         dayofyear   weekofyear    dayofweek   is_holiday  is_prev_holiday  \\\n",
       "count  2667.000000  2667.000000  2667.000000  2667.000000      2667.000000   \n",
       "mean    182.901762    26.486689     2.537308     0.027747         0.026997   \n",
       "std     104.741067    14.935147     1.894937     0.164277         0.162104   \n",
       "min       2.000000     1.000000     0.000000     0.000000         0.000000   \n",
       "25%      92.000000    14.000000     1.000000     0.000000         0.000000   \n",
       "50%     183.000000    27.000000     2.000000     0.000000         0.000000   \n",
       "75%     273.000000    39.000000     4.000000     0.000000         0.000000   \n",
       "max     366.000000    53.000000     6.000000     1.000000         1.000000   \n",
       "\n",
       "       is_next_holiday  \n",
       "count      2667.000000  \n",
       "mean          0.029621  \n",
       "std           0.169572  \n",
       "min           0.000000  \n",
       "25%           0.000000  \n",
       "50%           0.000000  \n",
       "75%           0.000000  \n",
       "max           1.000000  "
      ]
     },
     "execution_count": 9,
     "metadata": {},
     "output_type": "execute_result"
    }
   ],
   "source": [
    "brent_data.describe()"
   ]
  },
  {
   "cell_type": "code",
   "execution_count": 10,
   "metadata": {},
   "outputs": [
    {
     "data": {
      "text/html": [
       "<div>\n",
       "<style scoped>\n",
       "    .dataframe tbody tr th:only-of-type {\n",
       "        vertical-align: middle;\n",
       "    }\n",
       "\n",
       "    .dataframe tbody tr th {\n",
       "        vertical-align: top;\n",
       "    }\n",
       "\n",
       "    .dataframe thead th {\n",
       "        text-align: right;\n",
       "    }\n",
       "</style>\n",
       "<table border=\"1\" class=\"dataframe\">\n",
       "  <thead>\n",
       "    <tr style=\"text-align: right;\">\n",
       "      <th></th>\n",
       "      <th>Значение</th>\n",
       "      <th>year</th>\n",
       "      <th>month</th>\n",
       "      <th>dayofmonth</th>\n",
       "      <th>quarter</th>\n",
       "      <th>dayofyear</th>\n",
       "      <th>weekofyear</th>\n",
       "      <th>dayofweek</th>\n",
       "      <th>is_holiday</th>\n",
       "      <th>is_prev_holiday</th>\n",
       "      <th>is_next_holiday</th>\n",
       "    </tr>\n",
       "  </thead>\n",
       "  <tbody>\n",
       "    <tr>\n",
       "      <th>count</th>\n",
       "      <td>469.000000</td>\n",
       "      <td>469.000000</td>\n",
       "      <td>469.000000</td>\n",
       "      <td>469.000000</td>\n",
       "      <td>469.000000</td>\n",
       "      <td>469.000000</td>\n",
       "      <td>469.00000</td>\n",
       "      <td>469.000000</td>\n",
       "      <td>469.000000</td>\n",
       "      <td>469.000000</td>\n",
       "      <td>469.000000</td>\n",
       "    </tr>\n",
       "    <tr>\n",
       "      <th>mean</th>\n",
       "      <td>80.712938</td>\n",
       "      <td>2014.668799</td>\n",
       "      <td>6.534790</td>\n",
       "      <td>15.769225</td>\n",
       "      <td>2.510448</td>\n",
       "      <td>183.502452</td>\n",
       "      <td>26.54371</td>\n",
       "      <td>2.517662</td>\n",
       "      <td>0.027505</td>\n",
       "      <td>0.027150</td>\n",
       "      <td>0.030419</td>\n",
       "    </tr>\n",
       "    <tr>\n",
       "      <th>std</th>\n",
       "      <td>26.661299</td>\n",
       "      <td>2.627031</td>\n",
       "      <td>3.410980</td>\n",
       "      <td>7.038383</td>\n",
       "      <td>1.105197</td>\n",
       "      <td>104.223962</td>\n",
       "      <td>15.04838</td>\n",
       "      <td>0.316618</td>\n",
       "      <td>0.063859</td>\n",
       "      <td>0.064381</td>\n",
       "      <td>0.068258</td>\n",
       "    </tr>\n",
       "    <tr>\n",
       "      <th>min</th>\n",
       "      <td>28.690000</td>\n",
       "      <td>2010.000000</td>\n",
       "      <td>1.000000</td>\n",
       "      <td>3.000000</td>\n",
       "      <td>1.000000</td>\n",
       "      <td>4.200000</td>\n",
       "      <td>1.00000</td>\n",
       "      <td>1.500000</td>\n",
       "      <td>0.000000</td>\n",
       "      <td>0.000000</td>\n",
       "      <td>0.000000</td>\n",
       "    </tr>\n",
       "    <tr>\n",
       "      <th>25%</th>\n",
       "      <td>56.206000</td>\n",
       "      <td>2012.000000</td>\n",
       "      <td>4.000000</td>\n",
       "      <td>9.666667</td>\n",
       "      <td>2.000000</td>\n",
       "      <td>93.666667</td>\n",
       "      <td>14.00000</td>\n",
       "      <td>2.500000</td>\n",
       "      <td>0.000000</td>\n",
       "      <td>0.000000</td>\n",
       "      <td>0.000000</td>\n",
       "    </tr>\n",
       "    <tr>\n",
       "      <th>50%</th>\n",
       "      <td>76.601667</td>\n",
       "      <td>2015.000000</td>\n",
       "      <td>6.833333</td>\n",
       "      <td>16.000000</td>\n",
       "      <td>2.800000</td>\n",
       "      <td>183.666667</td>\n",
       "      <td>27.00000</td>\n",
       "      <td>2.666667</td>\n",
       "      <td>0.000000</td>\n",
       "      <td>0.000000</td>\n",
       "      <td>0.000000</td>\n",
       "    </tr>\n",
       "    <tr>\n",
       "      <th>75%</th>\n",
       "      <td>108.114000</td>\n",
       "      <td>2017.000000</td>\n",
       "      <td>9.333333</td>\n",
       "      <td>22.000000</td>\n",
       "      <td>3.333333</td>\n",
       "      <td>272.666667</td>\n",
       "      <td>39.00000</td>\n",
       "      <td>2.666667</td>\n",
       "      <td>0.000000</td>\n",
       "      <td>0.000000</td>\n",
       "      <td>0.000000</td>\n",
       "    </tr>\n",
       "    <tr>\n",
       "      <th>max</th>\n",
       "      <td>125.006667</td>\n",
       "      <td>2019.000000</td>\n",
       "      <td>12.000000</td>\n",
       "      <td>29.500000</td>\n",
       "      <td>4.000000</td>\n",
       "      <td>363.500000</td>\n",
       "      <td>53.00000</td>\n",
       "      <td>4.333333</td>\n",
       "      <td>0.200000</td>\n",
       "      <td>0.250000</td>\n",
       "      <td>0.250000</td>\n",
       "    </tr>\n",
       "  </tbody>\n",
       "</table>\n",
       "</div>"
      ],
      "text/plain": [
       "         Значение         year       month  dayofmonth     quarter  \\\n",
       "count  469.000000   469.000000  469.000000  469.000000  469.000000   \n",
       "mean    80.712938  2014.668799    6.534790   15.769225    2.510448   \n",
       "std     26.661299     2.627031    3.410980    7.038383    1.105197   \n",
       "min     28.690000  2010.000000    1.000000    3.000000    1.000000   \n",
       "25%     56.206000  2012.000000    4.000000    9.666667    2.000000   \n",
       "50%     76.601667  2015.000000    6.833333   16.000000    2.800000   \n",
       "75%    108.114000  2017.000000    9.333333   22.000000    3.333333   \n",
       "max    125.006667  2019.000000   12.000000   29.500000    4.000000   \n",
       "\n",
       "        dayofyear  weekofyear   dayofweek  is_holiday  is_prev_holiday  \\\n",
       "count  469.000000   469.00000  469.000000  469.000000       469.000000   \n",
       "mean   183.502452    26.54371    2.517662    0.027505         0.027150   \n",
       "std    104.223962    15.04838    0.316618    0.063859         0.064381   \n",
       "min      4.200000     1.00000    1.500000    0.000000         0.000000   \n",
       "25%     93.666667    14.00000    2.500000    0.000000         0.000000   \n",
       "50%    183.666667    27.00000    2.666667    0.000000         0.000000   \n",
       "75%    272.666667    39.00000    2.666667    0.000000         0.000000   \n",
       "max    363.500000    53.00000    4.333333    0.200000         0.250000   \n",
       "\n",
       "       is_next_holiday  \n",
       "count       469.000000  \n",
       "mean          0.030419  \n",
       "std           0.068258  \n",
       "min           0.000000  \n",
       "25%           0.000000  \n",
       "50%           0.000000  \n",
       "75%           0.000000  \n",
       "max           0.250000  "
      ]
     },
     "execution_count": 10,
     "metadata": {},
     "output_type": "execute_result"
    }
   ],
   "source": [
    "brent_data_w.describe()"
   ]
  },
  {
   "cell_type": "code",
   "execution_count": 11,
   "metadata": {},
   "outputs": [
    {
     "data": {
      "text/plain": [
       "numpy.ndarray"
      ]
     },
     "execution_count": 11,
     "metadata": {},
     "output_type": "execute_result"
    }
   ],
   "source": [
    "type(brent_data['Значение'].values)"
   ]
  },
  {
   "cell_type": "code",
   "execution_count": 12,
   "metadata": {},
   "outputs": [
    {
     "data": {
      "text/plain": [
       "(2667,)"
      ]
     },
     "execution_count": 12,
     "metadata": {},
     "output_type": "execute_result"
    }
   ],
   "source": [
    "np.shape(brent_data['Значение'].values)"
   ]
  },
  {
   "cell_type": "code",
   "execution_count": 13,
   "metadata": {},
   "outputs": [
    {
     "data": {
      "text/plain": [
       "numpy.ndarray"
      ]
     },
     "execution_count": 13,
     "metadata": {},
     "output_type": "execute_result"
    }
   ],
   "source": [
    "type(brent_data_w['Значение'].values)"
   ]
  },
  {
   "cell_type": "code",
   "execution_count": 14,
   "metadata": {},
   "outputs": [
    {
     "data": {
      "text/plain": [
       "(470,)"
      ]
     },
     "execution_count": 14,
     "metadata": {},
     "output_type": "execute_result"
    }
   ],
   "source": [
    "np.shape(brent_data_w['Значение'].values)"
   ]
  },
  {
   "cell_type": "code",
   "execution_count": 15,
   "metadata": {},
   "outputs": [
    {
     "data": {
      "text/plain": [
       "array([76.37, 76.89, 76.57, ..., 60.37, 59.19, 58.84])"
      ]
     },
     "execution_count": 15,
     "metadata": {},
     "output_type": "execute_result"
    }
   ],
   "source": [
    "brent_data['Значение'].values"
   ]
  },
  {
   "cell_type": "code",
   "execution_count": 16,
   "metadata": {},
   "outputs": [
    {
     "data": {
      "text/plain": [
       "[<matplotlib.lines.Line2D at 0xba8b630>]"
      ]
     },
     "execution_count": 16,
     "metadata": {},
     "output_type": "execute_result"
    },
    {
     "data": {
      "image/png": "[encoded data removed]",
      "text/plain": [
       "<Figure size 432x288 with 1 Axes>"
      ]
     },
     "metadata": {
      "needs_background": "light"
     },
     "output_type": "display_data"
    }
   ],
   "source": [
    "plt.plot( brent_data['Значение'].values )"
   ]
  },
  {
   "cell_type": "code",
   "execution_count": 17,
   "metadata": {},
   "outputs": [
    {
     "data": {
      "text/plain": [
       "array([ 76.616     ,  77.67333333,  78.69333333,  78.51833333,\n",
       "        81.21166667,  84.14666667,  83.49833333,  82.795     ,\n",
       "        83.36166667,  87.00333333,  87.77666667,  84.76833333,\n",
       "        85.07333333,  89.31166667,  90.954     ,  91.63666667,\n",
       "        93.53833333,  93.96833333,  94.558     ,  97.83333333,\n",
       "        97.44      ,  97.71333333, 101.12166667, 101.03666667,\n",
       "       103.03666667, 110.68666667, 115.305     , 114.45      ,\n",
       "       112.93166667, 115.565     , 116.248     , 123.38333333,\n",
       "       122.57      , 123.078     , 124.78833333, 116.16666667,\n",
       "       113.86833333, 111.495     , 113.438     , 115.54833333,\n",
       "       117.29833333, 115.18833333, 109.14333333, 110.51166667,\n",
       "       115.57166667, 116.98166667, 117.72166667, 117.425     ,\n",
       "       111.72833333, 106.16833333, 108.84333333, 110.20166667,\n",
       "       113.29166667, 112.36666667, 110.94666667, 107.10666667,\n",
       "       103.87833333, 103.47666667,          nan, 109.75666667,\n",
       "       110.68      , 110.82      , 113.225     , 109.565     ,\n",
       "       107.34166667, 109.91333333, 109.158     , 105.015     ,\n",
       "       106.872     , 107.8975    , 112.974     , 111.69833333,\n",
       "       110.85      , 110.95833333, 112.59      , 117.16333333,\n",
       "       119.07833333, 123.10666667, 123.46166667, 124.41333333,\n",
       "       125.00666667, 124.525     , 123.90166667, 123.21      ,\n",
       "       120.83      , 118.485     , 119.21333333, 116.10166667,\n",
       "       112.17      , 108.61      , 107.36833333, 102.52333333,\n",
       "        99.42333333,  97.265     ,  92.68833333,  94.28      ,\n",
       "        98.63333333, 100.11833333, 105.49666667, 104.89833333,\n",
       "       105.63      , 110.56      , 113.39      , 114.26      ,\n",
       "       113.25      , 113.68666667, 115.55166667, 111.14      ,\n",
       "       111.10333333, 110.46666667, 113.18666667, 112.32333333,\n",
       "       108.88166667, 107.31      , 107.73666667, 108.34666667,\n",
       "       111.02833333, 110.39333333, 107.61833333, 107.37166667,\n",
       "       109.21666667, 110.226     , 110.688     , 110.53166667,\n",
       "       110.84166667, 112.754     , 114.3075    , 115.9025    ,\n",
       "       117.802     , 115.53      , 111.784     , 110.052     ,\n",
       "       109.18      , 107.99      , 109.416     , 107.18333333,\n",
       "       104.47166667,  99.235     , 101.9       , 102.60166667,\n",
       "       103.935     , 103.66333333, 103.05666667, 101.85666667,\n",
       "       103.32      , 104.42      , 103.56166667, 101.69666667,\n",
       "       105.012     , 107.32666667, 108.38833333, 107.63333333,\n",
       "       107.78      , 106.69166667, 109.155     , 110.322     ,\n",
       "       113.72333333, 113.52666667, 111.06833333, 109.24666667,\n",
       "       108.40166667, 107.935     , 109.59833333, 109.75833333,\n",
       "       108.07666667, 108.125     , 105.10166667, 107.38833333,\n",
       "       108.78333333, 110.715     , 111.29      , 108.855     ,\n",
       "       110.02666667, 111.9975    , 109.1       , 106.71      ,\n",
       "       105.835     , 107.41666667, 106.85666667, 106.795     ,\n",
       "       108.54333333, 110.10166667, 109.62      , 108.47333333,\n",
       "       107.76      , 106.52166667, 107.35      , 106.08666667,\n",
       "       107.29166667, 109.466     , 109.66666667, 108.114     ,\n",
       "       107.33833333, 108.66      , 110.16833333, 109.82666667,\n",
       "       107.96333333, 110.93666667, 114.16333333, 113.59333333,\n",
       "       111.18166667, 108.43333333, 107.33166667, 107.705     ,\n",
       "       106.21333333, 105.71833333, 103.67166667, 102.055     ,\n",
       "       102.74333333, 102.08166667,  99.00333333,  98.31333333,\n",
       "        96.92333333,  94.39333333,  91.055     ,  86.30833333,\n",
       "        85.88      ,  86.13166667,  83.83666667,  80.315     ,\n",
       "        79.138     ,  74.38      ,  70.41166667,  64.065     ,\n",
       "        60.745     ,  60.244     ,  57.068     ,  50.90833333,\n",
       "        48.46166667,  48.54833333,  50.02      ,  57.31666667,\n",
       "        59.29666667,  60.59166667,  60.925     ,  60.78      ,\n",
       "        56.71666667,  54.68333333,  56.41666667,  56.206     ,\n",
       "        58.645     ,  61.86      ,  63.308     ,  65.198     ,\n",
       "        67.336     ,  66.644     ,  65.81      ,  64.078     ,\n",
       "        64.6       ,  64.942     ,  64.052     ,  63.542     ,\n",
       "        62.428     ,  58.482     ,  57.776     ,  56.308     ,\n",
       "        53.488     ,  50.268     ,  49.726     ,  47.742     ,\n",
       "        44.658     ,  50.164     ,  48.76      ,  48.61      ,\n",
       "        48.286     ,  48.056     ,  51.132     ,  50.722     ,\n",
       "        48.794     ,  47.93      ,  49.14      ,  46.906     ,\n",
       "        44.47      ,  45.378     ,  44.178     ,  40.884     ,\n",
       "        37.786     ,  36.71      ,  37.0825    ,  35.982     ,\n",
       "        31.108     ,  28.69      ,  32.2025    ,  34.218     ,\n",
       "        32.156     ,  33.908     ,  33.96      ,  36.664     ,\n",
       "        40.248     ,  40.182     ,  41.1       ,  40.292     ,\n",
       "        38.952     ,  43.338     ,  43.602     ,  46.126     ,\n",
       "        45.564     ,  46.086     ,  48.898     ,  49.14      ,\n",
       "        49.86      ,  51.256     ,  49.082     ,  49.738     ,\n",
       "        49.416     ,  48.76      ,  46.904     ,  47.024     ,\n",
       "        44.662     ,  43.012     ,  44.948     ,  48.976     ,\n",
       "        49.434     ,  48.144     ,  48.034     ,  46.982     ,\n",
       "        46.658     ,  47.98      ,  51.6       ,  52.87      ,\n",
       "        52.73      ,  51.348     ,  47.074     ,  46.218     ,\n",
       "        47.234     ,  49.226     ,  51.675     ,  53.888     ,\n",
       "        54.87666667,  55.024     ,  56.82      ,  56.57833333,\n",
       "        55.096     ,  55.11666667,  55.61833333,  56.295     ,\n",
       "        55.79333333,  55.74333333,  56.31166667,  55.96833333,\n",
       "        53.22333333,  51.71      ,  50.975     ,  52.51333333,\n",
       "        54.49166667,  55.844     ,  53.43666667,  51.985     ,\n",
       "        50.08      ,  50.19333333,  52.57166667,  53.1       ,\n",
       "        51.005     ,  48.69166667,  47.45166667,  45.71833333,\n",
       "        47.60333333,  48.22833333,  48.215     ,  48.65166667,\n",
       "        51.15666667,  52.20833333,  52.17166667,  51.41333333,\n",
       "        52.04666667,  51.96333333,  53.61833333,  54.92666667,\n",
       "        56.20833333,  57.39833333,  55.975     ,  56.72333333,\n",
       "        57.91333333,  58.985     ,  61.205     ,  63.76666667,\n",
       "        62.31      ,  63.155     ,  63.18166667,  62.54666667,\n",
       "        63.38833333,  64.384     ,  66.37      ,  67.578     ,\n",
       "        69.10833333,  69.24166667,  69.95666667,  68.82666667,\n",
       "        65.07166667,  63.98333333,  66.17666667,  65.235     ,\n",
       "        65.06833333,  65.265     ,  68.76      ,  69.254     ,\n",
       "        67.78166667,  71.44666667,  73.06166667,  73.91166667,\n",
       "        74.13833333,  76.77666667,  78.86      ,  78.315     ,\n",
       "        76.60166667,  76.04833333,  75.04833333,  74.655     ,\n",
       "        77.25666667,  77.59666667,  75.965     ,  72.55      ,\n",
       "        74.38833333,  73.695     ,  73.05833333,  71.80666667,\n",
       "        74.32833333,  77.29333333,  77.32833333,  78.52166667,\n",
       "        78.905     ,  81.78166667,  84.69166667,  82.31666667,\n",
       "        80.28666667,  77.36      ,  74.28333333,  71.36833333,\n",
       "        66.87166667,  62.335     ,  60.01833333,  61.38833333,\n",
       "        60.45166667,  55.52166667,  53.078     ,  55.916     ,\n",
       "        60.00166667,  61.19833333,  61.53333333,  61.60666667,\n",
       "        62.175     ,  64.21166667,  66.87166667,  65.61333333,\n",
       "        65.79166667,  67.075     ,  67.52333333,  67.39      ,\n",
       "        69.78666667,  71.23      ,  71.812     ,  73.18833333,\n",
       "        70.98666667,  70.46333333,  71.78833333,  70.04      ,\n",
       "        65.53666667,  62.02666667,  61.62      ,  63.49333333,\n",
       "        65.16      ,  63.98333333,  65.94666667,  63.77833333,\n",
       "        63.31833333,  62.79166667,  58.23666667,  59.03333333,\n",
       "        59.495     ,  59.34833333])"
      ]
     },
     "execution_count": 17,
     "metadata": {},
     "output_type": "execute_result"
    }
   ],
   "source": [
    "brent_data_w['Значение'].values"
   ]
  },
  {
   "cell_type": "code",
   "execution_count": 18,
   "metadata": {},
   "outputs": [
    {
     "data": {
      "text/plain": [
       "[<matplotlib.lines.Line2D at 0xbb38080>]"
      ]
     },
     "execution_count": 18,
     "metadata": {},
     "output_type": "execute_result"
    },
    {
     "data": {
      "image/png": "[encoded data removed]",
      "text/plain": [
       "<Figure size 432x288 with 1 Axes>"
      ]
     },
     "metadata": {
      "needs_background": "light"
     },
     "output_type": "display_data"
    }
   ],
   "source": [
    "plt.plot( brent_data_w['Значение'].values )"
   ]
  },
  {
   "cell_type": "code",
   "execution_count": 19,
   "metadata": {},
   "outputs": [
    {
     "data": {
      "image/png": "[encoded data removed]",
      "text/plain": [
       "<Figure size 432x288 with 1 Axes>"
      ]
     },
     "metadata": {
      "needs_background": "light"
     },
     "output_type": "display_data"
    },
    {
     "data": {
      "image/png": "[encoded data removed]",
      "text/plain": [
       "<Figure size 432x288 with 1 Axes>"
      ]
     },
     "metadata": {
      "needs_background": "light"
     },
     "output_type": "display_data"
    }
   ],
   "source": [
    "sm.graphics.tsa.plot_acf(brent_data['Значение'].values, lags=26)\n",
    "plt.show()\n",
    "sm.graphics.tsa.plot_pacf(brent_data['Значение'].values, lags=26)\n",
    "plt.show()"
   ]
  },
  {
   "cell_type": "code",
   "execution_count": 20,
   "metadata": {},
   "outputs": [
    {
     "data": {
      "image/png": "[encoded data removed]",
      "text/plain": [
       "<Figure size 432x288 with 1 Axes>"
      ]
     },
     "metadata": {
      "needs_background": "light"
     },
     "output_type": "display_data"
    },
    {
     "data": {
      "image/png": "[encoded data removed]",
      "text/plain": [
       "<Figure size 432x288 with 1 Axes>"
      ]
     },
     "metadata": {
      "needs_background": "light"
     },
     "output_type": "display_data"
    }
   ],
   "source": [
    "sm.graphics.tsa.plot_acf(brent_data_w['Значение'].values, lags=26)\n",
    "plt.show()\n",
    "sm.graphics.tsa.plot_pacf(brent_data_w['Значение'].values, lags=26)\n",
    "plt.show()"
   ]
  },
  {
   "cell_type": "markdown",
   "metadata": {},
   "source": [
    "### Вопрос - почему ТАК!?"
   ]
  },
  {
   "cell_type": "markdown",
   "metadata": {},
   "source": [
    "### А не так:"
   ]
  },
  {
   "cell_type": "code",
   "execution_count": 21,
   "metadata": {},
   "outputs": [
    {
     "data": {
      "image/png": "[encoded data removed]",
      "text/plain": [
       "<Figure size 432x288 with 1 Axes>"
      ]
     },
     "metadata": {
      "needs_background": "light"
     },
     "output_type": "display_data"
    },
    {
     "name": "stderr",
     "output_type": "stream",
     "text": [
      "C:\\Users\\viv232\\anaconda3\\envs\\r_l\\lib\\site-packages\\statsmodels\\regression\\linear_model.py:1406: RuntimeWarning: invalid value encountered in sqrt\n",
      "  return rho, np.sqrt(sigmasq)\n"
     ]
    },
    {
     "data": {
      "image/png": "[encoded data removed]",
      "text/plain": [
       "<Figure size 432x288 with 1 Axes>"
      ]
     },
     "metadata": {
      "needs_background": "light"
     },
     "output_type": "display_data"
    }
   ],
   "source": [
    "sm.graphics.tsa.plot_acf(brent_data_w['Значение'].values[150:-150], lags=26)\n",
    "plt.show()\n",
    "sm.graphics.tsa.plot_pacf(brent_data_w['Значение'].values[150:-150], lags=26)\n",
    "plt.show()"
   ]
  },
  {
   "cell_type": "code",
   "execution_count": 23,
   "metadata": {},
   "outputs": [
    {
     "data": {
      "text/plain": [
       "DatetimeIndex(['2011-10-16'], dtype='datetime64[ns]', name='Дата', freq='W-SUN')"
      ]
     },
     "execution_count": 23,
     "metadata": {},
     "output_type": "execute_result"
    }
   ],
   "source": [
    "brent_data_w[brent_data_w['Значение'].isnull()].index"
   ]
  },
  {
   "cell_type": "markdown",
   "metadata": {},
   "source": [
    "#### Вот же она - ловушка :)"
   ]
  },
  {
   "cell_type": "code",
   "execution_count": 24,
   "metadata": {},
   "outputs": [
    {
     "data": {
      "text/plain": [
       "nan"
      ]
     },
     "execution_count": 24,
     "metadata": {},
     "output_type": "execute_result"
    }
   ],
   "source": [
    "brent_data_w.loc['2011-10-16', 'Значение']"
   ]
  },
  {
   "cell_type": "code",
   "execution_count": 25,
   "metadata": {},
   "outputs": [
    {
     "data": {
      "text/plain": [
       "Дата\n",
       "2011-10-02    103.878333\n",
       "2011-10-09    103.476667\n",
       "2011-10-16           NaN\n",
       "2011-10-23    109.756667\n",
       "2011-10-30    110.680000\n",
       "Freq: W-SUN, Name: Значение, dtype: float64"
      ]
     },
     "execution_count": 25,
     "metadata": {},
     "output_type": "execute_result"
    }
   ],
   "source": [
    "brent_data_w.loc['2011-10-01':'2011-10-30', 'Значение']"
   ]
  },
  {
   "cell_type": "code",
   "execution_count": null,
   "metadata": {},
   "outputs": [],
   "source": []
  }
 ],
 "metadata": {
  "kernelspec": {
   "display_name": "Python 3",
   "language": "python",
   "name": "python3"
  },
  "language_info": {
   "codemirror_mode": {
    "name": "ipython",
    "version": 3
   },
   "file_extension": ".py",
   "mimetype": "text/x-python",
   "name": "python",
   "nbconvert_exporter": "python",
   "pygments_lexer": "ipython3",
   "version": "3.7.1"
  }
 },
 "nbformat": 4,
 "nbformat_minor": 4
}
