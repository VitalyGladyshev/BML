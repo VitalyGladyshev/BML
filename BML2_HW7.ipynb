{
 "cells": [
  {
   "cell_type": "markdown",
   "metadata": {
    "cellId": "9inh4gkdkqaenugl01xwb",
    "id": "vKMNdupZ6Y-_"
   },
   "source": [
    "# ДЗ 7 Гладышев В.В.\n",
    "\n",
    "Использую датасет Kaggle соревнования: https://www.kaggle.com/c/geekbrains-competitive-data-analysis/overview\n",
    "<br>В данной работе нужно было построить модель для выявления случаев мошенничества (fraud detection)\n",
    "- 0 no fraud\n",
    "- 1 fraud"
   ]
  },
  {
   "cell_type": "code",
   "execution_count": null,
   "metadata": {
    "execution": {
     "iopub.execute_input": "2021-05-24T14:06:00.348132Z",
     "iopub.status.busy": "2021-05-24T14:06:00.347677Z",
     "iopub.status.idle": "2021-05-24T14:06:00.352753Z",
     "shell.execute_reply": "2021-05-24T14:06:00.351761Z",
     "shell.execute_reply.started": "2021-05-24T14:06:00.348039Z"
    }
   },
   "outputs": [
    {
     "name": "stdout",
     "output_type": "stream",
     "text": [
      "Collecting shap\n",
      "  Downloading shap-0.39.0.tar.gz (356 kB)\n",
      "\u001b[K     |████████████████████████████████| 356 kB 611 kB/s eta 0:00:01\n",
      "\u001b[?25hRequirement already satisfied: numpy in /home/vitaly/anaconda3/lib/python3.8/site-packages (from shap) (1.20.1)\n",
      "Requirement already satisfied: scipy in /home/vitaly/anaconda3/lib/python3.8/site-packages (from shap) (1.6.2)\n",
      "Requirement already satisfied: scikit-learn in /home/vitaly/anaconda3/lib/python3.8/site-packages (from shap) (0.24.1)\n",
      "Requirement already satisfied: pandas in /home/vitaly/anaconda3/lib/python3.8/site-packages (from shap) (1.2.4)\n",
      "Requirement already satisfied: tqdm>4.25.0 in /home/vitaly/anaconda3/lib/python3.8/site-packages (from shap) (4.59.0)\n",
      "Collecting slicer==0.0.7\n",
      "  Downloading slicer-0.0.7-py3-none-any.whl (14 kB)\n",
      "Requirement already satisfied: numba in /home/vitaly/anaconda3/lib/python3.8/site-packages (from shap) (0.53.1)\n",
      "Requirement already satisfied: cloudpickle in /home/vitaly/anaconda3/lib/python3.8/site-packages (from shap) (1.6.0)\n",
      "Requirement already satisfied: llvmlite<0.37,>=0.36.0rc1 in /home/vitaly/anaconda3/lib/python3.8/site-packages (from numba->shap) (0.36.0)\n",
      "Requirement already satisfied: setuptools in /home/vitaly/anaconda3/lib/python3.8/site-packages (from numba->shap) (52.0.0.post20210125)\n",
      "Requirement already satisfied: python-dateutil>=2.7.3 in /home/vitaly/anaconda3/lib/python3.8/site-packages (from pandas->shap) (2.8.1)\n",
      "Requirement already satisfied: pytz>=2017.3 in /home/vitaly/anaconda3/lib/python3.8/site-packages (from pandas->shap) (2021.1)\n",
      "Requirement already satisfied: six>=1.5 in /home/vitaly/anaconda3/lib/python3.8/site-packages (from python-dateutil>=2.7.3->pandas->shap) (1.15.0)\n",
      "Requirement already satisfied: joblib>=0.11 in /home/vitaly/anaconda3/lib/python3.8/site-packages (from scikit-learn->shap) (1.0.1)\n",
      "Requirement already satisfied: threadpoolctl>=2.0.0 in /home/vitaly/anaconda3/lib/python3.8/site-packages (from scikit-learn->shap) (2.1.0)\n",
      "Building wheels for collected packages: shap\n",
      "  Building wheel for shap (setup.py) ... \u001b[?25ldone\n",
      "\u001b[?25h  Created wheel for shap: filename=shap-0.39.0-cp38-cp38-linux_x86_64.whl size=549877 sha256=3984040fd591dfc7a2a8fccdba5d4a3fa83ce5f569ce9f15900bfdacec296cb4\n",
      "  Stored in directory: /home/vitaly/.cache/pip/wheels/3d/c9/06/734ed80d6d61fad331974bf62017b4ea6b33488082b9f5e67e\n",
      "Successfully built shap\n"
     ]
    }
   ],
   "source": [
    "pip install shap"
   ]
  },
  {
   "cell_type": "code",
   "execution_count": null,
   "metadata": {
    "cellId": "k1z9uduxz88euvfvnyt",
    "execution": {
     "iopub.execute_input": "2021-05-24T14:06:00.355055Z",
     "iopub.status.busy": "2021-05-24T14:06:00.354474Z",
     "iopub.status.idle": "2021-05-24T14:06:10.331614Z",
     "shell.execute_reply": "2021-05-24T14:06:10.330455Z",
     "shell.execute_reply.started": "2021-05-24T14:06:00.355012Z"
    },
    "id": "nC5PXTCu6Y_D",
    "outputId": "18c8743e-175e-427d-ee9c-c60432a6b017"
   },
   "outputs": [],
   "source": [
    "import numpy as np\n",
    "import pandas as pd\n",
    "import matplotlib.pyplot as plt\n",
    "import math\n",
    "\n",
    "from tqdm import tqdm\n",
    "\n",
    "from sklearn.metrics import accuracy_score\n",
    "from sklearn.metrics import confusion_matrix\n",
    "from sklearn.metrics import precision_score\n",
    "from sklearn.metrics import recall_score\n",
    "from sklearn.metrics import roc_auc_score\n",
    "from sklearn.metrics import f1_score\n",
    "from sklearn.metrics import mean_absolute_error\n",
    "from sklearn.metrics import mean_squared_error\n",
    "from sklearn.metrics import roc_curve\n",
    "from sklearn.metrics import classification_report\n",
    "from sklearn.metrics import precision_recall_curve\n",
    "from sklearn.metrics import log_loss\n",
    "\n",
    "from sklearn.model_selection import GridSearchCV\n",
    "import xgboost as xgb\n",
    "from scipy.stats import ttest_rel\n",
    "\n",
    "from sklearn.model_selection import KFold, StratifiedKFold, train_test_split, cross_val_score, cross_validate\n",
    "\n",
    "from typing import List, Optional, Dict, Tuple\n",
    "\n",
    "import shap\n",
    "shap.initjs()"
   ]
  },
  {
   "cell_type": "code",
   "execution_count": 3,
   "metadata": {
    "execution": {
     "iopub.execute_input": "2021-05-24T14:06:10.334188Z",
     "iopub.status.busy": "2021-05-24T14:06:10.333627Z",
     "iopub.status.idle": "2021-05-24T14:06:11.515359Z",
     "shell.execute_reply": "2021-05-24T14:06:11.514281Z",
     "shell.execute_reply.started": "2021-05-24T14:06:10.334121Z"
    }
   },
   "outputs": [
    {
     "data": {
      "text/html": [
       "<style type='text/css'>\n",
       ".datatable table.frame { margin-bottom: 0; }\n",
       ".datatable table.frame thead { border-bottom: none; }\n",
       ".datatable table.frame tr.coltypes td {  color: #FFFFFF;  line-height: 6px;  padding: 0 0.5em;}\n",
       ".datatable .bool    { background: #DDDD99; }\n",
       ".datatable .object  { background: #565656; }\n",
       ".datatable .int     { background: #5D9E5D; }\n",
       ".datatable .float   { background: #4040CC; }\n",
       ".datatable .str     { background: #CC4040; }\n",
       ".datatable .row_index {  background: var(--jp-border-color3);  border-right: 1px solid var(--jp-border-color0);  color: var(--jp-ui-font-color3);  font-size: 9px;}\n",
       ".datatable .frame tr.coltypes .row_index {  background: var(--jp-border-color0);}\n",
       ".datatable th:nth-child(2) { padding-left: 12px; }\n",
       ".datatable .hellipsis {  color: var(--jp-cell-editor-border-color);}\n",
       ".datatable .vellipsis {  background: var(--jp-layout-color0);  color: var(--jp-cell-editor-border-color);}\n",
       ".datatable .na {  color: var(--jp-cell-editor-border-color);  font-size: 80%;}\n",
       ".datatable .footer { font-size: 9px; }\n",
       ".datatable .frame_dimensions {  background: var(--jp-border-color3);  border-top: 1px solid var(--jp-border-color0);  color: var(--jp-ui-font-color3);  display: inline-block;  opacity: 0.6;  padding: 1px 10px 1px 5px;}\n",
       "</style>\n"
      ],
      "text/plain": [
       "<IPython.core.display.HTML object>"
      ]
     },
     "metadata": {},
     "output_type": "display_data"
    }
   ],
   "source": [
    "import lightgbm as lgbm"
   ]
  },
  {
   "cell_type": "code",
   "execution_count": 4,
   "metadata": {
    "execution": {
     "iopub.execute_input": "2021-05-24T14:06:11.517386Z",
     "iopub.status.busy": "2021-05-24T14:06:11.517086Z",
     "iopub.status.idle": "2021-05-24T14:06:11.525465Z",
     "shell.execute_reply": "2021-05-24T14:06:11.523994Z",
     "shell.execute_reply.started": "2021-05-24T14:06:11.517357Z"
    }
   },
   "outputs": [
    {
     "name": "stdout",
     "output_type": "stream",
     "text": [
      "/kaggle/input/geekbrains-competitive-data-analysis/client_profile.csv\n",
      "/kaggle/input/geekbrains-competitive-data-analysis/train.csv\n",
      "/kaggle/input/geekbrains-competitive-data-analysis/test.csv\n",
      "/kaggle/input/geekbrains-competitive-data-analysis/bki.csv\n",
      "/kaggle/input/geekbrains-competitive-data-analysis/payments.csv\n",
      "/kaggle/input/geekbrains-competitive-data-analysis/sample_submit.csv\n",
      "/kaggle/input/geekbrains-competitive-data-analysis/applications_history.csv\n"
     ]
    }
   ],
   "source": [
    "import os\n",
    "for dirname, _, filenames in os.walk('/kaggle/input'):\n",
    "    for filename in filenames:\n",
    "        print(os.path.join(dirname, filename))\n",
    "\n",
    "data_dir = dirname + \"/\"\n",
    "working_dir = \"/kaggle/working/\""
   ]
  },
  {
   "cell_type": "markdown",
   "metadata": {
    "cellId": "zudi6k4eubbduiu0safsj",
    "id": "r31123il6Y_J"
   },
   "source": [
    "## Загрузка данных"
   ]
  },
  {
   "cell_type": "code",
   "execution_count": 5,
   "metadata": {
    "cellId": "dj64uxrs0ancmkkyccbhl",
    "execution": {
     "iopub.execute_input": "2021-05-24T14:06:11.528922Z",
     "iopub.status.busy": "2021-05-24T14:06:11.528408Z",
     "iopub.status.idle": "2021-05-24T14:06:11.540978Z",
     "shell.execute_reply": "2021-05-24T14:06:11.539453Z",
     "shell.execute_reply.started": "2021-05-24T14:06:11.528854Z"
    },
    "id": "3joPSrp66Y_V"
   },
   "outputs": [],
   "source": [
    "src_list = [\"train\", \"client_profile\"]"
   ]
  },
  {
   "cell_type": "code",
   "execution_count": 6,
   "metadata": {
    "cellId": "sy50jk4tqdcqqylt6h0gt",
    "execution": {
     "iopub.execute_input": "2021-05-24T14:06:11.542512Z",
     "iopub.status.busy": "2021-05-24T14:06:11.542199Z",
     "iopub.status.idle": "2021-05-24T14:06:13.201251Z",
     "shell.execute_reply": "2021-05-24T14:06:13.199954Z",
     "shell.execute_reply.started": "2021-05-24T14:06:11.542482Z"
    },
    "id": "zZ8mnI636Y_b"
   },
   "outputs": [],
   "source": [
    "source = {}\n",
    "for name in src_list:\n",
    "    source[name] = pd.read_csv(dirname + \"/\" + name + \".csv\")"
   ]
  },
  {
   "cell_type": "markdown",
   "metadata": {
    "cellId": "81r171htyy9zc3ydjkkdpb",
    "id": "-rnLW6kA6Y_r"
   },
   "source": [
    "## Ключевые характеристики"
   ]
  },
  {
   "cell_type": "code",
   "execution_count": 7,
   "metadata": {
    "cellId": "o01yof1fqs9ornfs2bbhm",
    "execution": {
     "iopub.execute_input": "2021-05-24T14:06:13.203227Z",
     "iopub.status.busy": "2021-05-24T14:06:13.202768Z",
     "iopub.status.idle": "2021-05-24T14:06:13.209057Z",
     "shell.execute_reply": "2021-05-24T14:06:13.207953Z",
     "shell.execute_reply.started": "2021-05-24T14:06:13.203184Z"
    },
    "id": "d6H07HSJ6Y_t",
    "outputId": "8cc3c503-f4c6-41c1-c907-7ac24857e4f1"
   },
   "outputs": [
    {
     "name": "stdout",
     "output_type": "stream",
     "text": [
      "train \n",
      " (110093, 3) \n",
      "\n",
      "client_profile \n",
      " (250000, 24) \n",
      "\n"
     ]
    }
   ],
   "source": [
    "for name in src_list:\n",
    "    print(f\"{name} \\n {source[name].shape} \\n\")"
   ]
  },
  {
   "cell_type": "code",
   "execution_count": 8,
   "metadata": {
    "cellId": "g3lbxfv5w6wecfeqnot6r",
    "execution": {
     "iopub.execute_input": "2021-05-24T14:06:13.210766Z",
     "iopub.status.busy": "2021-05-24T14:06:13.210439Z",
     "iopub.status.idle": "2021-05-24T14:06:13.240574Z",
     "shell.execute_reply": "2021-05-24T14:06:13.239480Z",
     "shell.execute_reply.started": "2021-05-24T14:06:13.210735Z"
    },
    "id": "-7QSPiET6Y_6",
    "outputId": "a563576c-57b6-4e45-a19a-69e8a9494528"
   },
   "outputs": [
    {
     "data": {
      "text/html": [
       "<div>\n",
       "<style scoped>\n",
       "    .dataframe tbody tr th:only-of-type {\n",
       "        vertical-align: middle;\n",
       "    }\n",
       "\n",
       "    .dataframe tbody tr th {\n",
       "        vertical-align: top;\n",
       "    }\n",
       "\n",
       "    .dataframe thead th {\n",
       "        text-align: right;\n",
       "    }\n",
       "</style>\n",
       "<table border=\"1\" class=\"dataframe\">\n",
       "  <thead>\n",
       "    <tr style=\"text-align: right;\">\n",
       "      <th></th>\n",
       "      <th>APPLICATION_NUMBER</th>\n",
       "      <th>TARGET</th>\n",
       "      <th>NAME_CONTRACT_TYPE</th>\n",
       "    </tr>\n",
       "  </thead>\n",
       "  <tbody>\n",
       "    <tr>\n",
       "      <th>0</th>\n",
       "      <td>123687442</td>\n",
       "      <td>0</td>\n",
       "      <td>Cash</td>\n",
       "    </tr>\n",
       "    <tr>\n",
       "      <th>1</th>\n",
       "      <td>123597908</td>\n",
       "      <td>1</td>\n",
       "      <td>Cash</td>\n",
       "    </tr>\n",
       "    <tr>\n",
       "      <th>2</th>\n",
       "      <td>123526683</td>\n",
       "      <td>0</td>\n",
       "      <td>Cash</td>\n",
       "    </tr>\n",
       "  </tbody>\n",
       "</table>\n",
       "</div>"
      ],
      "text/plain": [
       "   APPLICATION_NUMBER  TARGET NAME_CONTRACT_TYPE\n",
       "0           123687442       0               Cash\n",
       "1           123597908       1               Cash\n",
       "2           123526683       0               Cash"
      ]
     },
     "execution_count": 8,
     "metadata": {},
     "output_type": "execute_result"
    }
   ],
   "source": [
    "source['train'].head(3)"
   ]
  },
  {
   "cell_type": "code",
   "execution_count": 9,
   "metadata": {
    "cellId": "xcdc7ku7132yo8g8411lg",
    "execution": {
     "iopub.execute_input": "2021-05-24T14:06:13.243454Z",
     "iopub.status.busy": "2021-05-24T14:06:13.243162Z",
     "iopub.status.idle": "2021-05-24T14:06:13.275642Z",
     "shell.execute_reply": "2021-05-24T14:06:13.274522Z",
     "shell.execute_reply.started": "2021-05-24T14:06:13.243425Z"
    },
    "id": "2IvWFbs96ZAA",
    "outputId": "e9324ce0-8b4a-4dd1-bb04-d91eaa2d322e"
   },
   "outputs": [
    {
     "data": {
      "text/html": [
       "<div>\n",
       "<style scoped>\n",
       "    .dataframe tbody tr th:only-of-type {\n",
       "        vertical-align: middle;\n",
       "    }\n",
       "\n",
       "    .dataframe tbody tr th {\n",
       "        vertical-align: top;\n",
       "    }\n",
       "\n",
       "    .dataframe thead th {\n",
       "        text-align: right;\n",
       "    }\n",
       "</style>\n",
       "<table border=\"1\" class=\"dataframe\">\n",
       "  <thead>\n",
       "    <tr style=\"text-align: right;\">\n",
       "      <th></th>\n",
       "      <th>APPLICATION_NUMBER</th>\n",
       "      <th>GENDER</th>\n",
       "      <th>CHILDRENS</th>\n",
       "      <th>TOTAL_SALARY</th>\n",
       "      <th>AMOUNT_CREDIT</th>\n",
       "      <th>AMOUNT_ANNUITY</th>\n",
       "      <th>EDUCATION_LEVEL</th>\n",
       "      <th>FAMILY_STATUS</th>\n",
       "      <th>REGION_POPULATION</th>\n",
       "      <th>AGE</th>\n",
       "      <th>...</th>\n",
       "      <th>FAMILY_SIZE</th>\n",
       "      <th>EXTERNAL_SCORING_RATING_1</th>\n",
       "      <th>EXTERNAL_SCORING_RATING_2</th>\n",
       "      <th>EXTERNAL_SCORING_RATING_3</th>\n",
       "      <th>AMT_REQ_CREDIT_BUREAU_HOUR</th>\n",
       "      <th>AMT_REQ_CREDIT_BUREAU_DAY</th>\n",
       "      <th>AMT_REQ_CREDIT_BUREAU_WEEK</th>\n",
       "      <th>AMT_REQ_CREDIT_BUREAU_MON</th>\n",
       "      <th>AMT_REQ_CREDIT_BUREAU_QRT</th>\n",
       "      <th>AMT_REQ_CREDIT_BUREAU_YEAR</th>\n",
       "    </tr>\n",
       "  </thead>\n",
       "  <tbody>\n",
       "    <tr>\n",
       "      <th>0</th>\n",
       "      <td>123666076</td>\n",
       "      <td>F</td>\n",
       "      <td>0</td>\n",
       "      <td>157500.0</td>\n",
       "      <td>270000.0</td>\n",
       "      <td>13500.0</td>\n",
       "      <td>Incomplete higher</td>\n",
       "      <td>Civil marriage</td>\n",
       "      <td>0.008068</td>\n",
       "      <td>8560</td>\n",
       "      <td>...</td>\n",
       "      <td>2.0</td>\n",
       "      <td>0.329471</td>\n",
       "      <td>0.236315</td>\n",
       "      <td>0.678568</td>\n",
       "      <td>0.0</td>\n",
       "      <td>0.0</td>\n",
       "      <td>0.0</td>\n",
       "      <td>0.0</td>\n",
       "      <td>1.0</td>\n",
       "      <td>2.0</td>\n",
       "    </tr>\n",
       "    <tr>\n",
       "      <th>1</th>\n",
       "      <td>123423688</td>\n",
       "      <td>F</td>\n",
       "      <td>0</td>\n",
       "      <td>270000.0</td>\n",
       "      <td>536917.5</td>\n",
       "      <td>28467.0</td>\n",
       "      <td>Secondary / secondary special</td>\n",
       "      <td>Married</td>\n",
       "      <td>0.020246</td>\n",
       "      <td>23187</td>\n",
       "      <td>...</td>\n",
       "      <td>2.0</td>\n",
       "      <td>NaN</td>\n",
       "      <td>0.442295</td>\n",
       "      <td>0.802745</td>\n",
       "      <td>0.0</td>\n",
       "      <td>0.0</td>\n",
       "      <td>0.0</td>\n",
       "      <td>0.0</td>\n",
       "      <td>1.0</td>\n",
       "      <td>1.0</td>\n",
       "    </tr>\n",
       "    <tr>\n",
       "      <th>2</th>\n",
       "      <td>123501780</td>\n",
       "      <td>M</td>\n",
       "      <td>1</td>\n",
       "      <td>427500.0</td>\n",
       "      <td>239850.0</td>\n",
       "      <td>23850.0</td>\n",
       "      <td>Incomplete higher</td>\n",
       "      <td>Married</td>\n",
       "      <td>0.072508</td>\n",
       "      <td>14387</td>\n",
       "      <td>...</td>\n",
       "      <td>3.0</td>\n",
       "      <td>0.409017</td>\n",
       "      <td>0.738159</td>\n",
       "      <td>NaN</td>\n",
       "      <td>NaN</td>\n",
       "      <td>NaN</td>\n",
       "      <td>NaN</td>\n",
       "      <td>NaN</td>\n",
       "      <td>NaN</td>\n",
       "      <td>NaN</td>\n",
       "    </tr>\n",
       "  </tbody>\n",
       "</table>\n",
       "<p>3 rows × 24 columns</p>\n",
       "</div>"
      ],
      "text/plain": [
       "   APPLICATION_NUMBER GENDER  CHILDRENS  TOTAL_SALARY  AMOUNT_CREDIT  \\\n",
       "0           123666076      F          0      157500.0       270000.0   \n",
       "1           123423688      F          0      270000.0       536917.5   \n",
       "2           123501780      M          1      427500.0       239850.0   \n",
       "\n",
       "   AMOUNT_ANNUITY                EDUCATION_LEVEL   FAMILY_STATUS  \\\n",
       "0         13500.0              Incomplete higher  Civil marriage   \n",
       "1         28467.0  Secondary / secondary special         Married   \n",
       "2         23850.0              Incomplete higher         Married   \n",
       "\n",
       "   REGION_POPULATION    AGE  ...  FAMILY_SIZE  EXTERNAL_SCORING_RATING_1  \\\n",
       "0           0.008068   8560  ...          2.0                   0.329471   \n",
       "1           0.020246  23187  ...          2.0                        NaN   \n",
       "2           0.072508  14387  ...          3.0                   0.409017   \n",
       "\n",
       "   EXTERNAL_SCORING_RATING_2  EXTERNAL_SCORING_RATING_3  \\\n",
       "0                   0.236315                   0.678568   \n",
       "1                   0.442295                   0.802745   \n",
       "2                   0.738159                        NaN   \n",
       "\n",
       "   AMT_REQ_CREDIT_BUREAU_HOUR  AMT_REQ_CREDIT_BUREAU_DAY  \\\n",
       "0                         0.0                        0.0   \n",
       "1                         0.0                        0.0   \n",
       "2                         NaN                        NaN   \n",
       "\n",
       "   AMT_REQ_CREDIT_BUREAU_WEEK  AMT_REQ_CREDIT_BUREAU_MON  \\\n",
       "0                         0.0                        0.0   \n",
       "1                         0.0                        0.0   \n",
       "2                         NaN                        NaN   \n",
       "\n",
       "   AMT_REQ_CREDIT_BUREAU_QRT  AMT_REQ_CREDIT_BUREAU_YEAR  \n",
       "0                        1.0                         2.0  \n",
       "1                        1.0                         1.0  \n",
       "2                        NaN                         NaN  \n",
       "\n",
       "[3 rows x 24 columns]"
      ]
     },
     "execution_count": 9,
     "metadata": {},
     "output_type": "execute_result"
    }
   ],
   "source": [
    "source['client_profile'].head(3)"
   ]
  },
  {
   "cell_type": "code",
   "execution_count": 10,
   "metadata": {
    "cellId": "1p3yw74a1kbxyqrvtp0gxk",
    "execution": {
     "iopub.execute_input": "2021-05-24T14:06:13.278239Z",
     "iopub.status.busy": "2021-05-24T14:06:13.277948Z",
     "iopub.status.idle": "2021-05-24T14:06:13.401607Z",
     "shell.execute_reply": "2021-05-24T14:06:13.400507Z",
     "shell.execute_reply.started": "2021-05-24T14:06:13.278211Z"
    },
    "id": "_EC_Ljeu6ZAr",
    "outputId": "a788d578-7665-4c3e-bbf3-c9afc7b6a017",
    "scrolled": true
   },
   "outputs": [
    {
     "name": "stdout",
     "output_type": "stream",
     "text": [
      "train \n",
      "\n",
      "<class 'pandas.core.frame.DataFrame'>\n",
      "RangeIndex: 110093 entries, 0 to 110092\n",
      "Data columns (total 3 columns):\n",
      " #   Column              Non-Null Count   Dtype \n",
      "---  ------              --------------   ----- \n",
      " 0   APPLICATION_NUMBER  110093 non-null  int64 \n",
      " 1   TARGET              110093 non-null  int64 \n",
      " 2   NAME_CONTRACT_TYPE  110093 non-null  object\n",
      "dtypes: int64(2), object(1)\n",
      "memory usage: 2.5+ MB\n",
      "\n",
      "\n",
      "client_profile \n",
      "\n",
      "<class 'pandas.core.frame.DataFrame'>\n",
      "RangeIndex: 250000 entries, 0 to 249999\n",
      "Data columns (total 24 columns):\n",
      " #   Column                      Non-Null Count   Dtype  \n",
      "---  ------                      --------------   -----  \n",
      " 0   APPLICATION_NUMBER          250000 non-null  int64  \n",
      " 1   GENDER                      250000 non-null  object \n",
      " 2   CHILDRENS                   250000 non-null  int64  \n",
      " 3   TOTAL_SALARY                250000 non-null  float64\n",
      " 4   AMOUNT_CREDIT               250000 non-null  float64\n",
      " 5   AMOUNT_ANNUITY              249989 non-null  float64\n",
      " 6   EDUCATION_LEVEL             250000 non-null  object \n",
      " 7   FAMILY_STATUS               250000 non-null  object \n",
      " 8   REGION_POPULATION           250000 non-null  float64\n",
      " 9   AGE                         250000 non-null  int64  \n",
      " 10  DAYS_ON_LAST_JOB            250000 non-null  int64  \n",
      " 11  OWN_CAR_AGE                 85041 non-null   float64\n",
      " 12  FLAG_PHONE                  250000 non-null  int64  \n",
      " 13  FLAG_EMAIL                  250000 non-null  int64  \n",
      " 14  FAMILY_SIZE                 249998 non-null  float64\n",
      " 15  EXTERNAL_SCORING_RATING_1   109121 non-null  float64\n",
      " 16  EXTERNAL_SCORING_RATING_2   249468 non-null  float64\n",
      " 17  EXTERNAL_SCORING_RATING_3   200462 non-null  float64\n",
      " 18  AMT_REQ_CREDIT_BUREAU_HOUR  216293 non-null  float64\n",
      " 19  AMT_REQ_CREDIT_BUREAU_DAY   216293 non-null  float64\n",
      " 20  AMT_REQ_CREDIT_BUREAU_WEEK  216293 non-null  float64\n",
      " 21  AMT_REQ_CREDIT_BUREAU_MON   216293 non-null  float64\n",
      " 22  AMT_REQ_CREDIT_BUREAU_QRT   216293 non-null  float64\n",
      " 23  AMT_REQ_CREDIT_BUREAU_YEAR  216293 non-null  float64\n",
      "dtypes: float64(15), int64(6), object(3)\n",
      "memory usage: 45.8+ MB\n",
      "\n",
      "\n"
     ]
    }
   ],
   "source": [
    "for name in src_list:\n",
    "    print(f\"{name} \\n\")\n",
    "    source[name].info()\n",
    "    print(\"\\n\")"
   ]
  },
  {
   "cell_type": "code",
   "execution_count": 11,
   "metadata": {
    "execution": {
     "iopub.execute_input": "2021-05-24T14:06:13.403088Z",
     "iopub.status.busy": "2021-05-24T14:06:13.402791Z",
     "iopub.status.idle": "2021-05-24T14:06:13.412330Z",
     "shell.execute_reply": "2021-05-24T14:06:13.411499Z",
     "shell.execute_reply.started": "2021-05-24T14:06:13.403059Z"
    }
   },
   "outputs": [
    {
     "data": {
      "text/html": [
       "<div>\n",
       "<style scoped>\n",
       "    .dataframe tbody tr th:only-of-type {\n",
       "        vertical-align: middle;\n",
       "    }\n",
       "\n",
       "    .dataframe tbody tr th {\n",
       "        vertical-align: top;\n",
       "    }\n",
       "\n",
       "    .dataframe thead th {\n",
       "        text-align: right;\n",
       "    }\n",
       "</style>\n",
       "<table border=\"1\" class=\"dataframe\">\n",
       "  <thead>\n",
       "    <tr style=\"text-align: right;\">\n",
       "      <th></th>\n",
       "      <th>APPLICATION_NUMBER</th>\n",
       "      <th>TARGET</th>\n",
       "      <th>NAME_CONTRACT_TYPE</th>\n",
       "    </tr>\n",
       "  </thead>\n",
       "  <tbody>\n",
       "    <tr>\n",
       "      <th>110088</th>\n",
       "      <td>123458312</td>\n",
       "      <td>0</td>\n",
       "      <td>Cash</td>\n",
       "    </tr>\n",
       "    <tr>\n",
       "      <th>110089</th>\n",
       "      <td>123672463</td>\n",
       "      <td>0</td>\n",
       "      <td>Cash</td>\n",
       "    </tr>\n",
       "    <tr>\n",
       "      <th>110090</th>\n",
       "      <td>123723001</td>\n",
       "      <td>0</td>\n",
       "      <td>Cash</td>\n",
       "    </tr>\n",
       "    <tr>\n",
       "      <th>110091</th>\n",
       "      <td>123554358</td>\n",
       "      <td>0</td>\n",
       "      <td>Cash</td>\n",
       "    </tr>\n",
       "    <tr>\n",
       "      <th>110092</th>\n",
       "      <td>123676265</td>\n",
       "      <td>0</td>\n",
       "      <td>Credit Card</td>\n",
       "    </tr>\n",
       "  </tbody>\n",
       "</table>\n",
       "</div>"
      ],
      "text/plain": [
       "        APPLICATION_NUMBER  TARGET NAME_CONTRACT_TYPE\n",
       "110088           123458312       0               Cash\n",
       "110089           123672463       0               Cash\n",
       "110090           123723001       0               Cash\n",
       "110091           123554358       0               Cash\n",
       "110092           123676265       0        Credit Card"
      ]
     },
     "execution_count": 11,
     "metadata": {},
     "output_type": "execute_result"
    }
   ],
   "source": [
    "data = source['train']\n",
    "data.tail()"
   ]
  },
  {
   "cell_type": "markdown",
   "metadata": {
    "cellId": "g3t8fscnl1tzfm8q4331",
    "id": "P0IFgUFR6ZBc"
   },
   "source": [
    "### Добавляем client_profile"
   ]
  },
  {
   "cell_type": "code",
   "execution_count": 12,
   "metadata": {
    "cellId": "fyx4jln09ur01ki818v6smr",
    "cellView": "both",
    "execution": {
     "iopub.execute_input": "2021-05-24T14:06:13.413802Z",
     "iopub.status.busy": "2021-05-24T14:06:13.413502Z",
     "iopub.status.idle": "2021-05-24T14:06:13.431379Z",
     "shell.execute_reply": "2021-05-24T14:06:13.430228Z",
     "shell.execute_reply.started": "2021-05-24T14:06:13.413773Z"
    },
    "id": "zescElkkPj0Z"
   },
   "outputs": [],
   "source": [
    "def create_client_profile_features(X: pd.DataFrame, copy: bool = True) -> pd.DataFrame:\n",
    "    \"\"\"\n",
    "    Создание признаков на основе профиля клиентов.\n",
    "\n",
    "    Parameters\n",
    "    ----------\n",
    "    X: pandas.core.frame.DataFrame\n",
    "        Матрица признаков с исходным профилем клиента.\n",
    "\n",
    "    copy: bool, optional, default = True\n",
    "        Флаг использования копии датафрейма X.\n",
    "        Опциональный параметр, по умолчанию, равен True.\n",
    "\n",
    "    Returns\n",
    "    -------\n",
    "    X_transformed: pandas.core.frame.DataFrame\n",
    "        Расширенная матрица признаков с профилем клиентов.\n",
    "\n",
    "    \"\"\"\n",
    "    if copy:\n",
    "        X = X.copy()\n",
    "\n",
    "    X[\"DAYS_ON_LAST_JOB\"] = X[\"DAYS_ON_LAST_JOB\"].replace(365243, np.nan)\n",
    "    bki_flags = [flag for flag in X.columns if \"AMT_REQ_CREDIT_BUREAU\" in flag]\n",
    "    X[\"BKI_REQUESTS_COUNT\"] = X[bki_flags].sum(axis=1)\n",
    "    X[\"BKI_KURTOSIS\"] = X[bki_flags].kurtosis(axis=1)\n",
    "\n",
    "    X[\"EXTERNAL_SCORING_PROD\"] = X[\"EXTERNAL_SCORING_RATING_1\"] * X[\"EXTERNAL_SCORING_RATING_2\"] * X[\"EXTERNAL_SCORING_RATING_3\"]\n",
    "    X[\"EXTERNAL_SCORING_WEIGHTED\"] = X.EXTERNAL_SCORING_RATING_1 * 2 + X.EXTERNAL_SCORING_RATING_2 * 1 + X.EXTERNAL_SCORING_RATING_3 * 3\n",
    "\n",
    "    for function_name in [\"min\", \"max\", \"mean\", \"nanmedian\", \"var\"]:\n",
    "        feature_name = \"EXTERNAL_SCORING_RATING_{}\".format(function_name)\n",
    "        X[feature_name] = eval(\"np.{}\".format(function_name))(\n",
    "            X[[\"EXTERNAL_SCORING_RATING_1\", \"EXTERNAL_SCORING_RATING_2\", \"EXTERNAL_SCORING_RATING_3\"]], axis=1\n",
    "        )\n",
    "\n",
    "    # Отношение между основными фин. показателями\n",
    "    X['RATIO_CREDIT_TO_ANNUITY'] = X['AMOUNT_CREDIT'] / X['AMOUNT_ANNUITY']\n",
    "    X[\"RATIO_ANNUITY_TO_SALARY\"] = X['AMOUNT_ANNUITY'] / X['TOTAL_SALARY']\n",
    "    X['RATIO_CREDIT_TO_SALARY'] = X['AMOUNT_CREDIT'] / X['TOTAL_SALARY']\n",
    "    #X[\"TOTAL_SALARY_NET\"] = X[\"TOTAL_SALARY\"] - X[\"AMOUNT_ANNUITY\"]\n",
    "\n",
    "    # Отношение фин. показателей к возрасту и временным фичам\n",
    "    X[\"RATIO_ANNUITY_TO_AGE\"] = X[\"AMOUNT_ANNUITY\"] / X[\"AGE\"]\n",
    "    X[\"RATIO_CREDIT_TO_AGE\"] = X[\"AMOUNT_CREDIT\"] / X[\"AGE\"]\n",
    "    X[\"RATIO_SALARY_TO_AGE\"] = X[\"TOTAL_SALARY\"] / X[\"AGE\"]\n",
    "    X[\"RATIO_SALARY_TO_EXPERIENCE\"] = X[\"TOTAL_SALARY\"] / X[\"DAYS_ON_LAST_JOB\"]\n",
    "    X[\"RATIO_CREDIT_TO_EXPERIENCE\"] = X[\"AMOUNT_CREDIT\"] / X[\"DAYS_ON_LAST_JOB\"]\n",
    "    X[\"RATIO_ANNUITY_TO_EXPERIENCE\"] = X[\"AMOUNT_ANNUITY\"] / X[\"DAYS_ON_LAST_JOB\"]\n",
    "\n",
    "    # Отношение врменных признаков\n",
    "    X[\"RATIO_AGE_TO_EXPERIENCE\"] = X[\"AGE\"] / X[\"DAYS_ON_LAST_JOB\"]\n",
    "    X[\"RATIO_SALARY_TO_REGION_POPULATION\"] = X[\"TOTAL_SALARY\"] * X[\"REGION_POPULATION\"]\n",
    "    X[\"RATIO_CAR_TO_EXPERIENCE\"] = X[\"OWN_CAR_AGE\"] / X[\"DAYS_ON_LAST_JOB\"]\n",
    "    X[\"RATIO_CAR_TO_AGE\"] = X[\"OWN_CAR_AGE\"] / X[\"AGE\"]\n",
    "\n",
    "    # Произведение фин. показателей кредита на вероятность дефолта\n",
    "    # Такая штука называется математическим ожиданием дефолта или ожидаемыми потерями\n",
    "    X[\"EXPECTED_TOTAL_LOSS_1\"] = X[\"EXTERNAL_SCORING_RATING_1\"] * X[\"AMOUNT_CREDIT\"]\n",
    "    X[\"EXPECTED_TOTAL_LOSS_2\"] = X[\"EXTERNAL_SCORING_RATING_2\"] * X[\"AMOUNT_CREDIT\"]\n",
    "    X[\"EXPECTED_TOTAL_LOSS_3\"] = X[\"EXTERNAL_SCORING_RATING_3\"] * X[\"AMOUNT_CREDIT\"]\n",
    "    X[\"EXPECTED_MONTHLY_LOSS_1\"] = X[\"EXTERNAL_SCORING_RATING_1\"] * X[\"AMOUNT_ANNUITY\"]\n",
    "    X[\"EXPECTED_MONTHLY_LOSS_2\"] = X[\"EXTERNAL_SCORING_RATING_2\"] * X[\"AMOUNT_ANNUITY\"]\n",
    "    X[\"EXPECTED_MONTHLY_LOSS_3\"] = X[\"EXTERNAL_SCORING_RATING_3\"] * X[\"AMOUNT_ANNUITY\"]\n",
    "\n",
    "    return X"
   ]
  },
  {
   "cell_type": "code",
   "execution_count": 13,
   "metadata": {
    "cellId": "7m6gtysxbfmch79p4dnlg5",
    "execution": {
     "iopub.execute_input": "2021-05-24T14:06:13.433055Z",
     "iopub.status.busy": "2021-05-24T14:06:13.432658Z",
     "iopub.status.idle": "2021-05-24T14:06:14.128372Z",
     "shell.execute_reply": "2021-05-24T14:06:14.127666Z",
     "shell.execute_reply.started": "2021-05-24T14:06:13.433022Z"
    },
    "id": "pTFlEpSpPl0K",
    "outputId": "af5aac36-54b4-4402-9281-b4ecc0621b8e"
   },
   "outputs": [
    {
     "name": "stderr",
     "output_type": "stream",
     "text": [
      "All-NaN slice encountered\n"
     ]
    },
    {
     "data": {
      "text/html": [
       "<div>\n",
       "<style scoped>\n",
       "    .dataframe tbody tr th:only-of-type {\n",
       "        vertical-align: middle;\n",
       "    }\n",
       "\n",
       "    .dataframe tbody tr th {\n",
       "        vertical-align: top;\n",
       "    }\n",
       "\n",
       "    .dataframe thead th {\n",
       "        text-align: right;\n",
       "    }\n",
       "</style>\n",
       "<table border=\"1\" class=\"dataframe\">\n",
       "  <thead>\n",
       "    <tr style=\"text-align: right;\">\n",
       "      <th></th>\n",
       "      <th>APPLICATION_NUMBER</th>\n",
       "      <th>GENDER</th>\n",
       "      <th>CHILDRENS</th>\n",
       "      <th>TOTAL_SALARY</th>\n",
       "      <th>AMOUNT_CREDIT</th>\n",
       "      <th>AMOUNT_ANNUITY</th>\n",
       "      <th>EDUCATION_LEVEL</th>\n",
       "      <th>FAMILY_STATUS</th>\n",
       "      <th>REGION_POPULATION</th>\n",
       "      <th>AGE</th>\n",
       "      <th>...</th>\n",
       "      <th>RATIO_AGE_TO_EXPERIENCE</th>\n",
       "      <th>RATIO_SALARY_TO_REGION_POPULATION</th>\n",
       "      <th>RATIO_CAR_TO_EXPERIENCE</th>\n",
       "      <th>RATIO_CAR_TO_AGE</th>\n",
       "      <th>EXPECTED_TOTAL_LOSS_1</th>\n",
       "      <th>EXPECTED_TOTAL_LOSS_2</th>\n",
       "      <th>EXPECTED_TOTAL_LOSS_3</th>\n",
       "      <th>EXPECTED_MONTHLY_LOSS_1</th>\n",
       "      <th>EXPECTED_MONTHLY_LOSS_2</th>\n",
       "      <th>EXPECTED_MONTHLY_LOSS_3</th>\n",
       "    </tr>\n",
       "  </thead>\n",
       "  <tbody>\n",
       "    <tr>\n",
       "      <th>0</th>\n",
       "      <td>123666076</td>\n",
       "      <td>F</td>\n",
       "      <td>0</td>\n",
       "      <td>157500.0</td>\n",
       "      <td>270000.0</td>\n",
       "      <td>13500.0</td>\n",
       "      <td>Incomplete higher</td>\n",
       "      <td>Civil marriage</td>\n",
       "      <td>0.008068</td>\n",
       "      <td>8560</td>\n",
       "      <td>...</td>\n",
       "      <td>5.526146</td>\n",
       "      <td>1270.71</td>\n",
       "      <td>NaN</td>\n",
       "      <td>NaN</td>\n",
       "      <td>88957.124333</td>\n",
       "      <td>63804.966560</td>\n",
       "      <td>183213.275945</td>\n",
       "      <td>4447.856217</td>\n",
       "      <td>3190.248328</td>\n",
       "      <td>9160.663797</td>\n",
       "    </tr>\n",
       "    <tr>\n",
       "      <th>1</th>\n",
       "      <td>123423688</td>\n",
       "      <td>F</td>\n",
       "      <td>0</td>\n",
       "      <td>270000.0</td>\n",
       "      <td>536917.5</td>\n",
       "      <td>28467.0</td>\n",
       "      <td>Secondary / secondary special</td>\n",
       "      <td>Married</td>\n",
       "      <td>0.020246</td>\n",
       "      <td>23187</td>\n",
       "      <td>...</td>\n",
       "      <td>NaN</td>\n",
       "      <td>5466.42</td>\n",
       "      <td>NaN</td>\n",
       "      <td>NaN</td>\n",
       "      <td>NaN</td>\n",
       "      <td>237475.743779</td>\n",
       "      <td>431008.094056</td>\n",
       "      <td>NaN</td>\n",
       "      <td>12590.802122</td>\n",
       "      <td>22851.755462</td>\n",
       "    </tr>\n",
       "  </tbody>\n",
       "</table>\n",
       "<p>2 rows × 52 columns</p>\n",
       "</div>"
      ],
      "text/plain": [
       "   APPLICATION_NUMBER GENDER  CHILDRENS  TOTAL_SALARY  AMOUNT_CREDIT  \\\n",
       "0           123666076      F          0      157500.0       270000.0   \n",
       "1           123423688      F          0      270000.0       536917.5   \n",
       "\n",
       "   AMOUNT_ANNUITY                EDUCATION_LEVEL   FAMILY_STATUS  \\\n",
       "0         13500.0              Incomplete higher  Civil marriage   \n",
       "1         28467.0  Secondary / secondary special         Married   \n",
       "\n",
       "   REGION_POPULATION    AGE  ...  RATIO_AGE_TO_EXPERIENCE  \\\n",
       "0           0.008068   8560  ...                 5.526146   \n",
       "1           0.020246  23187  ...                      NaN   \n",
       "\n",
       "   RATIO_SALARY_TO_REGION_POPULATION  RATIO_CAR_TO_EXPERIENCE  \\\n",
       "0                            1270.71                      NaN   \n",
       "1                            5466.42                      NaN   \n",
       "\n",
       "   RATIO_CAR_TO_AGE  EXPECTED_TOTAL_LOSS_1  EXPECTED_TOTAL_LOSS_2  \\\n",
       "0               NaN           88957.124333           63804.966560   \n",
       "1               NaN                    NaN          237475.743779   \n",
       "\n",
       "   EXPECTED_TOTAL_LOSS_3  EXPECTED_MONTHLY_LOSS_1  EXPECTED_MONTHLY_LOSS_2  \\\n",
       "0          183213.275945              4447.856217              3190.248328   \n",
       "1          431008.094056                      NaN             12590.802122   \n",
       "\n",
       "   EXPECTED_MONTHLY_LOSS_3  \n",
       "0              9160.663797  \n",
       "1             22851.755462  \n",
       "\n",
       "[2 rows x 52 columns]"
      ]
     },
     "execution_count": 13,
     "metadata": {},
     "output_type": "execute_result"
    }
   ],
   "source": [
    "client_profile = create_client_profile_features(source[\"client_profile\"])\n",
    "client_profile.head(n=2)"
   ]
  },
  {
   "cell_type": "code",
   "execution_count": 14,
   "metadata": {
    "cellId": "4r65gtof29ky0775kdblqn",
    "execution": {
     "iopub.execute_input": "2021-05-24T14:06:14.129897Z",
     "iopub.status.busy": "2021-05-24T14:06:14.129421Z",
     "iopub.status.idle": "2021-05-24T14:06:14.621381Z",
     "shell.execute_reply": "2021-05-24T14:06:14.620725Z",
     "shell.execute_reply.started": "2021-05-24T14:06:14.129847Z"
    },
    "id": "0C-AIKuW6ZBd",
    "outputId": "12ff403d-d85d-45a6-c0c4-2e0c4726e68d"
   },
   "outputs": [
    {
     "data": {
      "text/html": [
       "<div>\n",
       "<style scoped>\n",
       "    .dataframe tbody tr th:only-of-type {\n",
       "        vertical-align: middle;\n",
       "    }\n",
       "\n",
       "    .dataframe tbody tr th {\n",
       "        vertical-align: top;\n",
       "    }\n",
       "\n",
       "    .dataframe thead th {\n",
       "        text-align: right;\n",
       "    }\n",
       "</style>\n",
       "<table border=\"1\" class=\"dataframe\">\n",
       "  <thead>\n",
       "    <tr style=\"text-align: right;\">\n",
       "      <th></th>\n",
       "      <th>APPLICATION_NUMBER</th>\n",
       "      <th>TARGET</th>\n",
       "      <th>NAME_CONTRACT_TYPE</th>\n",
       "      <th>GENDER</th>\n",
       "      <th>CHILDRENS</th>\n",
       "      <th>TOTAL_SALARY</th>\n",
       "      <th>AMOUNT_CREDIT</th>\n",
       "      <th>AMOUNT_ANNUITY</th>\n",
       "      <th>EDUCATION_LEVEL</th>\n",
       "      <th>FAMILY_STATUS</th>\n",
       "      <th>...</th>\n",
       "      <th>RATIO_AGE_TO_EXPERIENCE</th>\n",
       "      <th>RATIO_SALARY_TO_REGION_POPULATION</th>\n",
       "      <th>RATIO_CAR_TO_EXPERIENCE</th>\n",
       "      <th>RATIO_CAR_TO_AGE</th>\n",
       "      <th>EXPECTED_TOTAL_LOSS_1</th>\n",
       "      <th>EXPECTED_TOTAL_LOSS_2</th>\n",
       "      <th>EXPECTED_TOTAL_LOSS_3</th>\n",
       "      <th>EXPECTED_MONTHLY_LOSS_1</th>\n",
       "      <th>EXPECTED_MONTHLY_LOSS_2</th>\n",
       "      <th>EXPECTED_MONTHLY_LOSS_3</th>\n",
       "    </tr>\n",
       "  </thead>\n",
       "  <tbody>\n",
       "    <tr>\n",
       "      <th>0</th>\n",
       "      <td>123687442</td>\n",
       "      <td>0</td>\n",
       "      <td>Cash</td>\n",
       "      <td>M</td>\n",
       "      <td>1.0</td>\n",
       "      <td>157500.0</td>\n",
       "      <td>855000.0</td>\n",
       "      <td>25128.0</td>\n",
       "      <td>Secondary / secondary special</td>\n",
       "      <td>Married</td>\n",
       "      <td>...</td>\n",
       "      <td>9.149506</td>\n",
       "      <td>3008.4075</td>\n",
       "      <td>0.006399</td>\n",
       "      <td>0.000699</td>\n",
       "      <td>599170.547652</td>\n",
       "      <td>552256.266546</td>\n",
       "      <td>612667.559305</td>\n",
       "      <td>17609.307043</td>\n",
       "      <td>16230.521013</td>\n",
       "      <td>18005.977111</td>\n",
       "    </tr>\n",
       "    <tr>\n",
       "      <th>1</th>\n",
       "      <td>123597908</td>\n",
       "      <td>1</td>\n",
       "      <td>Cash</td>\n",
       "      <td>NaN</td>\n",
       "      <td>NaN</td>\n",
       "      <td>NaN</td>\n",
       "      <td>NaN</td>\n",
       "      <td>NaN</td>\n",
       "      <td>NaN</td>\n",
       "      <td>NaN</td>\n",
       "      <td>...</td>\n",
       "      <td>NaN</td>\n",
       "      <td>NaN</td>\n",
       "      <td>NaN</td>\n",
       "      <td>NaN</td>\n",
       "      <td>NaN</td>\n",
       "      <td>NaN</td>\n",
       "      <td>NaN</td>\n",
       "      <td>NaN</td>\n",
       "      <td>NaN</td>\n",
       "      <td>NaN</td>\n",
       "    </tr>\n",
       "    <tr>\n",
       "      <th>2</th>\n",
       "      <td>123526683</td>\n",
       "      <td>0</td>\n",
       "      <td>Cash</td>\n",
       "      <td>F</td>\n",
       "      <td>0.0</td>\n",
       "      <td>135000.0</td>\n",
       "      <td>1006920.0</td>\n",
       "      <td>42660.0</td>\n",
       "      <td>Higher education</td>\n",
       "      <td>Married</td>\n",
       "      <td>...</td>\n",
       "      <td>5.958264</td>\n",
       "      <td>3562.9200</td>\n",
       "      <td>NaN</td>\n",
       "      <td>NaN</td>\n",
       "      <td>NaN</td>\n",
       "      <td>686869.876357</td>\n",
       "      <td>269722.588880</td>\n",
       "      <td>NaN</td>\n",
       "      <td>29100.493510</td>\n",
       "      <td>11427.288803</td>\n",
       "    </tr>\n",
       "    <tr>\n",
       "      <th>3</th>\n",
       "      <td>123710391</td>\n",
       "      <td>1</td>\n",
       "      <td>Cash</td>\n",
       "      <td>M</td>\n",
       "      <td>0.0</td>\n",
       "      <td>180000.0</td>\n",
       "      <td>518562.0</td>\n",
       "      <td>22972.5</td>\n",
       "      <td>Secondary / secondary special</td>\n",
       "      <td>Married</td>\n",
       "      <td>...</td>\n",
       "      <td>NaN</td>\n",
       "      <td>5639.2200</td>\n",
       "      <td>NaN</td>\n",
       "      <td>NaN</td>\n",
       "      <td>NaN</td>\n",
       "      <td>88829.188848</td>\n",
       "      <td>88386.882459</td>\n",
       "      <td>NaN</td>\n",
       "      <td>3935.167908</td>\n",
       "      <td>3915.573562</td>\n",
       "    </tr>\n",
       "    <tr>\n",
       "      <th>4</th>\n",
       "      <td>123590329</td>\n",
       "      <td>1</td>\n",
       "      <td>Cash</td>\n",
       "      <td>NaN</td>\n",
       "      <td>NaN</td>\n",
       "      <td>NaN</td>\n",
       "      <td>NaN</td>\n",
       "      <td>NaN</td>\n",
       "      <td>NaN</td>\n",
       "      <td>NaN</td>\n",
       "      <td>...</td>\n",
       "      <td>NaN</td>\n",
       "      <td>NaN</td>\n",
       "      <td>NaN</td>\n",
       "      <td>NaN</td>\n",
       "      <td>NaN</td>\n",
       "      <td>NaN</td>\n",
       "      <td>NaN</td>\n",
       "      <td>NaN</td>\n",
       "      <td>NaN</td>\n",
       "      <td>NaN</td>\n",
       "    </tr>\n",
       "  </tbody>\n",
       "</table>\n",
       "<p>5 rows × 54 columns</p>\n",
       "</div>"
      ],
      "text/plain": [
       "   APPLICATION_NUMBER  TARGET NAME_CONTRACT_TYPE GENDER  CHILDRENS  \\\n",
       "0           123687442       0               Cash      M        1.0   \n",
       "1           123597908       1               Cash    NaN        NaN   \n",
       "2           123526683       0               Cash      F        0.0   \n",
       "3           123710391       1               Cash      M        0.0   \n",
       "4           123590329       1               Cash    NaN        NaN   \n",
       "\n",
       "   TOTAL_SALARY  AMOUNT_CREDIT  AMOUNT_ANNUITY                EDUCATION_LEVEL  \\\n",
       "0      157500.0       855000.0         25128.0  Secondary / secondary special   \n",
       "1           NaN            NaN             NaN                            NaN   \n",
       "2      135000.0      1006920.0         42660.0               Higher education   \n",
       "3      180000.0       518562.0         22972.5  Secondary / secondary special   \n",
       "4           NaN            NaN             NaN                            NaN   \n",
       "\n",
       "  FAMILY_STATUS  ...  RATIO_AGE_TO_EXPERIENCE  \\\n",
       "0       Married  ...                 9.149506   \n",
       "1           NaN  ...                      NaN   \n",
       "2       Married  ...                 5.958264   \n",
       "3       Married  ...                      NaN   \n",
       "4           NaN  ...                      NaN   \n",
       "\n",
       "   RATIO_SALARY_TO_REGION_POPULATION  RATIO_CAR_TO_EXPERIENCE  \\\n",
       "0                          3008.4075                 0.006399   \n",
       "1                                NaN                      NaN   \n",
       "2                          3562.9200                      NaN   \n",
       "3                          5639.2200                      NaN   \n",
       "4                                NaN                      NaN   \n",
       "\n",
       "   RATIO_CAR_TO_AGE  EXPECTED_TOTAL_LOSS_1  EXPECTED_TOTAL_LOSS_2  \\\n",
       "0          0.000699          599170.547652          552256.266546   \n",
       "1               NaN                    NaN                    NaN   \n",
       "2               NaN                    NaN          686869.876357   \n",
       "3               NaN                    NaN           88829.188848   \n",
       "4               NaN                    NaN                    NaN   \n",
       "\n",
       "   EXPECTED_TOTAL_LOSS_3  EXPECTED_MONTHLY_LOSS_1  EXPECTED_MONTHLY_LOSS_2  \\\n",
       "0          612667.559305             17609.307043             16230.521013   \n",
       "1                    NaN                      NaN                      NaN   \n",
       "2          269722.588880                      NaN             29100.493510   \n",
       "3           88386.882459                      NaN              3935.167908   \n",
       "4                    NaN                      NaN                      NaN   \n",
       "\n",
       "   EXPECTED_MONTHLY_LOSS_3  \n",
       "0             18005.977111  \n",
       "1                      NaN  \n",
       "2             11427.288803  \n",
       "3              3915.573562  \n",
       "4                      NaN  \n",
       "\n",
       "[5 rows x 54 columns]"
      ]
     },
     "execution_count": 14,
     "metadata": {},
     "output_type": "execute_result"
    }
   ],
   "source": [
    "data = pd.merge(data, client_profile, on='APPLICATION_NUMBER', how='left')\n",
    "data.head()"
   ]
  },
  {
   "cell_type": "code",
   "execution_count": 15,
   "metadata": {
    "cellId": "8w5lyu5bu0oqlzptc01th",
    "execution": {
     "iopub.execute_input": "2021-05-24T14:06:14.622808Z",
     "iopub.status.busy": "2021-05-24T14:06:14.622534Z",
     "iopub.status.idle": "2021-05-24T14:06:14.653390Z",
     "shell.execute_reply": "2021-05-24T14:06:14.652266Z",
     "shell.execute_reply.started": "2021-05-24T14:06:14.622782Z"
    },
    "id": "XvCNAfOD6ZBi",
    "outputId": "9d8dc77e-8ff0-4bb6-d291-879ca322a758"
   },
   "outputs": [
    {
     "data": {
      "text/html": [
       "<div>\n",
       "<style scoped>\n",
       "    .dataframe tbody tr th:only-of-type {\n",
       "        vertical-align: middle;\n",
       "    }\n",
       "\n",
       "    .dataframe tbody tr th {\n",
       "        vertical-align: top;\n",
       "    }\n",
       "\n",
       "    .dataframe thead th {\n",
       "        text-align: right;\n",
       "    }\n",
       "</style>\n",
       "<table border=\"1\" class=\"dataframe\">\n",
       "  <thead>\n",
       "    <tr style=\"text-align: right;\">\n",
       "      <th></th>\n",
       "      <th>APPLICATION_NUMBER</th>\n",
       "      <th>TARGET</th>\n",
       "      <th>NAME_CONTRACT_TYPE</th>\n",
       "      <th>GENDER</th>\n",
       "      <th>CHILDRENS</th>\n",
       "      <th>TOTAL_SALARY</th>\n",
       "      <th>AMOUNT_CREDIT</th>\n",
       "      <th>AMOUNT_ANNUITY</th>\n",
       "      <th>EDUCATION_LEVEL</th>\n",
       "      <th>FAMILY_STATUS</th>\n",
       "      <th>...</th>\n",
       "      <th>RATIO_AGE_TO_EXPERIENCE</th>\n",
       "      <th>RATIO_SALARY_TO_REGION_POPULATION</th>\n",
       "      <th>RATIO_CAR_TO_EXPERIENCE</th>\n",
       "      <th>RATIO_CAR_TO_AGE</th>\n",
       "      <th>EXPECTED_TOTAL_LOSS_1</th>\n",
       "      <th>EXPECTED_TOTAL_LOSS_2</th>\n",
       "      <th>EXPECTED_TOTAL_LOSS_3</th>\n",
       "      <th>EXPECTED_MONTHLY_LOSS_1</th>\n",
       "      <th>EXPECTED_MONTHLY_LOSS_2</th>\n",
       "      <th>EXPECTED_MONTHLY_LOSS_3</th>\n",
       "    </tr>\n",
       "  </thead>\n",
       "  <tbody>\n",
       "    <tr>\n",
       "      <th>110088</th>\n",
       "      <td>123458312</td>\n",
       "      <td>0</td>\n",
       "      <td>Cash</td>\n",
       "      <td>NaN</td>\n",
       "      <td>NaN</td>\n",
       "      <td>NaN</td>\n",
       "      <td>NaN</td>\n",
       "      <td>NaN</td>\n",
       "      <td>NaN</td>\n",
       "      <td>NaN</td>\n",
       "      <td>...</td>\n",
       "      <td>NaN</td>\n",
       "      <td>NaN</td>\n",
       "      <td>NaN</td>\n",
       "      <td>NaN</td>\n",
       "      <td>NaN</td>\n",
       "      <td>NaN</td>\n",
       "      <td>NaN</td>\n",
       "      <td>NaN</td>\n",
       "      <td>NaN</td>\n",
       "      <td>NaN</td>\n",
       "    </tr>\n",
       "    <tr>\n",
       "      <th>110089</th>\n",
       "      <td>123672463</td>\n",
       "      <td>0</td>\n",
       "      <td>Cash</td>\n",
       "      <td>F</td>\n",
       "      <td>0.0</td>\n",
       "      <td>175500.0</td>\n",
       "      <td>269550.0</td>\n",
       "      <td>12618.0</td>\n",
       "      <td>Secondary / secondary special</td>\n",
       "      <td>Married</td>\n",
       "      <td>...</td>\n",
       "      <td>7.768833</td>\n",
       "      <td>1760.6160</td>\n",
       "      <td>NaN</td>\n",
       "      <td>NaN</td>\n",
       "      <td>142348.303154</td>\n",
       "      <td>127166.558499</td>\n",
       "      <td>156738.932900</td>\n",
       "      <td>6663.516562</td>\n",
       "      <td>5952.838565</td>\n",
       "      <td>7337.161400</td>\n",
       "    </tr>\n",
       "    <tr>\n",
       "      <th>110090</th>\n",
       "      <td>123723001</td>\n",
       "      <td>0</td>\n",
       "      <td>Cash</td>\n",
       "      <td>NaN</td>\n",
       "      <td>NaN</td>\n",
       "      <td>NaN</td>\n",
       "      <td>NaN</td>\n",
       "      <td>NaN</td>\n",
       "      <td>NaN</td>\n",
       "      <td>NaN</td>\n",
       "      <td>...</td>\n",
       "      <td>NaN</td>\n",
       "      <td>NaN</td>\n",
       "      <td>NaN</td>\n",
       "      <td>NaN</td>\n",
       "      <td>NaN</td>\n",
       "      <td>NaN</td>\n",
       "      <td>NaN</td>\n",
       "      <td>NaN</td>\n",
       "      <td>NaN</td>\n",
       "      <td>NaN</td>\n",
       "    </tr>\n",
       "    <tr>\n",
       "      <th>110091</th>\n",
       "      <td>123554358</td>\n",
       "      <td>0</td>\n",
       "      <td>Cash</td>\n",
       "      <td>F</td>\n",
       "      <td>2.0</td>\n",
       "      <td>270000.0</td>\n",
       "      <td>1024740.0</td>\n",
       "      <td>49428.0</td>\n",
       "      <td>Incomplete higher</td>\n",
       "      <td>Married</td>\n",
       "      <td>...</td>\n",
       "      <td>41.573407</td>\n",
       "      <td>5157.2700</td>\n",
       "      <td>0.060942</td>\n",
       "      <td>0.001466</td>\n",
       "      <td>670001.539719</td>\n",
       "      <td>667338.205604</td>\n",
       "      <td>572324.081646</td>\n",
       "      <td>32317.305956</td>\n",
       "      <td>32188.840903</td>\n",
       "      <td>27605.865593</td>\n",
       "    </tr>\n",
       "    <tr>\n",
       "      <th>110092</th>\n",
       "      <td>123676265</td>\n",
       "      <td>0</td>\n",
       "      <td>Credit Card</td>\n",
       "      <td>F</td>\n",
       "      <td>1.0</td>\n",
       "      <td>112500.0</td>\n",
       "      <td>337500.0</td>\n",
       "      <td>16875.0</td>\n",
       "      <td>Secondary / secondary special</td>\n",
       "      <td>Married</td>\n",
       "      <td>...</td>\n",
       "      <td>61.166667</td>\n",
       "      <td>3524.5125</td>\n",
       "      <td>NaN</td>\n",
       "      <td>NaN</td>\n",
       "      <td>NaN</td>\n",
       "      <td>186314.656055</td>\n",
       "      <td>NaN</td>\n",
       "      <td>NaN</td>\n",
       "      <td>9315.732803</td>\n",
       "      <td>NaN</td>\n",
       "    </tr>\n",
       "  </tbody>\n",
       "</table>\n",
       "<p>5 rows × 54 columns</p>\n",
       "</div>"
      ],
      "text/plain": [
       "        APPLICATION_NUMBER  TARGET NAME_CONTRACT_TYPE GENDER  CHILDRENS  \\\n",
       "110088           123458312       0               Cash    NaN        NaN   \n",
       "110089           123672463       0               Cash      F        0.0   \n",
       "110090           123723001       0               Cash    NaN        NaN   \n",
       "110091           123554358       0               Cash      F        2.0   \n",
       "110092           123676265       0        Credit Card      F        1.0   \n",
       "\n",
       "        TOTAL_SALARY  AMOUNT_CREDIT  AMOUNT_ANNUITY  \\\n",
       "110088           NaN            NaN             NaN   \n",
       "110089      175500.0       269550.0         12618.0   \n",
       "110090           NaN            NaN             NaN   \n",
       "110091      270000.0      1024740.0         49428.0   \n",
       "110092      112500.0       337500.0         16875.0   \n",
       "\n",
       "                      EDUCATION_LEVEL FAMILY_STATUS  ...  \\\n",
       "110088                            NaN           NaN  ...   \n",
       "110089  Secondary / secondary special       Married  ...   \n",
       "110090                            NaN           NaN  ...   \n",
       "110091              Incomplete higher       Married  ...   \n",
       "110092  Secondary / secondary special       Married  ...   \n",
       "\n",
       "        RATIO_AGE_TO_EXPERIENCE  RATIO_SALARY_TO_REGION_POPULATION  \\\n",
       "110088                      NaN                                NaN   \n",
       "110089                 7.768833                          1760.6160   \n",
       "110090                      NaN                                NaN   \n",
       "110091                41.573407                          5157.2700   \n",
       "110092                61.166667                          3524.5125   \n",
       "\n",
       "        RATIO_CAR_TO_EXPERIENCE  RATIO_CAR_TO_AGE  EXPECTED_TOTAL_LOSS_1  \\\n",
       "110088                      NaN               NaN                    NaN   \n",
       "110089                      NaN               NaN          142348.303154   \n",
       "110090                      NaN               NaN                    NaN   \n",
       "110091                 0.060942          0.001466          670001.539719   \n",
       "110092                      NaN               NaN                    NaN   \n",
       "\n",
       "        EXPECTED_TOTAL_LOSS_2  EXPECTED_TOTAL_LOSS_3  EXPECTED_MONTHLY_LOSS_1  \\\n",
       "110088                    NaN                    NaN                      NaN   \n",
       "110089          127166.558499          156738.932900              6663.516562   \n",
       "110090                    NaN                    NaN                      NaN   \n",
       "110091          667338.205604          572324.081646             32317.305956   \n",
       "110092          186314.656055                    NaN                      NaN   \n",
       "\n",
       "        EXPECTED_MONTHLY_LOSS_2  EXPECTED_MONTHLY_LOSS_3  \n",
       "110088                      NaN                      NaN  \n",
       "110089              5952.838565              7337.161400  \n",
       "110090                      NaN                      NaN  \n",
       "110091             32188.840903             27605.865593  \n",
       "110092              9315.732803                      NaN  \n",
       "\n",
       "[5 rows x 54 columns]"
      ]
     },
     "execution_count": 15,
     "metadata": {},
     "output_type": "execute_result"
    }
   ],
   "source": [
    "data.tail()"
   ]
  },
  {
   "cell_type": "code",
   "execution_count": 16,
   "metadata": {
    "cellId": "sr2e8wp97s9b6uli6mbwc",
    "execution": {
     "iopub.execute_input": "2021-05-24T14:06:14.655242Z",
     "iopub.status.busy": "2021-05-24T14:06:14.654826Z",
     "iopub.status.idle": "2021-05-24T14:06:14.666289Z",
     "shell.execute_reply": "2021-05-24T14:06:14.665326Z",
     "shell.execute_reply.started": "2021-05-24T14:06:14.655197Z"
    },
    "id": "k1mysemA6ZBm",
    "outputId": "dfe3a446-f9c1-4994-9f6d-2a4f557cdf3c"
   },
   "outputs": [
    {
     "data": {
      "text/plain": [
       "(110093, 54)"
      ]
     },
     "execution_count": 16,
     "metadata": {},
     "output_type": "execute_result"
    }
   ],
   "source": [
    "data.shape"
   ]
  },
  {
   "cell_type": "markdown",
   "metadata": {
    "cellId": "7jtays2hrfb83rc5tmj60x",
    "id": "alvPcQLe6ZD-"
   },
   "source": [
    "### Заполняем пропуски"
   ]
  },
  {
   "cell_type": "code",
   "execution_count": 17,
   "metadata": {
    "cellId": "b00kbhhkvxju629gdeiju",
    "execution": {
     "iopub.execute_input": "2021-05-24T14:06:14.668154Z",
     "iopub.status.busy": "2021-05-24T14:06:14.667556Z",
     "iopub.status.idle": "2021-05-24T14:06:14.716650Z",
     "shell.execute_reply": "2021-05-24T14:06:14.715665Z",
     "shell.execute_reply.started": "2021-05-24T14:06:14.668113Z"
    },
    "id": "eJb5h11c6ZD-",
    "outputId": "6d2a4543-bcb4-435e-86c8-37a041192c39"
   },
   "outputs": [
    {
     "data": {
      "text/plain": [
       "Index(['NAME_CONTRACT_TYPE', 'GENDER', 'EDUCATION_LEVEL', 'FAMILY_STATUS'], dtype='object')"
      ]
     },
     "execution_count": 17,
     "metadata": {},
     "output_type": "execute_result"
    }
   ],
   "source": [
    "obj_col_names = data.select_dtypes(include=['object']).columns\n",
    "obj_col_names"
   ]
  },
  {
   "cell_type": "code",
   "execution_count": 18,
   "metadata": {
    "cellId": "2oq7wdwzf85r4lex577as",
    "execution": {
     "iopub.execute_input": "2021-05-24T14:06:14.718390Z",
     "iopub.status.busy": "2021-05-24T14:06:14.717816Z",
     "iopub.status.idle": "2021-05-24T14:06:14.738149Z",
     "shell.execute_reply": "2021-05-24T14:06:14.737194Z",
     "shell.execute_reply.started": "2021-05-24T14:06:14.718346Z"
    },
    "id": "tSbDPvMw6ZEB",
    "outputId": "12233d9c-1f3b-4de8-d495-e6213b4b165b"
   },
   "outputs": [
    {
     "data": {
      "text/plain": [
       "1         NaN\n",
       "4         NaN\n",
       "10        NaN\n",
       "16        NaN\n",
       "17        NaN\n",
       "         ... \n",
       "110085    NaN\n",
       "110086    NaN\n",
       "110087    NaN\n",
       "110088    NaN\n",
       "110090    NaN\n",
       "Name: GENDER, Length: 20554, dtype: object"
      ]
     },
     "execution_count": 18,
     "metadata": {},
     "output_type": "execute_result"
    }
   ],
   "source": [
    "data.loc[data[obj_col_names[1]].isnull(), obj_col_names[1]]"
   ]
  },
  {
   "cell_type": "code",
   "execution_count": 19,
   "metadata": {
    "cellId": "jmfkhc1wi8hgwumewtl4zs",
    "execution": {
     "iopub.execute_input": "2021-05-24T14:06:14.739779Z",
     "iopub.status.busy": "2021-05-24T14:06:14.739478Z",
     "iopub.status.idle": "2021-05-24T14:06:14.800703Z",
     "shell.execute_reply": "2021-05-24T14:06:14.799484Z",
     "shell.execute_reply.started": "2021-05-24T14:06:14.739750Z"
    },
    "id": "Yi85A4lv6ZEE"
   },
   "outputs": [],
   "source": [
    "for col in obj_col_names:\n",
    "    data.loc[data[col].isnull(), col] = 'No'"
   ]
  },
  {
   "cell_type": "code",
   "execution_count": 20,
   "metadata": {
    "cellId": "swwxl03mh3digq1nplpjh",
    "execution": {
     "iopub.execute_input": "2021-05-24T14:06:14.802430Z",
     "iopub.status.busy": "2021-05-24T14:06:14.802124Z",
     "iopub.status.idle": "2021-05-24T14:06:14.826001Z",
     "shell.execute_reply": "2021-05-24T14:06:14.825062Z",
     "shell.execute_reply.started": "2021-05-24T14:06:14.802400Z"
    },
    "id": "yY1spBlT6ZEH",
    "outputId": "c217d362-b1e2-4e48-9106-cfd86d8407d3"
   },
   "outputs": [
    {
     "data": {
      "text/plain": [
       "Index(['APPLICATION_NUMBER', 'TARGET', 'CHILDRENS', 'TOTAL_SALARY',\n",
       "       'AMOUNT_CREDIT', 'AMOUNT_ANNUITY', 'REGION_POPULATION', 'AGE',\n",
       "       'DAYS_ON_LAST_JOB', 'OWN_CAR_AGE', 'FLAG_PHONE', 'FLAG_EMAIL',\n",
       "       'FAMILY_SIZE', 'EXTERNAL_SCORING_RATING_1', 'EXTERNAL_SCORING_RATING_2',\n",
       "       'EXTERNAL_SCORING_RATING_3', 'AMT_REQ_CREDIT_BUREAU_HOUR',\n",
       "       'AMT_REQ_CREDIT_BUREAU_DAY', 'AMT_REQ_CREDIT_BUREAU_WEEK',\n",
       "       'AMT_REQ_CREDIT_BUREAU_MON', 'AMT_REQ_CREDIT_BUREAU_QRT',\n",
       "       'AMT_REQ_CREDIT_BUREAU_YEAR', 'BKI_REQUESTS_COUNT', 'BKI_KURTOSIS',\n",
       "       'EXTERNAL_SCORING_PROD', 'EXTERNAL_SCORING_WEIGHTED',\n",
       "       'EXTERNAL_SCORING_RATING_min', 'EXTERNAL_SCORING_RATING_max',\n",
       "       'EXTERNAL_SCORING_RATING_mean', 'EXTERNAL_SCORING_RATING_nanmedian',\n",
       "       'EXTERNAL_SCORING_RATING_var', 'RATIO_CREDIT_TO_ANNUITY',\n",
       "       'RATIO_ANNUITY_TO_SALARY', 'RATIO_CREDIT_TO_SALARY',\n",
       "       'RATIO_ANNUITY_TO_AGE', 'RATIO_CREDIT_TO_AGE', 'RATIO_SALARY_TO_AGE',\n",
       "       'RATIO_SALARY_TO_EXPERIENCE', 'RATIO_CREDIT_TO_EXPERIENCE',\n",
       "       'RATIO_ANNUITY_TO_EXPERIENCE', 'RATIO_AGE_TO_EXPERIENCE',\n",
       "       'RATIO_SALARY_TO_REGION_POPULATION', 'RATIO_CAR_TO_EXPERIENCE',\n",
       "       'RATIO_CAR_TO_AGE', 'EXPECTED_TOTAL_LOSS_1', 'EXPECTED_TOTAL_LOSS_2',\n",
       "       'EXPECTED_TOTAL_LOSS_3', 'EXPECTED_MONTHLY_LOSS_1',\n",
       "       'EXPECTED_MONTHLY_LOSS_2', 'EXPECTED_MONTHLY_LOSS_3'],\n",
       "      dtype='object')"
      ]
     },
     "execution_count": 20,
     "metadata": {},
     "output_type": "execute_result"
    }
   ],
   "source": [
    "num_col_names = data.select_dtypes(exclude=['object']).columns\n",
    "num_col_names"
   ]
  },
  {
   "cell_type": "code",
   "execution_count": 21,
   "metadata": {
    "execution": {
     "iopub.execute_input": "2021-05-24T14:06:14.827853Z",
     "iopub.status.busy": "2021-05-24T14:06:14.827406Z",
     "iopub.status.idle": "2021-05-24T14:06:14.945667Z",
     "shell.execute_reply": "2021-05-24T14:06:14.944725Z",
     "shell.execute_reply.started": "2021-05-24T14:06:14.827808Z"
    }
   },
   "outputs": [],
   "source": [
    "data.replace([np.inf, -np.inf], np.nan, inplace=True)"
   ]
  },
  {
   "cell_type": "code",
   "execution_count": 22,
   "metadata": {
    "cellId": "wdr10j4f537y2amr6grh5",
    "execution": {
     "iopub.execute_input": "2021-05-24T14:06:14.948412Z",
     "iopub.status.busy": "2021-05-24T14:06:14.947974Z",
     "iopub.status.idle": "2021-05-24T14:06:15.025407Z",
     "shell.execute_reply": "2021-05-24T14:06:15.024396Z",
     "shell.execute_reply.started": "2021-05-24T14:06:14.948365Z"
    },
    "id": "QUAvfN--6ZEL"
   },
   "outputs": [],
   "source": [
    "for col in num_col_names:\n",
    "    data.loc[data[col].isnull(), col] = -1"
   ]
  },
  {
   "cell_type": "code",
   "execution_count": 23,
   "metadata": {
    "cellId": "z0zp7ntfxwi02r5mv8anqah",
    "execution": {
     "iopub.execute_input": "2021-05-24T14:06:15.027397Z",
     "iopub.status.busy": "2021-05-24T14:06:15.026936Z",
     "iopub.status.idle": "2021-05-24T14:06:15.058078Z",
     "shell.execute_reply": "2021-05-24T14:06:15.056984Z",
     "shell.execute_reply.started": "2021-05-24T14:06:15.027349Z"
    },
    "id": "IRy-XrGh6ZEO",
    "outputId": "d44a848f-4739-4899-8422-641b1fbf109c"
   },
   "outputs": [
    {
     "data": {
      "text/html": [
       "<div>\n",
       "<style scoped>\n",
       "    .dataframe tbody tr th:only-of-type {\n",
       "        vertical-align: middle;\n",
       "    }\n",
       "\n",
       "    .dataframe tbody tr th {\n",
       "        vertical-align: top;\n",
       "    }\n",
       "\n",
       "    .dataframe thead th {\n",
       "        text-align: right;\n",
       "    }\n",
       "</style>\n",
       "<table border=\"1\" class=\"dataframe\">\n",
       "  <thead>\n",
       "    <tr style=\"text-align: right;\">\n",
       "      <th></th>\n",
       "      <th>APPLICATION_NUMBER</th>\n",
       "      <th>TARGET</th>\n",
       "      <th>NAME_CONTRACT_TYPE</th>\n",
       "      <th>GENDER</th>\n",
       "      <th>CHILDRENS</th>\n",
       "      <th>TOTAL_SALARY</th>\n",
       "      <th>AMOUNT_CREDIT</th>\n",
       "      <th>AMOUNT_ANNUITY</th>\n",
       "      <th>EDUCATION_LEVEL</th>\n",
       "      <th>FAMILY_STATUS</th>\n",
       "      <th>...</th>\n",
       "      <th>RATIO_AGE_TO_EXPERIENCE</th>\n",
       "      <th>RATIO_SALARY_TO_REGION_POPULATION</th>\n",
       "      <th>RATIO_CAR_TO_EXPERIENCE</th>\n",
       "      <th>RATIO_CAR_TO_AGE</th>\n",
       "      <th>EXPECTED_TOTAL_LOSS_1</th>\n",
       "      <th>EXPECTED_TOTAL_LOSS_2</th>\n",
       "      <th>EXPECTED_TOTAL_LOSS_3</th>\n",
       "      <th>EXPECTED_MONTHLY_LOSS_1</th>\n",
       "      <th>EXPECTED_MONTHLY_LOSS_2</th>\n",
       "      <th>EXPECTED_MONTHLY_LOSS_3</th>\n",
       "    </tr>\n",
       "  </thead>\n",
       "  <tbody>\n",
       "    <tr>\n",
       "      <th>0</th>\n",
       "      <td>123687442</td>\n",
       "      <td>0</td>\n",
       "      <td>Cash</td>\n",
       "      <td>M</td>\n",
       "      <td>1.0</td>\n",
       "      <td>157500.0</td>\n",
       "      <td>855000.0</td>\n",
       "      <td>25128.0</td>\n",
       "      <td>Secondary / secondary special</td>\n",
       "      <td>Married</td>\n",
       "      <td>...</td>\n",
       "      <td>9.149506</td>\n",
       "      <td>3008.4075</td>\n",
       "      <td>0.006399</td>\n",
       "      <td>0.000699</td>\n",
       "      <td>599170.547652</td>\n",
       "      <td>552256.266546</td>\n",
       "      <td>612667.559305</td>\n",
       "      <td>17609.307043</td>\n",
       "      <td>16230.521013</td>\n",
       "      <td>18005.977111</td>\n",
       "    </tr>\n",
       "    <tr>\n",
       "      <th>1</th>\n",
       "      <td>123597908</td>\n",
       "      <td>1</td>\n",
       "      <td>Cash</td>\n",
       "      <td>No</td>\n",
       "      <td>-1.0</td>\n",
       "      <td>-1.0</td>\n",
       "      <td>-1.0</td>\n",
       "      <td>-1.0</td>\n",
       "      <td>No</td>\n",
       "      <td>No</td>\n",
       "      <td>...</td>\n",
       "      <td>-1.000000</td>\n",
       "      <td>-1.0000</td>\n",
       "      <td>-1.000000</td>\n",
       "      <td>-1.000000</td>\n",
       "      <td>-1.000000</td>\n",
       "      <td>-1.000000</td>\n",
       "      <td>-1.000000</td>\n",
       "      <td>-1.000000</td>\n",
       "      <td>-1.000000</td>\n",
       "      <td>-1.000000</td>\n",
       "    </tr>\n",
       "    <tr>\n",
       "      <th>2</th>\n",
       "      <td>123526683</td>\n",
       "      <td>0</td>\n",
       "      <td>Cash</td>\n",
       "      <td>F</td>\n",
       "      <td>0.0</td>\n",
       "      <td>135000.0</td>\n",
       "      <td>1006920.0</td>\n",
       "      <td>42660.0</td>\n",
       "      <td>Higher education</td>\n",
       "      <td>Married</td>\n",
       "      <td>...</td>\n",
       "      <td>5.958264</td>\n",
       "      <td>3562.9200</td>\n",
       "      <td>-1.000000</td>\n",
       "      <td>-1.000000</td>\n",
       "      <td>-1.000000</td>\n",
       "      <td>686869.876357</td>\n",
       "      <td>269722.588880</td>\n",
       "      <td>-1.000000</td>\n",
       "      <td>29100.493510</td>\n",
       "      <td>11427.288803</td>\n",
       "    </tr>\n",
       "    <tr>\n",
       "      <th>3</th>\n",
       "      <td>123710391</td>\n",
       "      <td>1</td>\n",
       "      <td>Cash</td>\n",
       "      <td>M</td>\n",
       "      <td>0.0</td>\n",
       "      <td>180000.0</td>\n",
       "      <td>518562.0</td>\n",
       "      <td>22972.5</td>\n",
       "      <td>Secondary / secondary special</td>\n",
       "      <td>Married</td>\n",
       "      <td>...</td>\n",
       "      <td>-1.000000</td>\n",
       "      <td>5639.2200</td>\n",
       "      <td>-1.000000</td>\n",
       "      <td>-1.000000</td>\n",
       "      <td>-1.000000</td>\n",
       "      <td>88829.188848</td>\n",
       "      <td>88386.882459</td>\n",
       "      <td>-1.000000</td>\n",
       "      <td>3935.167908</td>\n",
       "      <td>3915.573562</td>\n",
       "    </tr>\n",
       "    <tr>\n",
       "      <th>4</th>\n",
       "      <td>123590329</td>\n",
       "      <td>1</td>\n",
       "      <td>Cash</td>\n",
       "      <td>No</td>\n",
       "      <td>-1.0</td>\n",
       "      <td>-1.0</td>\n",
       "      <td>-1.0</td>\n",
       "      <td>-1.0</td>\n",
       "      <td>No</td>\n",
       "      <td>No</td>\n",
       "      <td>...</td>\n",
       "      <td>-1.000000</td>\n",
       "      <td>-1.0000</td>\n",
       "      <td>-1.000000</td>\n",
       "      <td>-1.000000</td>\n",
       "      <td>-1.000000</td>\n",
       "      <td>-1.000000</td>\n",
       "      <td>-1.000000</td>\n",
       "      <td>-1.000000</td>\n",
       "      <td>-1.000000</td>\n",
       "      <td>-1.000000</td>\n",
       "    </tr>\n",
       "  </tbody>\n",
       "</table>\n",
       "<p>5 rows × 54 columns</p>\n",
       "</div>"
      ],
      "text/plain": [
       "   APPLICATION_NUMBER  TARGET NAME_CONTRACT_TYPE GENDER  CHILDRENS  \\\n",
       "0           123687442       0               Cash      M        1.0   \n",
       "1           123597908       1               Cash     No       -1.0   \n",
       "2           123526683       0               Cash      F        0.0   \n",
       "3           123710391       1               Cash      M        0.0   \n",
       "4           123590329       1               Cash     No       -1.0   \n",
       "\n",
       "   TOTAL_SALARY  AMOUNT_CREDIT  AMOUNT_ANNUITY                EDUCATION_LEVEL  \\\n",
       "0      157500.0       855000.0         25128.0  Secondary / secondary special   \n",
       "1          -1.0           -1.0            -1.0                             No   \n",
       "2      135000.0      1006920.0         42660.0               Higher education   \n",
       "3      180000.0       518562.0         22972.5  Secondary / secondary special   \n",
       "4          -1.0           -1.0            -1.0                             No   \n",
       "\n",
       "  FAMILY_STATUS  ...  RATIO_AGE_TO_EXPERIENCE  \\\n",
       "0       Married  ...                 9.149506   \n",
       "1            No  ...                -1.000000   \n",
       "2       Married  ...                 5.958264   \n",
       "3       Married  ...                -1.000000   \n",
       "4            No  ...                -1.000000   \n",
       "\n",
       "   RATIO_SALARY_TO_REGION_POPULATION  RATIO_CAR_TO_EXPERIENCE  \\\n",
       "0                          3008.4075                 0.006399   \n",
       "1                            -1.0000                -1.000000   \n",
       "2                          3562.9200                -1.000000   \n",
       "3                          5639.2200                -1.000000   \n",
       "4                            -1.0000                -1.000000   \n",
       "\n",
       "   RATIO_CAR_TO_AGE  EXPECTED_TOTAL_LOSS_1  EXPECTED_TOTAL_LOSS_2  \\\n",
       "0          0.000699          599170.547652          552256.266546   \n",
       "1         -1.000000              -1.000000              -1.000000   \n",
       "2         -1.000000              -1.000000          686869.876357   \n",
       "3         -1.000000              -1.000000           88829.188848   \n",
       "4         -1.000000              -1.000000              -1.000000   \n",
       "\n",
       "   EXPECTED_TOTAL_LOSS_3  EXPECTED_MONTHLY_LOSS_1  EXPECTED_MONTHLY_LOSS_2  \\\n",
       "0          612667.559305             17609.307043             16230.521013   \n",
       "1              -1.000000                -1.000000                -1.000000   \n",
       "2          269722.588880                -1.000000             29100.493510   \n",
       "3           88386.882459                -1.000000              3935.167908   \n",
       "4              -1.000000                -1.000000                -1.000000   \n",
       "\n",
       "   EXPECTED_MONTHLY_LOSS_3  \n",
       "0             18005.977111  \n",
       "1                -1.000000  \n",
       "2             11427.288803  \n",
       "3              3915.573562  \n",
       "4                -1.000000  \n",
       "\n",
       "[5 rows x 54 columns]"
      ]
     },
     "execution_count": 23,
     "metadata": {},
     "output_type": "execute_result"
    }
   ],
   "source": [
    "data.head()"
   ]
  },
  {
   "cell_type": "markdown",
   "metadata": {
    "cellId": "zoocibov4g3hpedqqhbik",
    "id": "d9NhoAWs6ZFA"
   },
   "source": [
    "### Преобразуем категориальные признаки в числовые"
   ]
  },
  {
   "cell_type": "code",
   "execution_count": 24,
   "metadata": {
    "cellId": "7t47a3xfykl2th0rsldo6",
    "execution": {
     "iopub.execute_input": "2021-05-24T14:06:15.063536Z",
     "iopub.status.busy": "2021-05-24T14:06:15.063205Z",
     "iopub.status.idle": "2021-05-24T14:06:15.086317Z",
     "shell.execute_reply": "2021-05-24T14:06:15.085212Z",
     "shell.execute_reply.started": "2021-05-24T14:06:15.063507Z"
    },
    "id": "hpW01veNUSNg"
   },
   "outputs": [],
   "source": [
    "data_cat = data.copy()"
   ]
  },
  {
   "cell_type": "code",
   "execution_count": 25,
   "metadata": {
    "cellId": "m7ervb0souraeckch9zfh",
    "execution": {
     "iopub.execute_input": "2021-05-24T14:06:15.088529Z",
     "iopub.status.busy": "2021-05-24T14:06:15.088215Z",
     "iopub.status.idle": "2021-05-24T14:06:15.097514Z",
     "shell.execute_reply": "2021-05-24T14:06:15.096391Z",
     "shell.execute_reply.started": "2021-05-24T14:06:15.088498Z"
    },
    "id": "07PZp9mh6ZFB"
   },
   "outputs": [],
   "source": [
    "obj_col = data.select_dtypes(exclude=[np.number])"
   ]
  },
  {
   "cell_type": "code",
   "execution_count": 26,
   "metadata": {
    "execution": {
     "iopub.execute_input": "2021-05-24T14:06:15.099124Z",
     "iopub.status.busy": "2021-05-24T14:06:15.098789Z",
     "iopub.status.idle": "2021-05-24T14:06:15.110676Z",
     "shell.execute_reply": "2021-05-24T14:06:15.109787Z",
     "shell.execute_reply.started": "2021-05-24T14:06:15.099095Z"
    }
   },
   "outputs": [],
   "source": [
    "def data_obj_discribe(data: pd.DataFrame):\n",
    "# если столбец имеет тип 'object' и содержит менее 30 уникальных \n",
    "# распечатывает значения столбцов и подсчитывает количество значений\n",
    "\n",
    "    # data: pd.DataFrame исходный датафрейм\n",
    "    \n",
    "    obj_fit = data.select_dtypes(include='object')\n",
    "    print('*' * 100)\n",
    "    for cat_colname in obj_fit.columns:\n",
    "        if len(obj_fit[cat_colname].unique()) < 30:\n",
    "            print(str(cat_colname) + '\\n\\n' + str(obj_fit[cat_colname].unique()) + '\\n\\n')\n",
    "            print(obj_fit.groupby(cat_colname)[cat_colname].count())\n",
    "            print('*' * 100 + '\\n')"
   ]
  },
  {
   "cell_type": "code",
   "execution_count": 27,
   "metadata": {
    "cellId": "z2o2438b1brrcb2ha2hqvn",
    "execution": {
     "iopub.execute_input": "2021-05-24T14:06:15.112591Z",
     "iopub.status.busy": "2021-05-24T14:06:15.112175Z",
     "iopub.status.idle": "2021-05-24T14:06:15.283695Z",
     "shell.execute_reply": "2021-05-24T14:06:15.282448Z",
     "shell.execute_reply.started": "2021-05-24T14:06:15.112543Z"
    },
    "id": "0EVrvSo86ZFH",
    "outputId": "9c7c81d6-2360-4e53-f28d-51215381107e"
   },
   "outputs": [
    {
     "name": "stdout",
     "output_type": "stream",
     "text": [
      "****************************************************************************************************\n",
      "NAME_CONTRACT_TYPE\n",
      "\n",
      "['Cash' 'Credit Card']\n",
      "\n",
      "\n",
      "NAME_CONTRACT_TYPE\n",
      "Cash           99551\n",
      "Credit Card    10542\n",
      "Name: NAME_CONTRACT_TYPE, dtype: int64\n",
      "****************************************************************************************************\n",
      "\n",
      "GENDER\n",
      "\n",
      "['M' 'No' 'F' 'XNA']\n",
      "\n",
      "\n",
      "GENDER\n",
      "F      59077\n",
      "M      30461\n",
      "No     20554\n",
      "XNA        1\n",
      "Name: GENDER, dtype: int64\n",
      "****************************************************************************************************\n",
      "\n",
      "EDUCATION_LEVEL\n",
      "\n",
      "['Secondary / secondary special' 'No' 'Higher education' 'Lower secondary'\n",
      " 'Incomplete higher' 'Academic degree']\n",
      "\n",
      "\n",
      "EDUCATION_LEVEL\n",
      "Academic degree                     37\n",
      "Higher education                 21802\n",
      "Incomplete higher                 3081\n",
      "Lower secondary                   1113\n",
      "No                               20554\n",
      "Secondary / secondary special    63506\n",
      "Name: EDUCATION_LEVEL, dtype: int64\n",
      "****************************************************************************************************\n",
      "\n",
      "FAMILY_STATUS\n",
      "\n",
      "['Married' 'No' 'Single / not married' 'Separated' 'Civil marriage'\n",
      " 'Widow' 'Unknown']\n",
      "\n",
      "\n",
      "FAMILY_STATUS\n",
      "Civil marriage           8736\n",
      "Married                 57236\n",
      "No                      20554\n",
      "Separated                5763\n",
      "Single / not married    13147\n",
      "Unknown                     1\n",
      "Widow                    4656\n",
      "Name: FAMILY_STATUS, dtype: int64\n",
      "****************************************************************************************************\n",
      "\n"
     ]
    }
   ],
   "source": [
    "if not obj_col.empty:\n",
    "    data_obj_discribe(data)"
   ]
  },
  {
   "cell_type": "code",
   "execution_count": 28,
   "metadata": {
    "cellId": "7z33uf858zglolhhv629zo",
    "execution": {
     "iopub.execute_input": "2021-05-24T14:06:15.285437Z",
     "iopub.status.busy": "2021-05-24T14:06:15.285068Z",
     "iopub.status.idle": "2021-05-24T14:06:15.292559Z",
     "shell.execute_reply": "2021-05-24T14:06:15.291314Z",
     "shell.execute_reply.started": "2021-05-24T14:06:15.285405Z"
    },
    "id": "m7dqiS-z6ZFL"
   },
   "outputs": [],
   "source": [
    "def data_obj_map(data: pd.DataFrame):\n",
    "# если столбец имеет тип 'object' и содержит менее 30 уникальных \n",
    "# преобразует категориальные признак в числовые\n",
    "\n",
    "    # data: pd.DataFrame исходный датафрейм\n",
    "    \n",
    "    # изменяет датафрейм источник\n",
    "    \n",
    "    obj_fit = data.select_dtypes(include='object')\n",
    "    for cat_colname in obj_fit.columns:\n",
    "        map_tr = {}\n",
    "        un_val = obj_fit[cat_colname].unique()\n",
    "        if len(un_val) < 30:\n",
    "            print(str(cat_colname) + '\\n')\n",
    "            for i in range(len(un_val)):\n",
    "                map_tr[un_val[i]] = i\n",
    "            print(map_tr)\n",
    "            data[cat_colname] = data[cat_colname].map(map_tr)\n",
    "            print('*' * 100 + '\\n')"
   ]
  },
  {
   "cell_type": "code",
   "execution_count": 29,
   "metadata": {
    "cellId": "ddmdzy680ptpahszl845o",
    "execution": {
     "iopub.execute_input": "2021-05-24T14:06:15.294722Z",
     "iopub.status.busy": "2021-05-24T14:06:15.294290Z",
     "iopub.status.idle": "2021-05-24T14:06:15.402022Z",
     "shell.execute_reply": "2021-05-24T14:06:15.400727Z",
     "shell.execute_reply.started": "2021-05-24T14:06:15.294680Z"
    },
    "id": "y0SSKLeq6ZFP",
    "outputId": "ada58880-d2c6-4fb3-e216-9a2a777ad4f2"
   },
   "outputs": [
    {
     "name": "stdout",
     "output_type": "stream",
     "text": [
      "NAME_CONTRACT_TYPE\n",
      "\n",
      "{'Cash': 0, 'Credit Card': 1}\n",
      "****************************************************************************************************\n",
      "\n",
      "GENDER\n",
      "\n",
      "{'M': 0, 'No': 1, 'F': 2, 'XNA': 3}\n",
      "****************************************************************************************************\n",
      "\n",
      "EDUCATION_LEVEL\n",
      "\n",
      "{'Secondary / secondary special': 0, 'No': 1, 'Higher education': 2, 'Lower secondary': 3, 'Incomplete higher': 4, 'Academic degree': 5}\n",
      "****************************************************************************************************\n",
      "\n",
      "FAMILY_STATUS\n",
      "\n",
      "{'Married': 0, 'No': 1, 'Single / not married': 2, 'Separated': 3, 'Civil marriage': 4, 'Widow': 5, 'Unknown': 6}\n",
      "****************************************************************************************************\n",
      "\n"
     ]
    }
   ],
   "source": [
    "if not obj_col.empty:\n",
    "    data_obj_map(data)"
   ]
  },
  {
   "cell_type": "code",
   "execution_count": 30,
   "metadata": {
    "cellId": "zqqevbd1ly9eknbbdttzd",
    "execution": {
     "iopub.execute_input": "2021-05-24T14:06:15.404039Z",
     "iopub.status.busy": "2021-05-24T14:06:15.403529Z",
     "iopub.status.idle": "2021-05-24T14:06:15.439063Z",
     "shell.execute_reply": "2021-05-24T14:06:15.437980Z",
     "shell.execute_reply.started": "2021-05-24T14:06:15.404001Z"
    },
    "id": "6Sz3xYb-6ZFS",
    "outputId": "b9b133d4-50d9-47fc-cbeb-a0dbb0948583"
   },
   "outputs": [
    {
     "data": {
      "text/html": [
       "<div>\n",
       "<style scoped>\n",
       "    .dataframe tbody tr th:only-of-type {\n",
       "        vertical-align: middle;\n",
       "    }\n",
       "\n",
       "    .dataframe tbody tr th {\n",
       "        vertical-align: top;\n",
       "    }\n",
       "\n",
       "    .dataframe thead th {\n",
       "        text-align: right;\n",
       "    }\n",
       "</style>\n",
       "<table border=\"1\" class=\"dataframe\">\n",
       "  <thead>\n",
       "    <tr style=\"text-align: right;\">\n",
       "      <th></th>\n",
       "      <th>APPLICATION_NUMBER</th>\n",
       "      <th>TARGET</th>\n",
       "      <th>NAME_CONTRACT_TYPE</th>\n",
       "      <th>GENDER</th>\n",
       "      <th>CHILDRENS</th>\n",
       "      <th>TOTAL_SALARY</th>\n",
       "      <th>AMOUNT_CREDIT</th>\n",
       "      <th>AMOUNT_ANNUITY</th>\n",
       "      <th>EDUCATION_LEVEL</th>\n",
       "      <th>FAMILY_STATUS</th>\n",
       "      <th>...</th>\n",
       "      <th>RATIO_AGE_TO_EXPERIENCE</th>\n",
       "      <th>RATIO_SALARY_TO_REGION_POPULATION</th>\n",
       "      <th>RATIO_CAR_TO_EXPERIENCE</th>\n",
       "      <th>RATIO_CAR_TO_AGE</th>\n",
       "      <th>EXPECTED_TOTAL_LOSS_1</th>\n",
       "      <th>EXPECTED_TOTAL_LOSS_2</th>\n",
       "      <th>EXPECTED_TOTAL_LOSS_3</th>\n",
       "      <th>EXPECTED_MONTHLY_LOSS_1</th>\n",
       "      <th>EXPECTED_MONTHLY_LOSS_2</th>\n",
       "      <th>EXPECTED_MONTHLY_LOSS_3</th>\n",
       "    </tr>\n",
       "  </thead>\n",
       "  <tbody>\n",
       "    <tr>\n",
       "      <th>0</th>\n",
       "      <td>123687442</td>\n",
       "      <td>0</td>\n",
       "      <td>0</td>\n",
       "      <td>0</td>\n",
       "      <td>1.0</td>\n",
       "      <td>157500.0</td>\n",
       "      <td>855000.0</td>\n",
       "      <td>25128.0</td>\n",
       "      <td>0</td>\n",
       "      <td>0</td>\n",
       "      <td>...</td>\n",
       "      <td>9.149506</td>\n",
       "      <td>3008.4075</td>\n",
       "      <td>0.006399</td>\n",
       "      <td>0.000699</td>\n",
       "      <td>599170.547652</td>\n",
       "      <td>552256.266546</td>\n",
       "      <td>612667.559305</td>\n",
       "      <td>17609.307043</td>\n",
       "      <td>16230.521013</td>\n",
       "      <td>18005.977111</td>\n",
       "    </tr>\n",
       "    <tr>\n",
       "      <th>1</th>\n",
       "      <td>123597908</td>\n",
       "      <td>1</td>\n",
       "      <td>0</td>\n",
       "      <td>1</td>\n",
       "      <td>-1.0</td>\n",
       "      <td>-1.0</td>\n",
       "      <td>-1.0</td>\n",
       "      <td>-1.0</td>\n",
       "      <td>1</td>\n",
       "      <td>1</td>\n",
       "      <td>...</td>\n",
       "      <td>-1.000000</td>\n",
       "      <td>-1.0000</td>\n",
       "      <td>-1.000000</td>\n",
       "      <td>-1.000000</td>\n",
       "      <td>-1.000000</td>\n",
       "      <td>-1.000000</td>\n",
       "      <td>-1.000000</td>\n",
       "      <td>-1.000000</td>\n",
       "      <td>-1.000000</td>\n",
       "      <td>-1.000000</td>\n",
       "    </tr>\n",
       "    <tr>\n",
       "      <th>2</th>\n",
       "      <td>123526683</td>\n",
       "      <td>0</td>\n",
       "      <td>0</td>\n",
       "      <td>2</td>\n",
       "      <td>0.0</td>\n",
       "      <td>135000.0</td>\n",
       "      <td>1006920.0</td>\n",
       "      <td>42660.0</td>\n",
       "      <td>2</td>\n",
       "      <td>0</td>\n",
       "      <td>...</td>\n",
       "      <td>5.958264</td>\n",
       "      <td>3562.9200</td>\n",
       "      <td>-1.000000</td>\n",
       "      <td>-1.000000</td>\n",
       "      <td>-1.000000</td>\n",
       "      <td>686869.876357</td>\n",
       "      <td>269722.588880</td>\n",
       "      <td>-1.000000</td>\n",
       "      <td>29100.493510</td>\n",
       "      <td>11427.288803</td>\n",
       "    </tr>\n",
       "    <tr>\n",
       "      <th>3</th>\n",
       "      <td>123710391</td>\n",
       "      <td>1</td>\n",
       "      <td>0</td>\n",
       "      <td>0</td>\n",
       "      <td>0.0</td>\n",
       "      <td>180000.0</td>\n",
       "      <td>518562.0</td>\n",
       "      <td>22972.5</td>\n",
       "      <td>0</td>\n",
       "      <td>0</td>\n",
       "      <td>...</td>\n",
       "      <td>-1.000000</td>\n",
       "      <td>5639.2200</td>\n",
       "      <td>-1.000000</td>\n",
       "      <td>-1.000000</td>\n",
       "      <td>-1.000000</td>\n",
       "      <td>88829.188848</td>\n",
       "      <td>88386.882459</td>\n",
       "      <td>-1.000000</td>\n",
       "      <td>3935.167908</td>\n",
       "      <td>3915.573562</td>\n",
       "    </tr>\n",
       "    <tr>\n",
       "      <th>4</th>\n",
       "      <td>123590329</td>\n",
       "      <td>1</td>\n",
       "      <td>0</td>\n",
       "      <td>1</td>\n",
       "      <td>-1.0</td>\n",
       "      <td>-1.0</td>\n",
       "      <td>-1.0</td>\n",
       "      <td>-1.0</td>\n",
       "      <td>1</td>\n",
       "      <td>1</td>\n",
       "      <td>...</td>\n",
       "      <td>-1.000000</td>\n",
       "      <td>-1.0000</td>\n",
       "      <td>-1.000000</td>\n",
       "      <td>-1.000000</td>\n",
       "      <td>-1.000000</td>\n",
       "      <td>-1.000000</td>\n",
       "      <td>-1.000000</td>\n",
       "      <td>-1.000000</td>\n",
       "      <td>-1.000000</td>\n",
       "      <td>-1.000000</td>\n",
       "    </tr>\n",
       "  </tbody>\n",
       "</table>\n",
       "<p>5 rows × 54 columns</p>\n",
       "</div>"
      ],
      "text/plain": [
       "   APPLICATION_NUMBER  TARGET  NAME_CONTRACT_TYPE  GENDER  CHILDRENS  \\\n",
       "0           123687442       0                   0       0        1.0   \n",
       "1           123597908       1                   0       1       -1.0   \n",
       "2           123526683       0                   0       2        0.0   \n",
       "3           123710391       1                   0       0        0.0   \n",
       "4           123590329       1                   0       1       -1.0   \n",
       "\n",
       "   TOTAL_SALARY  AMOUNT_CREDIT  AMOUNT_ANNUITY  EDUCATION_LEVEL  \\\n",
       "0      157500.0       855000.0         25128.0                0   \n",
       "1          -1.0           -1.0            -1.0                1   \n",
       "2      135000.0      1006920.0         42660.0                2   \n",
       "3      180000.0       518562.0         22972.5                0   \n",
       "4          -1.0           -1.0            -1.0                1   \n",
       "\n",
       "   FAMILY_STATUS  ...  RATIO_AGE_TO_EXPERIENCE  \\\n",
       "0              0  ...                 9.149506   \n",
       "1              1  ...                -1.000000   \n",
       "2              0  ...                 5.958264   \n",
       "3              0  ...                -1.000000   \n",
       "4              1  ...                -1.000000   \n",
       "\n",
       "   RATIO_SALARY_TO_REGION_POPULATION  RATIO_CAR_TO_EXPERIENCE  \\\n",
       "0                          3008.4075                 0.006399   \n",
       "1                            -1.0000                -1.000000   \n",
       "2                          3562.9200                -1.000000   \n",
       "3                          5639.2200                -1.000000   \n",
       "4                            -1.0000                -1.000000   \n",
       "\n",
       "   RATIO_CAR_TO_AGE  EXPECTED_TOTAL_LOSS_1  EXPECTED_TOTAL_LOSS_2  \\\n",
       "0          0.000699          599170.547652          552256.266546   \n",
       "1         -1.000000              -1.000000              -1.000000   \n",
       "2         -1.000000              -1.000000          686869.876357   \n",
       "3         -1.000000              -1.000000           88829.188848   \n",
       "4         -1.000000              -1.000000              -1.000000   \n",
       "\n",
       "   EXPECTED_TOTAL_LOSS_3  EXPECTED_MONTHLY_LOSS_1  EXPECTED_MONTHLY_LOSS_2  \\\n",
       "0          612667.559305             17609.307043             16230.521013   \n",
       "1              -1.000000                -1.000000                -1.000000   \n",
       "2          269722.588880                -1.000000             29100.493510   \n",
       "3           88386.882459                -1.000000              3935.167908   \n",
       "4              -1.000000                -1.000000                -1.000000   \n",
       "\n",
       "   EXPECTED_MONTHLY_LOSS_3  \n",
       "0             18005.977111  \n",
       "1                -1.000000  \n",
       "2             11427.288803  \n",
       "3              3915.573562  \n",
       "4                -1.000000  \n",
       "\n",
       "[5 rows x 54 columns]"
      ]
     },
     "execution_count": 30,
     "metadata": {},
     "output_type": "execute_result"
    }
   ],
   "source": [
    "data.head()"
   ]
  },
  {
   "cell_type": "code",
   "execution_count": 31,
   "metadata": {
    "execution": {
     "iopub.execute_input": "2021-05-24T14:06:15.440583Z",
     "iopub.status.busy": "2021-05-24T14:06:15.440298Z",
     "iopub.status.idle": "2021-05-24T14:06:15.494920Z",
     "shell.execute_reply": "2021-05-24T14:06:15.493943Z",
     "shell.execute_reply.started": "2021-05-24T14:06:15.440554Z"
    }
   },
   "outputs": [],
   "source": [
    "for col in data.columns:\n",
    "    data.loc[data[col].isnull(), col] = -1"
   ]
  },
  {
   "cell_type": "markdown",
   "metadata": {
    "cellId": "6svp7frdnv3xvjn03ethda",
    "id": "tZ5MdPvLDU3M"
   },
   "source": [
    "## XGBoost"
   ]
  },
  {
   "cell_type": "code",
   "execution_count": 32,
   "metadata": {
    "execution": {
     "iopub.execute_input": "2021-05-24T14:06:15.496445Z",
     "iopub.status.busy": "2021-05-24T14:06:15.496134Z",
     "iopub.status.idle": "2021-05-24T14:06:15.571303Z",
     "shell.execute_reply": "2021-05-24T14:06:15.570232Z",
     "shell.execute_reply.started": "2021-05-24T14:06:15.496414Z"
    }
   },
   "outputs": [],
   "source": [
    "X_train, X_valid, y_train, y_valid = train_test_split(data.drop(\"TARGET\", axis=1), \n",
    "                                                      data[\"TARGET\"], \n",
    "                                                      test_size=0.2, random_state=42)"
   ]
  },
  {
   "cell_type": "code",
   "execution_count": 33,
   "metadata": {
    "cellId": "ky95s46m9naerfwu0rn13q",
    "execution": {
     "iopub.execute_input": "2021-05-24T14:06:15.573037Z",
     "iopub.status.busy": "2021-05-24T14:06:15.572700Z",
     "iopub.status.idle": "2021-05-24T14:09:37.958590Z",
     "shell.execute_reply": "2021-05-24T14:09:37.957521Z",
     "shell.execute_reply.started": "2021-05-24T14:06:15.573005Z"
    },
    "id": "MfCb8FxW_PT3"
   },
   "outputs": [
    {
     "name": "stderr",
     "output_type": "stream",
     "text": [
      "The use of label encoder in XGBClassifier is deprecated and will be removed in a future release. To remove this warning, do the following: 1) Pass option use_label_encoder=False when constructing XGBClassifier object; and 2) Encode your labels (y) as integers starting with 0, i.e. 0, 1, 2, ..., [num_class - 1].\n",
      "Use subset (sliced data) of np.ndarray is not recommended because it will generate extra copies and increase memory consumption\n"
     ]
    },
    {
     "data": {
      "text/plain": [
       "0.9135746400835641"
      ]
     },
     "execution_count": 33,
     "metadata": {},
     "output_type": "execute_result"
    }
   ],
   "source": [
    "model_xgb = xgb.XGBClassifier(objective=\"binary:logistic\",\n",
    "                              nthread=2, \n",
    "                              max_depth=5, \n",
    "                              n_estimators=1000, \n",
    "                              subsample=0.5, \n",
    "                              learning_rate=0.3, \n",
    "                              seed=1400, \n",
    "                              random_state=42,\n",
    "                              eval_metric='auc')\n",
    "\n",
    "model_xgb.fit(X_train, y_train)\n",
    "\n",
    "preds = model_xgb.predict(X_valid)\n",
    "\n",
    "accuracy_score(y_valid, preds)"
   ]
  },
  {
   "cell_type": "markdown",
   "metadata": {},
   "source": [
    "### XGBoost prediction"
   ]
  },
  {
   "cell_type": "code",
   "execution_count": 34,
   "metadata": {
    "execution": {
     "iopub.execute_input": "2021-05-24T14:09:37.960331Z",
     "iopub.status.busy": "2021-05-24T14:09:37.959971Z",
     "iopub.status.idle": "2021-05-24T14:09:37.969467Z",
     "shell.execute_reply": "2021-05-24T14:09:37.967916Z",
     "shell.execute_reply.started": "2021-05-24T14:09:37.960299Z"
    }
   },
   "outputs": [],
   "source": [
    "rw_clissifiers = ['XGBoost']\n",
    "\n",
    "cl_met = ['Best Threshold', 'F-Score', 'Precision', \n",
    "          'Recall', 'roc_auc_s', 'log_loss_s', 'TPR', 'FPR', 'TNR', \"TN\", \"FN\", \"TP\", \"FP\"]\n",
    "\n",
    "res_tab = pd.DataFrame(columns=cl_met)"
   ]
  },
  {
   "cell_type": "code",
   "execution_count": 35,
   "metadata": {
    "execution": {
     "iopub.execute_input": "2021-05-24T14:09:37.971457Z",
     "iopub.status.busy": "2021-05-24T14:09:37.971060Z",
     "iopub.status.idle": "2021-05-24T14:09:37.984308Z",
     "shell.execute_reply": "2021-05-24T14:09:37.982935Z",
     "shell.execute_reply.started": "2021-05-24T14:09:37.971406Z"
    }
   },
   "outputs": [
    {
     "name": "stdout",
     "output_type": "stream",
     "text": [
      "Best Threshold=0.000000, F-Score=0.144, Precision=0.078, Recall=1.000\n"
     ]
    }
   ],
   "source": [
    "precision, recall, thresholds = precision_recall_curve(y_valid, preds)\n",
    "\n",
    "fscore = (2 * precision * recall) / (precision + recall)\n",
    "# locate the index of the largest f score\n",
    "ix = np.argmax(fscore)\n",
    "print('Best Threshold=%f, F-Score=%.3f, Precision=%.3f, Recall=%.3f' % (thresholds[ix], \n",
    "                                                                        fscore[ix],\n",
    "                                                                        precision[ix],\n",
    "                                                                        recall[ix]))"
   ]
  },
  {
   "cell_type": "code",
   "execution_count": 36,
   "metadata": {
    "execution": {
     "iopub.execute_input": "2021-05-24T14:09:37.986022Z",
     "iopub.status.busy": "2021-05-24T14:09:37.985681Z",
     "iopub.status.idle": "2021-05-24T14:09:38.004269Z",
     "shell.execute_reply": "2021-05-24T14:09:38.003070Z",
     "shell.execute_reply.started": "2021-05-24T14:09:37.985991Z"
    }
   },
   "outputs": [
    {
     "name": "stdout",
     "output_type": "stream",
     "text": [
      "roc auc score: 0.5284621071108824\n",
      "log loss score: 2.985037583591813\n"
     ]
    }
   ],
   "source": [
    "r_auc = roc_auc_score(y_true=y_valid, y_score=preds)\n",
    "l_los = log_loss(y_true=y_valid, y_pred=preds)\n",
    "\n",
    "print(\"roc auc score: {}\".format(r_auc))\n",
    "print(\"log loss score: {}\".format(l_los))"
   ]
  },
  {
   "cell_type": "code",
   "execution_count": 37,
   "metadata": {
    "execution": {
     "iopub.execute_input": "2021-05-24T14:09:38.005812Z",
     "iopub.status.busy": "2021-05-24T14:09:38.005526Z",
     "iopub.status.idle": "2021-05-24T14:09:38.108249Z",
     "shell.execute_reply": "2021-05-24T14:09:38.107157Z",
     "shell.execute_reply.started": "2021-05-24T14:09:38.005786Z"
    }
   },
   "outputs": [
    {
     "data": {
      "text/plain": [
       "(0.07238762405137186, 0.015463409829607012, 0.984536590170393)"
      ]
     },
     "execution_count": 37,
     "metadata": {},
     "output_type": "execute_result"
    }
   ],
   "source": [
    "cnf_matrix = confusion_matrix(y_valid, preds>thresholds[ix])\n",
    "\n",
    "TN = cnf_matrix[0][0]\n",
    "FN = cnf_matrix[1][0]\n",
    "TP = cnf_matrix[1][1]\n",
    "FP = cnf_matrix[0][1]\n",
    "\n",
    "TPR = TP/(TP+FN)\n",
    "FPR = FP/(FP+TN)\n",
    "TNR = TN/(FP+TN)\n",
    "TPR, FPR, TNR"
   ]
  },
  {
   "cell_type": "code",
   "execution_count": 38,
   "metadata": {
    "execution": {
     "iopub.execute_input": "2021-05-24T14:09:38.109931Z",
     "iopub.status.busy": "2021-05-24T14:09:38.109596Z",
     "iopub.status.idle": "2021-05-24T14:09:38.132012Z",
     "shell.execute_reply": "2021-05-24T14:09:38.130825Z",
     "shell.execute_reply.started": "2021-05-24T14:09:38.109900Z"
    }
   },
   "outputs": [
    {
     "data": {
      "text/html": [
       "<div>\n",
       "<style scoped>\n",
       "    .dataframe tbody tr th:only-of-type {\n",
       "        vertical-align: middle;\n",
       "    }\n",
       "\n",
       "    .dataframe tbody tr th {\n",
       "        vertical-align: top;\n",
       "    }\n",
       "\n",
       "    .dataframe thead th {\n",
       "        text-align: right;\n",
       "    }\n",
       "</style>\n",
       "<table border=\"1\" class=\"dataframe\">\n",
       "  <thead>\n",
       "    <tr style=\"text-align: right;\">\n",
       "      <th></th>\n",
       "      <th>Best Threshold</th>\n",
       "      <th>F-Score</th>\n",
       "      <th>Precision</th>\n",
       "      <th>Recall</th>\n",
       "      <th>roc_auc_s</th>\n",
       "      <th>log_loss_s</th>\n",
       "      <th>TPR</th>\n",
       "      <th>FPR</th>\n",
       "      <th>TNR</th>\n",
       "      <th>TN</th>\n",
       "      <th>FN</th>\n",
       "      <th>TP</th>\n",
       "      <th>FP</th>\n",
       "    </tr>\n",
       "  </thead>\n",
       "  <tbody>\n",
       "    <tr>\n",
       "      <th>XGBoost</th>\n",
       "      <td>0</td>\n",
       "      <td>0.144362</td>\n",
       "      <td>0.077796</td>\n",
       "      <td>1.0</td>\n",
       "      <td>0.528462</td>\n",
       "      <td>2.985038</td>\n",
       "      <td>0.072388</td>\n",
       "      <td>0.015463</td>\n",
       "      <td>0.984537</td>\n",
       "      <td>19992</td>\n",
       "      <td>1589</td>\n",
       "      <td>124</td>\n",
       "      <td>314</td>\n",
       "    </tr>\n",
       "  </tbody>\n",
       "</table>\n",
       "</div>"
      ],
      "text/plain": [
       "        Best Threshold   F-Score Precision Recall roc_auc_s log_loss_s  \\\n",
       "XGBoost              0  0.144362  0.077796    1.0  0.528462   2.985038   \n",
       "\n",
       "              TPR       FPR       TNR     TN    FN   TP   FP  \n",
       "XGBoost  0.072388  0.015463  0.984537  19992  1589  124  314  "
      ]
     },
     "execution_count": 38,
     "metadata": {},
     "output_type": "execute_result"
    }
   ],
   "source": [
    "res_tab.loc['XGBoost', :] = [thresholds[ix], fscore[ix], precision[ix], recall[ix], \n",
    "                             r_auc, l_los, TPR, FPR, TNR, TN, FN, TP, FP]\n",
    "res_tab"
   ]
  },
  {
   "cell_type": "markdown",
   "metadata": {},
   "source": [
    "### Feature importance"
   ]
  },
  {
   "cell_type": "code",
   "execution_count": 39,
   "metadata": {
    "execution": {
     "iopub.execute_input": "2021-05-24T14:09:38.133599Z",
     "iopub.status.busy": "2021-05-24T14:09:38.133295Z",
     "iopub.status.idle": "2021-05-24T14:09:38.138693Z",
     "shell.execute_reply": "2021-05-24T14:09:38.137456Z",
     "shell.execute_reply.started": "2021-05-24T14:09:38.133568Z"
    }
   },
   "outputs": [],
   "source": [
    "lgbm_params =  {\n",
    "    'boosting_type': 'gbdt',\n",
    "    'objective': 'binary',\n",
    "    'metric': 'auc',\n",
    "    \"learning_rate\": 0.1,\n",
    "    \"num_leaves\": 31,\n",
    "    \"random_state\": 42 \n",
    "    }"
   ]
  },
  {
   "cell_type": "code",
   "execution_count": 40,
   "metadata": {
    "execution": {
     "iopub.execute_input": "2021-05-24T14:09:38.140818Z",
     "iopub.status.busy": "2021-05-24T14:09:38.140363Z",
     "iopub.status.idle": "2021-05-24T14:09:40.827858Z",
     "shell.execute_reply": "2021-05-24T14:09:40.826854Z",
     "shell.execute_reply.started": "2021-05-24T14:09:38.140771Z"
    }
   },
   "outputs": [
    {
     "name": "stdout",
     "output_type": "stream",
     "text": [
      "[LightGBM] [Info] Number of positive: 7184, number of negative: 80890\n",
      "[LightGBM] [Warning] Auto-choosing row-wise multi-threading, the overhead of testing was 0.021816 seconds.\n",
      "You can set `force_row_wise=true` to remove the overhead.\n",
      "And if memory is not enough, you can set `force_col_wise=true`.\n",
      "[LightGBM] [Info] Total Bins 9244\n",
      "[LightGBM] [Info] Number of data points in the train set: 88074, number of used features: 53\n",
      "[LightGBM] [Info] [binary:BoostFromScore]: pavg=0.081568 -> initscore=-2.421234\n",
      "[LightGBM] [Info] Start training from score -2.421234\n"
     ]
    }
   ],
   "source": [
    "train_data = lgbm.Dataset(X_train, label=y_train)\n",
    "test_data = lgbm.Dataset(X_valid, label=y_valid)\n",
    "\n",
    "model = lgbm.train(lgbm_params,\n",
    "                   train_data,\n",
    "                   valid_sets=test_data,\n",
    "                   num_boost_round=1000,\n",
    "                   early_stopping_rounds=50,\n",
    "                   verbose_eval=False)"
   ]
  },
  {
   "cell_type": "code",
   "execution_count": 41,
   "metadata": {
    "execution": {
     "iopub.execute_input": "2021-05-24T14:09:40.829671Z",
     "iopub.status.busy": "2021-05-24T14:09:40.829273Z",
     "iopub.status.idle": "2021-05-24T14:09:42.401656Z",
     "shell.execute_reply": "2021-05-24T14:09:42.400635Z",
     "shell.execute_reply.started": "2021-05-24T14:09:40.829631Z"
    }
   },
   "outputs": [
    {
     "data": {
      "image/png": "[encoded data removed]",
      "text/plain": [
       "<Figure size 360x3240 with 1 Axes>"
      ]
     },
     "metadata": {
      "needs_background": "light"
     },
     "output_type": "display_data"
    }
   ],
   "source": [
    "ax = lgbm.plot_importance(model, max_num_features=355, figsize=(5,45))   #, figsize=(45,5)\n",
    "plt.show()"
   ]
  },
  {
   "cell_type": "markdown",
   "metadata": {},
   "source": [
    "### Permutation importance"
   ]
  },
  {
   "cell_type": "code",
   "execution_count": 42,
   "metadata": {
    "execution": {
     "iopub.execute_input": "2021-05-24T14:09:42.403372Z",
     "iopub.status.busy": "2021-05-24T14:09:42.403048Z",
     "iopub.status.idle": "2021-05-24T14:09:42.410615Z",
     "shell.execute_reply": "2021-05-24T14:09:42.409619Z",
     "shell.execute_reply.started": "2021-05-24T14:09:42.403340Z"
    }
   },
   "outputs": [],
   "source": [
    "def calculate_permutation_importance(estimator, \n",
    "                                     metric: callable,\n",
    "                                     x_valid: pd.DataFrame,\n",
    "                                     y_valid: pd.Series) -> pd.Series:\n",
    "    \"\"\"\n",
    "    Расчет пермутированной важности признаков.\n",
    "    \"\"\"\n",
    "    scores = {}\n",
    "    y_pred = estimator.predict(x_valid)\n",
    "    base_score = metric(y_valid, y_pred)\n",
    "\n",
    "    for feature in tqdm(x_valid.columns):\n",
    "        x_valid_copy = x_valid.copy()\n",
    "        x_valid_copy[feature] = np.random.permutation(x_valid_copy[feature])\n",
    "\n",
    "        y_pred = estimator.predict(x_valid_copy)\n",
    "        score = metric(y_valid, y_pred)\n",
    "        scores[feature] = base_score - score\n",
    "\n",
    "    scores = pd.Series(scores)\n",
    "    scores = scores.sort_values(ascending=False)\n",
    "\n",
    "    return scores"
   ]
  },
  {
   "cell_type": "code",
   "execution_count": 43,
   "metadata": {
    "execution": {
     "iopub.execute_input": "2021-05-24T14:09:42.412464Z",
     "iopub.status.busy": "2021-05-24T14:09:42.411939Z",
     "iopub.status.idle": "2021-05-24T14:09:45.022453Z",
     "shell.execute_reply": "2021-05-24T14:09:45.021474Z",
     "shell.execute_reply.started": "2021-05-24T14:09:42.412418Z"
    }
   },
   "outputs": [
    {
     "name": "stdout",
     "output_type": "stream",
     "text": [
      "[LightGBM] [Info] Number of positive: 7184, number of negative: 80890\n",
      "[LightGBM] [Warning] Auto-choosing row-wise multi-threading, the overhead of testing was 0.016736 seconds.\n",
      "You can set `force_row_wise=true` to remove the overhead.\n",
      "And if memory is not enough, you can set `force_col_wise=true`.\n",
      "[LightGBM] [Info] Total Bins 9244\n",
      "[LightGBM] [Info] Number of data points in the train set: 88074, number of used features: 53\n",
      "[LightGBM] [Info] [binary:BoostFromScore]: pavg=0.081568 -> initscore=-2.421234\n",
      "[LightGBM] [Info] Start training from score -2.421234\n"
     ]
    }
   ],
   "source": [
    "train_data = lgbm.Dataset(X_train, label=y_train)\n",
    "test_data = lgbm.Dataset(X_valid, label=y_valid)\n",
    "\n",
    "model = lgbm.train(lgbm_params,\n",
    "                   train_data,\n",
    "                   valid_sets=test_data,\n",
    "                   num_boost_round=1000,\n",
    "                   early_stopping_rounds=50,\n",
    "                   verbose_eval=False)"
   ]
  },
  {
   "cell_type": "code",
   "execution_count": 44,
   "metadata": {
    "execution": {
     "iopub.execute_input": "2021-05-24T14:09:45.024595Z",
     "iopub.status.busy": "2021-05-24T14:09:45.023916Z",
     "iopub.status.idle": "2021-05-24T14:09:49.446374Z",
     "shell.execute_reply": "2021-05-24T14:09:49.445356Z",
     "shell.execute_reply.started": "2021-05-24T14:09:45.024546Z"
    }
   },
   "outputs": [
    {
     "name": "stderr",
     "output_type": "stream",
     "text": [
      "100%|██████████| 53/53 [00:04<00:00, 12.24it/s]\n"
     ]
    },
    {
     "data": {
      "text/plain": [
       "EXTERNAL_SCORING_RATING_mean         0.087654\n",
       "RATIO_CREDIT_TO_ANNUITY              0.018037\n",
       "RATIO_ANNUITY_TO_EXPERIENCE          0.014275\n",
       "EDUCATION_LEVEL                      0.009829\n",
       "EXTERNAL_SCORING_RATING_2            0.007632\n",
       "RATIO_CREDIT_TO_AGE                  0.007616\n",
       "NAME_CONTRACT_TYPE                   0.007559\n",
       "EXTERNAL_SCORING_RATING_min          0.007331\n",
       "EXTERNAL_SCORING_RATING_nanmedian    0.007265\n",
       "EXTERNAL_SCORING_RATING_3            0.006672\n",
       "EXPECTED_MONTHLY_LOSS_3              0.006505\n",
       "EXTERNAL_SCORING_PROD                0.006049\n",
       "AGE                                  0.005902\n",
       "GENDER                               0.004178\n",
       "RATIO_CREDIT_TO_SALARY               0.004094\n",
       "RATIO_SALARY_TO_AGE                  0.003783\n",
       "TOTAL_SALARY                         0.003763\n",
       "OWN_CAR_AGE                          0.003611\n",
       "EXTERNAL_SCORING_RATING_max          0.003399\n",
       "EXPECTED_MONTHLY_LOSS_2              0.003345\n",
       "RATIO_AGE_TO_EXPERIENCE              0.002815\n",
       "EXPECTED_TOTAL_LOSS_1                0.002767\n",
       "EXTERNAL_SCORING_RATING_1            0.002751\n",
       "RATIO_ANNUITY_TO_AGE                 0.002655\n",
       "AMOUNT_ANNUITY                       0.002199\n",
       "EXTERNAL_SCORING_RATING_var          0.002137\n",
       "RATIO_ANNUITY_TO_SALARY              0.002128\n",
       "RATIO_SALARY_TO_EXPERIENCE           0.001843\n",
       "AMT_REQ_CREDIT_BUREAU_HOUR           0.001725\n",
       "AMOUNT_CREDIT                        0.001653\n",
       "RATIO_CAR_TO_AGE                     0.001231\n",
       "AMT_REQ_CREDIT_BUREAU_QRT            0.001152\n",
       "EXPECTED_MONTHLY_LOSS_1              0.001060\n",
       "FAMILY_STATUS                        0.001039\n",
       "REGION_POPULATION                    0.000920\n",
       "DAYS_ON_LAST_JOB                     0.000842\n",
       "EXTERNAL_SCORING_WEIGHTED            0.000812\n",
       "EXPECTED_TOTAL_LOSS_2                0.000637\n",
       "RATIO_CAR_TO_EXPERIENCE              0.000624\n",
       "FAMILY_SIZE                          0.000468\n",
       "RATIO_SALARY_TO_REGION_POPULATION    0.000437\n",
       "CHILDRENS                            0.000314\n",
       "RATIO_CREDIT_TO_EXPERIENCE           0.000122\n",
       "EXPECTED_TOTAL_LOSS_3                0.000114\n",
       "AMT_REQ_CREDIT_BUREAU_WEEK           0.000022\n",
       "AMT_REQ_CREDIT_BUREAU_DAY            0.000000\n",
       "FLAG_EMAIL                          -0.000015\n",
       "AMT_REQ_CREDIT_BUREAU_MON           -0.000068\n",
       "FLAG_PHONE                          -0.000069\n",
       "BKI_KURTOSIS                        -0.000089\n",
       "BKI_REQUESTS_COUNT                  -0.000331\n",
       "APPLICATION_NUMBER                  -0.000337\n",
       "AMT_REQ_CREDIT_BUREAU_YEAR          -0.000401\n",
       "dtype: float64"
      ]
     },
     "execution_count": 44,
     "metadata": {},
     "output_type": "execute_result"
    }
   ],
   "source": [
    "perm_importance = calculate_permutation_importance(\n",
    "    estimator=model, metric=roc_auc_score, x_valid=X_valid, y_valid=y_valid\n",
    ")\n",
    "perm_importance"
   ]
  },
  {
   "cell_type": "markdown",
   "metadata": {},
   "source": [
    "### SHAP"
   ]
  },
  {
   "cell_type": "code",
   "execution_count": 45,
   "metadata": {
    "execution": {
     "iopub.execute_input": "2021-05-24T14:09:49.448414Z",
     "iopub.status.busy": "2021-05-24T14:09:49.447810Z",
     "iopub.status.idle": "2021-05-24T14:14:09.573548Z",
     "shell.execute_reply": "2021-05-24T14:14:09.572505Z",
     "shell.execute_reply.started": "2021-05-24T14:09:49.448368Z"
    }
   },
   "outputs": [
    {
     "name": "stderr",
     "output_type": "stream",
     "text": [
      "ntree_limit is deprecated, use `iteration_range` or model slicing instead.\n"
     ]
    },
    {
     "data": {
      "text/html": [
       "\n",
       "<div id='iGU0OSFD2YUOQJXKYK9BA'>\n",
       "<div style='color: #900; text-align: center;'>\n",
       "  <b>Visualization omitted, Javascript library not loaded!</b><br>\n",
       "  Have you run `initjs()` in this notebook? If this notebook was from another\n",
       "  user you must also trust this notebook (File -> Trust notebook). If you are viewing\n",
       "  this notebook on github the Javascript has been stripped for security. If you are using\n",
       "  JupyterLab this error is because a JupyterLab extension has not yet been written.\n",
       "</div></div>\n",
       " <script>\n",
       "   if (window.SHAP) SHAP.ReactDom.render(\n",
       "    SHAP.React.createElement(SHAP.AdditiveForceVisualizer, {\"outNames\": [\"f(x)\"], \"baseValue\": -2.3722434043884277, \"outValue\": -6.9953742027282715, \"link\": \"identity\", \"featureNames\": [\"APPLICATION_NUMBER\", \"NAME_CONTRACT_TYPE\", \"GENDER\", \"CHILDRENS\", \"TOTAL_SALARY\", \"AMOUNT_CREDIT\", \"AMOUNT_ANNUITY\", \"EDUCATION_LEVEL\", \"FAMILY_STATUS\", \"REGION_POPULATION\", \"AGE\", \"DAYS_ON_LAST_JOB\", \"OWN_CAR_AGE\", \"FLAG_PHONE\", \"FLAG_EMAIL\", \"FAMILY_SIZE\", \"EXTERNAL_SCORING_RATING_1\", \"EXTERNAL_SCORING_RATING_2\", \"EXTERNAL_SCORING_RATING_3\", \"AMT_REQ_CREDIT_BUREAU_HOUR\", \"AMT_REQ_CREDIT_BUREAU_DAY\", \"AMT_REQ_CREDIT_BUREAU_WEEK\", \"AMT_REQ_CREDIT_BUREAU_MON\", \"AMT_REQ_CREDIT_BUREAU_QRT\", \"AMT_REQ_CREDIT_BUREAU_YEAR\", \"BKI_REQUESTS_COUNT\", \"BKI_KURTOSIS\", \"EXTERNAL_SCORING_PROD\", \"EXTERNAL_SCORING_WEIGHTED\", \"EXTERNAL_SCORING_RATING_min\", \"EXTERNAL_SCORING_RATING_max\", \"EXTERNAL_SCORING_RATING_mean\", \"EXTERNAL_SCORING_RATING_nanmedian\", \"EXTERNAL_SCORING_RATING_var\", \"RATIO_CREDIT_TO_ANNUITY\", \"RATIO_ANNUITY_TO_SALARY\", \"RATIO_CREDIT_TO_SALARY\", \"RATIO_ANNUITY_TO_AGE\", \"RATIO_CREDIT_TO_AGE\", \"RATIO_SALARY_TO_AGE\", \"RATIO_SALARY_TO_EXPERIENCE\", \"RATIO_CREDIT_TO_EXPERIENCE\", \"RATIO_ANNUITY_TO_EXPERIENCE\", \"RATIO_AGE_TO_EXPERIENCE\", \"RATIO_SALARY_TO_REGION_POPULATION\", \"RATIO_CAR_TO_EXPERIENCE\", \"RATIO_CAR_TO_AGE\", \"EXPECTED_TOTAL_LOSS_1\", \"EXPECTED_TOTAL_LOSS_2\", \"EXPECTED_TOTAL_LOSS_3\", \"EXPECTED_MONTHLY_LOSS_1\", \"EXPECTED_MONTHLY_LOSS_2\", \"EXPECTED_MONTHLY_LOSS_3\"], \"features\": {\"0\": {\"effect\": -0.8676813244819641, \"value\": 123447495.0}, \"1\": {\"effect\": 0.10981392860412598, \"value\": 0.0}, \"2\": {\"effect\": -0.06443816423416138, \"value\": 2.0}, \"3\": {\"effect\": -0.039081476628780365, \"value\": 0.0}, \"4\": {\"effect\": -0.21197693049907684, \"value\": 135000.0}, \"5\": {\"effect\": -0.4319353997707367, \"value\": 1125000.0}, \"6\": {\"effect\": 0.09859573841094971, \"value\": 33025.5}, \"7\": {\"effect\": -0.31145861744880676, \"value\": 2.0}, \"8\": {\"effect\": 0.0734158456325531, \"value\": 3.0}, \"9\": {\"effect\": -0.2834952473640442, \"value\": 0.014464}, \"10\": {\"effect\": -0.5439102053642273, \"value\": 13841.0}, \"11\": {\"effect\": 0.5479044914245605, \"value\": 5241.0}, \"12\": {\"effect\": -0.23946437239646912, \"value\": 18.0}, \"13\": {\"effect\": 0.19064275920391083, \"value\": 1.0}, \"14\": {\"effect\": -0.13175396621227264, \"value\": 1.0}, \"15\": {\"effect\": 0.039062052965164185, \"value\": 1.0}, \"16\": {\"effect\": -0.14098583161830902, \"value\": 0.4426841303798909}, \"17\": {\"effect\": -0.10349591821432114, \"value\": 0.5318852257976189}, \"18\": {\"effect\": -0.31004756689071655, \"value\": -1.0}, \"19\": {\"effect\": 0.0735403448343277, \"value\": -1.0}, \"20\": {\"effect\": 0.0001336832356173545, \"value\": -1.0}, \"21\": {\"effect\": -0.0054652816615998745, \"value\": -1.0}, \"22\": {\"effect\": -0.001002749428153038, \"value\": -1.0}, \"23\": {\"effect\": 0.0037734515499323606, \"value\": -1.0}, \"24\": {\"effect\": -0.11548737436532974, \"value\": -1.0}, \"25\": {\"effect\": 0.01848328299820423, \"value\": 0.0}, \"26\": {\"effect\": 0.13222377002239227, \"value\": -1.0}, \"27\": {\"effect\": -0.05088184401392937, \"value\": -1.0}, \"28\": {\"effect\": 0.005461566150188446, \"value\": -1.0}, \"29\": {\"effect\": -0.4338589012622833, \"value\": 0.4426841303798909}, \"30\": {\"effect\": 0.06709098070859909, \"value\": 0.5318852257976189}, \"31\": {\"effect\": -0.2870917320251465, \"value\": 0.48728467808875486}, \"32\": {\"effect\": -0.2414087951183319, \"value\": 0.48728467808875486}, \"33\": {\"effect\": -0.18139654397964478, \"value\": 0.0019892088559306524}, \"34\": {\"effect\": -0.3303782045841217, \"value\": 34.06458645592043}, \"35\": {\"effect\": 0.08160154521465302, \"value\": 0.24463333333333334}, \"36\": {\"effect\": 0.27980002760887146, \"value\": 8.333333333333334}, \"37\": {\"effect\": -0.017322110012173653, \"value\": 2.3860631457264647}, \"38\": {\"effect\": -0.3298327922821045, \"value\": 81.28025431688462}, \"39\": {\"effect\": -0.1778217852115631, \"value\": 9.753630518026155}, \"40\": {\"effect\": -0.327259361743927, \"value\": 25.75844304522038}, \"41\": {\"effect\": -0.09771373122930527, \"value\": 214.65369204350316}, \"42\": {\"effect\": -0.43235865235328674, \"value\": 6.301373783629079}, \"43\": {\"effect\": -0.25086280703544617, \"value\": 2.6409082236214463}, \"44\": {\"effect\": 0.031000729650259018, \"value\": 1952.6399999999999}, \"45\": {\"effect\": 0.050188854336738586, \"value\": 0.0034344590726960505}, \"46\": {\"effect\": 0.42169228196144104, \"value\": 0.0013004840690701539}, \"47\": {\"effect\": -0.16187983751296997, \"value\": 498019.6466773773}, \"48\": {\"effect\": -0.21465462446212769, \"value\": 598370.8790223212}, \"49\": {\"effect\": -0.12826940417289734, \"value\": -1.0}, \"50\": {\"effect\": 0.13027751445770264, \"value\": 14619.864747861087}, \"51\": {\"effect\": 0.38547372817993164, \"value\": 17565.77552457926}, \"52\": {\"effect\": 0.10136386007070541, \"value\": -1.0}}, \"plot_cmap\": \"RdBu\", \"labelMargin\": 20}),\n",
       "    document.getElementById('iGU0OSFD2YUOQJXKYK9BA')\n",
       "  );\n",
       "</script>"
      ],
      "text/plain": [
       "<shap.plots._force.AdditiveForceVisualizer at 0x7f6d4f3e8850>"
      ]
     },
     "execution_count": 45,
     "metadata": {},
     "output_type": "execute_result"
    }
   ],
   "source": [
    "# explain the model's predictions using SHAP\n",
    "# (same syntax works for LightGBM, CatBoost, scikit-learn and spark models)\n",
    "explainer = shap.TreeExplainer(model_xgb)\n",
    "shap_values = explainer.shap_values(X_train)\n",
    "\n",
    "# visualize the first prediction's explanation (use matplotlib=True to avoid Javascript)\n",
    "shap.force_plot(explainer.expected_value, shap_values[0,:], X_train.iloc[0,:])"
   ]
  },
  {
   "cell_type": "markdown",
   "metadata": {},
   "source": [
    "Из 53 признаков наибольший вклад: \n",
    "   - в пользу fraud=1 внесли DAYS_ON_LAST_JOB и RATIO_CAR_TO_AGE и т.д.\n",
    "   - в пользу fraud=0 внесли (по убыванию): APPLICATION_NUMBER, AGE, EXTERNAL_SCORING_RATING_min и т.д.\n",
    "<br>Результирующее значение -7 (не fraud)"
   ]
  },
  {
   "cell_type": "code",
   "execution_count": 66,
   "metadata": {
    "execution": {
     "iopub.execute_input": "2021-05-24T14:31:25.924505Z",
     "iopub.status.busy": "2021-05-24T14:31:25.923983Z",
     "iopub.status.idle": "2021-05-24T14:31:25.934683Z",
     "shell.execute_reply": "2021-05-24T14:31:25.933126Z",
     "shell.execute_reply.started": "2021-05-24T14:31:25.924471Z"
    }
   },
   "outputs": [
    {
     "data": {
      "text/html": [
       "\n",
       "<div id='iT4IMUESLJZQT7S3PJ4QX'>\n",
       "<div style='color: #900; text-align: center;'>\n",
       "  <b>Visualization omitted, Javascript library not loaded!</b><br>\n",
       "  Have you run `initjs()` in this notebook? If this notebook was from another\n",
       "  user you must also trust this notebook (File -> Trust notebook). If you are viewing\n",
       "  this notebook on github the Javascript has been stripped for security. If you are using\n",
       "  JupyterLab this error is because a JupyterLab extension has not yet been written.\n",
       "</div></div>\n",
       " <script>\n",
       "   if (window.SHAP) SHAP.ReactDom.render(\n",
       "    SHAP.React.createElement(SHAP.AdditiveForceVisualizer, {\"outNames\": [\"f(x)\"], \"baseValue\": -2.3722434043884277, \"outValue\": -3.248378038406372, \"link\": \"identity\", \"featureNames\": [\"APPLICATION_NUMBER\", \"NAME_CONTRACT_TYPE\", \"GENDER\", \"CHILDRENS\", \"TOTAL_SALARY\", \"AMOUNT_CREDIT\", \"AMOUNT_ANNUITY\", \"EDUCATION_LEVEL\", \"FAMILY_STATUS\", \"REGION_POPULATION\", \"AGE\", \"DAYS_ON_LAST_JOB\", \"OWN_CAR_AGE\", \"FLAG_PHONE\", \"FLAG_EMAIL\", \"FAMILY_SIZE\", \"EXTERNAL_SCORING_RATING_1\", \"EXTERNAL_SCORING_RATING_2\", \"EXTERNAL_SCORING_RATING_3\", \"AMT_REQ_CREDIT_BUREAU_HOUR\", \"AMT_REQ_CREDIT_BUREAU_DAY\", \"AMT_REQ_CREDIT_BUREAU_WEEK\", \"AMT_REQ_CREDIT_BUREAU_MON\", \"AMT_REQ_CREDIT_BUREAU_QRT\", \"AMT_REQ_CREDIT_BUREAU_YEAR\", \"BKI_REQUESTS_COUNT\", \"BKI_KURTOSIS\", \"EXTERNAL_SCORING_PROD\", \"EXTERNAL_SCORING_WEIGHTED\", \"EXTERNAL_SCORING_RATING_min\", \"EXTERNAL_SCORING_RATING_max\", \"EXTERNAL_SCORING_RATING_mean\", \"EXTERNAL_SCORING_RATING_nanmedian\", \"EXTERNAL_SCORING_RATING_var\", \"RATIO_CREDIT_TO_ANNUITY\", \"RATIO_ANNUITY_TO_SALARY\", \"RATIO_CREDIT_TO_SALARY\", \"RATIO_ANNUITY_TO_AGE\", \"RATIO_CREDIT_TO_AGE\", \"RATIO_SALARY_TO_AGE\", \"RATIO_SALARY_TO_EXPERIENCE\", \"RATIO_CREDIT_TO_EXPERIENCE\", \"RATIO_ANNUITY_TO_EXPERIENCE\", \"RATIO_AGE_TO_EXPERIENCE\", \"RATIO_SALARY_TO_REGION_POPULATION\", \"RATIO_CAR_TO_EXPERIENCE\", \"RATIO_CAR_TO_AGE\", \"EXPECTED_TOTAL_LOSS_1\", \"EXPECTED_TOTAL_LOSS_2\", \"EXPECTED_TOTAL_LOSS_3\", \"EXPECTED_MONTHLY_LOSS_1\", \"EXPECTED_MONTHLY_LOSS_2\", \"EXPECTED_MONTHLY_LOSS_3\"], \"features\": {\"0\": {\"effect\": 0.32113122940063477, \"value\": 123605928.0}, \"1\": {\"effect\": 0.10243107378482819, \"value\": 0.0}, \"2\": {\"effect\": 0.1621207296848297, \"value\": 0.0}, \"3\": {\"effect\": 0.01668691821396351, \"value\": 0.0}, \"4\": {\"effect\": -0.03167937323451042, \"value\": 180000.0}, \"5\": {\"effect\": -0.20704717934131622, \"value\": 728460.0}, \"6\": {\"effect\": 0.13437774777412415, \"value\": 37849.5}, \"7\": {\"effect\": -0.4120063781738281, \"value\": 2.0}, \"8\": {\"effect\": 0.03286409005522728, \"value\": 2.0}, \"9\": {\"effect\": 0.08322756737470627, \"value\": 0.0105}, \"10\": {\"effect\": 0.38082727789878845, \"value\": 18098.0}, \"11\": {\"effect\": -0.26553696393966675, \"value\": 1581.0}, \"12\": {\"effect\": 0.14586517214775085, \"value\": 14.0}, \"13\": {\"effect\": -0.02034938335418701, \"value\": 0.0}, \"14\": {\"effect\": -0.00047128621372394264, \"value\": 0.0}, \"15\": {\"effect\": -0.11647190898656845, \"value\": 1.0}, \"16\": {\"effect\": 0.10638890415430069, \"value\": -1.0}, \"17\": {\"effect\": -0.009170176461338997, \"value\": 0.6107636855282204}, \"18\": {\"effect\": 0.09611886739730835, \"value\": 0.2925880073368475}, \"19\": {\"effect\": -0.008415321819484234, \"value\": 0.0}, \"20\": {\"effect\": 0.0004309260402806103, \"value\": 0.0}, \"21\": {\"effect\": -0.005150507669895887, \"value\": 0.0}, \"22\": {\"effect\": -0.024296509101986885, \"value\": 0.0}, \"23\": {\"effect\": 0.02420741133391857, \"value\": 0.0}, \"24\": {\"effect\": 0.06932824850082397, \"value\": 5.0}, \"25\": {\"effect\": -0.04070032760500908, \"value\": 5.0}, \"26\": {\"effect\": -0.0177005548030138, \"value\": 6.000000000000002}, \"27\": {\"effect\": -0.039278142154216766, \"value\": -1.0}, \"28\": {\"effect\": 0.11875001341104507, \"value\": -1.0}, \"29\": {\"effect\": -0.3386839032173157, \"value\": 0.2925880073368475}, \"30\": {\"effect\": -0.17537343502044678, \"value\": 0.6107636855282204}, \"31\": {\"effect\": 0.03114417940378189, \"value\": 0.4516758464325339}, \"32\": {\"effect\": 0.01922353357076645, \"value\": 0.4516758464325339}, \"33\": {\"effect\": -0.005285244435071945, \"value\": 0.02530894054813502}, \"34\": {\"effect\": 0.0793197900056839, \"value\": 19.24622518131019}, \"35\": {\"effect\": 0.3015362322330475, \"value\": 0.210275}, \"36\": {\"effect\": 0.24370305240154266, \"value\": 4.047}, \"37\": {\"effect\": 0.05895700678229332, \"value\": 2.091363686595204}, \"38\": {\"effect\": -0.11234071105718613, \"value\": 40.25085644822632}, \"39\": {\"effect\": 0.10442657023668289, \"value\": 9.945850370206653}, \"40\": {\"effect\": 0.06323997676372528, \"value\": 113.85199240986718}, \"41\": {\"effect\": -0.08104333281517029, \"value\": 460.75901328273244}, \"42\": {\"effect\": -0.10534842312335968, \"value\": 23.94022770398482}, \"43\": {\"effect\": 0.13841092586517334, \"value\": 11.4471853257432}, \"44\": {\"effect\": -0.06939836591482162, \"value\": 1890.0000000000002}, \"45\": {\"effect\": -0.16119003295898438, \"value\": 0.008855154965211892}, \"46\": {\"effect\": -0.1487370878458023, \"value\": 0.0007735661399049619}, \"47\": {\"effect\": -0.03661767393350601, \"value\": -1.0}, \"48\": {\"effect\": -0.4387694299221039, \"value\": 444916.9143598874}, \"49\": {\"effect\": -0.05309601500630379, \"value\": 213138.65982459992}, \"50\": {\"effect\": -0.13751983642578125, \"value\": -1.0}, \"51\": {\"effect\": -0.24216894805431366, \"value\": 23117.100115400375}, \"52\": {\"effect\": -0.4070054292678833, \"value\": 11074.309783696008}}, \"plot_cmap\": \"RdBu\", \"labelMargin\": 20}),\n",
       "    document.getElementById('iT4IMUESLJZQT7S3PJ4QX')\n",
       "  );\n",
       "</script>"
      ],
      "text/plain": [
       "<shap.plots._force.AdditiveForceVisualizer at 0x7f6d4c108c50>"
      ]
     },
     "execution_count": 66,
     "metadata": {},
     "output_type": "execute_result"
    }
   ],
   "source": [
    "client = 2048\n",
    "shap.force_plot(explainer.expected_value, shap_values[client,:], X_train.iloc[client,:])"
   ]
  },
  {
   "cell_type": "markdown",
   "metadata": {},
   "source": [
    "Из 53 признаков наибольший вклад: \n",
    "   - в пользу fraud=1 внесли (по убыванию): AGE, APPLICATION_NUMBER и т.д.\n",
    "   - в пользу fraud=0 внесли (по убыванию): EXPECTED_TOTAL_LOSS, EDUCATION_LEVEL, EXPECTED_MONTHLY_LOSS_3 и т.д.\n",
    "<br>Результирующее значение -3.25 (не fraud, но не так как -7 пред клиента)"
   ]
  },
  {
   "cell_type": "code",
   "execution_count": 46,
   "metadata": {
    "execution": {
     "iopub.execute_input": "2021-05-24T14:14:09.575733Z",
     "iopub.status.busy": "2021-05-24T14:14:09.575143Z",
     "iopub.status.idle": "2021-05-24T14:14:26.283231Z",
     "shell.execute_reply": "2021-05-24T14:14:26.282145Z",
     "shell.execute_reply.started": "2021-05-24T14:14:09.575687Z"
    }
   },
   "outputs": [
    {
     "data": {
      "image/png": "[encoded data removed]",
      "text/plain": [
       "<Figure size 576x684 with 2 Axes>"
      ]
     },
     "metadata": {
      "needs_background": "light"
     },
     "output_type": "display_data"
    }
   ],
   "source": [
    "# summarize the effects of all the features\n",
    "shap.summary_plot(shap_values, X_train)"
   ]
  },
  {
   "cell_type": "markdown",
   "metadata": {},
   "source": [
    "При повышении значения EXTERNAL_SCORING_RATING_mean (самого важного признака) снижается вероятность fraud (зависимость не линейная (см. ниже), но связь есть), аналогично ведут себя подобные деривативы от EXTERNAL_SCORING_RATING - max, min, nanmedian\n",
    "\n",
    "APPLICATION_NUMBER грязный, т.е. неоднозначный признак . да ещё основная масса значений около 0 надо дополнительно исследовать. Зависимость не очевидна. Кстати, RATIO_CRDIT_TO_ANNUITY ведёт себя аналогично.\n",
    "\n",
    "AGE клиенты более сташего возраста менее склоныы к fraud (не без исключений конечно)"
   ]
  },
  {
   "cell_type": "code",
   "execution_count": 47,
   "metadata": {
    "execution": {
     "iopub.execute_input": "2021-05-24T14:14:26.284849Z",
     "iopub.status.busy": "2021-05-24T14:14:26.284544Z",
     "iopub.status.idle": "2021-05-24T14:14:26.661931Z",
     "shell.execute_reply": "2021-05-24T14:14:26.660938Z",
     "shell.execute_reply.started": "2021-05-24T14:14:26.284820Z"
    }
   },
   "outputs": [
    {
     "data": {
      "image/png": "[encoded data removed]",
      "text/plain": [
       "<Figure size 576x684 with 1 Axes>"
      ]
     },
     "metadata": {
      "needs_background": "light"
     },
     "output_type": "display_data"
    }
   ],
   "source": [
    "shap.summary_plot(shap_values, X_train, plot_type=\"bar\")"
   ]
  },
  {
   "cell_type": "markdown",
   "metadata": {},
   "source": [
    "Список самых важных признаков (в порядке по убыванию)"
   ]
  },
  {
   "cell_type": "code",
   "execution_count": 54,
   "metadata": {
    "execution": {
     "iopub.execute_input": "2021-05-24T14:17:35.563330Z",
     "iopub.status.busy": "2021-05-24T14:17:35.562818Z",
     "iopub.status.idle": "2021-05-24T14:17:37.852090Z",
     "shell.execute_reply": "2021-05-24T14:17:37.850953Z",
     "shell.execute_reply.started": "2021-05-24T14:17:35.563297Z"
    }
   },
   "outputs": [
    {
     "data": {
      "image/png": "[encoded data removed]",
      "text/plain": [
       "<Figure size 540x360 with 2 Axes>"
      ]
     },
     "metadata": {
      "needs_background": "light"
     },
     "output_type": "display_data"
    }
   ],
   "source": [
    "shap.dependence_plot('EXTERNAL_SCORING_RATING_mean', shap_values, X_train)"
   ]
  },
  {
   "cell_type": "markdown",
   "metadata": {},
   "source": [
    "Наглядная демострация влияния EXTERNAL_SCORING_RATING_mean на целевую переменную (вероятность fraud). Зависимость обратная, чим больше EXTERNAL_SCORING_RATING_mean, тем реже fraud. Цветом обозначено влияние EXTERNAL_SCORING_WEIGHTED на EXTERNAL_SCORING_RATING_mean - чем больше оба эти признака тем реже fraud"
   ]
  },
  {
   "cell_type": "code",
   "execution_count": 57,
   "metadata": {
    "execution": {
     "iopub.execute_input": "2021-05-24T14:17:57.296705Z",
     "iopub.status.busy": "2021-05-24T14:17:57.296086Z",
     "iopub.status.idle": "2021-05-24T14:17:59.642200Z",
     "shell.execute_reply": "2021-05-24T14:17:59.641191Z",
     "shell.execute_reply.started": "2021-05-24T14:17:57.296666Z"
    }
   },
   "outputs": [
    {
     "data": {
      "image/png": "[encoded data removed]",
      "text/plain": [
       "<Figure size 540x360 with 2 Axes>"
      ]
     },
     "metadata": {
      "needs_background": "light"
     },
     "output_type": "display_data"
    }
   ],
   "source": [
    "shap.dependence_plot('AGE', shap_values, X_train)"
   ]
  },
  {
   "cell_type": "markdown",
   "metadata": {},
   "source": [
    "Очень лохматый признак. Заметно, что fraud чаще случается среди самых молодых клиентов, а с возрастом вероятность несколко снижается. Также заметно, что чем выше стаж, тем ниже веротность fraud."
   ]
  },
  {
   "cell_type": "code",
   "execution_count": null,
   "metadata": {},
   "outputs": [],
   "source": []
  }
 ],
 "metadata": {
  "kernelspec": {
   "display_name": "Python 3",
   "language": "python",
   "name": "python3"
  },
  "language_info": {
   "codemirror_mode": {
    "name": "ipython",
    "version": 3
   },
   "file_extension": ".py",
   "mimetype": "text/x-python",
   "name": "python",
   "nbconvert_exporter": "python",
   "pygments_lexer": "ipython3",
   "version": "3.8.5"
  }
 },
 "nbformat": 4,
 "nbformat_minor": 4
}
