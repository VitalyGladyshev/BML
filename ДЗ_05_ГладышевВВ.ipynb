{
 "cells": [
  {
   "cell_type": "markdown",
   "metadata": {},
   "source": [
    "# ДЗ №5 Гладышев В.В."
   ]
  },
  {
   "cell_type": "markdown",
   "metadata": {},
   "source": [
    "## Задание № 1 - 3"
   ]
  },
  {
   "cell_type": "markdown",
   "metadata": {},
   "source": [
    "Прочитайте базу my_BRENT2019.csv и перейдите к представлению ряда первыми разностями\n",
    "\n",
    "сделайте ее перрасчет (ресемплинг) в представление по неделям.\n",
    "\n",
    "Добавьте первые разности по стоимости доллара и евро к рублю"
   ]
  },
  {
   "cell_type": "code",
   "execution_count": 1,
   "metadata": {},
   "outputs": [],
   "source": [
    "%matplotlib inline\n",
    "import matplotlib.pyplot as plt\n",
    "\n",
    "import numpy as np\n",
    "import pandas as pd \n",
    "import seaborn as sns\n",
    "\n",
    "\n",
    "from sklearn.metrics import mean_squared_error\n",
    "import os\n",
    "\n",
    "\n",
    "import statsmodels.api as sm\n",
    "from sklearn.metrics import mean_squared_error\n",
    "\n",
    "import warnings\n",
    "warnings.filterwarnings(\"ignore\")"
   ]
  },
  {
   "cell_type": "code",
   "execution_count": 2,
   "metadata": {},
   "outputs": [
    {
     "data": {
      "text/html": [
       "<div>\n",
       "<style scoped>\n",
       "    .dataframe tbody tr th:only-of-type {\n",
       "        vertical-align: middle;\n",
       "    }\n",
       "\n",
       "    .dataframe tbody tr th {\n",
       "        vertical-align: top;\n",
       "    }\n",
       "\n",
       "    .dataframe thead th {\n",
       "        text-align: right;\n",
       "    }\n",
       "</style>\n",
       "<table border=\"1\" class=\"dataframe\">\n",
       "  <thead>\n",
       "    <tr style=\"text-align: right;\">\n",
       "      <th></th>\n",
       "      <th>Значение</th>\n",
       "      <th>year</th>\n",
       "      <th>month</th>\n",
       "      <th>dayofmonth</th>\n",
       "      <th>quarter</th>\n",
       "      <th>dayofyear</th>\n",
       "      <th>weekofyear</th>\n",
       "      <th>dayofweek</th>\n",
       "      <th>is_holiday</th>\n",
       "      <th>is_prev_holiday</th>\n",
       "      <th>is_next_holiday</th>\n",
       "    </tr>\n",
       "    <tr>\n",
       "      <th>Дата</th>\n",
       "      <th></th>\n",
       "      <th></th>\n",
       "      <th></th>\n",
       "      <th></th>\n",
       "      <th></th>\n",
       "      <th></th>\n",
       "      <th></th>\n",
       "      <th></th>\n",
       "      <th></th>\n",
       "      <th></th>\n",
       "      <th></th>\n",
       "    </tr>\n",
       "  </thead>\n",
       "  <tbody>\n",
       "    <tr>\n",
       "      <th>2010-09-01</th>\n",
       "      <td>76.37</td>\n",
       "      <td>2010</td>\n",
       "      <td>9</td>\n",
       "      <td>1</td>\n",
       "      <td>3</td>\n",
       "      <td>244</td>\n",
       "      <td>35</td>\n",
       "      <td>2</td>\n",
       "      <td>0</td>\n",
       "      <td>0</td>\n",
       "      <td>0</td>\n",
       "    </tr>\n",
       "    <tr>\n",
       "      <th>2010-09-02</th>\n",
       "      <td>76.89</td>\n",
       "      <td>2010</td>\n",
       "      <td>9</td>\n",
       "      <td>2</td>\n",
       "      <td>3</td>\n",
       "      <td>245</td>\n",
       "      <td>35</td>\n",
       "      <td>3</td>\n",
       "      <td>0</td>\n",
       "      <td>0</td>\n",
       "      <td>0</td>\n",
       "    </tr>\n",
       "    <tr>\n",
       "      <th>2010-09-03</th>\n",
       "      <td>76.57</td>\n",
       "      <td>2010</td>\n",
       "      <td>9</td>\n",
       "      <td>3</td>\n",
       "      <td>3</td>\n",
       "      <td>246</td>\n",
       "      <td>35</td>\n",
       "      <td>4</td>\n",
       "      <td>0</td>\n",
       "      <td>0</td>\n",
       "      <td>0</td>\n",
       "    </tr>\n",
       "    <tr>\n",
       "      <th>2010-09-04</th>\n",
       "      <td>76.62</td>\n",
       "      <td>2010</td>\n",
       "      <td>9</td>\n",
       "      <td>4</td>\n",
       "      <td>3</td>\n",
       "      <td>247</td>\n",
       "      <td>35</td>\n",
       "      <td>5</td>\n",
       "      <td>0</td>\n",
       "      <td>0</td>\n",
       "      <td>0</td>\n",
       "    </tr>\n",
       "    <tr>\n",
       "      <th>2010-09-05</th>\n",
       "      <td>76.63</td>\n",
       "      <td>2010</td>\n",
       "      <td>9</td>\n",
       "      <td>5</td>\n",
       "      <td>3</td>\n",
       "      <td>248</td>\n",
       "      <td>35</td>\n",
       "      <td>6</td>\n",
       "      <td>0</td>\n",
       "      <td>1</td>\n",
       "      <td>0</td>\n",
       "    </tr>\n",
       "  </tbody>\n",
       "</table>\n",
       "</div>"
      ],
      "text/plain": [
       "            Значение  year  month  dayofmonth  quarter  dayofyear  weekofyear  \\\n",
       "Дата                                                                            \n",
       "2010-09-01     76.37  2010      9           1        3        244          35   \n",
       "2010-09-02     76.89  2010      9           2        3        245          35   \n",
       "2010-09-03     76.57  2010      9           3        3        246          35   \n",
       "2010-09-04     76.62  2010      9           4        3        247          35   \n",
       "2010-09-05     76.63  2010      9           5        3        248          35   \n",
       "\n",
       "            dayofweek  is_holiday  is_prev_holiday  is_next_holiday  \n",
       "Дата                                                                 \n",
       "2010-09-01          2           0                0                0  \n",
       "2010-09-02          3           0                0                0  \n",
       "2010-09-03          4           0                0                0  \n",
       "2010-09-04          5           0                0                0  \n",
       "2010-09-05          6           0                1                0  "
      ]
     },
     "execution_count": 2,
     "metadata": {},
     "output_type": "execute_result"
    }
   ],
   "source": [
    "path_brent = 'my_BRENT2019.csv'\n",
    "brent_data = pd.read_csv(path_brent,sep = ',', index_col=[0], parse_dates=[0])\n",
    "brent_data.head()"
   ]
  },
  {
   "cell_type": "code",
   "execution_count": 3,
   "metadata": {},
   "outputs": [],
   "source": [
    "brent_data_w = brent_data.resample('W').mean()"
   ]
  },
  {
   "cell_type": "code",
   "execution_count": 4,
   "metadata": {},
   "outputs": [
    {
     "data": {
      "text/plain": [
       "DatetimeIndex(['2011-10-16'], dtype='datetime64[ns]', name='Дата', freq='W-SUN')"
      ]
     },
     "execution_count": 4,
     "metadata": {},
     "output_type": "execute_result"
    }
   ],
   "source": [
    "brent_data_w[brent_data_w['Значение'].isnull()].index"
   ]
  },
  {
   "cell_type": "code",
   "execution_count": 5,
   "metadata": {},
   "outputs": [],
   "source": [
    "brent_data_w.dropna(inplace = True)"
   ]
  },
  {
   "cell_type": "code",
   "execution_count": 6,
   "metadata": {},
   "outputs": [
    {
     "name": "stdout",
     "output_type": "stream",
     "text": [
      "<class 'pandas.core.frame.DataFrame'>\n",
      "DatetimeIndex: 469 entries, 2010-09-05 to 2019-09-01\n",
      "Data columns (total 11 columns):\n",
      " #   Column           Non-Null Count  Dtype  \n",
      "---  ------           --------------  -----  \n",
      " 0   Значение         469 non-null    float64\n",
      " 1   year             469 non-null    float64\n",
      " 2   month            469 non-null    float64\n",
      " 3   dayofmonth       469 non-null    float64\n",
      " 4   quarter          469 non-null    float64\n",
      " 5   dayofyear        469 non-null    float64\n",
      " 6   weekofyear       469 non-null    float64\n",
      " 7   dayofweek        469 non-null    float64\n",
      " 8   is_holiday       469 non-null    float64\n",
      " 9   is_prev_holiday  469 non-null    float64\n",
      " 10  is_next_holiday  469 non-null    float64\n",
      "dtypes: float64(11)\n",
      "memory usage: 44.0 KB\n"
     ]
    }
   ],
   "source": [
    "brent_data_w.info()"
   ]
  },
  {
   "cell_type": "code",
   "execution_count": 7,
   "metadata": {},
   "outputs": [
    {
     "data": {
      "text/html": [
       "<div>\n",
       "<style scoped>\n",
       "    .dataframe tbody tr th:only-of-type {\n",
       "        vertical-align: middle;\n",
       "    }\n",
       "\n",
       "    .dataframe tbody tr th {\n",
       "        vertical-align: top;\n",
       "    }\n",
       "\n",
       "    .dataframe thead th {\n",
       "        text-align: right;\n",
       "    }\n",
       "</style>\n",
       "<table border=\"1\" class=\"dataframe\">\n",
       "  <thead>\n",
       "    <tr style=\"text-align: right;\">\n",
       "      <th></th>\n",
       "      <th>Значение</th>\n",
       "      <th>year</th>\n",
       "      <th>month</th>\n",
       "      <th>dayofmonth</th>\n",
       "      <th>quarter</th>\n",
       "      <th>dayofyear</th>\n",
       "      <th>weekofyear</th>\n",
       "      <th>dayofweek</th>\n",
       "      <th>is_holiday</th>\n",
       "      <th>is_prev_holiday</th>\n",
       "      <th>is_next_holiday</th>\n",
       "    </tr>\n",
       "    <tr>\n",
       "      <th>Дата</th>\n",
       "      <th></th>\n",
       "      <th></th>\n",
       "      <th></th>\n",
       "      <th></th>\n",
       "      <th></th>\n",
       "      <th></th>\n",
       "      <th></th>\n",
       "      <th></th>\n",
       "      <th></th>\n",
       "      <th></th>\n",
       "      <th></th>\n",
       "    </tr>\n",
       "  </thead>\n",
       "  <tbody>\n",
       "    <tr>\n",
       "      <th>2010-09-05</th>\n",
       "      <td>76.616000</td>\n",
       "      <td>2010.0</td>\n",
       "      <td>9.000000</td>\n",
       "      <td>3.000000</td>\n",
       "      <td>3.000000</td>\n",
       "      <td>246.000000</td>\n",
       "      <td>35.0</td>\n",
       "      <td>4.000000</td>\n",
       "      <td>0.000000</td>\n",
       "      <td>0.2</td>\n",
       "      <td>0.000000</td>\n",
       "    </tr>\n",
       "    <tr>\n",
       "      <th>2010-09-12</th>\n",
       "      <td>77.673333</td>\n",
       "      <td>2010.0</td>\n",
       "      <td>9.000000</td>\n",
       "      <td>8.500000</td>\n",
       "      <td>3.000000</td>\n",
       "      <td>251.500000</td>\n",
       "      <td>36.0</td>\n",
       "      <td>2.500000</td>\n",
       "      <td>0.166667</td>\n",
       "      <td>0.0</td>\n",
       "      <td>0.166667</td>\n",
       "    </tr>\n",
       "    <tr>\n",
       "      <th>2010-09-19</th>\n",
       "      <td>78.693333</td>\n",
       "      <td>2010.0</td>\n",
       "      <td>9.000000</td>\n",
       "      <td>15.666667</td>\n",
       "      <td>3.000000</td>\n",
       "      <td>258.666667</td>\n",
       "      <td>37.0</td>\n",
       "      <td>2.666667</td>\n",
       "      <td>0.000000</td>\n",
       "      <td>0.0</td>\n",
       "      <td>0.000000</td>\n",
       "    </tr>\n",
       "    <tr>\n",
       "      <th>2010-09-26</th>\n",
       "      <td>78.518333</td>\n",
       "      <td>2010.0</td>\n",
       "      <td>9.000000</td>\n",
       "      <td>22.666667</td>\n",
       "      <td>3.000000</td>\n",
       "      <td>265.666667</td>\n",
       "      <td>38.0</td>\n",
       "      <td>2.666667</td>\n",
       "      <td>0.000000</td>\n",
       "      <td>0.0</td>\n",
       "      <td>0.000000</td>\n",
       "    </tr>\n",
       "    <tr>\n",
       "      <th>2010-10-03</th>\n",
       "      <td>81.211667</td>\n",
       "      <td>2010.0</td>\n",
       "      <td>9.333333</td>\n",
       "      <td>19.666667</td>\n",
       "      <td>3.333333</td>\n",
       "      <td>272.666667</td>\n",
       "      <td>39.0</td>\n",
       "      <td>2.666667</td>\n",
       "      <td>0.000000</td>\n",
       "      <td>0.0</td>\n",
       "      <td>0.000000</td>\n",
       "    </tr>\n",
       "  </tbody>\n",
       "</table>\n",
       "</div>"
      ],
      "text/plain": [
       "             Значение    year     month  dayofmonth   quarter   dayofyear  \\\n",
       "Дата                                                                        \n",
       "2010-09-05  76.616000  2010.0  9.000000    3.000000  3.000000  246.000000   \n",
       "2010-09-12  77.673333  2010.0  9.000000    8.500000  3.000000  251.500000   \n",
       "2010-09-19  78.693333  2010.0  9.000000   15.666667  3.000000  258.666667   \n",
       "2010-09-26  78.518333  2010.0  9.000000   22.666667  3.000000  265.666667   \n",
       "2010-10-03  81.211667  2010.0  9.333333   19.666667  3.333333  272.666667   \n",
       "\n",
       "            weekofyear  dayofweek  is_holiday  is_prev_holiday  \\\n",
       "Дата                                                             \n",
       "2010-09-05        35.0   4.000000    0.000000              0.2   \n",
       "2010-09-12        36.0   2.500000    0.166667              0.0   \n",
       "2010-09-19        37.0   2.666667    0.000000              0.0   \n",
       "2010-09-26        38.0   2.666667    0.000000              0.0   \n",
       "2010-10-03        39.0   2.666667    0.000000              0.0   \n",
       "\n",
       "            is_next_holiday  \n",
       "Дата                         \n",
       "2010-09-05         0.000000  \n",
       "2010-09-12         0.166667  \n",
       "2010-09-19         0.000000  \n",
       "2010-09-26         0.000000  \n",
       "2010-10-03         0.000000  "
      ]
     },
     "execution_count": 7,
     "metadata": {},
     "output_type": "execute_result"
    }
   ],
   "source": [
    "brent_data_w.head()"
   ]
  },
  {
   "cell_type": "code",
   "execution_count": 8,
   "metadata": {},
   "outputs": [
    {
     "data": {
      "image/png": "[encoded data removed]",
      "text/plain": [
       "<Figure size 1440x288 with 1 Axes>"
      ]
     },
     "metadata": {
      "needs_background": "light"
     },
     "output_type": "display_data"
    }
   ],
   "source": [
    "d_brent_data1 = (brent_data_w['Значение'].values[1:] - brent_data_w['Значение'].values[:-1])/brent_data_w['Значение'].values[:-1]\n",
    "std_d_brent = pd.DataFrame(data=d_brent_data1,index =brent_data_w.index[1:] ).rolling(30).std()\n",
    "s_brent1 = np.std(d_brent_data1)*3 \n",
    "plt.figure(figsize=(20,4))\n",
    "plt.plot(brent_data_w.iloc[:-1].index,d_brent_data1,'.', label='d(BRENT)/dt')\n",
    "plt.plot(brent_data_w.iloc[[0,-1]].index,[s_brent1, s_brent1],'--k',label ='3 sig')\n",
    "plt.plot(brent_data_w.iloc[[0,-1]].index,[-s_brent1, -s_brent1],'--k')\n",
    "plt.plot(std_d_brent.index,std_d_brent*3,'--r',label = 'std*3 по месячно')\n",
    "plt.plot(std_d_brent.index,-std_d_brent*3,'--r')\n",
    "plt.xlabel('t')\n",
    "plt.legend()\n",
    "plt.grid()\n",
    "plt.title('Цена нефти Brent недельное сглаживание, USA Dollar')\n",
    "plt.show()\n",
    "\n",
    "ind_anomal_brent1 = np.where( abs(d_brent_data1)>s_brent1)[0]\n",
    "ind_anomal_brent2 = np.where( abs(d_brent_data1)>std_d_brent.values)[0]"
   ]
  },
  {
   "cell_type": "markdown",
   "metadata": {},
   "source": [
    "__На динамику ряда Brent оказывают влияние внешние факторы. Для построения модели будем использовать данные начиная со второго квартала 2017 года__"
   ]
  },
  {
   "cell_type": "code",
   "execution_count": 9,
   "metadata": {},
   "outputs": [],
   "source": [
    "brent_data_w_c = brent_data_w.loc['2017-04-01':,:]"
   ]
  },
  {
   "cell_type": "code",
   "execution_count": 10,
   "metadata": {},
   "outputs": [],
   "source": [
    "p =3\n",
    "\n",
    "#добавляем историю длиной р\n",
    "for i in range(p):\n",
    "    brent_data_w_c['t'+str(p-i+1)]=0.0\n",
    "    brent_data_w_c['t'+str(p-i+1)].values[p+2:] = brent_data_w_c['Значение'].values[i+1:-(p-i+1)]\n",
    "for i in range(p):\n",
    "    brent_data_w_c['d'+str(p-i+1)]=0.0    \n",
    "    brent_data_w_c['d'+str(p-i+1)].values[i+1:] =( (brent_data_w_c['Значение'].values[i+1:]- brent_data_w_c['Значение'].values[i:-1]))"
   ]
  },
  {
   "cell_type": "code",
   "execution_count": 11,
   "metadata": {},
   "outputs": [
    {
     "data": {
      "text/html": [
       "<div>\n",
       "<style scoped>\n",
       "    .dataframe tbody tr th:only-of-type {\n",
       "        vertical-align: middle;\n",
       "    }\n",
       "\n",
       "    .dataframe tbody tr th {\n",
       "        vertical-align: top;\n",
       "    }\n",
       "\n",
       "    .dataframe thead th {\n",
       "        text-align: right;\n",
       "    }\n",
       "</style>\n",
       "<table border=\"1\" class=\"dataframe\">\n",
       "  <thead>\n",
       "    <tr style=\"text-align: right;\">\n",
       "      <th></th>\n",
       "      <th>Значение</th>\n",
       "      <th>year</th>\n",
       "      <th>month</th>\n",
       "      <th>dayofmonth</th>\n",
       "      <th>quarter</th>\n",
       "      <th>dayofyear</th>\n",
       "      <th>weekofyear</th>\n",
       "      <th>dayofweek</th>\n",
       "      <th>is_holiday</th>\n",
       "      <th>is_prev_holiday</th>\n",
       "      <th>is_next_holiday</th>\n",
       "      <th>t4</th>\n",
       "      <th>t3</th>\n",
       "      <th>t2</th>\n",
       "      <th>d4</th>\n",
       "      <th>d3</th>\n",
       "      <th>d2</th>\n",
       "    </tr>\n",
       "    <tr>\n",
       "      <th>Дата</th>\n",
       "      <th></th>\n",
       "      <th></th>\n",
       "      <th></th>\n",
       "      <th></th>\n",
       "      <th></th>\n",
       "      <th></th>\n",
       "      <th></th>\n",
       "      <th></th>\n",
       "      <th></th>\n",
       "      <th></th>\n",
       "      <th></th>\n",
       "      <th></th>\n",
       "      <th></th>\n",
       "      <th></th>\n",
       "      <th></th>\n",
       "      <th></th>\n",
       "      <th></th>\n",
       "    </tr>\n",
       "  </thead>\n",
       "  <tbody>\n",
       "    <tr>\n",
       "      <th>2017-04-02</th>\n",
       "      <td>52.513333</td>\n",
       "      <td>2017.0</td>\n",
       "      <td>3.166667</td>\n",
       "      <td>24.500000</td>\n",
       "      <td>1.166667</td>\n",
       "      <td>88.666667</td>\n",
       "      <td>13.0</td>\n",
       "      <td>2.666667</td>\n",
       "      <td>0.0</td>\n",
       "      <td>0.0</td>\n",
       "      <td>0.0</td>\n",
       "      <td>0.0</td>\n",
       "      <td>0.0</td>\n",
       "      <td>0.0</td>\n",
       "      <td>0.000000</td>\n",
       "      <td>0.000000</td>\n",
       "      <td>0.000000</td>\n",
       "    </tr>\n",
       "    <tr>\n",
       "      <th>2017-04-09</th>\n",
       "      <td>54.491667</td>\n",
       "      <td>2017.0</td>\n",
       "      <td>4.000000</td>\n",
       "      <td>5.666667</td>\n",
       "      <td>2.000000</td>\n",
       "      <td>95.666667</td>\n",
       "      <td>14.0</td>\n",
       "      <td>2.666667</td>\n",
       "      <td>0.0</td>\n",
       "      <td>0.0</td>\n",
       "      <td>0.0</td>\n",
       "      <td>0.0</td>\n",
       "      <td>0.0</td>\n",
       "      <td>0.0</td>\n",
       "      <td>1.978333</td>\n",
       "      <td>0.000000</td>\n",
       "      <td>0.000000</td>\n",
       "    </tr>\n",
       "    <tr>\n",
       "      <th>2017-04-16</th>\n",
       "      <td>55.844000</td>\n",
       "      <td>2017.0</td>\n",
       "      <td>4.000000</td>\n",
       "      <td>12.400000</td>\n",
       "      <td>2.000000</td>\n",
       "      <td>102.400000</td>\n",
       "      <td>15.0</td>\n",
       "      <td>2.400000</td>\n",
       "      <td>0.0</td>\n",
       "      <td>0.0</td>\n",
       "      <td>0.0</td>\n",
       "      <td>0.0</td>\n",
       "      <td>0.0</td>\n",
       "      <td>0.0</td>\n",
       "      <td>1.352333</td>\n",
       "      <td>1.352333</td>\n",
       "      <td>0.000000</td>\n",
       "    </tr>\n",
       "    <tr>\n",
       "      <th>2017-04-23</th>\n",
       "      <td>53.436667</td>\n",
       "      <td>2017.0</td>\n",
       "      <td>4.000000</td>\n",
       "      <td>19.666667</td>\n",
       "      <td>2.000000</td>\n",
       "      <td>109.666667</td>\n",
       "      <td>16.0</td>\n",
       "      <td>2.666667</td>\n",
       "      <td>0.0</td>\n",
       "      <td>0.0</td>\n",
       "      <td>0.0</td>\n",
       "      <td>0.0</td>\n",
       "      <td>0.0</td>\n",
       "      <td>0.0</td>\n",
       "      <td>-2.407333</td>\n",
       "      <td>-2.407333</td>\n",
       "      <td>-2.407333</td>\n",
       "    </tr>\n",
       "    <tr>\n",
       "      <th>2017-04-30</th>\n",
       "      <td>51.985000</td>\n",
       "      <td>2017.0</td>\n",
       "      <td>4.000000</td>\n",
       "      <td>26.666667</td>\n",
       "      <td>2.000000</td>\n",
       "      <td>116.666667</td>\n",
       "      <td>17.0</td>\n",
       "      <td>2.666667</td>\n",
       "      <td>0.0</td>\n",
       "      <td>0.0</td>\n",
       "      <td>0.0</td>\n",
       "      <td>0.0</td>\n",
       "      <td>0.0</td>\n",
       "      <td>0.0</td>\n",
       "      <td>-1.451667</td>\n",
       "      <td>-1.451667</td>\n",
       "      <td>-1.451667</td>\n",
       "    </tr>\n",
       "  </tbody>\n",
       "</table>\n",
       "</div>"
      ],
      "text/plain": [
       "             Значение    year     month  dayofmonth   quarter   dayofyear  \\\n",
       "Дата                                                                        \n",
       "2017-04-02  52.513333  2017.0  3.166667   24.500000  1.166667   88.666667   \n",
       "2017-04-09  54.491667  2017.0  4.000000    5.666667  2.000000   95.666667   \n",
       "2017-04-16  55.844000  2017.0  4.000000   12.400000  2.000000  102.400000   \n",
       "2017-04-23  53.436667  2017.0  4.000000   19.666667  2.000000  109.666667   \n",
       "2017-04-30  51.985000  2017.0  4.000000   26.666667  2.000000  116.666667   \n",
       "\n",
       "            weekofyear  dayofweek  is_holiday  is_prev_holiday  \\\n",
       "Дата                                                             \n",
       "2017-04-02        13.0   2.666667         0.0              0.0   \n",
       "2017-04-09        14.0   2.666667         0.0              0.0   \n",
       "2017-04-16        15.0   2.400000         0.0              0.0   \n",
       "2017-04-23        16.0   2.666667         0.0              0.0   \n",
       "2017-04-30        17.0   2.666667         0.0              0.0   \n",
       "\n",
       "            is_next_holiday   t4   t3   t2        d4        d3        d2  \n",
       "Дата                                                                      \n",
       "2017-04-02              0.0  0.0  0.0  0.0  0.000000  0.000000  0.000000  \n",
       "2017-04-09              0.0  0.0  0.0  0.0  1.978333  0.000000  0.000000  \n",
       "2017-04-16              0.0  0.0  0.0  0.0  1.352333  1.352333  0.000000  \n",
       "2017-04-23              0.0  0.0  0.0  0.0 -2.407333 -2.407333 -2.407333  \n",
       "2017-04-30              0.0  0.0  0.0  0.0 -1.451667 -1.451667 -1.451667  "
      ]
     },
     "execution_count": 11,
     "metadata": {},
     "output_type": "execute_result"
    }
   ],
   "source": [
    "brent_data_w_c.head()"
   ]
  },
  {
   "cell_type": "code",
   "execution_count": 12,
   "metadata": {},
   "outputs": [
    {
     "name": "stdout",
     "output_type": "stream",
     "text": [
      "<class 'pandas.core.frame.DataFrame'>\n",
      "DatetimeIndex: 127 entries, 2017-04-02 to 2019-09-01\n",
      "Data columns (total 17 columns):\n",
      " #   Column           Non-Null Count  Dtype  \n",
      "---  ------           --------------  -----  \n",
      " 0   Значение         127 non-null    float64\n",
      " 1   year             127 non-null    float64\n",
      " 2   month            127 non-null    float64\n",
      " 3   dayofmonth       127 non-null    float64\n",
      " 4   quarter          127 non-null    float64\n",
      " 5   dayofyear        127 non-null    float64\n",
      " 6   weekofyear       127 non-null    float64\n",
      " 7   dayofweek        127 non-null    float64\n",
      " 8   is_holiday       127 non-null    float64\n",
      " 9   is_prev_holiday  127 non-null    float64\n",
      " 10  is_next_holiday  127 non-null    float64\n",
      " 11  t4               127 non-null    float64\n",
      " 12  t3               127 non-null    float64\n",
      " 13  t2               127 non-null    float64\n",
      " 14  d4               127 non-null    float64\n",
      " 15  d3               127 non-null    float64\n",
      " 16  d2               127 non-null    float64\n",
      "dtypes: float64(17)\n",
      "memory usage: 17.9 KB\n"
     ]
    }
   ],
   "source": [
    "brent_data_w_c.info()"
   ]
  },
  {
   "cell_type": "code",
   "execution_count": 13,
   "metadata": {},
   "outputs": [
    {
     "data": {
      "text/html": [
       "<div>\n",
       "<style scoped>\n",
       "    .dataframe tbody tr th:only-of-type {\n",
       "        vertical-align: middle;\n",
       "    }\n",
       "\n",
       "    .dataframe tbody tr th {\n",
       "        vertical-align: top;\n",
       "    }\n",
       "\n",
       "    .dataframe thead th {\n",
       "        text-align: right;\n",
       "    }\n",
       "</style>\n",
       "<table border=\"1\" class=\"dataframe\">\n",
       "  <thead>\n",
       "    <tr style=\"text-align: right;\">\n",
       "      <th></th>\n",
       "      <th>curs</th>\n",
       "    </tr>\n",
       "  </thead>\n",
       "  <tbody>\n",
       "    <tr>\n",
       "      <th>2010-09-01</th>\n",
       "      <td>30.8669</td>\n",
       "    </tr>\n",
       "    <tr>\n",
       "      <th>2010-09-02</th>\n",
       "      <td>30.8001</td>\n",
       "    </tr>\n",
       "    <tr>\n",
       "      <th>2010-09-03</th>\n",
       "      <td>30.6858</td>\n",
       "    </tr>\n",
       "    <tr>\n",
       "      <th>2010-09-04</th>\n",
       "      <td>30.6922</td>\n",
       "    </tr>\n",
       "    <tr>\n",
       "      <th>2010-09-07</th>\n",
       "      <td>30.5771</td>\n",
       "    </tr>\n",
       "  </tbody>\n",
       "</table>\n",
       "</div>"
      ],
      "text/plain": [
       "               curs\n",
       "2010-09-01  30.8669\n",
       "2010-09-02  30.8001\n",
       "2010-09-03  30.6858\n",
       "2010-09-04  30.6922\n",
       "2010-09-07  30.5771"
      ]
     },
     "execution_count": 13,
     "metadata": {},
     "output_type": "execute_result"
    }
   ],
   "source": [
    "rub_doll=pd.read_excel('RC_F01_09_2010_T01_09_2019.xlsx')\n",
    "rub_doll.index = pd.to_datetime(rub_doll['data'].values)\n",
    "rub_doll.drop(['nominal','cdx','data'], axis=1,inplace = True)\n",
    "rub_doll.head()"
   ]
  },
  {
   "cell_type": "code",
   "execution_count": 14,
   "metadata": {},
   "outputs": [],
   "source": [
    "rub_doll_w = rub_doll.resample('W').mean()"
   ]
  },
  {
   "cell_type": "code",
   "execution_count": 15,
   "metadata": {},
   "outputs": [
    {
     "data": {
      "text/html": [
       "<div>\n",
       "<style scoped>\n",
       "    .dataframe tbody tr th:only-of-type {\n",
       "        vertical-align: middle;\n",
       "    }\n",
       "\n",
       "    .dataframe tbody tr th {\n",
       "        vertical-align: top;\n",
       "    }\n",
       "\n",
       "    .dataframe thead th {\n",
       "        text-align: right;\n",
       "    }\n",
       "</style>\n",
       "<table border=\"1\" class=\"dataframe\">\n",
       "  <thead>\n",
       "    <tr style=\"text-align: right;\">\n",
       "      <th></th>\n",
       "      <th>curs</th>\n",
       "    </tr>\n",
       "  </thead>\n",
       "  <tbody>\n",
       "    <tr>\n",
       "      <th>2017-04-02</th>\n",
       "      <td>56.66446</td>\n",
       "    </tr>\n",
       "    <tr>\n",
       "      <th>2017-04-09</th>\n",
       "      <td>56.38918</td>\n",
       "    </tr>\n",
       "    <tr>\n",
       "      <th>2017-04-16</th>\n",
       "      <td>56.79936</td>\n",
       "    </tr>\n",
       "    <tr>\n",
       "      <th>2017-04-23</th>\n",
       "      <td>56.21046</td>\n",
       "    </tr>\n",
       "    <tr>\n",
       "      <th>2017-04-30</th>\n",
       "      <td>56.43846</td>\n",
       "    </tr>\n",
       "  </tbody>\n",
       "</table>\n",
       "</div>"
      ],
      "text/plain": [
       "                curs\n",
       "2017-04-02  56.66446\n",
       "2017-04-09  56.38918\n",
       "2017-04-16  56.79936\n",
       "2017-04-23  56.21046\n",
       "2017-04-30  56.43846"
      ]
     },
     "execution_count": 15,
     "metadata": {},
     "output_type": "execute_result"
    }
   ],
   "source": [
    "rub_doll_w_c = rub_doll_w.loc['2017-04-01':,:]\n",
    "rub_doll_w_c.head()"
   ]
  },
  {
   "cell_type": "code",
   "execution_count": 16,
   "metadata": {},
   "outputs": [
    {
     "data": {
      "text/html": [
       "<div>\n",
       "<style scoped>\n",
       "    .dataframe tbody tr th:only-of-type {\n",
       "        vertical-align: middle;\n",
       "    }\n",
       "\n",
       "    .dataframe tbody tr th {\n",
       "        vertical-align: top;\n",
       "    }\n",
       "\n",
       "    .dataframe thead th {\n",
       "        text-align: right;\n",
       "    }\n",
       "</style>\n",
       "<table border=\"1\" class=\"dataframe\">\n",
       "  <thead>\n",
       "    <tr style=\"text-align: right;\">\n",
       "      <th></th>\n",
       "      <th>curs</th>\n",
       "    </tr>\n",
       "  </thead>\n",
       "  <tbody>\n",
       "    <tr>\n",
       "      <th>2010-09-01</th>\n",
       "      <td>39.0127</td>\n",
       "    </tr>\n",
       "    <tr>\n",
       "      <th>2010-09-02</th>\n",
       "      <td>39.1654</td>\n",
       "    </tr>\n",
       "    <tr>\n",
       "      <th>2010-09-03</th>\n",
       "      <td>39.2901</td>\n",
       "    </tr>\n",
       "    <tr>\n",
       "      <th>2010-09-04</th>\n",
       "      <td>39.3505</td>\n",
       "    </tr>\n",
       "    <tr>\n",
       "      <th>2010-09-07</th>\n",
       "      <td>39.4720</td>\n",
       "    </tr>\n",
       "  </tbody>\n",
       "</table>\n",
       "</div>"
      ],
      "text/plain": [
       "               curs\n",
       "2010-09-01  39.0127\n",
       "2010-09-02  39.1654\n",
       "2010-09-03  39.2901\n",
       "2010-09-04  39.3505\n",
       "2010-09-07  39.4720"
      ]
     },
     "execution_count": 16,
     "metadata": {},
     "output_type": "execute_result"
    }
   ],
   "source": [
    "rub_e=pd.read_excel('R_E01_09_2010_T01_09_2019.xlsx')\n",
    "rub_e.index = pd.to_datetime(rub_e['data'].values)\n",
    "rub_e.drop(['nominal','cdx','data'], axis=1,inplace = True)\n",
    "rub_e.head()"
   ]
  },
  {
   "cell_type": "code",
   "execution_count": 17,
   "metadata": {},
   "outputs": [],
   "source": [
    "rub_e_w = rub_e.resample('W').mean()"
   ]
  },
  {
   "cell_type": "code",
   "execution_count": 18,
   "metadata": {},
   "outputs": [
    {
     "data": {
      "text/html": [
       "<div>\n",
       "<style scoped>\n",
       "    .dataframe tbody tr th:only-of-type {\n",
       "        vertical-align: middle;\n",
       "    }\n",
       "\n",
       "    .dataframe tbody tr th {\n",
       "        vertical-align: top;\n",
       "    }\n",
       "\n",
       "    .dataframe thead th {\n",
       "        text-align: right;\n",
       "    }\n",
       "</style>\n",
       "<table border=\"1\" class=\"dataframe\">\n",
       "  <thead>\n",
       "    <tr style=\"text-align: right;\">\n",
       "      <th></th>\n",
       "      <th>curs</th>\n",
       "    </tr>\n",
       "  </thead>\n",
       "  <tbody>\n",
       "    <tr>\n",
       "      <th>2017-04-02</th>\n",
       "      <td>61.14242</td>\n",
       "    </tr>\n",
       "    <tr>\n",
       "      <th>2017-04-09</th>\n",
       "      <td>60.09684</td>\n",
       "    </tr>\n",
       "    <tr>\n",
       "      <th>2017-04-16</th>\n",
       "      <td>60.27600</td>\n",
       "    </tr>\n",
       "    <tr>\n",
       "      <th>2017-04-23</th>\n",
       "      <td>60.12984</td>\n",
       "    </tr>\n",
       "    <tr>\n",
       "      <th>2017-04-30</th>\n",
       "      <td>61.47098</td>\n",
       "    </tr>\n",
       "  </tbody>\n",
       "</table>\n",
       "</div>"
      ],
      "text/plain": [
       "                curs\n",
       "2017-04-02  61.14242\n",
       "2017-04-09  60.09684\n",
       "2017-04-16  60.27600\n",
       "2017-04-23  60.12984\n",
       "2017-04-30  61.47098"
      ]
     },
     "execution_count": 18,
     "metadata": {},
     "output_type": "execute_result"
    }
   ],
   "source": [
    "rub_e_w_c = rub_e_w.loc['2017-04-01':,:]\n",
    "rub_e_w_c.head()"
   ]
  },
  {
   "cell_type": "code",
   "execution_count": 19,
   "metadata": {},
   "outputs": [
    {
     "data": {
      "text/plain": [
       "DatetimeIndex(['2018-01-07', '2019-01-06'], dtype='datetime64[ns]', freq='52W-SUN')"
      ]
     },
     "execution_count": 19,
     "metadata": {},
     "output_type": "execute_result"
    }
   ],
   "source": [
    "rub_doll_w_c[rub_doll_w_c['curs'].isnull()].index"
   ]
  },
  {
   "cell_type": "code",
   "execution_count": 20,
   "metadata": {},
   "outputs": [
    {
     "data": {
      "text/plain": [
       "DatetimeIndex(['2018-01-07', '2019-01-06'], dtype='datetime64[ns]', freq='52W-SUN')"
      ]
     },
     "execution_count": 20,
     "metadata": {},
     "output_type": "execute_result"
    }
   ],
   "source": [
    "rub_e_w_c[rub_e_w_c['curs'].isnull()].index"
   ]
  },
  {
   "cell_type": "code",
   "execution_count": 21,
   "metadata": {},
   "outputs": [
    {
     "data": {
      "text/html": [
       "<div>\n",
       "<style scoped>\n",
       "    .dataframe tbody tr th:only-of-type {\n",
       "        vertical-align: middle;\n",
       "    }\n",
       "\n",
       "    .dataframe tbody tr th {\n",
       "        vertical-align: top;\n",
       "    }\n",
       "\n",
       "    .dataframe thead th {\n",
       "        text-align: right;\n",
       "    }\n",
       "</style>\n",
       "<table border=\"1\" class=\"dataframe\">\n",
       "  <thead>\n",
       "    <tr style=\"text-align: right;\">\n",
       "      <th></th>\n",
       "      <th>Значение</th>\n",
       "      <th>year</th>\n",
       "      <th>month</th>\n",
       "      <th>dayofmonth</th>\n",
       "      <th>quarter</th>\n",
       "      <th>dayofyear</th>\n",
       "      <th>weekofyear</th>\n",
       "      <th>dayofweek</th>\n",
       "      <th>is_holiday</th>\n",
       "      <th>is_prev_holiday</th>\n",
       "      <th>is_next_holiday</th>\n",
       "      <th>t4</th>\n",
       "      <th>t3</th>\n",
       "      <th>t2</th>\n",
       "      <th>d4</th>\n",
       "      <th>d3</th>\n",
       "      <th>d2</th>\n",
       "    </tr>\n",
       "  </thead>\n",
       "  <tbody>\n",
       "    <tr>\n",
       "      <th>2018-01-07</th>\n",
       "      <td>67.578</td>\n",
       "      <td>2018.0</td>\n",
       "      <td>1.0</td>\n",
       "      <td>4.2</td>\n",
       "      <td>1.0</td>\n",
       "      <td>4.2</td>\n",
       "      <td>1.0</td>\n",
       "      <td>3.2</td>\n",
       "      <td>0.0</td>\n",
       "      <td>0.0</td>\n",
       "      <td>0.2</td>\n",
       "      <td>62.546667</td>\n",
       "      <td>63.388333</td>\n",
       "      <td>64.384000</td>\n",
       "      <td>1.208</td>\n",
       "      <td>1.208</td>\n",
       "      <td>1.208</td>\n",
       "    </tr>\n",
       "    <tr>\n",
       "      <th>2019-01-06</th>\n",
       "      <td>55.916</td>\n",
       "      <td>2018.8</td>\n",
       "      <td>3.2</td>\n",
       "      <td>9.2</td>\n",
       "      <td>1.6</td>\n",
       "      <td>76.0</td>\n",
       "      <td>1.0</td>\n",
       "      <td>3.0</td>\n",
       "      <td>0.0</td>\n",
       "      <td>0.2</td>\n",
       "      <td>0.2</td>\n",
       "      <td>61.388333</td>\n",
       "      <td>60.451667</td>\n",
       "      <td>55.521667</td>\n",
       "      <td>2.838</td>\n",
       "      <td>2.838</td>\n",
       "      <td>2.838</td>\n",
       "    </tr>\n",
       "  </tbody>\n",
       "</table>\n",
       "</div>"
      ],
      "text/plain": [
       "            Значение    year  month  dayofmonth  quarter  dayofyear  \\\n",
       "2018-01-07    67.578  2018.0    1.0         4.2      1.0        4.2   \n",
       "2019-01-06    55.916  2018.8    3.2         9.2      1.6       76.0   \n",
       "\n",
       "            weekofyear  dayofweek  is_holiday  is_prev_holiday  \\\n",
       "2018-01-07         1.0        3.2         0.0              0.0   \n",
       "2019-01-06         1.0        3.0         0.0              0.2   \n",
       "\n",
       "            is_next_holiday         t4         t3         t2     d4     d3  \\\n",
       "2018-01-07              0.2  62.546667  63.388333  64.384000  1.208  1.208   \n",
       "2019-01-06              0.2  61.388333  60.451667  55.521667  2.838  2.838   \n",
       "\n",
       "               d2  \n",
       "2018-01-07  1.208  \n",
       "2019-01-06  2.838  "
      ]
     },
     "execution_count": 21,
     "metadata": {},
     "output_type": "execute_result"
    }
   ],
   "source": [
    "brent_data_w_c.loc[rub_e_w_c[rub_e_w_c['curs'].isnull()].index]"
   ]
  },
  {
   "cell_type": "code",
   "execution_count": 22,
   "metadata": {},
   "outputs": [],
   "source": [
    "brent_data_w_c.drop(brent_data_w_c.loc[rub_e_w_c[rub_e_w_c['curs'].isnull()].index].index, axis=0, inplace=True)"
   ]
  },
  {
   "cell_type": "code",
   "execution_count": 23,
   "metadata": {},
   "outputs": [
    {
     "name": "stdout",
     "output_type": "stream",
     "text": [
      "<class 'pandas.core.frame.DataFrame'>\n",
      "DatetimeIndex: 125 entries, 2017-04-02 to 2019-09-01\n",
      "Data columns (total 17 columns):\n",
      " #   Column           Non-Null Count  Dtype  \n",
      "---  ------           --------------  -----  \n",
      " 0   Значение         125 non-null    float64\n",
      " 1   year             125 non-null    float64\n",
      " 2   month            125 non-null    float64\n",
      " 3   dayofmonth       125 non-null    float64\n",
      " 4   quarter          125 non-null    float64\n",
      " 5   dayofyear        125 non-null    float64\n",
      " 6   weekofyear       125 non-null    float64\n",
      " 7   dayofweek        125 non-null    float64\n",
      " 8   is_holiday       125 non-null    float64\n",
      " 9   is_prev_holiday  125 non-null    float64\n",
      " 10  is_next_holiday  125 non-null    float64\n",
      " 11  t4               125 non-null    float64\n",
      " 12  t3               125 non-null    float64\n",
      " 13  t2               125 non-null    float64\n",
      " 14  d4               125 non-null    float64\n",
      " 15  d3               125 non-null    float64\n",
      " 16  d2               125 non-null    float64\n",
      "dtypes: float64(17)\n",
      "memory usage: 17.6 KB\n"
     ]
    }
   ],
   "source": [
    "brent_data_w_c.info()"
   ]
  },
  {
   "cell_type": "code",
   "execution_count": 24,
   "metadata": {},
   "outputs": [],
   "source": [
    "rub_doll_w_c.dropna(inplace = True)\n",
    "rub_e_w_c.dropna(inplace = True)"
   ]
  },
  {
   "cell_type": "code",
   "execution_count": 25,
   "metadata": {},
   "outputs": [
    {
     "name": "stdout",
     "output_type": "stream",
     "text": [
      "<class 'pandas.core.frame.DataFrame'>\n",
      "DatetimeIndex: 125 entries, 2017-04-02 to 2019-09-01\n",
      "Data columns (total 1 columns):\n",
      " #   Column  Non-Null Count  Dtype  \n",
      "---  ------  --------------  -----  \n",
      " 0   curs    125 non-null    float64\n",
      "dtypes: float64(1)\n",
      "memory usage: 2.0 KB\n"
     ]
    }
   ],
   "source": [
    "rub_doll_w_c.info()"
   ]
  },
  {
   "cell_type": "code",
   "execution_count": 26,
   "metadata": {},
   "outputs": [
    {
     "data": {
      "image/png": "[encoded data removed]",
      "text/plain": [
       "<Figure size 864x360 with 1 Axes>"
      ]
     },
     "metadata": {
      "needs_background": "light"
     },
     "output_type": "display_data"
    }
   ],
   "source": [
    "plt.figure(figsize=(12,5))\n",
    "plt.plot(brent_data_w_c.index, brent_data_w_c['Значение'].values,'.g', label='Brent ')\n",
    "plt.plot(rub_doll_w_c.index ,rub_doll_w_c['curs'].values,'.k', label='doll - rub')\n",
    "plt.plot(rub_e_w_c.index, rub_e_w_c['curs'].values,'.r', label='euro - rub')\n",
    "plt.ylabel('USA dollar')\n",
    "plt.xlabel('t')\n",
    "plt.grid()\n",
    "plt.legend()\n",
    "plt.show()"
   ]
  },
  {
   "cell_type": "code",
   "execution_count": 27,
   "metadata": {},
   "outputs": [
    {
     "data": {
      "image/png": "[encoded data removed]",
      "text/plain": [
       "<Figure size 1440x864 with 3 Axes>"
      ]
     },
     "metadata": {
      "needs_background": "light"
     },
     "output_type": "display_data"
    }
   ],
   "source": [
    "d_brent_data = brent_data_w_c['Значение'].values[1:]- brent_data_w_c['Значение'].values[:-1]\n",
    "s_brent = np.std(d_brent_data) *3\n",
    "\n",
    "d_rub_doll = rub_doll_w_c['curs'].values[1:]- rub_doll_w_c['curs'].values[:-1]\n",
    "s_rub = np.std(d_rub_doll)**0.5 *3\n",
    "\n",
    "d_rub_e = rub_e_w_c['curs'].values[1:]- rub_e_w_c['curs'].values[:-1]\n",
    "s_rube = np.std(d_rub_e)**0.5 *3\n",
    "\n",
    "plt.figure(figsize=(20,12))\n",
    "plt.subplot(3,1,1)\n",
    "plt.plot(brent_data_w_c.iloc[:-1].index,d_brent_data,'.', label='d(BRENT)/dt')\n",
    "plt.plot(brent_data_w_c.iloc[[0,-1]].index,[s_brent, s_brent],'--k',label ='3 sig')\n",
    "plt.plot(brent_data_w_c.iloc[[0,-1]].index,[-s_brent, -s_brent],'--k')\n",
    "plt.legend()\n",
    "\n",
    "plt.subplot(3,1,2)\n",
    "plt.plot(rub_doll_w_c.iloc[:-1].index,d_rub_doll,'.r', label='d(doll)/dt')\n",
    "plt.plot(rub_doll_w_c.iloc[[0,-1]].index,[s_rub, s_rub],'--r',label ='3 sig')\n",
    "plt.plot(rub_doll_w_c.iloc[[0,-1]].index,[-s_rub, -s_rub],'--r')\n",
    "plt.legend()\n",
    "\n",
    "plt.subplot(3,1,3)\n",
    "plt.plot(rub_e_w_c.iloc[:-1].index,d_rub_e,'+k', label='d(euro)/dt')\n",
    "plt.plot(rub_e_w_c.iloc[[0,-1]].index,[s_rube, s_rube],'--g',label ='3 sig')\n",
    "plt.plot(rub_e_w_c.iloc[[0,-1]].index,[-s_rube, -s_rube],'--g')\n",
    "\n",
    "plt.xlabel('t')\n",
    "plt.legend()\n",
    "plt.title('Цена нефти Brent, USA Dollar')\n",
    "plt.show()"
   ]
  },
  {
   "cell_type": "code",
   "execution_count": 28,
   "metadata": {},
   "outputs": [],
   "source": [
    "brent_data_w_c['brent_dt']=0.0\n",
    "brent_data_w_c['doll_dt']=0.0\n",
    "brent_data_w_c['euro_dt']=0.0"
   ]
  },
  {
   "cell_type": "code",
   "execution_count": 29,
   "metadata": {},
   "outputs": [],
   "source": [
    "brent_data_w_c['brent_dt'].values[1:] = d_brent_data\n",
    "brent_data_w_c['doll_dt'].values[1:] = d_rub_doll\n",
    "brent_data_w_c['euro_dt'].values[1:] = d_rub_e"
   ]
  },
  {
   "cell_type": "code",
   "execution_count": 30,
   "metadata": {},
   "outputs": [],
   "source": [
    "brent_data_w_c['doll']=0.0\n",
    "brent_data_w_c['doll'].values[:] = rub_doll_w_c['curs'].values[:]"
   ]
  },
  {
   "cell_type": "code",
   "execution_count": 31,
   "metadata": {},
   "outputs": [],
   "source": [
    "brent_data_w_c['euro']=0.0\n",
    "brent_data_w_c['euro'].values[:] = rub_e_w_c['curs'].values[:]"
   ]
  },
  {
   "cell_type": "code",
   "execution_count": 32,
   "metadata": {},
   "outputs": [],
   "source": [
    "p =3\n",
    "\n",
    "#добавляем историю длиной р\n",
    "for i in range(p):\n",
    "    brent_data_w_c['doll_t'+str(p-i+1)]=0.0\n",
    "    brent_data_w_c['doll_t'+str(p-i+1)].values[p+2:] = brent_data_w_c['doll'].values[i+1:-(p-i+1)]\n",
    "    brent_data_w_c['euro_t'+str(p-i+1)]=0.0\n",
    "    brent_data_w_c['euro_t'+str(p-i+1)].values[p+2:] = brent_data_w_c['euro'].values[i+1:-(p-i+1)]"
   ]
  },
  {
   "cell_type": "code",
   "execution_count": 33,
   "metadata": {},
   "outputs": [
    {
     "data": {
      "text/html": [
       "<div>\n",
       "<style scoped>\n",
       "    .dataframe tbody tr th:only-of-type {\n",
       "        vertical-align: middle;\n",
       "    }\n",
       "\n",
       "    .dataframe tbody tr th {\n",
       "        vertical-align: top;\n",
       "    }\n",
       "\n",
       "    .dataframe thead th {\n",
       "        text-align: right;\n",
       "    }\n",
       "</style>\n",
       "<table border=\"1\" class=\"dataframe\">\n",
       "  <thead>\n",
       "    <tr style=\"text-align: right;\">\n",
       "      <th></th>\n",
       "      <th>Значение</th>\n",
       "      <th>year</th>\n",
       "      <th>month</th>\n",
       "      <th>dayofmonth</th>\n",
       "      <th>quarter</th>\n",
       "      <th>dayofyear</th>\n",
       "      <th>weekofyear</th>\n",
       "      <th>dayofweek</th>\n",
       "      <th>is_holiday</th>\n",
       "      <th>is_prev_holiday</th>\n",
       "      <th>...</th>\n",
       "      <th>doll_dt</th>\n",
       "      <th>euro_dt</th>\n",
       "      <th>doll</th>\n",
       "      <th>euro</th>\n",
       "      <th>doll_t4</th>\n",
       "      <th>euro_t4</th>\n",
       "      <th>doll_t3</th>\n",
       "      <th>euro_t3</th>\n",
       "      <th>doll_t2</th>\n",
       "      <th>euro_t2</th>\n",
       "    </tr>\n",
       "    <tr>\n",
       "      <th>Дата</th>\n",
       "      <th></th>\n",
       "      <th></th>\n",
       "      <th></th>\n",
       "      <th></th>\n",
       "      <th></th>\n",
       "      <th></th>\n",
       "      <th></th>\n",
       "      <th></th>\n",
       "      <th></th>\n",
       "      <th></th>\n",
       "      <th></th>\n",
       "      <th></th>\n",
       "      <th></th>\n",
       "      <th></th>\n",
       "      <th></th>\n",
       "      <th></th>\n",
       "      <th></th>\n",
       "      <th></th>\n",
       "      <th></th>\n",
       "      <th></th>\n",
       "      <th></th>\n",
       "    </tr>\n",
       "  </thead>\n",
       "  <tbody>\n",
       "    <tr>\n",
       "      <th>2017-04-02</th>\n",
       "      <td>52.513333</td>\n",
       "      <td>2017.0</td>\n",
       "      <td>3.166667</td>\n",
       "      <td>24.500000</td>\n",
       "      <td>1.166667</td>\n",
       "      <td>88.666667</td>\n",
       "      <td>13.0</td>\n",
       "      <td>2.666667</td>\n",
       "      <td>0.0</td>\n",
       "      <td>0.0</td>\n",
       "      <td>...</td>\n",
       "      <td>0.000000</td>\n",
       "      <td>0.000000</td>\n",
       "      <td>56.664460</td>\n",
       "      <td>61.142420</td>\n",
       "      <td>0.00000</td>\n",
       "      <td>0.00000</td>\n",
       "      <td>0.00000</td>\n",
       "      <td>0.000</td>\n",
       "      <td>0.00000</td>\n",
       "      <td>0.00000</td>\n",
       "    </tr>\n",
       "    <tr>\n",
       "      <th>2017-04-09</th>\n",
       "      <td>54.491667</td>\n",
       "      <td>2017.0</td>\n",
       "      <td>4.000000</td>\n",
       "      <td>5.666667</td>\n",
       "      <td>2.000000</td>\n",
       "      <td>95.666667</td>\n",
       "      <td>14.0</td>\n",
       "      <td>2.666667</td>\n",
       "      <td>0.0</td>\n",
       "      <td>0.0</td>\n",
       "      <td>...</td>\n",
       "      <td>-0.275280</td>\n",
       "      <td>-1.045580</td>\n",
       "      <td>56.389180</td>\n",
       "      <td>60.096840</td>\n",
       "      <td>0.00000</td>\n",
       "      <td>0.00000</td>\n",
       "      <td>0.00000</td>\n",
       "      <td>0.000</td>\n",
       "      <td>0.00000</td>\n",
       "      <td>0.00000</td>\n",
       "    </tr>\n",
       "    <tr>\n",
       "      <th>2017-04-16</th>\n",
       "      <td>55.844000</td>\n",
       "      <td>2017.0</td>\n",
       "      <td>4.000000</td>\n",
       "      <td>12.400000</td>\n",
       "      <td>2.000000</td>\n",
       "      <td>102.400000</td>\n",
       "      <td>15.0</td>\n",
       "      <td>2.400000</td>\n",
       "      <td>0.0</td>\n",
       "      <td>0.0</td>\n",
       "      <td>...</td>\n",
       "      <td>0.410180</td>\n",
       "      <td>0.179160</td>\n",
       "      <td>56.799360</td>\n",
       "      <td>60.276000</td>\n",
       "      <td>0.00000</td>\n",
       "      <td>0.00000</td>\n",
       "      <td>0.00000</td>\n",
       "      <td>0.000</td>\n",
       "      <td>0.00000</td>\n",
       "      <td>0.00000</td>\n",
       "    </tr>\n",
       "    <tr>\n",
       "      <th>2017-04-23</th>\n",
       "      <td>53.436667</td>\n",
       "      <td>2017.0</td>\n",
       "      <td>4.000000</td>\n",
       "      <td>19.666667</td>\n",
       "      <td>2.000000</td>\n",
       "      <td>109.666667</td>\n",
       "      <td>16.0</td>\n",
       "      <td>2.666667</td>\n",
       "      <td>0.0</td>\n",
       "      <td>0.0</td>\n",
       "      <td>...</td>\n",
       "      <td>-0.588900</td>\n",
       "      <td>-0.146160</td>\n",
       "      <td>56.210460</td>\n",
       "      <td>60.129840</td>\n",
       "      <td>0.00000</td>\n",
       "      <td>0.00000</td>\n",
       "      <td>0.00000</td>\n",
       "      <td>0.000</td>\n",
       "      <td>0.00000</td>\n",
       "      <td>0.00000</td>\n",
       "    </tr>\n",
       "    <tr>\n",
       "      <th>2017-04-30</th>\n",
       "      <td>51.985000</td>\n",
       "      <td>2017.0</td>\n",
       "      <td>4.000000</td>\n",
       "      <td>26.666667</td>\n",
       "      <td>2.000000</td>\n",
       "      <td>116.666667</td>\n",
       "      <td>17.0</td>\n",
       "      <td>2.666667</td>\n",
       "      <td>0.0</td>\n",
       "      <td>0.0</td>\n",
       "      <td>...</td>\n",
       "      <td>0.228000</td>\n",
       "      <td>1.341140</td>\n",
       "      <td>56.438460</td>\n",
       "      <td>61.470980</td>\n",
       "      <td>0.00000</td>\n",
       "      <td>0.00000</td>\n",
       "      <td>0.00000</td>\n",
       "      <td>0.000</td>\n",
       "      <td>0.00000</td>\n",
       "      <td>0.00000</td>\n",
       "    </tr>\n",
       "    <tr>\n",
       "      <th>2017-05-07</th>\n",
       "      <td>50.080000</td>\n",
       "      <td>2017.0</td>\n",
       "      <td>5.000000</td>\n",
       "      <td>3.666667</td>\n",
       "      <td>2.000000</td>\n",
       "      <td>123.666667</td>\n",
       "      <td>18.0</td>\n",
       "      <td>2.666667</td>\n",
       "      <td>0.0</td>\n",
       "      <td>0.0</td>\n",
       "      <td>...</td>\n",
       "      <td>1.100065</td>\n",
       "      <td>1.389895</td>\n",
       "      <td>57.538525</td>\n",
       "      <td>62.860875</td>\n",
       "      <td>56.38918</td>\n",
       "      <td>60.09684</td>\n",
       "      <td>56.79936</td>\n",
       "      <td>60.276</td>\n",
       "      <td>56.21046</td>\n",
       "      <td>60.12984</td>\n",
       "    </tr>\n",
       "  </tbody>\n",
       "</table>\n",
       "<p>6 rows × 28 columns</p>\n",
       "</div>"
      ],
      "text/plain": [
       "             Значение    year     month  dayofmonth   quarter   dayofyear  \\\n",
       "Дата                                                                        \n",
       "2017-04-02  52.513333  2017.0  3.166667   24.500000  1.166667   88.666667   \n",
       "2017-04-09  54.491667  2017.0  4.000000    5.666667  2.000000   95.666667   \n",
       "2017-04-16  55.844000  2017.0  4.000000   12.400000  2.000000  102.400000   \n",
       "2017-04-23  53.436667  2017.0  4.000000   19.666667  2.000000  109.666667   \n",
       "2017-04-30  51.985000  2017.0  4.000000   26.666667  2.000000  116.666667   \n",
       "2017-05-07  50.080000  2017.0  5.000000    3.666667  2.000000  123.666667   \n",
       "\n",
       "            weekofyear  dayofweek  is_holiday  is_prev_holiday  ...   doll_dt  \\\n",
       "Дата                                                            ...             \n",
       "2017-04-02        13.0   2.666667         0.0              0.0  ...  0.000000   \n",
       "2017-04-09        14.0   2.666667         0.0              0.0  ... -0.275280   \n",
       "2017-04-16        15.0   2.400000         0.0              0.0  ...  0.410180   \n",
       "2017-04-23        16.0   2.666667         0.0              0.0  ... -0.588900   \n",
       "2017-04-30        17.0   2.666667         0.0              0.0  ...  0.228000   \n",
       "2017-05-07        18.0   2.666667         0.0              0.0  ...  1.100065   \n",
       "\n",
       "             euro_dt       doll       euro   doll_t4   euro_t4   doll_t3  \\\n",
       "Дата                                                                       \n",
       "2017-04-02  0.000000  56.664460  61.142420   0.00000   0.00000   0.00000   \n",
       "2017-04-09 -1.045580  56.389180  60.096840   0.00000   0.00000   0.00000   \n",
       "2017-04-16  0.179160  56.799360  60.276000   0.00000   0.00000   0.00000   \n",
       "2017-04-23 -0.146160  56.210460  60.129840   0.00000   0.00000   0.00000   \n",
       "2017-04-30  1.341140  56.438460  61.470980   0.00000   0.00000   0.00000   \n",
       "2017-05-07  1.389895  57.538525  62.860875  56.38918  60.09684  56.79936   \n",
       "\n",
       "            euro_t3   doll_t2   euro_t2  \n",
       "Дата                                     \n",
       "2017-04-02    0.000   0.00000   0.00000  \n",
       "2017-04-09    0.000   0.00000   0.00000  \n",
       "2017-04-16    0.000   0.00000   0.00000  \n",
       "2017-04-23    0.000   0.00000   0.00000  \n",
       "2017-04-30    0.000   0.00000   0.00000  \n",
       "2017-05-07   60.276  56.21046  60.12984  \n",
       "\n",
       "[6 rows x 28 columns]"
      ]
     },
     "execution_count": 33,
     "metadata": {},
     "output_type": "execute_result"
    }
   ],
   "source": [
    "brent_data_w_c.head(6)"
   ]
  },
  {
   "cell_type": "code",
   "execution_count": 34,
   "metadata": {},
   "outputs": [],
   "source": [
    "brent_data_w_c.drop(brent_data_w_c.loc[:'2017-04-30'].index, axis=0, inplace=True)"
   ]
  },
  {
   "cell_type": "code",
   "execution_count": 35,
   "metadata": {},
   "outputs": [
    {
     "data": {
      "text/html": [
       "<div>\n",
       "<style scoped>\n",
       "    .dataframe tbody tr th:only-of-type {\n",
       "        vertical-align: middle;\n",
       "    }\n",
       "\n",
       "    .dataframe tbody tr th {\n",
       "        vertical-align: top;\n",
       "    }\n",
       "\n",
       "    .dataframe thead th {\n",
       "        text-align: right;\n",
       "    }\n",
       "</style>\n",
       "<table border=\"1\" class=\"dataframe\">\n",
       "  <thead>\n",
       "    <tr style=\"text-align: right;\">\n",
       "      <th></th>\n",
       "      <th>Значение</th>\n",
       "      <th>year</th>\n",
       "      <th>month</th>\n",
       "      <th>dayofmonth</th>\n",
       "      <th>quarter</th>\n",
       "      <th>dayofyear</th>\n",
       "      <th>weekofyear</th>\n",
       "      <th>dayofweek</th>\n",
       "      <th>is_holiday</th>\n",
       "      <th>is_prev_holiday</th>\n",
       "      <th>...</th>\n",
       "      <th>doll_dt</th>\n",
       "      <th>euro_dt</th>\n",
       "      <th>doll</th>\n",
       "      <th>euro</th>\n",
       "      <th>doll_t4</th>\n",
       "      <th>euro_t4</th>\n",
       "      <th>doll_t3</th>\n",
       "      <th>euro_t3</th>\n",
       "      <th>doll_t2</th>\n",
       "      <th>euro_t2</th>\n",
       "    </tr>\n",
       "    <tr>\n",
       "      <th>Дата</th>\n",
       "      <th></th>\n",
       "      <th></th>\n",
       "      <th></th>\n",
       "      <th></th>\n",
       "      <th></th>\n",
       "      <th></th>\n",
       "      <th></th>\n",
       "      <th></th>\n",
       "      <th></th>\n",
       "      <th></th>\n",
       "      <th></th>\n",
       "      <th></th>\n",
       "      <th></th>\n",
       "      <th></th>\n",
       "      <th></th>\n",
       "      <th></th>\n",
       "      <th></th>\n",
       "      <th></th>\n",
       "      <th></th>\n",
       "      <th></th>\n",
       "      <th></th>\n",
       "    </tr>\n",
       "  </thead>\n",
       "  <tbody>\n",
       "    <tr>\n",
       "      <th>2017-05-07</th>\n",
       "      <td>50.080000</td>\n",
       "      <td>2017.0</td>\n",
       "      <td>5.0</td>\n",
       "      <td>3.666667</td>\n",
       "      <td>2.0</td>\n",
       "      <td>123.666667</td>\n",
       "      <td>18.0</td>\n",
       "      <td>2.666667</td>\n",
       "      <td>0.000000</td>\n",
       "      <td>0.000000</td>\n",
       "      <td>...</td>\n",
       "      <td>1.100065</td>\n",
       "      <td>1.389895</td>\n",
       "      <td>57.538525</td>\n",
       "      <td>62.860875</td>\n",
       "      <td>56.389180</td>\n",
       "      <td>60.096840</td>\n",
       "      <td>56.799360</td>\n",
       "      <td>60.276000</td>\n",
       "      <td>56.210460</td>\n",
       "      <td>60.129840</td>\n",
       "    </tr>\n",
       "    <tr>\n",
       "      <th>2017-05-14</th>\n",
       "      <td>50.193333</td>\n",
       "      <td>2017.0</td>\n",
       "      <td>5.0</td>\n",
       "      <td>10.666667</td>\n",
       "      <td>2.0</td>\n",
       "      <td>130.666667</td>\n",
       "      <td>19.0</td>\n",
       "      <td>2.666667</td>\n",
       "      <td>0.000000</td>\n",
       "      <td>0.000000</td>\n",
       "      <td>...</td>\n",
       "      <td>-0.084358</td>\n",
       "      <td>-0.356075</td>\n",
       "      <td>57.454167</td>\n",
       "      <td>62.504800</td>\n",
       "      <td>56.799360</td>\n",
       "      <td>60.276000</td>\n",
       "      <td>56.210460</td>\n",
       "      <td>60.129840</td>\n",
       "      <td>56.438460</td>\n",
       "      <td>61.470980</td>\n",
       "    </tr>\n",
       "    <tr>\n",
       "      <th>2017-05-21</th>\n",
       "      <td>52.571667</td>\n",
       "      <td>2017.0</td>\n",
       "      <td>5.0</td>\n",
       "      <td>17.666667</td>\n",
       "      <td>2.0</td>\n",
       "      <td>137.666667</td>\n",
       "      <td>20.0</td>\n",
       "      <td>2.666667</td>\n",
       "      <td>0.000000</td>\n",
       "      <td>0.000000</td>\n",
       "      <td>...</td>\n",
       "      <td>-0.623587</td>\n",
       "      <td>0.392100</td>\n",
       "      <td>56.830580</td>\n",
       "      <td>62.896900</td>\n",
       "      <td>56.210460</td>\n",
       "      <td>60.129840</td>\n",
       "      <td>56.438460</td>\n",
       "      <td>61.470980</td>\n",
       "      <td>57.538525</td>\n",
       "      <td>62.860875</td>\n",
       "    </tr>\n",
       "    <tr>\n",
       "      <th>2017-05-28</th>\n",
       "      <td>53.100000</td>\n",
       "      <td>2017.0</td>\n",
       "      <td>5.0</td>\n",
       "      <td>24.666667</td>\n",
       "      <td>2.0</td>\n",
       "      <td>144.666667</td>\n",
       "      <td>21.0</td>\n",
       "      <td>2.666667</td>\n",
       "      <td>0.000000</td>\n",
       "      <td>0.166667</td>\n",
       "      <td>...</td>\n",
       "      <td>-0.399700</td>\n",
       "      <td>0.381300</td>\n",
       "      <td>56.430880</td>\n",
       "      <td>63.278200</td>\n",
       "      <td>56.438460</td>\n",
       "      <td>61.470980</td>\n",
       "      <td>57.538525</td>\n",
       "      <td>62.860875</td>\n",
       "      <td>57.454167</td>\n",
       "      <td>62.504800</td>\n",
       "    </tr>\n",
       "    <tr>\n",
       "      <th>2017-06-04</th>\n",
       "      <td>51.005000</td>\n",
       "      <td>2017.0</td>\n",
       "      <td>5.5</td>\n",
       "      <td>16.166667</td>\n",
       "      <td>2.0</td>\n",
       "      <td>151.666667</td>\n",
       "      <td>22.0</td>\n",
       "      <td>2.666667</td>\n",
       "      <td>0.166667</td>\n",
       "      <td>0.000000</td>\n",
       "      <td>...</td>\n",
       "      <td>0.197100</td>\n",
       "      <td>0.095340</td>\n",
       "      <td>56.627980</td>\n",
       "      <td>63.373540</td>\n",
       "      <td>57.538525</td>\n",
       "      <td>62.860875</td>\n",
       "      <td>57.454167</td>\n",
       "      <td>62.504800</td>\n",
       "      <td>56.830580</td>\n",
       "      <td>62.896900</td>\n",
       "    </tr>\n",
       "    <tr>\n",
       "      <th>2017-06-11</th>\n",
       "      <td>48.691667</td>\n",
       "      <td>2017.0</td>\n",
       "      <td>6.0</td>\n",
       "      <td>7.666667</td>\n",
       "      <td>2.0</td>\n",
       "      <td>158.666667</td>\n",
       "      <td>23.0</td>\n",
       "      <td>2.666667</td>\n",
       "      <td>0.000000</td>\n",
       "      <td>0.000000</td>\n",
       "      <td>...</td>\n",
       "      <td>0.145100</td>\n",
       "      <td>0.475380</td>\n",
       "      <td>56.773080</td>\n",
       "      <td>63.848920</td>\n",
       "      <td>57.454167</td>\n",
       "      <td>62.504800</td>\n",
       "      <td>56.830580</td>\n",
       "      <td>62.896900</td>\n",
       "      <td>56.430880</td>\n",
       "      <td>63.278200</td>\n",
       "    </tr>\n",
       "  </tbody>\n",
       "</table>\n",
       "<p>6 rows × 28 columns</p>\n",
       "</div>"
      ],
      "text/plain": [
       "             Значение    year  month  dayofmonth  quarter   dayofyear  \\\n",
       "Дата                                                                    \n",
       "2017-05-07  50.080000  2017.0    5.0    3.666667      2.0  123.666667   \n",
       "2017-05-14  50.193333  2017.0    5.0   10.666667      2.0  130.666667   \n",
       "2017-05-21  52.571667  2017.0    5.0   17.666667      2.0  137.666667   \n",
       "2017-05-28  53.100000  2017.0    5.0   24.666667      2.0  144.666667   \n",
       "2017-06-04  51.005000  2017.0    5.5   16.166667      2.0  151.666667   \n",
       "2017-06-11  48.691667  2017.0    6.0    7.666667      2.0  158.666667   \n",
       "\n",
       "            weekofyear  dayofweek  is_holiday  is_prev_holiday  ...   doll_dt  \\\n",
       "Дата                                                            ...             \n",
       "2017-05-07        18.0   2.666667    0.000000         0.000000  ...  1.100065   \n",
       "2017-05-14        19.0   2.666667    0.000000         0.000000  ... -0.084358   \n",
       "2017-05-21        20.0   2.666667    0.000000         0.000000  ... -0.623587   \n",
       "2017-05-28        21.0   2.666667    0.000000         0.166667  ... -0.399700   \n",
       "2017-06-04        22.0   2.666667    0.166667         0.000000  ...  0.197100   \n",
       "2017-06-11        23.0   2.666667    0.000000         0.000000  ...  0.145100   \n",
       "\n",
       "             euro_dt       doll       euro    doll_t4    euro_t4    doll_t3  \\\n",
       "Дата                                                                          \n",
       "2017-05-07  1.389895  57.538525  62.860875  56.389180  60.096840  56.799360   \n",
       "2017-05-14 -0.356075  57.454167  62.504800  56.799360  60.276000  56.210460   \n",
       "2017-05-21  0.392100  56.830580  62.896900  56.210460  60.129840  56.438460   \n",
       "2017-05-28  0.381300  56.430880  63.278200  56.438460  61.470980  57.538525   \n",
       "2017-06-04  0.095340  56.627980  63.373540  57.538525  62.860875  57.454167   \n",
       "2017-06-11  0.475380  56.773080  63.848920  57.454167  62.504800  56.830580   \n",
       "\n",
       "              euro_t3    doll_t2    euro_t2  \n",
       "Дата                                         \n",
       "2017-05-07  60.276000  56.210460  60.129840  \n",
       "2017-05-14  60.129840  56.438460  61.470980  \n",
       "2017-05-21  61.470980  57.538525  62.860875  \n",
       "2017-05-28  62.860875  57.454167  62.504800  \n",
       "2017-06-04  62.504800  56.830580  62.896900  \n",
       "2017-06-11  62.896900  56.430880  63.278200  \n",
       "\n",
       "[6 rows x 28 columns]"
      ]
     },
     "execution_count": 35,
     "metadata": {},
     "output_type": "execute_result"
    }
   ],
   "source": [
    "brent_data_w_c.head(6)"
   ]
  },
  {
   "cell_type": "code",
   "execution_count": 36,
   "metadata": {},
   "outputs": [
    {
     "name": "stdout",
     "output_type": "stream",
     "text": [
      "<class 'pandas.core.frame.DataFrame'>\n",
      "DatetimeIndex: 120 entries, 2017-05-07 to 2019-09-01\n",
      "Data columns (total 28 columns):\n",
      " #   Column           Non-Null Count  Dtype  \n",
      "---  ------           --------------  -----  \n",
      " 0   Значение         120 non-null    float64\n",
      " 1   year             120 non-null    float64\n",
      " 2   month            120 non-null    float64\n",
      " 3   dayofmonth       120 non-null    float64\n",
      " 4   quarter          120 non-null    float64\n",
      " 5   dayofyear        120 non-null    float64\n",
      " 6   weekofyear       120 non-null    float64\n",
      " 7   dayofweek        120 non-null    float64\n",
      " 8   is_holiday       120 non-null    float64\n",
      " 9   is_prev_holiday  120 non-null    float64\n",
      " 10  is_next_holiday  120 non-null    float64\n",
      " 11  t4               120 non-null    float64\n",
      " 12  t3               120 non-null    float64\n",
      " 13  t2               120 non-null    float64\n",
      " 14  d4               120 non-null    float64\n",
      " 15  d3               120 non-null    float64\n",
      " 16  d2               120 non-null    float64\n",
      " 17  brent_dt         120 non-null    float64\n",
      " 18  doll_dt          120 non-null    float64\n",
      " 19  euro_dt          120 non-null    float64\n",
      " 20  doll             120 non-null    float64\n",
      " 21  euro             120 non-null    float64\n",
      " 22  doll_t4          120 non-null    float64\n",
      " 23  euro_t4          120 non-null    float64\n",
      " 24  doll_t3          120 non-null    float64\n",
      " 25  euro_t3          120 non-null    float64\n",
      " 26  doll_t2          120 non-null    float64\n",
      " 27  euro_t2          120 non-null    float64\n",
      "dtypes: float64(28)\n",
      "memory usage: 27.2 KB\n"
     ]
    }
   ],
   "source": [
    "brent_data_w_c.info()"
   ]
  },
  {
   "cell_type": "markdown",
   "metadata": {},
   "source": [
    "## Задание № 4"
   ]
  },
  {
   "cell_type": "markdown",
   "metadata": {},
   "source": [
    "Постройте модель предсказания 1-й точки от текущей (h=1)."
   ]
  },
  {
   "cell_type": "code",
   "execution_count": 37,
   "metadata": {},
   "outputs": [],
   "source": [
    "#импорт модулей для формирования модели\n",
    "import statsmodels.api as sm\n",
    "from statsmodels.tsa.arima_model import ARIMA"
   ]
  },
  {
   "cell_type": "code",
   "execution_count": 38,
   "metadata": {},
   "outputs": [],
   "source": [
    "import itertools"
   ]
  },
  {
   "cell_type": "code",
   "execution_count": 39,
   "metadata": {},
   "outputs": [
    {
     "data": {
      "image/png": "[encoded data removed]",
      "text/plain": [
       "<Figure size 576x360 with 1 Axes>"
      ]
     },
     "metadata": {
      "needs_background": "light"
     },
     "output_type": "display_data"
    },
    {
     "data": {
      "image/png": "[encoded data removed]",
      "text/plain": [
       "<Figure size 576x360 with 1 Axes>"
      ]
     },
     "metadata": {
      "needs_background": "light"
     },
     "output_type": "display_data"
    }
   ],
   "source": [
    "with plt.rc_context():\n",
    "    plt.rc(\"figure\", figsize=(8, 5))\n",
    "    sm.graphics.tsa.plot_acf(brent_data_w_c['Значение'].values, lags=20)\n",
    "    sm.graphics.tsa.plot_pacf(brent_data_w_c['Значение'].values, lags=20)\n",
    "    plt.show()"
   ]
  },
  {
   "cell_type": "markdown",
   "metadata": {},
   "source": [
    "__Цикличности нет. Есть большая зависимость от предыдущего (дифференциальная составляющая)__"
   ]
  },
  {
   "cell_type": "markdown",
   "metadata": {},
   "source": [
    "### Пробуем ARIMA"
   ]
  },
  {
   "cell_type": "markdown",
   "metadata": {},
   "source": [
    "__p = 1, q = 9__"
   ]
  },
  {
   "cell_type": "code",
   "execution_count": 40,
   "metadata": {},
   "outputs": [
    {
     "data": {
      "image/png": "[encoded data removed]",
      "text/plain": [
       "<Figure size 432x288 with 1 Axes>"
      ]
     },
     "metadata": {
      "needs_background": "light"
     },
     "output_type": "display_data"
    }
   ],
   "source": [
    "N = 12\n",
    "\n",
    "# строим модель\n",
    "model = ARIMA(brent_data_w_c['Значение'].values[:-N], order=(1, 0, 9))\n",
    "model_fit = model.fit(disp=False)\n",
    "# делаем оценку старых значений\n",
    "y_p = model_fit.predict(len(brent_data_w_c['Значение'].values[:-N]), len(brent_data_w_c['Значение'].values[:-N]), typ='levels')\n",
    "y_f = model_fit.forecast(2*N)\n",
    "plt.plot(brent_data_w_c['Значение'].values[-10-N:],'r',label ='true')\n",
    "plt.plot(y_p,'*b',label ='model')\n",
    "plt.plot(np.arange(2*N)+N,y_f[0],'g',label ='predict')\n",
    "plt.plot(np.arange(2*N)+N,y_f[2][:,1],'--g', label = 'граница')\n",
    "plt.plot(np.arange(2*N)+N,y_f[2][:,0],'--g')\n",
    "plt.xlabel('x')\n",
    "plt.ylabel('data_model')\n",
    "plt.title('Предсказание последних N точек ряда  и следующих N точек ряда')\n",
    "plt.legend()\n",
    "plt.show()"
   ]
  },
  {
   "cell_type": "code",
   "execution_count": 41,
   "metadata": {},
   "outputs": [],
   "source": [
    "# Определим d и q в диапазоне 0-3\n",
    "d = p = range(0, 3)\n",
    "q = range(7, 10)\n",
    "# зададим сетку p, d, q\n",
    "pdq = list(itertools.product(p, d, q))"
   ]
  },
  {
   "cell_type": "code",
   "execution_count": 42,
   "metadata": {},
   "outputs": [
    {
     "name": "stdout",
     "output_type": "stream",
     "text": [
      "ARIMA(0, 0, 7) - AIC:491.55315761716093\n",
      "ARIMA(0, 0, 8) - AIC:491.50008919617215\n",
      "ARIMA(0, 0, 9) - AIC:485.89088926785996\n",
      "ARIMA(0, 1, 7) - AIC:467.9189590658892\n",
      "ARIMA(0, 1, 8) - AIC:464.65199482359793\n",
      "ARIMA(0, 1, 9) - AIC:464.64410666147995\n",
      "ARIMA(0, 2, 7) - AIC:472.90908335748907\n",
      "ARIMA(0, 2, 8) - AIC:470.587382085847\n",
      "ARIMA(0, 2, 9) - AIC:470.9879647701521\n",
      "ARIMA(1, 0, 7) - AIC:470.230179210406\n",
      "ARIMA(1, 0, 8) - AIC:469.47834227516785\n",
      "ARIMA(1, 0, 9) - AIC:466.6583125571749\n",
      "ARIMA(1, 1, 7) - AIC:466.55266688655394\n",
      "ARIMA(1, 1, 8) - AIC:466.08999392759665\n",
      "ARIMA(1, 1, 9) - AIC:465.150652625514\n",
      "ARIMA(1, 2, 7) - AIC:473.8781399897575\n",
      "ARIMA(1, 2, 8) - AIC:471.4850094196651\n",
      "ARIMA(1, 2, 9) - AIC:472.97662308921014\n",
      "ARIMA(2, 0, 7) - AIC:472.2063738295652\n",
      "ARIMA(2, 0, 8) - AIC:470.4278490402655\n",
      "ARIMA(2, 0, 9) - AIC:468.7820510726476\n",
      "ARIMA(2, 1, 7) - AIC:469.65804186742423\n",
      "ARIMA(2, 1, 8) - AIC:469.868924331211\n",
      "ARIMA(2, 1, 9) - AIC:467.00892619122703\n",
      "ARIMA(2, 2, 7) - AIC:473.80827732194257\n",
      "ARIMA(2, 2, 8) - AIC:471.4102214765573\n",
      "ARIMA(2, 2, 9) - AIC:470.9522273948319\n"
     ]
    }
   ],
   "source": [
    "warnings.filterwarnings(\"ignore\") # отключает предупреждения\n",
    "for param in pdq:\n",
    "    try:\n",
    "        mod_b = sm.tsa.statespace.SARIMAX(brent_data_w_c['Значение'].values,\n",
    "                                          order = param,\n",
    "                                          seasonal_order = [0, 0, 0, 0],\n",
    "                                          trend = 'ct',\n",
    "                                          enforce_stationarity = False,\n",
    "                                          enforce_invertibility = False)\n",
    "        results = mod_b.fit()\n",
    "        print('ARIMA{} - AIC:{}'.format(param, results.aic))\n",
    "    except:\n",
    "        continue"
   ]
  },
  {
   "cell_type": "markdown",
   "metadata": {},
   "source": [
    "Лучшие результаты на недельных данных параметры модели ARIMA(0, 1, 9) - AIC:464.64410666147995"
   ]
  },
  {
   "cell_type": "code",
   "execution_count": 43,
   "metadata": {},
   "outputs": [
    {
     "name": "stdout",
     "output_type": "stream",
     "text": [
      "AIC:{} 411.3612393406677\n"
     ]
    }
   ],
   "source": [
    "warnings.filterwarnings(\"ignore\") # отключает предупреждения\n",
    "N = 12  # число точек для теста\n",
    "nforecast = N + 30\n",
    "\n",
    "mod_w = sm.tsa.statespace.SARIMAX(brent_data_w_c['Значение'].values[0:-N],order=[0,1,9],\n",
    "                                seasonal_order=[0,0,0,0],\n",
    "                                enforce_stationarity=False,\n",
    "                                enforce_invertibility=False)\n",
    "results_opt_w = mod_w.fit()\n",
    "print('AIC:{}',results_opt_w.aic)"
   ]
  },
  {
   "cell_type": "code",
   "execution_count": 44,
   "metadata": {},
   "outputs": [
    {
     "name": "stdout",
     "output_type": "stream",
     "text": [
      "                               SARIMAX Results                                \n",
      "==============================================================================\n",
      "Dep. Variable:                      y   No. Observations:                  108\n",
      "Model:               SARIMAX(0, 1, 9)   Log Likelihood                -195.681\n",
      "Date:                Fri, 19 Jun 2020   AIC                            411.361\n",
      "Time:                        14:04:22   BIC                            437.108\n",
      "Sample:                             0   HQIC                           421.772\n",
      "                                - 108                                         \n",
      "Covariance Type:                  opg                                         \n",
      "============================================================================== \n",
      " ==============================================================================\n",
      "                 coef    std err          z      P>|z|      [0.025      0.975]\n",
      "------------------------------------------------------------------------------\n",
      "ma.L1          0.4211      0.133      3.170      0.002       0.161       0.681\n",
      "ma.L2          0.0230      0.111      0.208      0.835      -0.194       0.240\n",
      "ma.L3          0.1751      0.133      1.313      0.189      -0.086       0.436\n",
      "ma.L4          0.3338      0.103      3.230      0.001       0.131       0.536\n",
      "ma.L5          0.2424      0.142      1.712      0.087      -0.035       0.520\n",
      "ma.L6          0.0912      0.120      0.758      0.448      -0.144       0.327\n",
      "ma.L7         -0.0304      0.137     -0.222      0.824      -0.299       0.238\n",
      "ma.L8          0.1116      0.111      1.003      0.316      -0.106       0.330\n",
      "ma.L9          0.1647      0.131      1.254      0.210      -0.093       0.422\n",
      "sigma2         3.2926      0.498      6.614      0.000       2.317       4.268\n",
      "==============================================================================\n"
     ]
    }
   ],
   "source": [
    "print(results_opt_w.summary().tables[0], \"\\n\", results_opt_w.summary().tables[1])"
   ]
  },
  {
   "cell_type": "code",
   "execution_count": 45,
   "metadata": {},
   "outputs": [
    {
     "data": {
      "image/png": "[encoded data removed]",
      "text/plain": [
       "<Figure size 432x288 with 1 Axes>"
      ]
     },
     "metadata": {
      "needs_background": "light"
     },
     "output_type": "display_data"
    },
    {
     "data": {
      "image/png": "[encoded data removed]",
      "text/plain": [
       "<Figure size 432x288 with 1 Axes>"
      ]
     },
     "metadata": {
      "needs_background": "light"
     },
     "output_type": "display_data"
    }
   ],
   "source": [
    "sm.graphics.tsa.plot_acf(results_opt_w.resid, lags=9)\n",
    "sm.graphics.tsa.plot_pacf(results_opt_w.resid, lags=9)\n",
    "plt.show()"
   ]
  },
  {
   "cell_type": "code",
   "execution_count": 46,
   "metadata": {},
   "outputs": [
    {
     "data": {
      "image/png": "[encoded data removed]",
      "text/plain": [
       "<Figure size 1080x864 with 4 Axes>"
      ]
     },
     "metadata": {
      "needs_background": "light"
     },
     "output_type": "display_data"
    }
   ],
   "source": [
    "results_opt_w.plot_diagnostics(figsize=(15, 12))\n",
    "plt.show()"
   ]
  },
  {
   "cell_type": "markdown",
   "metadata": {},
   "source": [
    "__Параметры модели выглядят неплохо :)__"
   ]
  },
  {
   "cell_type": "markdown",
   "metadata": {},
   "source": [
    "### Пробуем градиентный бустинг"
   ]
  },
  {
   "cell_type": "markdown",
   "metadata": {},
   "source": [
    "Горизонт прогнозирования h = 1"
   ]
  },
  {
   "cell_type": "code",
   "execution_count": 47,
   "metadata": {},
   "outputs": [],
   "source": [
    "from sklearn.preprocessing import StandardScaler"
   ]
  },
  {
   "cell_type": "code",
   "execution_count": 48,
   "metadata": {},
   "outputs": [
    {
     "data": {
      "text/plain": [
       "(119, 1)"
      ]
     },
     "execution_count": 48,
     "metadata": {},
     "output_type": "execute_result"
    }
   ],
   "source": [
    "scl_target=StandardScaler() \n",
    "\n",
    "h=1\n",
    "target = brent_data_w_c[\"Значение\"].values[h:].reshape((brent_data_w_c.shape[0]-h,1))\n",
    "y = scl_target.fit_transform(target)\n",
    "y.shape"
   ]
  },
  {
   "cell_type": "code",
   "execution_count": 49,
   "metadata": {},
   "outputs": [
    {
     "data": {
      "text/plain": [
       "(119, 28)"
      ]
     },
     "execution_count": 49,
     "metadata": {},
     "output_type": "execute_result"
    }
   ],
   "source": [
    "scl_x=StandardScaler() \n",
    "\n",
    "X = brent_data_w_c.iloc[:-h,:].values\n",
    "X = scl_x.fit_transform(X.astype('float64'))\n",
    "X.shape"
   ]
  },
  {
   "cell_type": "code",
   "execution_count": 50,
   "metadata": {},
   "outputs": [
    {
     "name": "stdout",
     "output_type": "stream",
     "text": [
      "F-test=2336.12,  I=0\n",
      "F-test=24.96,  I=1\n",
      "F-test=1.32,  I=2\n",
      "F-test=0.03,  I=3\n",
      "F-test=0.83,  I=4\n",
      "F-test=1.29,  I=5\n",
      "F-test=1.22,  I=6\n",
      "F-test=0.63,  I=7\n",
      "F-test=0.13,  I=8\n",
      "F-test=0.05,  I=9\n",
      "F-test=0.07,  I=10\n",
      "F-test=225.92,  I=11\n",
      "F-test=327.22,  I=12\n",
      "F-test=504.29,  I=13\n",
      "F-test=2.91,  I=14\n",
      "F-test=2.91,  I=15\n",
      "F-test=2.91,  I=16\n",
      "F-test=2.58,  I=17\n",
      "F-test=0.08,  I=18\n",
      "F-test=2.66,  I=19\n",
      "F-test=26.49,  I=20\n",
      "F-test=88.89,  I=21\n",
      "F-test=22.88,  I=22\n",
      "F-test=100.85,  I=23\n",
      "F-test=25.06,  I=24\n",
      "F-test=103.37,  I=25\n",
      "F-test=26.58,  I=26\n",
      "F-test=101.57,  I=27\n"
     ]
    }
   ],
   "source": [
    "from sklearn.feature_selection import SelectKBest, SelectPercentile\n",
    "from sklearn.feature_selection import SelectFromModel\n",
    "\n",
    "from sklearn.ensemble import GradientBoostingRegressor\n",
    "from sklearn.linear_model import LinearRegression\n",
    "\n",
    "from sklearn.feature_selection import f_regression, mutual_info_regression\n",
    "\n",
    "f_test, _ = f_regression(X, y.ravel())\n",
    "\n",
    "for i in range(X.shape[1]):\n",
    "    print(\"F-test={:.2f},  I={}\".format(f_test[i],i))"
   ]
  },
  {
   "cell_type": "code",
   "execution_count": 51,
   "metadata": {},
   "outputs": [
    {
     "data": {
      "text/plain": [
       "(119, 8)"
      ]
     },
     "execution_count": 51,
     "metadata": {},
     "output_type": "execute_result"
    }
   ],
   "source": [
    "sfk =SelectKBest(f_regression, k=8)\n",
    "X_new1 =sfk.fit_transform(X, y.ravel())\n",
    "X_new1.shape"
   ]
  },
  {
   "cell_type": "code",
   "execution_count": 52,
   "metadata": {},
   "outputs": [
    {
     "data": {
      "text/plain": [
       "(119, 3)"
      ]
     },
     "execution_count": 52,
     "metadata": {},
     "output_type": "execute_result"
    }
   ],
   "source": [
    "sfp=SelectPercentile(f_regression, percentile=10)\n",
    "X_new2 = sfp.fit_transform(X, y.ravel())\n",
    "X_new2.shape"
   ]
  },
  {
   "cell_type": "code",
   "execution_count": 53,
   "metadata": {},
   "outputs": [
    {
     "data": {
      "text/plain": [
       "(119, 1)"
      ]
     },
     "execution_count": 53,
     "metadata": {},
     "output_type": "execute_result"
    }
   ],
   "source": [
    "gr_model = GradientBoostingRegressor(max_depth=5, random_state=10, n_estimators=100).fit(X, y.ravel())\n",
    "sfm = SelectFromModel(gr_model,  max_features = 8)\n",
    "\n",
    "sfm.fit(X, y.ravel())\n",
    "X_new3 = sfm.transform(X)\n",
    "X_new3.shape"
   ]
  },
  {
   "cell_type": "code",
   "execution_count": 54,
   "metadata": {},
   "outputs": [
    {
     "name": "stdout",
     "output_type": "stream",
     "text": [
      "Номера признаков k лучших признаков :  [ 0 11 12 13 21 23 25 27]\n",
      "Номера признаков лучших признаков по процентной форме:  [ 0 12 13]\n",
      "Номера признаков для выбора по модели :  [0]\n"
     ]
    }
   ],
   "source": [
    "list_param_k =np.where(sfk.get_support())[0]\n",
    "list_param_p =np.where(sfp.get_support())[0]\n",
    "list_param_m =np.where(sfm.get_support())[0]\n",
    "\n",
    "print('Номера признаков k лучших признаков : ',list_param_k)\n",
    "print('Номера признаков лучших признаков по процентной форме: ',list_param_p)\n",
    "print('Номера признаков для выбора по модели : ',list_param_m)"
   ]
  },
  {
   "cell_type": "code",
   "execution_count": 55,
   "metadata": {},
   "outputs": [],
   "source": [
    "X_new = X[:,[0, 1, 11, 12, 13, 20, 21, 22, 23, 24, 25, 26, 27]]"
   ]
  },
  {
   "cell_type": "code",
   "execution_count": 56,
   "metadata": {},
   "outputs": [],
   "source": [
    "def split_data( data, split_date ):\n",
    "    return data.iloc[:split_date,:].copy(), \\\n",
    "           data.iloc[split_date:,:].copy()"
   ]
  },
  {
   "cell_type": "code",
   "execution_count": 57,
   "metadata": {},
   "outputs": [
    {
     "data": {
      "image/png": "[encoded data removed]",
      "text/plain": [
       "<Figure size 1080x504 with 1 Axes>"
      ]
     },
     "metadata": {
      "needs_background": "light"
     },
     "output_type": "display_data"
    }
   ],
   "source": [
    "N_split = -12\n",
    "\n",
    "train, test = split_data( brent_data_w_c[:], N_split)\n",
    "\n",
    "plt.figure( figsize=( 15, 7 ))\n",
    "plt.xlabel('Время')\n",
    "plt.ylabel('Нефть')\n",
    "plt.plot(train.index,train.iloc[:,0], label='train data' )\n",
    "plt.plot(test.index,test.iloc[:,0], label='test data')\n",
    "plt.title( 'Тестовые и тренировочные данные' )\n",
    "plt.grid()\n",
    "plt.legend()\n",
    "plt.show()"
   ]
  },
  {
   "cell_type": "code",
   "execution_count": 58,
   "metadata": {},
   "outputs": [],
   "source": [
    "X_train = X_new[:N_split,:]\n",
    "y_train = y[:N_split,0]\n",
    "X_test = X_new[N_split:,:]\n",
    "y_test = y[N_split:,0]"
   ]
  },
  {
   "cell_type": "code",
   "execution_count": 59,
   "metadata": {},
   "outputs": [],
   "source": [
    "model_g = GradientBoostingRegressor(max_depth=5, random_state=10, n_estimators=1000)"
   ]
  },
  {
   "cell_type": "code",
   "execution_count": 60,
   "metadata": {},
   "outputs": [
    {
     "data": {
      "text/plain": [
       "GradientBoostingRegressor(alpha=0.9, ccp_alpha=0.0, criterion='friedman_mse',\n",
       "                          init=None, learning_rate=0.1, loss='ls', max_depth=5,\n",
       "                          max_features=None, max_leaf_nodes=None,\n",
       "                          min_impurity_decrease=0.0, min_impurity_split=None,\n",
       "                          min_samples_leaf=1, min_samples_split=2,\n",
       "                          min_weight_fraction_leaf=0.0, n_estimators=1000,\n",
       "                          n_iter_no_change=None, presort='deprecated',\n",
       "                          random_state=10, subsample=1.0, tol=0.0001,\n",
       "                          validation_fraction=0.1, verbose=0, warm_start=False)"
      ]
     },
     "execution_count": 60,
     "metadata": {},
     "output_type": "execute_result"
    }
   ],
   "source": [
    "model_g.fit( X_train, y_train ) "
   ]
  },
  {
   "cell_type": "code",
   "execution_count": 61,
   "metadata": {},
   "outputs": [],
   "source": [
    "y_pred_g = model_g.predict(X_train)\n",
    "\n",
    "y_test_pred_g = model_g.predict(X_test)"
   ]
  },
  {
   "cell_type": "code",
   "execution_count": 62,
   "metadata": {},
   "outputs": [
    {
     "data": {
      "image/png": "[encoded data removed]",
      "text/plain": [
       "<Figure size 1080x504 with 1 Axes>"
      ]
     },
     "metadata": {
      "needs_background": "light"
     },
     "output_type": "display_data"
    }
   ],
   "source": [
    "plt.figure( figsize=( 15, 7 ))\n",
    "\n",
    "plt.xlabel('Время')\n",
    "plt.ylabel('BRENT')\n",
    "plt.plot(y_test_pred_g,'or', label='predict GB data' )\n",
    "plt.plot(y_test_pred_g,'--r' )\n",
    "plt.plot(y_test, 'og', label='test data')\n",
    "plt.plot(y_test, '-g')\n",
    "plt.grid()\n",
    "plt.legend()\n",
    "plt.show()"
   ]
  },
  {
   "cell_type": "code",
   "execution_count": 63,
   "metadata": {},
   "outputs": [],
   "source": [
    "from sklearn.metrics import mean_squared_error\n",
    "from sklearn.metrics import mean_absolute_error\n",
    "from sklearn.metrics import r2_score"
   ]
  },
  {
   "cell_type": "code",
   "execution_count": 64,
   "metadata": {},
   "outputs": [
    {
     "name": "stdout",
     "output_type": "stream",
     "text": [
      "ошибка mse :   0.049117855634720264 \n",
      "ошибка mae  :   0.15849492074413363 \n",
      "оценка R2 :   0.3433523943472835\n"
     ]
    }
   ],
   "source": [
    "er_s = mean_squared_error(y_true=y_test, y_pred=y_test_pred_g) \n",
    "er_a = mean_absolute_error(y_true=y_test, y_pred=y_test_pred_g) \n",
    "er_r2 = r2_score(y_true=y_test, y_pred=y_test_pred_g)\n",
    "\n",
    "print('ошибка mse :  ', er_s,'\\nошибка mae  :  ', er_a,'\\nоценка R2 :  ', er_r2)"
   ]
  },
  {
   "cell_type": "code",
   "execution_count": 65,
   "metadata": {},
   "outputs": [],
   "source": [
    "def mean_absolute_percentage_error(y_true, y_pred): \n",
    "    y_true, y_pred = np.array(y_true), np.array(y_pred)\n",
    "    return np.mean(np.abs((y_true - y_pred) / y_true)) * 100"
   ]
  },
  {
   "cell_type": "code",
   "execution_count": 66,
   "metadata": {},
   "outputs": [
    {
     "name": "stdout",
     "output_type": "stream",
     "text": [
      "ошибка градиентного бустинга MAPE :   2.349004408724727 %\n"
     ]
    }
   ],
   "source": [
    "er_g = mean_absolute_percentage_error(y_true=scl_target.inverse_transform( y_test),y_pred = scl_target.inverse_transform( y_test_pred_g))\n",
    "\n",
    "print('ошибка градиентного бустинга MAPE :  ', er_g,'%')"
   ]
  },
  {
   "cell_type": "code",
   "execution_count": 67,
   "metadata": {},
   "outputs": [
    {
     "name": "stdout",
     "output_type": "stream",
     "text": [
      "Model with rank: 1\n",
      "Mean validation score: -0.420 (std: 0.188)\n",
      "Parameters: {'n_estimators': 1100, 'max_depth': 3}\n",
      "\n",
      "Model with rank: 2\n",
      "Mean validation score: -0.427 (std: 0.199)\n",
      "Parameters: {'n_estimators': 900, 'max_depth': 3}\n",
      "\n",
      "Model with rank: 3\n",
      "Mean validation score: -0.457 (std: 0.161)\n",
      "Parameters: {'n_estimators': 500, 'max_depth': 5}\n",
      "\n"
     ]
    }
   ],
   "source": [
    "from sklearn.model_selection import RandomizedSearchCV\n",
    "\n",
    "def report(results, n_top=3):\n",
    "    for i in range(1, n_top + 1):\n",
    "        candidates = np.flatnonzero(results['rank_test_score'] == i)\n",
    "        for candidate in candidates:\n",
    "            print(\"Model with rank: {0}\".format(i))\n",
    "            print(\"Mean validation score: {0:.3f} (std: {1:.3f})\".format(\n",
    "                  results['mean_test_score'][candidate],\n",
    "                  results['std_test_score'][candidate]))\n",
    "            print(\"Parameters: {0}\".format(results['params'][candidate]))\n",
    "            print(\"\")\n",
    "\n",
    "param_dist = {\"max_depth\": [3, 5, 7, 9], \n",
    "              \"n_estimators\":[500, 700, 900, 1100, 1300]}\n",
    "\n",
    "#  randomized search\n",
    "n_iter_search = 10\n",
    "\n",
    "model_gr =GradientBoostingRegressor()\n",
    "\n",
    "random_search = RandomizedSearchCV(model_gr, \n",
    "                                   scoring = 'neg_mean_absolute_error',\n",
    "                                   param_distributions=param_dist, \n",
    "                                   n_iter=n_iter_search, \n",
    "                                   cv=5, \n",
    "                                   iid=False, \n",
    "                                   random_state=10)\n",
    "\n",
    "random_search.fit(X_train, y_train)\n",
    "\n",
    "report(random_search.cv_results_)"
   ]
  },
  {
   "cell_type": "code",
   "execution_count": 68,
   "metadata": {},
   "outputs": [
    {
     "name": "stdout",
     "output_type": "stream",
     "text": [
      "{'n_estimators': 1100, 'max_depth': 3}\n"
     ]
    }
   ],
   "source": [
    "print(random_search.best_params_)"
   ]
  },
  {
   "cell_type": "code",
   "execution_count": 69,
   "metadata": {},
   "outputs": [
    {
     "name": "stdout",
     "output_type": "stream",
     "text": [
      "ошибка градиентного бустинга MAPE :   2.7380256184772978 %\n"
     ]
    }
   ],
   "source": [
    "model_g_best = GradientBoostingRegressor(max_depth = random_search.best_params_['max_depth'],  \n",
    "                                         n_estimators = random_search.best_params_['n_estimators'], \n",
    "                                         random_state = 10)\n",
    "model_g_best.fit( X_train, y_train ) \n",
    "y_test_pred_g = model_g_best.predict(X_test)\n",
    "\n",
    "er_g = mean_absolute_percentage_error(y_true=scl_target.inverse_transform( y_test),y_pred = scl_target.inverse_transform( y_test_pred_g))\n",
    "print('ошибка градиентного бустинга MAPE :  ', er_g,'%')"
   ]
  },
  {
   "cell_type": "code",
   "execution_count": 70,
   "metadata": {},
   "outputs": [
    {
     "name": "stdout",
     "output_type": "stream",
     "text": [
      "ошибка mse :   0.06446105269303941 \n",
      "ошибка mae  :   0.18806265848497797 \n",
      "оценка R2 :   0.13823200622754572\n"
     ]
    }
   ],
   "source": [
    "er_s = mean_squared_error(y_true=y_test, y_pred=y_test_pred_g) \n",
    "er_a = mean_absolute_error(y_true=y_test, y_pred=y_test_pred_g) \n",
    "er_r2 = r2_score(y_true=y_test, y_pred=y_test_pred_g)\n",
    "\n",
    "print('ошибка mse :  ', er_s,'\\nошибка mae  :  ', er_a,'\\nоценка R2 :  ', er_r2)"
   ]
  },
  {
   "cell_type": "code",
   "execution_count": 71,
   "metadata": {},
   "outputs": [
    {
     "data": {
      "image/png": "[encoded data removed]",
      "text/plain": [
       "<Figure size 432x288 with 1 Axes>"
      ]
     },
     "metadata": {
      "needs_background": "light"
     },
     "output_type": "display_data"
    }
   ],
   "source": [
    "lag=10\n",
    "p_cor=[np.corrcoef( y_test, y_test_pred_g)[1,0]]\n",
    "for i in range(lag):\n",
    "    c=np.corrcoef( y_test[:-(i+1)], y_test_pred_g[(i+1):])[1,0]\n",
    "    p_cor.append(c)    \n",
    "\n",
    "plt.plot(np.array(p_cor) )  \n",
    "plt.xlabel('лаг корреляции')\n",
    "plt.ylabel('cor_coeff')\n",
    "plt.title('корреляция с целью предсказаний с лагом просмотра')\n",
    "plt.show()"
   ]
  },
  {
   "cell_type": "markdown",
   "metadata": {},
   "source": [
    "## Задание № 5"
   ]
  },
  {
   "cell_type": "markdown",
   "metadata": {},
   "source": [
    "Сделайте вывод о поведении ошибки предсказания ряда в сравнении с прямым прогнозированием."
   ]
  },
  {
   "cell_type": "markdown",
   "metadata": {},
   "source": [
    "В ряде BRENT очень маленькая глубина корреляции (текущее значение сильно свзано только с несколькими предшествующими). Сглаживание и увеличение дискреты крайне негативно сказываются на качестве прогнозирования"
   ]
  },
  {
   "cell_type": "code",
   "execution_count": null,
   "metadata": {},
   "outputs": [],
   "source": []
  }
 ],
 "metadata": {
  "kernelspec": {
   "display_name": "Python 3",
   "language": "python",
   "name": "python3"
  },
  "language_info": {
   "codemirror_mode": {
    "name": "ipython",
    "version": 3
   },
   "file_extension": ".py",
   "mimetype": "text/x-python",
   "name": "python",
   "nbconvert_exporter": "python",
   "pygments_lexer": "ipython3",
   "version": "3.7.1"
  }
 },
 "nbformat": 4,
 "nbformat_minor": 4
}
