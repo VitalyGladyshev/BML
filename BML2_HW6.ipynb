{
 "cells": [
  {
   "cell_type": "markdown",
   "metadata": {},
   "source": [
    "# ДЗ 6 Гладышев В.В.\n",
    "\n",
    "Датасет дефолтов по кредитам"
   ]
  },
  {
   "cell_type": "code",
   "execution_count": 1,
   "metadata": {},
   "outputs": [],
   "source": [
    "import numpy as np\n",
    "import pandas as pd\n",
    "import matplotlib.pyplot as plt\n",
    "import seaborn as sns\n",
    "from sklearn.model_selection import train_test_split\n",
    "\n",
    "from sklearn.metrics import accuracy_score\n",
    "from sklearn.metrics import confusion_matrix\n",
    "from sklearn.metrics import precision_score\n",
    "from sklearn.metrics import recall_score\n",
    "from sklearn.metrics import roc_auc_score\n",
    "from sklearn.metrics import f1_score\n",
    "from sklearn.metrics import mean_absolute_error\n",
    "from sklearn.metrics import mean_squared_error\n",
    "from sklearn.metrics import r2_score\n",
    "from sklearn.metrics import roc_curve\n",
    "from sklearn.metrics import classification_report\n",
    "from sklearn.metrics import precision_recall_curve\n",
    "from sklearn.metrics import log_loss\n",
    "\n",
    "from scipy.stats import shapiro\n",
    "from scipy.stats import probplot\n",
    "from scipy.stats import ttest_ind, mannwhitneyu\n",
    "from scipy.stats import chi2_contingency\n",
    "from statsmodels.stats.weightstats import zconfint\n",
    "\n",
    "import xgboost as xgb\n",
    "\n",
    "from sklearn.model_selection import GridSearchCV"
   ]
  },
  {
   "cell_type": "markdown",
   "metadata": {},
   "source": [
    "## Загрузка и подготовка данных"
   ]
  },
  {
   "cell_type": "code",
   "execution_count": 2,
   "metadata": {},
   "outputs": [
    {
     "data": {
      "text/html": [
       "<div>\n",
       "<style scoped>\n",
       "    .dataframe tbody tr th:only-of-type {\n",
       "        vertical-align: middle;\n",
       "    }\n",
       "\n",
       "    .dataframe tbody tr th {\n",
       "        vertical-align: top;\n",
       "    }\n",
       "\n",
       "    .dataframe thead th {\n",
       "        text-align: right;\n",
       "    }\n",
       "</style>\n",
       "<table border=\"1\" class=\"dataframe\">\n",
       "  <thead>\n",
       "    <tr style=\"text-align: right;\">\n",
       "      <th></th>\n",
       "      <th>Home Ownership</th>\n",
       "      <th>Annual Income</th>\n",
       "      <th>Years in current job</th>\n",
       "      <th>Tax Liens</th>\n",
       "      <th>Number of Open Accounts</th>\n",
       "      <th>Years of Credit History</th>\n",
       "      <th>Maximum Open Credit</th>\n",
       "      <th>Number of Credit Problems</th>\n",
       "      <th>Months since last delinquent</th>\n",
       "      <th>Bankruptcies</th>\n",
       "      <th>Purpose</th>\n",
       "      <th>Term</th>\n",
       "      <th>Current Loan Amount</th>\n",
       "      <th>Current Credit Balance</th>\n",
       "      <th>Monthly Debt</th>\n",
       "      <th>Credit Score</th>\n",
       "      <th>Credit Default</th>\n",
       "    </tr>\n",
       "  </thead>\n",
       "  <tbody>\n",
       "    <tr>\n",
       "      <th>0</th>\n",
       "      <td>Own Home</td>\n",
       "      <td>482087.0</td>\n",
       "      <td>NaN</td>\n",
       "      <td>0.0</td>\n",
       "      <td>11.0</td>\n",
       "      <td>26.3</td>\n",
       "      <td>685960.0</td>\n",
       "      <td>1.0</td>\n",
       "      <td>NaN</td>\n",
       "      <td>1.0</td>\n",
       "      <td>debt consolidation</td>\n",
       "      <td>Short Term</td>\n",
       "      <td>99999999.0</td>\n",
       "      <td>47386.0</td>\n",
       "      <td>7914.0</td>\n",
       "      <td>749.0</td>\n",
       "      <td>0</td>\n",
       "    </tr>\n",
       "    <tr>\n",
       "      <th>1</th>\n",
       "      <td>Own Home</td>\n",
       "      <td>1025487.0</td>\n",
       "      <td>10+ years</td>\n",
       "      <td>0.0</td>\n",
       "      <td>15.0</td>\n",
       "      <td>15.3</td>\n",
       "      <td>1181730.0</td>\n",
       "      <td>0.0</td>\n",
       "      <td>NaN</td>\n",
       "      <td>0.0</td>\n",
       "      <td>debt consolidation</td>\n",
       "      <td>Long Term</td>\n",
       "      <td>264968.0</td>\n",
       "      <td>394972.0</td>\n",
       "      <td>18373.0</td>\n",
       "      <td>737.0</td>\n",
       "      <td>1</td>\n",
       "    </tr>\n",
       "    <tr>\n",
       "      <th>2</th>\n",
       "      <td>Home Mortgage</td>\n",
       "      <td>751412.0</td>\n",
       "      <td>8 years</td>\n",
       "      <td>0.0</td>\n",
       "      <td>11.0</td>\n",
       "      <td>35.0</td>\n",
       "      <td>1182434.0</td>\n",
       "      <td>0.0</td>\n",
       "      <td>NaN</td>\n",
       "      <td>0.0</td>\n",
       "      <td>debt consolidation</td>\n",
       "      <td>Short Term</td>\n",
       "      <td>99999999.0</td>\n",
       "      <td>308389.0</td>\n",
       "      <td>13651.0</td>\n",
       "      <td>742.0</td>\n",
       "      <td>0</td>\n",
       "    </tr>\n",
       "    <tr>\n",
       "      <th>3</th>\n",
       "      <td>Own Home</td>\n",
       "      <td>805068.0</td>\n",
       "      <td>6 years</td>\n",
       "      <td>0.0</td>\n",
       "      <td>8.0</td>\n",
       "      <td>22.5</td>\n",
       "      <td>147400.0</td>\n",
       "      <td>1.0</td>\n",
       "      <td>NaN</td>\n",
       "      <td>1.0</td>\n",
       "      <td>debt consolidation</td>\n",
       "      <td>Short Term</td>\n",
       "      <td>121396.0</td>\n",
       "      <td>95855.0</td>\n",
       "      <td>11338.0</td>\n",
       "      <td>694.0</td>\n",
       "      <td>0</td>\n",
       "    </tr>\n",
       "    <tr>\n",
       "      <th>4</th>\n",
       "      <td>Rent</td>\n",
       "      <td>776264.0</td>\n",
       "      <td>8 years</td>\n",
       "      <td>0.0</td>\n",
       "      <td>13.0</td>\n",
       "      <td>13.6</td>\n",
       "      <td>385836.0</td>\n",
       "      <td>1.0</td>\n",
       "      <td>NaN</td>\n",
       "      <td>0.0</td>\n",
       "      <td>debt consolidation</td>\n",
       "      <td>Short Term</td>\n",
       "      <td>125840.0</td>\n",
       "      <td>93309.0</td>\n",
       "      <td>7180.0</td>\n",
       "      <td>719.0</td>\n",
       "      <td>0</td>\n",
       "    </tr>\n",
       "  </tbody>\n",
       "</table>\n",
       "</div>"
      ],
      "text/plain": [
       "  Home Ownership  Annual Income Years in current job  Tax Liens  \\\n",
       "0       Own Home       482087.0                  NaN        0.0   \n",
       "1       Own Home      1025487.0            10+ years        0.0   \n",
       "2  Home Mortgage       751412.0              8 years        0.0   \n",
       "3       Own Home       805068.0              6 years        0.0   \n",
       "4           Rent       776264.0              8 years        0.0   \n",
       "\n",
       "   Number of Open Accounts  Years of Credit History  Maximum Open Credit  \\\n",
       "0                     11.0                     26.3             685960.0   \n",
       "1                     15.0                     15.3            1181730.0   \n",
       "2                     11.0                     35.0            1182434.0   \n",
       "3                      8.0                     22.5             147400.0   \n",
       "4                     13.0                     13.6             385836.0   \n",
       "\n",
       "   Number of Credit Problems  Months since last delinquent  Bankruptcies  \\\n",
       "0                        1.0                           NaN           1.0   \n",
       "1                        0.0                           NaN           0.0   \n",
       "2                        0.0                           NaN           0.0   \n",
       "3                        1.0                           NaN           1.0   \n",
       "4                        1.0                           NaN           0.0   \n",
       "\n",
       "              Purpose        Term  Current Loan Amount  \\\n",
       "0  debt consolidation  Short Term           99999999.0   \n",
       "1  debt consolidation   Long Term             264968.0   \n",
       "2  debt consolidation  Short Term           99999999.0   \n",
       "3  debt consolidation  Short Term             121396.0   \n",
       "4  debt consolidation  Short Term             125840.0   \n",
       "\n",
       "   Current Credit Balance  Monthly Debt  Credit Score  Credit Default  \n",
       "0                 47386.0        7914.0         749.0               0  \n",
       "1                394972.0       18373.0         737.0               1  \n",
       "2                308389.0       13651.0         742.0               0  \n",
       "3                 95855.0       11338.0         694.0               0  \n",
       "4                 93309.0        7180.0         719.0               0  "
      ]
     },
     "execution_count": 2,
     "metadata": {},
     "output_type": "execute_result"
    }
   ],
   "source": [
    "train = pd.read_csv(\"./data/pds_project_train.csv\")\n",
    "train.head()"
   ]
  },
  {
   "cell_type": "code",
   "execution_count": 3,
   "metadata": {},
   "outputs": [
    {
     "name": "stdout",
     "output_type": "stream",
     "text": [
      "<class 'pandas.core.frame.DataFrame'>\n",
      "RangeIndex: 7500 entries, 0 to 7499\n",
      "Data columns (total 17 columns):\n",
      " #   Column                        Non-Null Count  Dtype  \n",
      "---  ------                        --------------  -----  \n",
      " 0   Home Ownership                7500 non-null   object \n",
      " 1   Annual Income                 5943 non-null   float64\n",
      " 2   Years in current job          7129 non-null   object \n",
      " 3   Tax Liens                     7500 non-null   float64\n",
      " 4   Number of Open Accounts       7500 non-null   float64\n",
      " 5   Years of Credit History       7500 non-null   float64\n",
      " 6   Maximum Open Credit           7500 non-null   float64\n",
      " 7   Number of Credit Problems     7500 non-null   float64\n",
      " 8   Months since last delinquent  3419 non-null   float64\n",
      " 9   Bankruptcies                  7486 non-null   float64\n",
      " 10  Purpose                       7500 non-null   object \n",
      " 11  Term                          7500 non-null   object \n",
      " 12  Current Loan Amount           7500 non-null   float64\n",
      " 13  Current Credit Balance        7500 non-null   float64\n",
      " 14  Monthly Debt                  7500 non-null   float64\n",
      " 15  Credit Score                  5943 non-null   float64\n",
      " 16  Credit Default                7500 non-null   int64  \n",
      "dtypes: float64(12), int64(1), object(4)\n",
      "memory usage: 996.2+ KB\n"
     ]
    }
   ],
   "source": [
    "train.info()"
   ]
  },
  {
   "cell_type": "code",
   "execution_count": 4,
   "metadata": {},
   "outputs": [],
   "source": [
    "train['Id'] = np.arange(0, len(train))"
   ]
  },
  {
   "cell_type": "code",
   "execution_count": 5,
   "metadata": {},
   "outputs": [],
   "source": [
    "def print_categorical(data):\n",
    "    for cat_colname in data.columns:\n",
    "        if len(data[cat_colname].unique()) < 20:\n",
    "            print(str(cat_colname) + '\\n\\n' + str(data[cat_colname].unique()) + '\\n\\n')\n",
    "            print(data.groupby(cat_colname)[cat_colname].count())\n",
    "            print('*' * 100 + '\\n')"
   ]
  },
  {
   "cell_type": "code",
   "execution_count": 6,
   "metadata": {},
   "outputs": [
    {
     "name": "stdout",
     "output_type": "stream",
     "text": [
      "Home Ownership\n",
      "\n",
      "['Own Home' 'Home Mortgage' 'Rent' 'Have Mortgage']\n",
      "\n",
      "\n",
      "Home Ownership\n",
      "Have Mortgage      12\n",
      "Home Mortgage    3637\n",
      "Own Home          647\n",
      "Rent             3204\n",
      "Name: Home Ownership, dtype: int64\n",
      "****************************************************************************************************\n",
      "\n",
      "Years in current job\n",
      "\n",
      "[nan '10+ years' '8 years' '6 years' '7 years' '5 years' '1 year'\n",
      " '< 1 year' '4 years' '3 years' '2 years' '9 years']\n",
      "\n",
      "\n",
      "Years in current job\n",
      "1 year        504\n",
      "10+ years    2332\n",
      "2 years       705\n",
      "3 years       620\n",
      "4 years       469\n",
      "5 years       516\n",
      "6 years       426\n",
      "7 years       396\n",
      "8 years       339\n",
      "9 years       259\n",
      "< 1 year      563\n",
      "Name: Years in current job, dtype: int64\n",
      "****************************************************************************************************\n",
      "\n",
      "Tax Liens\n",
      "\n",
      "[0. 3. 1. 2. 4. 6. 5. 7.]\n",
      "\n",
      "\n",
      "Tax Liens\n",
      "0.0    7366\n",
      "1.0      83\n",
      "2.0      30\n",
      "3.0      10\n",
      "4.0       6\n",
      "5.0       2\n",
      "6.0       2\n",
      "7.0       1\n",
      "Name: Tax Liens, dtype: int64\n",
      "****************************************************************************************************\n",
      "\n",
      "Number of Credit Problems\n",
      "\n",
      "[1. 0. 3. 2. 6. 4. 5. 7.]\n",
      "\n",
      "\n",
      "Number of Credit Problems\n",
      "0.0    6469\n",
      "1.0     882\n",
      "2.0      93\n",
      "3.0      35\n",
      "4.0       9\n",
      "5.0       7\n",
      "6.0       4\n",
      "7.0       1\n",
      "Name: Number of Credit Problems, dtype: int64\n",
      "****************************************************************************************************\n",
      "\n",
      "Bankruptcies\n",
      "\n",
      "[ 1.  0.  3. nan  2.  4.]\n",
      "\n",
      "\n",
      "Bankruptcies\n",
      "0.0    6660\n",
      "1.0     786\n",
      "2.0      31\n",
      "3.0       7\n",
      "4.0       2\n",
      "Name: Bankruptcies, dtype: int64\n",
      "****************************************************************************************************\n",
      "\n",
      "Purpose\n",
      "\n",
      "['debt consolidation' 'other' 'home improvements' 'take a trip'\n",
      " 'buy a car' 'small business' 'business loan' 'wedding'\n",
      " 'educational expenses' 'buy house' 'medical bills' 'moving'\n",
      " 'major purchase' 'vacation' 'renewable energy']\n",
      "\n",
      "\n",
      "Purpose\n",
      "business loan            129\n",
      "buy a car                 96\n",
      "buy house                 34\n",
      "debt consolidation      5944\n",
      "educational expenses      10\n",
      "home improvements        412\n",
      "major purchase            40\n",
      "medical bills             71\n",
      "moving                    11\n",
      "other                    665\n",
      "renewable energy           2\n",
      "small business            26\n",
      "take a trip               37\n",
      "vacation                   8\n",
      "wedding                   15\n",
      "Name: Purpose, dtype: int64\n",
      "****************************************************************************************************\n",
      "\n",
      "Term\n",
      "\n",
      "['Short Term' 'Long Term']\n",
      "\n",
      "\n",
      "Term\n",
      "Long Term     1944\n",
      "Short Term    5556\n",
      "Name: Term, dtype: int64\n",
      "****************************************************************************************************\n",
      "\n",
      "Credit Default\n",
      "\n",
      "[0 1]\n",
      "\n",
      "\n",
      "Credit Default\n",
      "0    5387\n",
      "1    2113\n",
      "Name: Credit Default, dtype: int64\n",
      "****************************************************************************************************\n",
      "\n"
     ]
    }
   ],
   "source": [
    "print_categorical(train)"
   ]
  },
  {
   "cell_type": "code",
   "execution_count": 7,
   "metadata": {},
   "outputs": [],
   "source": [
    "map_Jb = {\n",
    "    '< 1 year': 0.5,\n",
    "    '1 year': 1,\n",
    "    '2 years': 2,\n",
    "    '3 years': 3,\n",
    "    '4 years': 4,\n",
    "    '5 years': 5,\n",
    "    '6 years': 6,\n",
    "    '7 years': 7,\n",
    "    '8 years': 8,\n",
    "    '9 years': 9,\n",
    "    '10+ years': 10\n",
    "}\n",
    "train[\"Years in current job\"] = train[\"Years in current job\"].map(map_Jb)\n",
    "\n",
    "map_HO = {\n",
    "    'Have Mortgage': 2,\n",
    "    'Home Mortgage': 2,\n",
    "    'Own Home': 3,\n",
    "    'Rent': 1\n",
    "}\n",
    "train[\"Home Ownership\"] = train[\"Home Ownership\"].map(map_HO)\n",
    "\n",
    "train[\"Years in current job\"] = train[\"Years in current job\"].fillna(0)\n",
    "\n",
    "train.loc[train[\"Term\"] == \"Long Term\", \"Term\"] = 1\n",
    "train.loc[train[\"Term\"] == \"Short Term\", \"Term\"] = 0\n",
    "\n",
    "train[\"Term\"] = train[\"Term\"].astype(np.int64)\n",
    "\n",
    "train.loc[(train['Bankruptcies'].isnull() & train['Months since last delinquent']), 'Bankruptcies'] = 1\n",
    "train.loc[(train['Bankruptcies'].isnull() & (train['Months since last delinquent'] == 0)), 'Bankruptcies'] = 0\n",
    "\n",
    "map_P = {\n",
    "    'business loan': 1,\n",
    "    'buy a car': 2,\n",
    "    'buy house': 3,\n",
    "    'debt consolidation': 4,\n",
    "    'educational expenses': 5,\n",
    "    'home improvements': 6,\n",
    "    'major purchase': 7,\n",
    "    'medical bills': 8,\n",
    "    'moving': 9,\n",
    "    'other': 10,\n",
    "    'renewable energy': 11,\n",
    "    'small business': 12,\n",
    "    'take a trip': 13,\n",
    "    'vacation': 14,\n",
    "    'wedding': 15\n",
    "}\n",
    "train[\"Purpose\"] = train[\"Purpose\"].map(map_P)"
   ]
  },
  {
   "cell_type": "code",
   "execution_count": 8,
   "metadata": {},
   "outputs": [],
   "source": [
    "tmp = train.loc[train['Months since last delinquent'] > 0].copy()\n",
    "\n",
    "tmp_lst = tmp.groupby(['Number of Credit Problems'],as_index=False) \\\n",
    "            .agg({'Months since last delinquent':'mean'})['Months since last delinquent'].tolist()\n",
    "\n",
    "for i in range(0, 8):\n",
    "    train.loc[(((train['Months since last delinquent'].isnull()) | \n",
    "                (train['Months since last delinquent'] == 0)) & \n",
    "               (train['Number of Credit Problems'] == i)), ['Months since last delinquent']] = tmp_lst[i]"
   ]
  },
  {
   "cell_type": "code",
   "execution_count": 9,
   "metadata": {},
   "outputs": [
    {
     "data": {
      "text/plain": [
       "2617    2651287.0\n",
       "Name: Maximum Open Credit, dtype: float64"
      ]
     },
     "execution_count": 9,
     "metadata": {},
     "output_type": "execute_result"
    }
   ],
   "source": [
    "train.loc[train['Id'] == 6472, 'Annual Income'] = 1014934\n",
    "train.loc[train['Id'] == 6472, 'Annual Income']\n",
    "\n",
    "train.loc[train['Id'] == 44, 'Maximum Open Credit'] = 3800528\n",
    "train.loc[train['Id'] == 44, 'Maximum Open Credit']\n",
    "\n",
    "train.loc[train['Id'] == 617, 'Maximum Open Credit'] = 1304726\n",
    "train.loc[train['Id'] == 617, 'Maximum Open Credit']\n",
    "\n",
    "train.loc[train['Id'] == 2617, 'Maximum Open Credit'] = 2651287\n",
    "train.loc[train['Id'] == 2617, 'Maximum Open Credit']"
   ]
  },
  {
   "cell_type": "markdown",
   "metadata": {},
   "source": [
    "### Выделение фрагментов с однозначным соответствием классу"
   ]
  },
  {
   "cell_type": "code",
   "execution_count": 10,
   "metadata": {},
   "outputs": [
    {
     "name": "stdout",
     "output_type": "stream",
     "text": [
      "<class 'pandas.core.frame.DataFrame'>\n",
      "Int64Index: 400 entries, 69 to 7496\n",
      "Data columns (total 18 columns):\n",
      " #   Column                        Non-Null Count  Dtype  \n",
      "---  ------                        --------------  -----  \n",
      " 0   Home Ownership                400 non-null    int64  \n",
      " 1   Annual Income                 400 non-null    float64\n",
      " 2   Years in current job          400 non-null    float64\n",
      " 3   Tax Liens                     400 non-null    float64\n",
      " 4   Number of Open Accounts       400 non-null    float64\n",
      " 5   Years of Credit History       400 non-null    float64\n",
      " 6   Maximum Open Credit           400 non-null    float64\n",
      " 7   Number of Credit Problems     400 non-null    float64\n",
      " 8   Months since last delinquent  400 non-null    float64\n",
      " 9   Bankruptcies                  400 non-null    float64\n",
      " 10  Purpose                       400 non-null    int64  \n",
      " 11  Term                          400 non-null    int64  \n",
      " 12  Current Loan Amount           400 non-null    float64\n",
      " 13  Current Credit Balance        400 non-null    float64\n",
      " 14  Monthly Debt                  400 non-null    float64\n",
      " 15  Credit Score                  400 non-null    float64\n",
      " 16  Credit Default                400 non-null    int64  \n",
      " 17  Id                            400 non-null    int32  \n",
      "dtypes: float64(13), int32(1), int64(4)\n",
      "memory usage: 57.8 KB\n"
     ]
    }
   ],
   "source": [
    "train.loc[train['Credit Score'] > 850].info()"
   ]
  },
  {
   "cell_type": "code",
   "execution_count": 11,
   "metadata": {},
   "outputs": [
    {
     "data": {
      "image/png": "[encoded data removed]",
      "text/plain": [
       "<Figure size 249.375x180 with 2 Axes>"
      ]
     },
     "metadata": {},
     "output_type": "display_data"
    }
   ],
   "source": [
    "sns.set_style(\"ticks\")\n",
    "sns.pairplot(train.loc[train['Credit Score'] > 850, ['Credit Score', 'Credit Default']],\n",
    "             hue = \"Credit Default\",\n",
    "             diag_kind = \"kde\",\n",
    "             kind = \"scatter\",\n",
    "             palette = \"husl\")\n",
    "plt.show()"
   ]
  },
  {
   "cell_type": "code",
   "execution_count": 12,
   "metadata": {},
   "outputs": [
    {
     "name": "stdout",
     "output_type": "stream",
     "text": [
      "<class 'pandas.core.frame.DataFrame'>\n",
      "Int64Index: 870 entries, 0 to 7497\n",
      "Data columns (total 18 columns):\n",
      " #   Column                        Non-Null Count  Dtype  \n",
      "---  ------                        --------------  -----  \n",
      " 0   Home Ownership                870 non-null    int64  \n",
      " 1   Annual Income                 870 non-null    float64\n",
      " 2   Years in current job          870 non-null    float64\n",
      " 3   Tax Liens                     870 non-null    float64\n",
      " 4   Number of Open Accounts       870 non-null    float64\n",
      " 5   Years of Credit History       870 non-null    float64\n",
      " 6   Maximum Open Credit           870 non-null    float64\n",
      " 7   Number of Credit Problems     870 non-null    float64\n",
      " 8   Months since last delinquent  870 non-null    float64\n",
      " 9   Bankruptcies                  870 non-null    float64\n",
      " 10  Purpose                       870 non-null    int64  \n",
      " 11  Term                          870 non-null    int64  \n",
      " 12  Current Loan Amount           870 non-null    float64\n",
      " 13  Current Credit Balance        870 non-null    float64\n",
      " 14  Monthly Debt                  870 non-null    float64\n",
      " 15  Credit Score                  870 non-null    float64\n",
      " 16  Credit Default                870 non-null    int64  \n",
      " 17  Id                            870 non-null    int32  \n",
      "dtypes: float64(13), int32(1), int64(4)\n",
      "memory usage: 125.7 KB\n"
     ]
    }
   ],
   "source": [
    "train.loc[train['Current Loan Amount'] == 99999999].info()"
   ]
  },
  {
   "cell_type": "code",
   "execution_count": 13,
   "metadata": {},
   "outputs": [
    {
     "data": {
      "image/png": "[encoded data removed]",
      "text/plain": [
       "<Figure size 249.375x180 with 2 Axes>"
      ]
     },
     "metadata": {},
     "output_type": "display_data"
    }
   ],
   "source": [
    "sns.set_style(\"ticks\")\n",
    "sns.pairplot(train.loc[train['Current Loan Amount'] == 99999999, ['Credit Score', 'Credit Default']],\n",
    "             hue = \"Credit Default\",\n",
    "             diag_kind = \"kde\",\n",
    "             kind = \"scatter\",\n",
    "             palette = \"husl\")\n",
    "plt.show()"
   ]
  },
  {
   "cell_type": "code",
   "execution_count": 14,
   "metadata": {},
   "outputs": [
    {
     "data": {
      "text/plain": [
       "1151.0874978966851"
      ]
     },
     "execution_count": 14,
     "metadata": {},
     "output_type": "execute_result"
    }
   ],
   "source": [
    "train['Credit Score'].mean()"
   ]
  },
  {
   "cell_type": "code",
   "execution_count": 15,
   "metadata": {},
   "outputs": [],
   "source": [
    "train.loc[train['Credit Score'].isnull(), 'Credit Score'] = 850"
   ]
  },
  {
   "cell_type": "code",
   "execution_count": 16,
   "metadata": {},
   "outputs": [],
   "source": [
    "train.loc[train['Annual Income'].isnull(), 'Annual Income'] = train['Annual Income'].mean()"
   ]
  },
  {
   "cell_type": "code",
   "execution_count": 17,
   "metadata": {},
   "outputs": [
    {
     "name": "stdout",
     "output_type": "stream",
     "text": [
      "<class 'pandas.core.frame.DataFrame'>\n",
      "RangeIndex: 7500 entries, 0 to 7499\n",
      "Data columns (total 18 columns):\n",
      " #   Column                        Non-Null Count  Dtype  \n",
      "---  ------                        --------------  -----  \n",
      " 0   Home Ownership                7500 non-null   int64  \n",
      " 1   Annual Income                 7500 non-null   float64\n",
      " 2   Years in current job          7500 non-null   float64\n",
      " 3   Tax Liens                     7500 non-null   float64\n",
      " 4   Number of Open Accounts       7500 non-null   float64\n",
      " 5   Years of Credit History       7500 non-null   float64\n",
      " 6   Maximum Open Credit           7500 non-null   float64\n",
      " 7   Number of Credit Problems     7500 non-null   float64\n",
      " 8   Months since last delinquent  7500 non-null   float64\n",
      " 9   Bankruptcies                  7500 non-null   float64\n",
      " 10  Purpose                       7500 non-null   int64  \n",
      " 11  Term                          7500 non-null   int64  \n",
      " 12  Current Loan Amount           7500 non-null   float64\n",
      " 13  Current Credit Balance        7500 non-null   float64\n",
      " 14  Monthly Debt                  7500 non-null   float64\n",
      " 15  Credit Score                  7500 non-null   float64\n",
      " 16  Credit Default                7500 non-null   int64  \n",
      " 17  Id                            7500 non-null   int32  \n",
      "dtypes: float64(13), int32(1), int64(4)\n",
      "memory usage: 1.0 MB\n"
     ]
    }
   ],
   "source": [
    "train.info()"
   ]
  },
  {
   "cell_type": "markdown",
   "metadata": {},
   "source": [
    "## Feature engineering"
   ]
  },
  {
   "cell_type": "markdown",
   "metadata": {},
   "source": [
    "### Сочетания характеристик и математические преобразования"
   ]
  },
  {
   "cell_type": "code",
   "execution_count": 18,
   "metadata": {},
   "outputs": [],
   "source": [
    "continuous_columns = [\"Maximum Open Credit\", \"Annual Income\", \"Current Loan Amount\", \n",
    "                      \"Current Credit Balance\", \"Monthly Debt\", \"Credit Score\"]"
   ]
  },
  {
   "cell_type": "code",
   "execution_count": 19,
   "metadata": {},
   "outputs": [],
   "source": [
    "# генерируем признаки\n",
    "def transform_data(data):\n",
    "    for i1, col1 in enumerate(continuous_columns):\n",
    "        data[col1 + '_log'] = np.log(data[col1] + 1.1)\n",
    "\n",
    "        for i2, col2 in enumerate(continuous_columns):\n",
    "            data['%s_%s_1' % (col1, col2)] = data[col1] - data[col2]\n",
    "            data['%s_%s_2' % (col1, col2)] = data[col1] + data[col2]\n",
    "            data['%s_%s_3' % (col1, col2)] = data[col1] / (data[col2] + 0.1)\n",
    "            data['%s_%s_4' % (col1, col2)] = data[col1] * data[col2]\n",
    "\n",
    "            data['%s_%s_11' % (col1, col2)] = data[col1] - np.log(data[col2] + 1)\n",
    "            data['%s_%s_22' % (col1, col2)] = data[col1] + np.log(data[col2] + 1)\n",
    "            data['%s_%s_33' % (col1, col2)] = data[col1] / (np.log(data[col2] + 1) + 0.1)\n",
    "            data['%s_%s_44' % (col1, col2)] = data[col1] * np.log(data[col2] + 1)\n",
    "\n",
    "    return data\n",
    "\n",
    "\n",
    "train = transform_data(train)"
   ]
  },
  {
   "cell_type": "code",
   "execution_count": 20,
   "metadata": {},
   "outputs": [],
   "source": [
    "train.replace([np.inf, -np.inf], np.nan, inplace=True)\n",
    "\n",
    "for col in train.columns.to_list():\n",
    "    train.loc[train[col].isnull(), col] = -1"
   ]
  },
  {
   "cell_type": "code",
   "execution_count": 21,
   "metadata": {},
   "outputs": [
    {
     "name": "stdout",
     "output_type": "stream",
     "text": [
      "<class 'pandas.core.frame.DataFrame'>\n",
      "RangeIndex: 7500 entries, 0 to 7499\n",
      "Columns: 312 entries, Home Ownership to Credit Score_Credit Score_44\n",
      "dtypes: float64(307), int32(1), int64(4)\n",
      "memory usage: 17.8 MB\n"
     ]
    }
   ],
   "source": [
    "train.info()"
   ]
  },
  {
   "cell_type": "markdown",
   "metadata": {},
   "source": [
    "## XGBoost"
   ]
  },
  {
   "cell_type": "code",
   "execution_count": 22,
   "metadata": {},
   "outputs": [],
   "source": [
    "X_train, X_valid, y_train, y_valid = train_test_split(train.drop([\"Credit Default\", \"Id\"], axis=1), \n",
    "                                                      train[\"Credit Default\"], \n",
    "                                                      test_size=0.2, random_state=42)"
   ]
  },
  {
   "cell_type": "code",
   "execution_count": 23,
   "metadata": {},
   "outputs": [
    {
     "name": "stderr",
     "output_type": "stream",
     "text": [
      "C:\\Users\\viv232\\anaconda3\\lib\\site-packages\\xgboost\\sklearn.py:1146: UserWarning: The use of label encoder in XGBClassifier is deprecated and will be removed in a future release. To remove this warning, do the following: 1) Pass option use_label_encoder=False when constructing XGBClassifier object; and 2) Encode your labels (y) as integers starting with 0, i.e. 0, 1, 2, ..., [num_class - 1].\n",
      "  warnings.warn(label_encoder_deprecation_msg, UserWarning)\n",
      "C:\\Users\\viv232\\anaconda3\\lib\\site-packages\\xgboost\\data.py:112: UserWarning: Use subset (sliced data) of np.ndarray is not recommended because it will generate extra copies and increase memory consumption\n",
      "  warnings.warn(\n"
     ]
    },
    {
     "data": {
      "text/plain": [
       "0.738"
      ]
     },
     "execution_count": 23,
     "metadata": {},
     "output_type": "execute_result"
    }
   ],
   "source": [
    "model_xgb = xgb.XGBClassifier(objective=\"binary:logistic\",\n",
    "                              nthread=2, \n",
    "                              max_depth=9, # 5\n",
    "                              n_estimators=600, # 100\n",
    "                              subsample=0.5, \n",
    "                              learning_rate=0.3, \n",
    "                              seed=1000, \n",
    "                              random_state=42,\n",
    "                              eval_metric='auc')\n",
    "\n",
    "model_xgb.fit(X_train, y_train)\n",
    "\n",
    "preds = model_xgb.predict(X_valid)\n",
    "\n",
    "accuracy_score(y_valid, preds)"
   ]
  },
  {
   "cell_type": "markdown",
   "metadata": {},
   "source": [
    "### XGBoost prediction"
   ]
  },
  {
   "cell_type": "code",
   "execution_count": 24,
   "metadata": {},
   "outputs": [
    {
     "data": {
      "text/html": [
       "<div>\n",
       "<style scoped>\n",
       "    .dataframe tbody tr th:only-of-type {\n",
       "        vertical-align: middle;\n",
       "    }\n",
       "\n",
       "    .dataframe tbody tr th {\n",
       "        vertical-align: top;\n",
       "    }\n",
       "\n",
       "    .dataframe thead th {\n",
       "        text-align: right;\n",
       "    }\n",
       "</style>\n",
       "<table border=\"1\" class=\"dataframe\">\n",
       "  <thead>\n",
       "    <tr style=\"text-align: right;\">\n",
       "      <th></th>\n",
       "      <th>Home Ownership</th>\n",
       "      <th>Annual Income</th>\n",
       "      <th>Years in current job</th>\n",
       "      <th>Tax Liens</th>\n",
       "      <th>Number of Open Accounts</th>\n",
       "      <th>Years of Credit History</th>\n",
       "      <th>Maximum Open Credit</th>\n",
       "      <th>Number of Credit Problems</th>\n",
       "      <th>Months since last delinquent</th>\n",
       "      <th>Bankruptcies</th>\n",
       "      <th>...</th>\n",
       "      <th>Credit Score_Monthly Debt_44</th>\n",
       "      <th>Credit Score_Credit Score_1</th>\n",
       "      <th>Credit Score_Credit Score_2</th>\n",
       "      <th>Credit Score_Credit Score_3</th>\n",
       "      <th>Credit Score_Credit Score_4</th>\n",
       "      <th>Credit Score_Credit Score_11</th>\n",
       "      <th>Credit Score_Credit Score_22</th>\n",
       "      <th>Credit Score_Credit Score_33</th>\n",
       "      <th>Credit Score_Credit Score_44</th>\n",
       "      <th>preds</th>\n",
       "    </tr>\n",
       "  </thead>\n",
       "  <tbody>\n",
       "    <tr>\n",
       "      <th>970</th>\n",
       "      <td>2</td>\n",
       "      <td>2.396375e+06</td>\n",
       "      <td>6.0</td>\n",
       "      <td>0.0</td>\n",
       "      <td>9.0</td>\n",
       "      <td>10.5</td>\n",
       "      <td>335280.0</td>\n",
       "      <td>1.0</td>\n",
       "      <td>8.000000</td>\n",
       "      <td>1.0</td>\n",
       "      <td>...</td>\n",
       "      <td>74257.830846</td>\n",
       "      <td>0.0</td>\n",
       "      <td>14260.0</td>\n",
       "      <td>0.999986</td>\n",
       "      <td>50836900.0</td>\n",
       "      <td>7121.127793</td>\n",
       "      <td>7138.872207</td>\n",
       "      <td>794.676292</td>\n",
       "      <td>63258.834170</td>\n",
       "      <td>1</td>\n",
       "    </tr>\n",
       "    <tr>\n",
       "      <th>6279</th>\n",
       "      <td>2</td>\n",
       "      <td>1.364855e+06</td>\n",
       "      <td>5.0</td>\n",
       "      <td>0.0</td>\n",
       "      <td>8.0</td>\n",
       "      <td>14.0</td>\n",
       "      <td>883014.0</td>\n",
       "      <td>0.0</td>\n",
       "      <td>33.521424</td>\n",
       "      <td>0.0</td>\n",
       "      <td>...</td>\n",
       "      <td>6934.738808</td>\n",
       "      <td>0.0</td>\n",
       "      <td>1700.0</td>\n",
       "      <td>0.999882</td>\n",
       "      <td>722500.0</td>\n",
       "      <td>843.253588</td>\n",
       "      <td>856.746412</td>\n",
       "      <td>124.152620</td>\n",
       "      <td>5734.450309</td>\n",
       "      <td>0</td>\n",
       "    </tr>\n",
       "    <tr>\n",
       "      <th>1859</th>\n",
       "      <td>2</td>\n",
       "      <td>2.056351e+06</td>\n",
       "      <td>10.0</td>\n",
       "      <td>0.0</td>\n",
       "      <td>17.0</td>\n",
       "      <td>14.0</td>\n",
       "      <td>1022714.0</td>\n",
       "      <td>0.0</td>\n",
       "      <td>33.521424</td>\n",
       "      <td>0.0</td>\n",
       "      <td>...</td>\n",
       "      <td>7380.772065</td>\n",
       "      <td>0.0</td>\n",
       "      <td>1436.0</td>\n",
       "      <td>0.999861</td>\n",
       "      <td>515524.0</td>\n",
       "      <td>711.422139</td>\n",
       "      <td>724.577861</td>\n",
       "      <td>107.519453</td>\n",
       "      <td>4722.904455</td>\n",
       "      <td>0</td>\n",
       "    </tr>\n",
       "  </tbody>\n",
       "</table>\n",
       "<p>3 rows × 311 columns</p>\n",
       "</div>"
      ],
      "text/plain": [
       "      Home Ownership  Annual Income  Years in current job  Tax Liens  \\\n",
       "970                2   2.396375e+06                   6.0        0.0   \n",
       "6279               2   1.364855e+06                   5.0        0.0   \n",
       "1859               2   2.056351e+06                  10.0        0.0   \n",
       "\n",
       "      Number of Open Accounts  Years of Credit History  Maximum Open Credit  \\\n",
       "970                       9.0                     10.5             335280.0   \n",
       "6279                      8.0                     14.0             883014.0   \n",
       "1859                     17.0                     14.0            1022714.0   \n",
       "\n",
       "      Number of Credit Problems  Months since last delinquent  Bankruptcies  \\\n",
       "970                         1.0                      8.000000           1.0   \n",
       "6279                        0.0                     33.521424           0.0   \n",
       "1859                        0.0                     33.521424           0.0   \n",
       "\n",
       "      ...  Credit Score_Monthly Debt_44  Credit Score_Credit Score_1  \\\n",
       "970   ...                  74257.830846                          0.0   \n",
       "6279  ...                   6934.738808                          0.0   \n",
       "1859  ...                   7380.772065                          0.0   \n",
       "\n",
       "      Credit Score_Credit Score_2  Credit Score_Credit Score_3  \\\n",
       "970                       14260.0                     0.999986   \n",
       "6279                       1700.0                     0.999882   \n",
       "1859                       1436.0                     0.999861   \n",
       "\n",
       "      Credit Score_Credit Score_4  Credit Score_Credit Score_11  \\\n",
       "970                    50836900.0                   7121.127793   \n",
       "6279                     722500.0                    843.253588   \n",
       "1859                     515524.0                    711.422139   \n",
       "\n",
       "      Credit Score_Credit Score_22  Credit Score_Credit Score_33  \\\n",
       "970                    7138.872207                    794.676292   \n",
       "6279                    856.746412                    124.152620   \n",
       "1859                    724.577861                    107.519453   \n",
       "\n",
       "      Credit Score_Credit Score_44  preds  \n",
       "970                   63258.834170      1  \n",
       "6279                   5734.450309      0  \n",
       "1859                   4722.904455      0  \n",
       "\n",
       "[3 rows x 311 columns]"
      ]
     },
     "execution_count": 24,
     "metadata": {},
     "output_type": "execute_result"
    }
   ],
   "source": [
    "data_for_corr = X_valid.copy()\n",
    "data_for_corr[\"preds\"] = preds\n",
    "data_for_corr.head(3)"
   ]
  },
  {
   "cell_type": "code",
   "execution_count": 25,
   "metadata": {},
   "outputs": [
    {
     "data": {
      "text/plain": [
       "86"
      ]
     },
     "execution_count": 25,
     "metadata": {},
     "output_type": "execute_result"
    }
   ],
   "source": [
    "data_for_corr.loc[data_for_corr['Credit Score'] > 850, \"preds\"].sum()"
   ]
  },
  {
   "cell_type": "code",
   "execution_count": 26,
   "metadata": {},
   "outputs": [
    {
     "data": {
      "text/plain": [
       "0"
      ]
     },
     "execution_count": 26,
     "metadata": {},
     "output_type": "execute_result"
    }
   ],
   "source": [
    "data_for_corr.loc[data_for_corr['Current Loan Amount'] == 99999999, \"preds\"].sum()"
   ]
  },
  {
   "cell_type": "code",
   "execution_count": 27,
   "metadata": {},
   "outputs": [],
   "source": [
    "rw_clissifiers = ['XGBoost']\n",
    "\n",
    "cl_met = ['Best Threshold', 'F-Score', 'Precision', \n",
    "          'Recall', 'roc_auc_s', 'log_loss_s', 'TPR', 'FPR', 'TNR', \"TN\", \"FN\", \"TP\", \"FP\"]\n",
    "\n",
    "res_tab = pd.DataFrame(columns=cl_met)"
   ]
  },
  {
   "cell_type": "code",
   "execution_count": 28,
   "metadata": {},
   "outputs": [
    {
     "name": "stdout",
     "output_type": "stream",
     "text": [
      "Best Threshold=1.000000, F-Score=0.465, Precision=0.582, Recall=0.388\n"
     ]
    }
   ],
   "source": [
    "precision, recall, thresholds = precision_recall_curve(y_valid, preds)\n",
    "\n",
    "fscore = (2 * precision * recall) / (precision + recall)\n",
    "# locate the index of the largest f score\n",
    "ix = np.argmax(fscore)\n",
    "print('Best Threshold=%f, F-Score=%.3f, Precision=%.3f, Recall=%.3f' % (thresholds[ix], \n",
    "                                                                        fscore[ix],\n",
    "                                                                        precision[ix],\n",
    "                                                                        recall[ix]))"
   ]
  },
  {
   "cell_type": "code",
   "execution_count": 29,
   "metadata": {},
   "outputs": [
    {
     "name": "stdout",
     "output_type": "stream",
     "text": [
      "roc auc score: 0.6358038966294733\n",
      "log loss score: 9.049224982455875\n"
     ]
    }
   ],
   "source": [
    "r_auc = roc_auc_score(y_true=y_valid, y_score=preds)\n",
    "l_los = log_loss(y_true=y_valid, y_pred=preds)\n",
    "\n",
    "print(\"roc auc score: {}\".format(r_auc))\n",
    "print(\"log loss score: {}\".format(l_los))"
   ]
  },
  {
   "cell_type": "code",
   "execution_count": 30,
   "metadata": {},
   "outputs": [
    {
     "data": {
      "text/plain": [
       "(0.3877551020408163, 0.11614730878186968, 0.8838526912181303)"
      ]
     },
     "execution_count": 30,
     "metadata": {},
     "output_type": "execute_result"
    }
   ],
   "source": [
    "cnf_matrix = confusion_matrix(y_valid, preds)\n",
    "\n",
    "TN = cnf_matrix[0][0]\n",
    "FN = cnf_matrix[1][0]\n",
    "TP = cnf_matrix[1][1]\n",
    "FP = cnf_matrix[0][1]\n",
    "\n",
    "TPR = TP/(TP+FN)\n",
    "FPR = FP/(FP+TN)\n",
    "TNR = TN/(FP+TN)\n",
    "TPR, FPR, TNR"
   ]
  },
  {
   "cell_type": "code",
   "execution_count": 31,
   "metadata": {},
   "outputs": [
    {
     "data": {
      "text/html": [
       "<div>\n",
       "<style scoped>\n",
       "    .dataframe tbody tr th:only-of-type {\n",
       "        vertical-align: middle;\n",
       "    }\n",
       "\n",
       "    .dataframe tbody tr th {\n",
       "        vertical-align: top;\n",
       "    }\n",
       "\n",
       "    .dataframe thead th {\n",
       "        text-align: right;\n",
       "    }\n",
       "</style>\n",
       "<table border=\"1\" class=\"dataframe\">\n",
       "  <thead>\n",
       "    <tr style=\"text-align: right;\">\n",
       "      <th></th>\n",
       "      <th>Best Threshold</th>\n",
       "      <th>F-Score</th>\n",
       "      <th>Precision</th>\n",
       "      <th>Recall</th>\n",
       "      <th>roc_auc_s</th>\n",
       "      <th>log_loss_s</th>\n",
       "      <th>TPR</th>\n",
       "      <th>FPR</th>\n",
       "      <th>TNR</th>\n",
       "      <th>TN</th>\n",
       "      <th>FN</th>\n",
       "      <th>TP</th>\n",
       "      <th>FP</th>\n",
       "    </tr>\n",
       "  </thead>\n",
       "  <tbody>\n",
       "    <tr>\n",
       "      <th>XGBoost</th>\n",
       "      <td>1</td>\n",
       "      <td>0.465306</td>\n",
       "      <td>0.581633</td>\n",
       "      <td>0.387755</td>\n",
       "      <td>0.635804</td>\n",
       "      <td>9.04922</td>\n",
       "      <td>0.387755</td>\n",
       "      <td>0.116147</td>\n",
       "      <td>0.883853</td>\n",
       "      <td>936</td>\n",
       "      <td>270</td>\n",
       "      <td>171</td>\n",
       "      <td>123</td>\n",
       "    </tr>\n",
       "  </tbody>\n",
       "</table>\n",
       "</div>"
      ],
      "text/plain": [
       "        Best Threshold   F-Score Precision    Recall roc_auc_s log_loss_s  \\\n",
       "XGBoost              1  0.465306  0.581633  0.387755  0.635804    9.04922   \n",
       "\n",
       "              TPR       FPR       TNR   TN   FN   TP   FP  \n",
       "XGBoost  0.387755  0.116147  0.883853  936  270  171  123  "
      ]
     },
     "execution_count": 31,
     "metadata": {},
     "output_type": "execute_result"
    }
   ],
   "source": [
    "res_tab.loc['XGBoost', :] = [thresholds[ix], fscore[ix], precision[ix], recall[ix], \n",
    "                             r_auc, l_los, TPR, FPR, TNR, TN, FN, TP, FP]\n",
    "res_tab"
   ]
  },
  {
   "cell_type": "code",
   "execution_count": null,
   "metadata": {},
   "outputs": [],
   "source": []
  }
 ],
 "metadata": {
  "kernelspec": {
   "display_name": "Python 3",
   "language": "python",
   "name": "python3"
  },
  "language_info": {
   "codemirror_mode": {
    "name": "ipython",
    "version": 3
   },
   "file_extension": ".py",
   "mimetype": "text/x-python",
   "name": "python",
   "nbconvert_exporter": "python",
   "pygments_lexer": "ipython3",
   "version": "3.8.3"
  }
 },
 "nbformat": 4,
 "nbformat_minor": 4
}
